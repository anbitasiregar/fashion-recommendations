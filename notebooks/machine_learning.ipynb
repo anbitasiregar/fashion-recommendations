{
 "cells": [
  {
   "cell_type": "markdown",
   "metadata": {},
   "source": [
    "# Machine Learning of Fashion data"
   ]
  },
  {
   "cell_type": "markdown",
   "metadata": {},
   "source": [
    "## Overview\n",
    "**Goal:** Find and tune the most optimal recommendation model to provide outfit recommendations based on product popularity.\n",
    "\n",
    "Our EDA in the previous notebook gave us many insights that we will use in our machine learning pipeline below. In this notebook, we will select and engineer different features, including our target feature `popularity`, which is the popularity score of an article of clothing, based on the number of times that piece was purchased.\n",
    "\n",
    "NOTE: because the transaction data is so large, we filtered it in the previous notebook to only have transaction data over the last 2 months."
   ]
  },
  {
   "cell_type": "markdown",
   "metadata": {},
   "source": [
    "### Load our data"
   ]
  },
  {
   "cell_type": "code",
   "execution_count": 1,
   "metadata": {},
   "outputs": [
    {
     "name": "stderr",
     "output_type": "stream",
     "text": [
      "2024-12-06 11:56:25.125456: I tensorflow/core/platform/cpu_feature_guard.cc:182] This TensorFlow binary is optimized to use available CPU instructions in performance-critical operations.\n",
      "To enable the following instructions: SSE4.1 SSE4.2 AVX AVX2 FMA, in other operations, rebuild TensorFlow with the appropriate compiler flags.\n"
     ]
    }
   ],
   "source": [
    "import pandas as pd\n",
    "import numpy as np\n",
    "import matplotlib.pyplot as plt\n",
    "import seaborn as sns\n",
    "import time\n",
    "\n",
    "# data preprocessing and tuning\n",
    "from sklearn.model_selection import train_test_split, GridSearchCV\n",
    "from sklearn.preprocessing import StandardScaler, MinMaxScaler, label_binarize, OneHotEncoder\n",
    "from sklearn.metrics import roc_curve, auc, precision_recall_curve\n",
    "from sklearn.utils.class_weight import compute_class_weight\n",
    "\n",
    "# Suite of Machine Learning Algorithms\n",
    "from sklearn.neighbors import KNeighborsClassifier\n",
    "from sklearn.svm import SVC\n",
    "from sklearn.tree import DecisionTreeClassifier\n",
    "from sklearn.naive_bayes import GaussianNB\n",
    "from sklearn.linear_model import LogisticRegression\n",
    "from sklearn.ensemble import RandomForestClassifier, AdaBoostClassifier\n",
    "from xgboost import XGBClassifier\n",
    "\n",
    "from tensorflow.keras.models import Sequential\n",
    "from tensorflow.keras.layers import Dense, Dropout, LeakyReLU\n",
    "from tensorflow.keras.optimizers import Adam\n",
    "from tensorflow.keras.callbacks import EarlyStopping, ReduceLROnPlateau\n",
    "from tensorflow.keras.wrappers.scikit_learn import KerasClassifier\n",
    "\n",
    "# recommendation system\n",
    "import multiprocessing as mp\n",
    "from multiprocessing import Pool\n",
    "from functools import partial\n",
    "\n",
    "import helper\n",
    "\n",
    "# to get the newest version of helper\n",
    "import importlib\n",
    "importlib.reload(helper)\n",
    "\n",
    "# Setup to Ignore Version Errors and Deprecations\n",
    "import warnings\n",
    "warnings.filterwarnings(\"ignore\")"
   ]
  },
  {
   "cell_type": "code",
   "execution_count": 2,
   "metadata": {},
   "outputs": [
    {
     "data": {
      "text/html": [
       "<div>\n",
       "<style scoped>\n",
       "    .dataframe tbody tr th:only-of-type {\n",
       "        vertical-align: middle;\n",
       "    }\n",
       "\n",
       "    .dataframe tbody tr th {\n",
       "        vertical-align: top;\n",
       "    }\n",
       "\n",
       "    .dataframe thead th {\n",
       "        text-align: right;\n",
       "    }\n",
       "</style>\n",
       "<table border=\"1\" class=\"dataframe\">\n",
       "  <thead>\n",
       "    <tr style=\"text-align: right;\">\n",
       "      <th></th>\n",
       "      <th>t_dat</th>\n",
       "      <th>customer_id</th>\n",
       "      <th>article_id</th>\n",
       "      <th>price</th>\n",
       "      <th>sales_channel_id</th>\n",
       "    </tr>\n",
       "  </thead>\n",
       "  <tbody>\n",
       "    <tr>\n",
       "      <th>0</th>\n",
       "      <td>2020-08-01</td>\n",
       "      <td>00075ef36696a7b4ed8c83e22a4bf7ea7c90ee110991ec...</td>\n",
       "      <td>743123001</td>\n",
       "      <td>0.011847</td>\n",
       "      <td>2</td>\n",
       "    </tr>\n",
       "    <tr>\n",
       "      <th>1</th>\n",
       "      <td>2020-08-01</td>\n",
       "      <td>00075ef36696a7b4ed8c83e22a4bf7ea7c90ee110991ec...</td>\n",
       "      <td>743123001</td>\n",
       "      <td>0.011847</td>\n",
       "      <td>2</td>\n",
       "    </tr>\n",
       "    <tr>\n",
       "      <th>2</th>\n",
       "      <td>2020-08-01</td>\n",
       "      <td>00075ef36696a7b4ed8c83e22a4bf7ea7c90ee110991ec...</td>\n",
       "      <td>849597003</td>\n",
       "      <td>0.012186</td>\n",
       "      <td>2</td>\n",
       "    </tr>\n",
       "    <tr>\n",
       "      <th>3</th>\n",
       "      <td>2020-08-01</td>\n",
       "      <td>00075ef36696a7b4ed8c83e22a4bf7ea7c90ee110991ec...</td>\n",
       "      <td>599580052</td>\n",
       "      <td>0.016932</td>\n",
       "      <td>2</td>\n",
       "    </tr>\n",
       "    <tr>\n",
       "      <th>4</th>\n",
       "      <td>2020-08-01</td>\n",
       "      <td>00075ef36696a7b4ed8c83e22a4bf7ea7c90ee110991ec...</td>\n",
       "      <td>599580052</td>\n",
       "      <td>0.016932</td>\n",
       "      <td>2</td>\n",
       "    </tr>\n",
       "  </tbody>\n",
       "</table>\n",
       "</div>"
      ],
      "text/plain": [
       "        t_dat                                        customer_id  article_id  \\\n",
       "0  2020-08-01  00075ef36696a7b4ed8c83e22a4bf7ea7c90ee110991ec...   743123001   \n",
       "1  2020-08-01  00075ef36696a7b4ed8c83e22a4bf7ea7c90ee110991ec...   743123001   \n",
       "2  2020-08-01  00075ef36696a7b4ed8c83e22a4bf7ea7c90ee110991ec...   849597003   \n",
       "3  2020-08-01  00075ef36696a7b4ed8c83e22a4bf7ea7c90ee110991ec...   599580052   \n",
       "4  2020-08-01  00075ef36696a7b4ed8c83e22a4bf7ea7c90ee110991ec...   599580052   \n",
       "\n",
       "      price  sales_channel_id  \n",
       "0  0.011847                 2  \n",
       "1  0.011847                 2  \n",
       "2  0.012186                 2  \n",
       "3  0.016932                 2  \n",
       "4  0.016932                 2  "
      ]
     },
     "execution_count": 2,
     "metadata": {},
     "output_type": "execute_result"
    }
   ],
   "source": [
    "# load the transaction data from previous notebook\n",
    "transactions_df = pd.read_csv(\"../data/newest_trans_df.csv\")\n",
    "transactions_df.head()"
   ]
  },
  {
   "cell_type": "code",
   "execution_count": 3,
   "metadata": {},
   "outputs": [
    {
     "data": {
      "text/html": [
       "<div>\n",
       "<style scoped>\n",
       "    .dataframe tbody tr th:only-of-type {\n",
       "        vertical-align: middle;\n",
       "    }\n",
       "\n",
       "    .dataframe tbody tr th {\n",
       "        vertical-align: top;\n",
       "    }\n",
       "\n",
       "    .dataframe thead th {\n",
       "        text-align: right;\n",
       "    }\n",
       "</style>\n",
       "<table border=\"1\" class=\"dataframe\">\n",
       "  <thead>\n",
       "    <tr style=\"text-align: right;\">\n",
       "      <th></th>\n",
       "      <th>article_id</th>\n",
       "      <th>product_code</th>\n",
       "      <th>prod_name</th>\n",
       "      <th>product_type_no</th>\n",
       "      <th>product_type_name</th>\n",
       "      <th>product_group_name</th>\n",
       "      <th>graphical_appearance_no</th>\n",
       "      <th>graphical_appearance_name</th>\n",
       "      <th>colour_group_code</th>\n",
       "      <th>colour_group_name</th>\n",
       "      <th>...</th>\n",
       "      <th>department_name</th>\n",
       "      <th>index_code</th>\n",
       "      <th>index_name</th>\n",
       "      <th>index_group_no</th>\n",
       "      <th>index_group_name</th>\n",
       "      <th>section_no</th>\n",
       "      <th>section_name</th>\n",
       "      <th>garment_group_no</th>\n",
       "      <th>garment_group_name</th>\n",
       "      <th>detail_desc</th>\n",
       "    </tr>\n",
       "  </thead>\n",
       "  <tbody>\n",
       "    <tr>\n",
       "      <th>0</th>\n",
       "      <td>108775015</td>\n",
       "      <td>108775</td>\n",
       "      <td>Strap top</td>\n",
       "      <td>253</td>\n",
       "      <td>Vest top</td>\n",
       "      <td>Garment Upper body</td>\n",
       "      <td>1010016</td>\n",
       "      <td>Solid</td>\n",
       "      <td>9</td>\n",
       "      <td>Black</td>\n",
       "      <td>...</td>\n",
       "      <td>Jersey Basic</td>\n",
       "      <td>A</td>\n",
       "      <td>Ladieswear</td>\n",
       "      <td>1</td>\n",
       "      <td>Ladieswear</td>\n",
       "      <td>16</td>\n",
       "      <td>Womens Everyday Basics</td>\n",
       "      <td>1002</td>\n",
       "      <td>Jersey Basic</td>\n",
       "      <td>Jersey top with narrow shoulder straps.</td>\n",
       "    </tr>\n",
       "    <tr>\n",
       "      <th>1</th>\n",
       "      <td>108775044</td>\n",
       "      <td>108775</td>\n",
       "      <td>Strap top</td>\n",
       "      <td>253</td>\n",
       "      <td>Vest top</td>\n",
       "      <td>Garment Upper body</td>\n",
       "      <td>1010016</td>\n",
       "      <td>Solid</td>\n",
       "      <td>10</td>\n",
       "      <td>White</td>\n",
       "      <td>...</td>\n",
       "      <td>Jersey Basic</td>\n",
       "      <td>A</td>\n",
       "      <td>Ladieswear</td>\n",
       "      <td>1</td>\n",
       "      <td>Ladieswear</td>\n",
       "      <td>16</td>\n",
       "      <td>Womens Everyday Basics</td>\n",
       "      <td>1002</td>\n",
       "      <td>Jersey Basic</td>\n",
       "      <td>Jersey top with narrow shoulder straps.</td>\n",
       "    </tr>\n",
       "    <tr>\n",
       "      <th>2</th>\n",
       "      <td>108775051</td>\n",
       "      <td>108775</td>\n",
       "      <td>Strap top (1)</td>\n",
       "      <td>253</td>\n",
       "      <td>Vest top</td>\n",
       "      <td>Garment Upper body</td>\n",
       "      <td>1010017</td>\n",
       "      <td>Stripe</td>\n",
       "      <td>11</td>\n",
       "      <td>Off White</td>\n",
       "      <td>...</td>\n",
       "      <td>Jersey Basic</td>\n",
       "      <td>A</td>\n",
       "      <td>Ladieswear</td>\n",
       "      <td>1</td>\n",
       "      <td>Ladieswear</td>\n",
       "      <td>16</td>\n",
       "      <td>Womens Everyday Basics</td>\n",
       "      <td>1002</td>\n",
       "      <td>Jersey Basic</td>\n",
       "      <td>Jersey top with narrow shoulder straps.</td>\n",
       "    </tr>\n",
       "    <tr>\n",
       "      <th>3</th>\n",
       "      <td>110065001</td>\n",
       "      <td>110065</td>\n",
       "      <td>OP T-shirt (Idro)</td>\n",
       "      <td>306</td>\n",
       "      <td>Bra</td>\n",
       "      <td>Underwear</td>\n",
       "      <td>1010016</td>\n",
       "      <td>Solid</td>\n",
       "      <td>9</td>\n",
       "      <td>Black</td>\n",
       "      <td>...</td>\n",
       "      <td>Clean Lingerie</td>\n",
       "      <td>B</td>\n",
       "      <td>Lingeries/Tights</td>\n",
       "      <td>1</td>\n",
       "      <td>Ladieswear</td>\n",
       "      <td>61</td>\n",
       "      <td>Womens Lingerie</td>\n",
       "      <td>1017</td>\n",
       "      <td>Under-, Nightwear</td>\n",
       "      <td>Microfibre T-shirt bra with underwired, moulde...</td>\n",
       "    </tr>\n",
       "    <tr>\n",
       "      <th>4</th>\n",
       "      <td>110065002</td>\n",
       "      <td>110065</td>\n",
       "      <td>OP T-shirt (Idro)</td>\n",
       "      <td>306</td>\n",
       "      <td>Bra</td>\n",
       "      <td>Underwear</td>\n",
       "      <td>1010016</td>\n",
       "      <td>Solid</td>\n",
       "      <td>10</td>\n",
       "      <td>White</td>\n",
       "      <td>...</td>\n",
       "      <td>Clean Lingerie</td>\n",
       "      <td>B</td>\n",
       "      <td>Lingeries/Tights</td>\n",
       "      <td>1</td>\n",
       "      <td>Ladieswear</td>\n",
       "      <td>61</td>\n",
       "      <td>Womens Lingerie</td>\n",
       "      <td>1017</td>\n",
       "      <td>Under-, Nightwear</td>\n",
       "      <td>Microfibre T-shirt bra with underwired, moulde...</td>\n",
       "    </tr>\n",
       "  </tbody>\n",
       "</table>\n",
       "<p>5 rows × 25 columns</p>\n",
       "</div>"
      ],
      "text/plain": [
       "   article_id  product_code          prod_name  product_type_no  \\\n",
       "0   108775015        108775          Strap top              253   \n",
       "1   108775044        108775          Strap top              253   \n",
       "2   108775051        108775      Strap top (1)              253   \n",
       "3   110065001        110065  OP T-shirt (Idro)              306   \n",
       "4   110065002        110065  OP T-shirt (Idro)              306   \n",
       "\n",
       "  product_type_name  product_group_name  graphical_appearance_no  \\\n",
       "0          Vest top  Garment Upper body                  1010016   \n",
       "1          Vest top  Garment Upper body                  1010016   \n",
       "2          Vest top  Garment Upper body                  1010017   \n",
       "3               Bra           Underwear                  1010016   \n",
       "4               Bra           Underwear                  1010016   \n",
       "\n",
       "  graphical_appearance_name  colour_group_code colour_group_name  ...  \\\n",
       "0                     Solid                  9             Black  ...   \n",
       "1                     Solid                 10             White  ...   \n",
       "2                    Stripe                 11         Off White  ...   \n",
       "3                     Solid                  9             Black  ...   \n",
       "4                     Solid                 10             White  ...   \n",
       "\n",
       "   department_name index_code        index_name index_group_no  \\\n",
       "0     Jersey Basic          A        Ladieswear              1   \n",
       "1     Jersey Basic          A        Ladieswear              1   \n",
       "2     Jersey Basic          A        Ladieswear              1   \n",
       "3   Clean Lingerie          B  Lingeries/Tights              1   \n",
       "4   Clean Lingerie          B  Lingeries/Tights              1   \n",
       "\n",
       "   index_group_name section_no            section_name garment_group_no  \\\n",
       "0        Ladieswear         16  Womens Everyday Basics             1002   \n",
       "1        Ladieswear         16  Womens Everyday Basics             1002   \n",
       "2        Ladieswear         16  Womens Everyday Basics             1002   \n",
       "3        Ladieswear         61         Womens Lingerie             1017   \n",
       "4        Ladieswear         61         Womens Lingerie             1017   \n",
       "\n",
       "   garment_group_name                                        detail_desc  \n",
       "0        Jersey Basic            Jersey top with narrow shoulder straps.  \n",
       "1        Jersey Basic            Jersey top with narrow shoulder straps.  \n",
       "2        Jersey Basic            Jersey top with narrow shoulder straps.  \n",
       "3   Under-, Nightwear  Microfibre T-shirt bra with underwired, moulde...  \n",
       "4   Under-, Nightwear  Microfibre T-shirt bra with underwired, moulde...  \n",
       "\n",
       "[5 rows x 25 columns]"
      ]
     },
     "execution_count": 3,
     "metadata": {},
     "output_type": "execute_result"
    }
   ],
   "source": [
    "# load the article data from previous notebook\n",
    "articles_df = pd.read_csv(\"../data/articles_df.csv\")\n",
    "articles_df.head()"
   ]
  },
  {
   "cell_type": "markdown",
   "metadata": {},
   "source": [
    "## Defining our Index\n",
    "Our popularity index will be the number of times an article of clothing was purchased in the last 2 months."
   ]
  },
  {
   "cell_type": "code",
   "execution_count": 4,
   "metadata": {},
   "outputs": [
    {
     "data": {
      "text/plain": [
       "70672"
      ]
     },
     "execution_count": 4,
     "metadata": {},
     "output_type": "execute_result"
    }
   ],
   "source": [
    "# save purchase_count of each article_id in articles_df\n",
    "articles_df[\"purchase_count\"] = articles_df[\"article_id\"].map(transactions_df[\"article_id\"].value_counts())\n",
    "\n",
    "articles_df[\"purchase_count\"].isna().sum()\n"
   ]
  },
  {
   "cell_type": "code",
   "execution_count": 5,
   "metadata": {},
   "outputs": [
    {
     "data": {
      "text/plain": [
       "0"
      ]
     },
     "execution_count": 5,
     "metadata": {},
     "output_type": "execute_result"
    }
   ],
   "source": [
    "# fill the null values of purchase_count with 0\n",
    "# because that means it was never purchased in the last 2 months\n",
    "articles_df[\"purchase_count\"] = articles_df[\"purchase_count\"].fillna(0).astype(int)\n",
    "\n",
    "articles_df[\"purchase_count\"].isna().sum()"
   ]
  },
  {
   "cell_type": "markdown",
   "metadata": {},
   "source": [
    "We want to use classification models to predict popularity, so we first need to create bins to classify articles of clothing as low, medium, or high popularity based on their purchase counts."
   ]
  },
  {
   "cell_type": "code",
   "execution_count": 6,
   "metadata": {},
   "outputs": [
    {
     "data": {
      "text/plain": [
       "105542"
      ]
     },
     "execution_count": 6,
     "metadata": {},
     "output_type": "execute_result"
    }
   ],
   "source": [
    "# Create buckets for popularity based on purchase counts\n",
    "min_val = articles_df[\"purchase_count\"].min()\n",
    "mean_val = articles_df[\"purchase_count\"].mean()\n",
    "max_val = articles_df[\"purchase_count\"].max()\n",
    "\n",
    "# we have to create arbitrary boundaries for the buckets since the\n",
    "# purchase counts are all quite low except for some outliers\n",
    "buckets = [min_val - 1, 0, mean_val, max_val + 1]\n",
    "labels = [\"low\", \"medium\", \"high\"]\n",
    "\n",
    "articles_df[\"popularity\"] = pd.cut(articles_df[\"purchase_count\"], bins=buckets, labels=labels)\n",
    "\n",
    "articles_df[\"article_id\"].count()"
   ]
  },
  {
   "cell_type": "code",
   "execution_count": 7,
   "metadata": {},
   "outputs": [
    {
     "data": {
      "image/png": "[encoded data removed]",
      "text/plain": [
       "<Figure size 1000x600 with 1 Axes>"
      ]
     },
     "metadata": {},
     "output_type": "display_data"
    }
   ],
   "source": [
    "# Presentation Visual\n",
    "# let's graph the distribution of the popularity score\n",
    "plt.figure(figsize=(10, 6))\n",
    "\n",
    "sns.histplot(articles_df, x=\"popularity\", hue=\"popularity\", legend=False, palette=\"muted\")\n",
    "plt.title(\"Distribution of Popularity Score\")\n",
    "plt.xlabel(\"Popularity\")\n",
    "plt.ylabel(\"Count\")\n",
    "plt.xticks([0, 1, 2], [\"Low\", \"Medium\", \"High\"])\n",
    "\n",
    "plt.show()"
   ]
  },
  {
   "cell_type": "markdown",
   "metadata": {},
   "source": [
    "As we can see here, we have very skewed target data. We will have to address this when creating our models.\n",
    "\n",
    "Our dataset is also still really big with 105,542 rows. In order to make the models faster, let's get a random sample of the data that still has the same distribution of popularity score."
   ]
  },
  {
   "cell_type": "markdown",
   "metadata": {},
   "source": [
    "## Feature Selection"
   ]
  },
  {
   "cell_type": "code",
   "execution_count": 8,
   "metadata": {},
   "outputs": [
    {
     "data": {
      "text/plain": [
       "Index(['article_id', 'product_code', 'prod_name', 'product_type_no',\n",
       "       'product_type_name', 'product_group_name', 'graphical_appearance_no',\n",
       "       'graphical_appearance_name', 'colour_group_code', 'colour_group_name',\n",
       "       'perceived_colour_value_id', 'perceived_colour_value_name',\n",
       "       'perceived_colour_master_id', 'perceived_colour_master_name',\n",
       "       'department_no', 'department_name', 'index_code', 'index_name',\n",
       "       'index_group_no', 'index_group_name', 'section_no', 'section_name',\n",
       "       'garment_group_no', 'garment_group_name', 'detail_desc',\n",
       "       'purchase_count', 'popularity'],\n",
       "      dtype='object')"
      ]
     },
     "execution_count": 8,
     "metadata": {},
     "output_type": "execute_result"
    }
   ],
   "source": [
    "# see all articles_df cols\n",
    "articles_df.columns"
   ]
  },
  {
   "cell_type": "code",
   "execution_count": 9,
   "metadata": {},
   "outputs": [
    {
     "data": {
      "text/html": [
       "<div>\n",
       "<style scoped>\n",
       "    .dataframe tbody tr th:only-of-type {\n",
       "        vertical-align: middle;\n",
       "    }\n",
       "\n",
       "    .dataframe tbody tr th {\n",
       "        vertical-align: top;\n",
       "    }\n",
       "\n",
       "    .dataframe thead th {\n",
       "        text-align: right;\n",
       "    }\n",
       "</style>\n",
       "<table border=\"1\" class=\"dataframe\">\n",
       "  <thead>\n",
       "    <tr style=\"text-align: right;\">\n",
       "      <th></th>\n",
       "      <th>product_code</th>\n",
       "      <th>product_type_no</th>\n",
       "      <th>product_group_name</th>\n",
       "      <th>graphical_appearance_no</th>\n",
       "      <th>colour_group_code</th>\n",
       "      <th>perceived_colour_value_id</th>\n",
       "      <th>perceived_colour_master_id</th>\n",
       "      <th>department_no</th>\n",
       "      <th>index_code</th>\n",
       "      <th>index_group_no</th>\n",
       "      <th>section_no</th>\n",
       "      <th>garment_group_no</th>\n",
       "      <th>popularity</th>\n",
       "    </tr>\n",
       "  </thead>\n",
       "  <tbody>\n",
       "    <tr>\n",
       "      <th>0</th>\n",
       "      <td>108775</td>\n",
       "      <td>253</td>\n",
       "      <td>Garment Upper body</td>\n",
       "      <td>1010016</td>\n",
       "      <td>9</td>\n",
       "      <td>4</td>\n",
       "      <td>5</td>\n",
       "      <td>1676</td>\n",
       "      <td>A</td>\n",
       "      <td>1</td>\n",
       "      <td>16</td>\n",
       "      <td>1002</td>\n",
       "      <td>low</td>\n",
       "    </tr>\n",
       "    <tr>\n",
       "      <th>1</th>\n",
       "      <td>108775</td>\n",
       "      <td>253</td>\n",
       "      <td>Garment Upper body</td>\n",
       "      <td>1010016</td>\n",
       "      <td>10</td>\n",
       "      <td>3</td>\n",
       "      <td>9</td>\n",
       "      <td>1676</td>\n",
       "      <td>A</td>\n",
       "      <td>1</td>\n",
       "      <td>16</td>\n",
       "      <td>1002</td>\n",
       "      <td>high</td>\n",
       "    </tr>\n",
       "    <tr>\n",
       "      <th>2</th>\n",
       "      <td>108775</td>\n",
       "      <td>253</td>\n",
       "      <td>Garment Upper body</td>\n",
       "      <td>1010017</td>\n",
       "      <td>11</td>\n",
       "      <td>1</td>\n",
       "      <td>9</td>\n",
       "      <td>1676</td>\n",
       "      <td>A</td>\n",
       "      <td>1</td>\n",
       "      <td>16</td>\n",
       "      <td>1002</td>\n",
       "      <td>low</td>\n",
       "    </tr>\n",
       "    <tr>\n",
       "      <th>3</th>\n",
       "      <td>110065</td>\n",
       "      <td>306</td>\n",
       "      <td>Underwear</td>\n",
       "      <td>1010016</td>\n",
       "      <td>9</td>\n",
       "      <td>4</td>\n",
       "      <td>5</td>\n",
       "      <td>1339</td>\n",
       "      <td>B</td>\n",
       "      <td>1</td>\n",
       "      <td>61</td>\n",
       "      <td>1017</td>\n",
       "      <td>medium</td>\n",
       "    </tr>\n",
       "    <tr>\n",
       "      <th>4</th>\n",
       "      <td>110065</td>\n",
       "      <td>306</td>\n",
       "      <td>Underwear</td>\n",
       "      <td>1010016</td>\n",
       "      <td>10</td>\n",
       "      <td>3</td>\n",
       "      <td>9</td>\n",
       "      <td>1339</td>\n",
       "      <td>B</td>\n",
       "      <td>1</td>\n",
       "      <td>61</td>\n",
       "      <td>1017</td>\n",
       "      <td>medium</td>\n",
       "    </tr>\n",
       "  </tbody>\n",
       "</table>\n",
       "</div>"
      ],
      "text/plain": [
       "   product_code  product_type_no  product_group_name  graphical_appearance_no  \\\n",
       "0        108775              253  Garment Upper body                  1010016   \n",
       "1        108775              253  Garment Upper body                  1010016   \n",
       "2        108775              253  Garment Upper body                  1010017   \n",
       "3        110065              306           Underwear                  1010016   \n",
       "4        110065              306           Underwear                  1010016   \n",
       "\n",
       "   colour_group_code  perceived_colour_value_id  perceived_colour_master_id  \\\n",
       "0                  9                          4                           5   \n",
       "1                 10                          3                           9   \n",
       "2                 11                          1                           9   \n",
       "3                  9                          4                           5   \n",
       "4                 10                          3                           9   \n",
       "\n",
       "   department_no index_code  index_group_no  section_no  garment_group_no  \\\n",
       "0           1676          A               1          16              1002   \n",
       "1           1676          A               1          16              1002   \n",
       "2           1676          A               1          16              1002   \n",
       "3           1339          B               1          61              1017   \n",
       "4           1339          B               1          61              1017   \n",
       "\n",
       "  popularity  \n",
       "0        low  \n",
       "1       high  \n",
       "2        low  \n",
       "3     medium  \n",
       "4     medium  "
      ]
     },
     "execution_count": 9,
     "metadata": {},
     "output_type": "execute_result"
    }
   ],
   "source": [
    "# Select relevant features for classification model\n",
    "articles_df = articles_df.drop(columns=[\"article_id\", \"prod_name\", \"product_type_name\", \"graphical_appearance_name\",\n",
    "                                        \"colour_group_name\", \"perceived_colour_value_name\", \"perceived_colour_master_name\",\n",
    "                                        \"department_name\", \"index_name\", \"index_group_name\", \"section_name\",\n",
    "                                        \"garment_group_name\", \"detail_desc\", \"purchase_count\"])\n",
    "\n",
    "articles_df.head()"
   ]
  },
  {
   "cell_type": "markdown",
   "metadata": {},
   "source": [
    "## Base Classifiers"
   ]
  },
  {
   "cell_type": "markdown",
   "metadata": {},
   "source": [
    "### \"Shotgun Approach\": Classification Models\n",
    "Since our target data is the \"popularity\" of an article of clothing, let's first try seeing the accuracy of classification models."
   ]
  },
  {
   "cell_type": "code",
   "execution_count": 10,
   "metadata": {},
   "outputs": [],
   "source": [
    "TARGET = [\"popularity\"]\n",
    "\n",
    "X, y = articles_df.drop(columns=TARGET, axis=1), articles_df[TARGET]"
   ]
  },
  {
   "cell_type": "code",
   "execution_count": 11,
   "metadata": {},
   "outputs": [],
   "source": [
    "# use encoder helper function on the text columns in X\n",
    "# for easier analysis\n",
    "helper.encode_strings(X)"
   ]
  },
  {
   "cell_type": "code",
   "execution_count": 12,
   "metadata": {},
   "outputs": [],
   "source": [
    "# Train test split data\n",
    "X_train, X_test, y_train, y_test = train_test_split(X, y,\n",
    "                                        train_size=0.7,\n",
    "                                        test_size=0.3,\n",
    "                                        random_state=42)"
   ]
  },
  {
   "cell_type": "code",
   "execution_count": 13,
   "metadata": {},
   "outputs": [],
   "source": [
    "# creating models that we want to test to see which is most optimized\n",
    "# we will use this to test different X_train variations\n",
    "\n",
    "cat_models = {\n",
    "    \"KNN\": {\n",
    "        \"Estimator\": KNeighborsClassifier(),\n",
    "        },\n",
    "    \"CART\": {\n",
    "        \"Estimator\": DecisionTreeClassifier(),\n",
    "        },\n",
    "    \"NB\": {\n",
    "        \"Estimator\": GaussianNB(),\n",
    "        },\n",
    "    \"LOGREG\": {\n",
    "        \"Estimator\": LogisticRegression(),\n",
    "        }\n",
    "}"
   ]
  },
  {
   "cell_type": "code",
   "execution_count": 14,
   "metadata": {},
   "outputs": [
    {
     "name": "stdout",
     "output_type": "stream",
     "text": [
      "\n",
      "[MODEL TYPE: KNN]\n",
      "\n",
      ">>>> Top Performance: \t\t0.7359\n",
      ">>>> Average Performance: \t0.7310\n",
      ">>>> Spread of Performance: \t0.0032\n",
      "\n",
      "[MODEL TYPE: CART]\n",
      "\n",
      ">>>> Top Performance: \t\t0.7015\n",
      ">>>> Average Performance: \t0.6926\n",
      ">>>> Spread of Performance: \t0.0062\n",
      "\n",
      "[MODEL TYPE: NB]\n",
      "\n",
      ">>>> Top Performance: \t\t0.1260\n",
      ">>>> Average Performance: \t0.1252\n",
      ">>>> Spread of Performance: \t0.0008\n",
      "\n",
      "[MODEL TYPE: LOGREG]\n",
      "\n",
      ">>>> Top Performance: \t\t0.7296\n",
      ">>>> Average Performance: \t0.7244\n",
      ">>>> Spread of Performance: \t0.0027\n"
     ]
    }
   ],
   "source": [
    "# test performance of different models using X_train\n",
    "helper.test_models_performance(cat_models, X_train, y_train, isRegressor=False)"
   ]
  },
  {
   "cell_type": "markdown",
   "metadata": {},
   "source": [
    "The decision tree is probably overfit, as the average performance is 100%. KNN or Logistic Regression may be the best performing models, but let's use a KNN and try to improve it."
   ]
  },
  {
   "cell_type": "code",
   "execution_count": 15,
   "metadata": {},
   "outputs": [
    {
     "name": "stdout",
     "output_type": "stream",
     "text": [
      "> ACCURACY: \t73.62%\n"
     ]
    }
   ],
   "source": [
    "# let's create an instance of that and tune it to have even better accuracy\n",
    "knn_model = KNeighborsClassifier()\n",
    "\n",
    "y_pred = helper.fit_predict(knn_model, X_train, y_train, X_test, y_test, isRegressor=False)"
   ]
  },
  {
   "cell_type": "markdown",
   "metadata": {},
   "source": [
    "### Accuracy to beat: 72.99%"
   ]
  },
  {
   "cell_type": "markdown",
   "metadata": {},
   "source": [
    "## Exhaustive Machine Learning"
   ]
  },
  {
   "cell_type": "markdown",
   "metadata": {},
   "source": [
    "### Tuning: Standard Scaler"
   ]
  },
  {
   "cell_type": "code",
   "execution_count": 16,
   "metadata": {},
   "outputs": [],
   "source": [
    "# use standard scaler\n",
    "# check if that will gain better results\n",
    "scaler = StandardScaler()\n",
    "X_train_scaled = scaler.fit_transform(X_train)\n",
    "X_test_scaled = scaler.transform(X_test)"
   ]
  },
  {
   "cell_type": "code",
   "execution_count": 17,
   "metadata": {},
   "outputs": [
    {
     "name": "stdout",
     "output_type": "stream",
     "text": [
      "> ACCURACY: \t72.79%\n"
     ]
    }
   ],
   "source": [
    "y_pred = helper.fit_predict(knn_model, X_train_scaled, y_train, X_test_scaled, y_test, isRegressor=False)"
   ]
  },
  {
   "cell_type": "markdown",
   "metadata": {},
   "source": [
    "Scaling the data increased the accuracy to 74%!\n",
    "#### Accuracy to beat: 74.12%"
   ]
  },
  {
   "cell_type": "markdown",
   "metadata": {},
   "source": [
    "### Tuning: MinMax Scaler"
   ]
  },
  {
   "cell_type": "code",
   "execution_count": 18,
   "metadata": {},
   "outputs": [],
   "source": [
    "# use minmax scaler\n",
    "# check if that will gain better results\n",
    "scaler = MinMaxScaler()\n",
    "X_train_mm_scaled = scaler.fit_transform(X_train)\n",
    "X_test_mm_scaled = scaler.transform(X_test)"
   ]
  },
  {
   "cell_type": "code",
   "execution_count": 19,
   "metadata": {},
   "outputs": [
    {
     "name": "stdout",
     "output_type": "stream",
     "text": [
      "> ACCURACY: \t72.44%\n"
     ]
    }
   ],
   "source": [
    "y_pred = helper.fit_predict(knn_model, X_train_mm_scaled, y_train, X_test_mm_scaled, y_test, isRegressor=False)"
   ]
  },
  {
   "cell_type": "markdown",
   "metadata": {},
   "source": [
    "Using a MinMax scaler made the accuracy worse. Let's stick to our standard scaled data.\n",
    "\n",
    "#### Accuracy to beat: 74.12%"
   ]
  },
  {
   "cell_type": "markdown",
   "metadata": {},
   "source": [
    "### Tuning: GridSearchCV"
   ]
  },
  {
   "cell_type": "code",
   "execution_count": 20,
   "metadata": {},
   "outputs": [
    {
     "data": {
      "text/plain": [
       "{'algorithm': 'auto',\n",
       " 'leaf_size': 30,\n",
       " 'metric': 'minkowski',\n",
       " 'metric_params': None,\n",
       " 'n_jobs': None,\n",
       " 'n_neighbors': 5,\n",
       " 'p': 2,\n",
       " 'weights': 'uniform'}"
      ]
     },
     "execution_count": 20,
     "metadata": {},
     "output_type": "execute_result"
    }
   ],
   "source": [
    "knn_model.get_params()"
   ]
  },
  {
   "cell_type": "code",
   "execution_count": 21,
   "metadata": {},
   "outputs": [],
   "source": [
    "# choose hyperparamters to test in the GridSearchCV\n",
    "hyperparameters = {\n",
    "\t\t \"n_neighbors\": [5, 10, 30, 50],\n",
    "         \"metric\": [\"euclidean\", \"manhattan\", \"minkowski\"],\n",
    "         \"weights\": [\"uniform\", \"distance\"]\n",
    "}"
   ]
  },
  {
   "cell_type": "code",
   "execution_count": 22,
   "metadata": {},
   "outputs": [],
   "source": [
    "tuned_model = KNeighborsClassifier()\n",
    "model_tuner = GridSearchCV(tuned_model, hyperparameters, cv=10)"
   ]
  },
  {
   "cell_type": "code",
   "execution_count": 23,
   "metadata": {},
   "outputs": [],
   "source": [
    "# commenting this out because it took 15 minutes to run\n",
    "# model_tuner.fit(X_train_scaled, y_train)"
   ]
  },
  {
   "cell_type": "code",
   "execution_count": 24,
   "metadata": {},
   "outputs": [],
   "source": [
    "# Most optimal knn model: KNeighborsClassifier(metric='manhattan', n_neighbors=30, weights='distance')\n",
    "\n",
    "# commenting this out because this will cause an error\n",
    "# if the above cell is also commented out\n",
    "\n",
    "# optimally_tuned_classifier = model_tuner.best_estimator_\n",
    "\n",
    "# optimally_tuned_classifier"
   ]
  },
  {
   "cell_type": "markdown",
   "metadata": {},
   "source": [
    "The code for the grid search was commented out, as it took 9 minutes to run, but the optimal KNN model it returned was `KNeighborsClassifier(metric='manhattan', n_neighbors=30, weights='distance')`\n",
    "\n",
    "From the hyperparameters fed into the GridSearchCV, we see the most optimal hyperparameters for our KNN."
   ]
  },
  {
   "cell_type": "code",
   "execution_count": 25,
   "metadata": {},
   "outputs": [],
   "source": [
    "# commenting this out because this will cause an error\n",
    "# if the above cell is also commented out\n",
    "\n",
    "# Get accuracy of the most optimal classifier\n",
    "# y_pred = optimally_tuned_classifier.predict(X_test_scaled)\n",
    "\n",
    "# helper.print_accuracy(y_test, y_pred, isRegressor=False)"
   ]
  },
  {
   "cell_type": "markdown",
   "metadata": {},
   "source": [
    "This accuracy is slightly better! \n",
    "\n",
    "#### Accuracy to beat: 76.60%"
   ]
  },
  {
   "cell_type": "markdown",
   "metadata": {},
   "source": [
    "### Accuracy Evaluation"
   ]
  },
  {
   "cell_type": "markdown",
   "metadata": {},
   "source": [
    "#### Confusion Matrix & Classification Report"
   ]
  },
  {
   "cell_type": "code",
   "execution_count": 26,
   "metadata": {},
   "outputs": [
    {
     "name": "stdout",
     "output_type": "stream",
     "text": [
      "> ACCURACY: \t72.76%\n"
     ]
    }
   ],
   "source": [
    "# creating an instance of the most iptimally tuned model\n",
    "knn_model = KNeighborsClassifier(metric='manhattan', n_neighbors=30, weights='distance')\n",
    "\n",
    "y_pred = helper.fit_predict(knn_model, X_train_scaled, y_train, X_test_scaled, y_test, isRegressor=False)"
   ]
  },
  {
   "cell_type": "code",
   "execution_count": 27,
   "metadata": {},
   "outputs": [
    {
     "name": "stdout",
     "output_type": "stream",
     "text": [
      "confusion matrix:\n",
      " [[ 2055   944   880]\n",
      " [  571 18904  1799]\n",
      " [  999  3433  2078]]\n",
      "\n",
      "              precision    recall  f1-score   support\n",
      "\n",
      "        high       0.57      0.53      0.55      3879\n",
      "         low       0.81      0.89      0.85     21274\n",
      "      medium       0.44      0.32      0.37      6510\n",
      "\n",
      "    accuracy                           0.73     31663\n",
      "   macro avg       0.61      0.58      0.59     31663\n",
      "weighted avg       0.70      0.73      0.71     31663\n",
      "\n"
     ]
    },
    {
     "data": {
      "image/png": "[encoded data removed]",
      "text/plain": [
       "<Figure size 640x480 with 2 Axes>"
      ]
     },
     "metadata": {},
     "output_type": "display_data"
    }
   ],
   "source": [
    "# check confusion matrix\n",
    "helper.print_confusion_matrix_details(y_test, y_pred)"
   ]
  },
  {
   "cell_type": "markdown",
   "metadata": {},
   "source": [
    "### Metrics: ROC-AUC Curve"
   ]
  },
  {
   "cell_type": "code",
   "execution_count": 28,
   "metadata": {},
   "outputs": [],
   "source": [
    "# predict probabilities on the test set\n",
    "y_pred_probs = knn_model.predict_proba(X_test_scaled)"
   ]
  },
  {
   "cell_type": "code",
   "execution_count": 29,
   "metadata": {},
   "outputs": [],
   "source": [
    "# Convert y_test to one-hot encoded format\n",
    "# Extract the class labels\n",
    "classes = knn_model.classes_\n",
    "y_test_onehot = label_binarize(y_test, classes=classes)\n",
    "\n",
    "# Compute ROC curve and AUC for each class\n",
    "fpr = dict()\n",
    "tpr = dict()\n",
    "roc_auc = dict()\n",
    "for i, class_label in enumerate(classes):\n",
    "    fpr[i], tpr[i], _ = roc_curve(y_test_onehot[:, i], y_pred_probs[:, i])\n",
    "    roc_auc[i] = auc(fpr[i], tpr[i])\n",
    "\n",
    "# Compute micro-average ROC curve and ROC area\n",
    "fpr[\"micro\"], tpr[\"micro\"], _ = roc_curve(y_test_onehot.ravel(), y_pred_probs.ravel())\n",
    "roc_auc[\"micro\"] = auc(fpr[\"micro\"], tpr[\"micro\"])"
   ]
  },
  {
   "cell_type": "code",
   "execution_count": 30,
   "metadata": {},
   "outputs": [
    {
     "data": {
      "image/png": "[encoded data removed]",
      "text/plain": [
       "<Figure size 1000x800 with 1 Axes>"
      ]
     },
     "metadata": {},
     "output_type": "display_data"
    }
   ],
   "source": [
    "# Plot ROC curves\n",
    "plt.figure(figsize=(10, 8))\n",
    "for i, class_label in enumerate(classes):\n",
    "    plt.plot(fpr[i], tpr[i], label=f\"Class {class_label} (area = {roc_auc[i]:.2f})\")\n",
    "\n",
    "# Add micro-average ROC curve\n",
    "plt.plot(fpr[\"micro\"], tpr[\"micro\"], label=f\"Micro-average (area = {roc_auc['micro']:.2f})\", linestyle='--')\n",
    "\n",
    "# Plot the diagonal (random guessing)\n",
    "plt.plot([0, 1], [0, 1], 'k--', lw=2)\n",
    "\n",
    "# Formatting the plot\n",
    "plt.title(\"ROC-AUC Curve for Popularity Classification (Multiclass kNN)\")\n",
    "plt.xlabel(\"False Positive Rate\")\n",
    "plt.ylabel(\"True Positive Rate\")\n",
    "plt.legend(loc=\"lower right\")\n",
    "plt.grid(alpha=0.3)\n",
    "plt.show()"
   ]
  },
  {
   "cell_type": "markdown",
   "metadata": {},
   "source": [
    "The area under the curve (AUC) of our ROC represents the model's overall performance, and we can see the difference in accuracy for different classes. The closer an AUC is to 1, the better it is at predicting between the correct classes, with our \"high\" popularity class having the best curve, and our average ROC curve has an area of 0.86. Although our model performs okay, there may be other models that perform better on this data."
   ]
  },
  {
   "cell_type": "markdown",
   "metadata": {},
   "source": [
    "## Ensemble Models\n",
    "Let's explore how different ensemble models perform on this data. Ensemble models like Random Forests or Gradient Boosting (ex. XGBoost) often perform better on imbalanced data and can improve overall performance on minority classes."
   ]
  },
  {
   "cell_type": "markdown",
   "metadata": {},
   "source": [
    "### \"Shotgun Approach:\" Ensemble Models"
   ]
  },
  {
   "cell_type": "code",
   "execution_count": 31,
   "metadata": {},
   "outputs": [],
   "source": [
    "# creating models that we want to test to see which is most optimized\n",
    "# we will use this to test different X_train variations\n",
    "ensemble_models = {\n",
    "    \"RandomForest\": {\n",
    "        \"Estimator\": RandomForestClassifier(),\n",
    "        },\n",
    "    \"ADABoost\": {\n",
    "        \"Estimator\": AdaBoostClassifier(),\n",
    "        }\n",
    "}"
   ]
  },
  {
   "cell_type": "code",
   "execution_count": 32,
   "metadata": {},
   "outputs": [
    {
     "name": "stdout",
     "output_type": "stream",
     "text": [
      "\n",
      "[MODEL TYPE: RandomForest]\n",
      "\n",
      ">>>> Top Performance: \t\t0.7492\n",
      ">>>> Average Performance: \t0.7392\n",
      ">>>> Spread of Performance: \t0.0049\n",
      "\n",
      "[MODEL TYPE: ADABoost]\n",
      "\n",
      ">>>> Top Performance: \t\t0.7469\n",
      ">>>> Average Performance: \t0.7428\n",
      ">>>> Spread of Performance: \t0.0030\n"
     ]
    }
   ],
   "source": [
    "# test performance of different models using X_train\n",
    "helper.test_models_performance(ensemble_models, X_train, y_train, isRegressor=False)"
   ]
  },
  {
   "cell_type": "code",
   "execution_count": 33,
   "metadata": {},
   "outputs": [
    {
     "name": "stdout",
     "output_type": "stream",
     "text": [
      "\n",
      "[MODEL TYPE: RandomForest]\n",
      "\n",
      ">>>> Top Performance: \t\t0.7469\n",
      ">>>> Average Performance: \t0.7385\n",
      ">>>> Spread of Performance: \t0.0045\n",
      "\n",
      "[MODEL TYPE: ADABoost]\n",
      "\n",
      ">>>> Top Performance: \t\t0.7469\n",
      ">>>> Average Performance: \t0.7428\n",
      ">>>> Spread of Performance: \t0.0030\n"
     ]
    }
   ],
   "source": [
    "# test performance of different models using X_train_scaled\n",
    "helper.test_models_performance(ensemble_models, X_train_scaled, y_train, isRegressor=False)"
   ]
  },
  {
   "cell_type": "markdown",
   "metadata": {},
   "source": [
    "### Accuracy Evaluation\n",
    "Both ensemble models perform a little too well at 100% accuracy. Look at their confusion matrices and classification reports to understand better."
   ]
  },
  {
   "cell_type": "code",
   "execution_count": 34,
   "metadata": {},
   "outputs": [
    {
     "name": "stdout",
     "output_type": "stream",
     "text": [
      "> ACCURACY: \t74.05%\n"
     ]
    }
   ],
   "source": [
    "# Let's instantiate a Random Forest model\n",
    "rf_model = RandomForestClassifier()\n",
    "y_pred = helper.fit_predict(rf_model, X_train_scaled, y_train, X_test_scaled, y_test, isRegressor=False)"
   ]
  },
  {
   "cell_type": "code",
   "execution_count": 35,
   "metadata": {},
   "outputs": [
    {
     "name": "stdout",
     "output_type": "stream",
     "text": [
      "confusion matrix:\n",
      " [[ 2174   807   898]\n",
      " [  531 18813  1930]\n",
      " [  964  3088  2458]]\n",
      "\n",
      "              precision    recall  f1-score   support\n",
      "\n",
      "        high       0.59      0.56      0.58      3879\n",
      "         low       0.83      0.88      0.86     21274\n",
      "      medium       0.47      0.38      0.42      6510\n",
      "\n",
      "    accuracy                           0.74     31663\n",
      "   macro avg       0.63      0.61      0.62     31663\n",
      "weighted avg       0.72      0.74      0.73     31663\n",
      "\n"
     ]
    },
    {
     "data": {
      "image/png": "[encoded data removed]",
      "text/plain": [
       "<Figure size 640x480 with 2 Axes>"
      ]
     },
     "metadata": {},
     "output_type": "display_data"
    }
   ],
   "source": [
    "helper.print_confusion_matrix_details(y_test, y_pred)"
   ]
  },
  {
   "cell_type": "markdown",
   "metadata": {},
   "source": [
    "This Random Forest model still isn't as good at predicting popularity index as the KNN model with scaled data.\n",
    "\n",
    "#### Accuracy to beat: 76%"
   ]
  },
  {
   "cell_type": "markdown",
   "metadata": {},
   "source": [
    "### Feature Importance"
   ]
  },
  {
   "cell_type": "code",
   "execution_count": 36,
   "metadata": {},
   "outputs": [
    {
     "data": {
      "text/plain": [
       "[('product_code', 0.48772249283896923),\n",
       " ('colour_group_code', 0.07733943425313469),\n",
       " ('product_type_no', 0.07115155976428836),\n",
       " ('department_no', 0.0675917417963747),\n",
       " ('graphical_appearance_no', 0.06202933284671913),\n",
       " ('perceived_colour_master_id', 0.057696548474695304),\n",
       " ('perceived_colour_value_id', 0.0479701088287652),\n",
       " ('section_no', 0.03871001419167362),\n",
       " ('garment_group_no', 0.029965031449325382),\n",
       " ('index_code', 0.02112810424276051),\n",
       " ('product_group_name', 0.019832794957638886),\n",
       " ('index_group_no', 0.01886283635565512)]"
      ]
     },
     "execution_count": 36,
     "metadata": {},
     "output_type": "execute_result"
    }
   ],
   "source": [
    "# let's see the importance of our features\n",
    "# on our most successful random forest model\n",
    "\n",
    "importances, features = rf_model.feature_importances_, X.columns\n",
    "\n",
    "feature_importances = [(features[iteration], importances[iteration]) for iteration in range(len(features))]\n",
    "feature_importances.sort(reverse=True, key=lambda X: X[1])\n",
    "\n",
    "feature_importances"
   ]
  },
  {
   "cell_type": "code",
   "execution_count": 37,
   "metadata": {},
   "outputs": [],
   "source": [
    "# split out feature_importances for our bar plot\n",
    "\n",
    "x_features = [feature_importance[0] for feature_importance in feature_importances]\n",
    "y_importances = [feature_importance[1] for feature_importance in feature_importances]"
   ]
  },
  {
   "cell_type": "code",
   "execution_count": 38,
   "metadata": {},
   "outputs": [
    {
     "data": {
      "image/png": "[encoded data removed]",
      "text/plain": [
       "<Figure size 1100x600 with 1 Axes>"
      ]
     },
     "metadata": {},
     "output_type": "display_data"
    }
   ],
   "source": [
    "# Presentation Visual\n",
    "# Plot the importance of each feature in our Random Forest model\n",
    "plt.figure(figsize=(11, 6))\n",
    "\n",
    "sns.barplot(x=x_features, y=y_importances, palette=\"muted\")\n",
    "plt.title(\"Feature Importances of Most Optimal Random Tree Model\")\n",
    "plt.xlabel(\"Feature\")\n",
    "plt.xticks(rotation=90)\n",
    "\n",
    "plt.ylabel(\"Importance\")\n",
    "plt.show()"
   ]
  },
  {
   "cell_type": "markdown",
   "metadata": {},
   "source": [
    "From this graph, we can see that product code is, by far, the most important feature to predict the popularity of an article of clothing."
   ]
  },
  {
   "cell_type": "markdown",
   "metadata": {},
   "source": [
    "## Artificial Neural Network (ANN)\n",
    "Lastly, we want to see how an ANN would perform on this data."
   ]
  },
  {
   "cell_type": "code",
   "execution_count": 46,
   "metadata": {},
   "outputs": [],
   "source": [
    "# One-hot encode target variable (for multiclass classification)\n",
    "y_onehot = pd.get_dummies(y)"
   ]
  },
  {
   "cell_type": "code",
   "execution_count": 47,
   "metadata": {},
   "outputs": [],
   "source": [
    "# Split data into training, validation, and test sets\n",
    "X_train, X_temp, y_train, y_temp = train_test_split(X, y_onehot, test_size=0.3, random_state=42)\n",
    "X_val, X_test, y_val, y_test = train_test_split(X_temp, y_temp, test_size=0.5, random_state=42)"
   ]
  },
  {
   "cell_type": "code",
   "execution_count": 48,
   "metadata": {},
   "outputs": [
    {
     "data": {
      "text/plain": [
       "(12, 3)"
      ]
     },
     "execution_count": 48,
     "metadata": {},
     "output_type": "execute_result"
    }
   ],
   "source": [
    "# Number of features after preprocessing\n",
    "input_dim = X_train.shape[1]\n",
    "\n",
    "# Number of classes (low, medium, high)\n",
    "output_dim = y_train.shape[1]\n",
    "\n",
    "input_dim, output_dim"
   ]
  },
  {
   "cell_type": "code",
   "execution_count": 49,
   "metadata": {},
   "outputs": [
    {
     "name": "stdout",
     "output_type": "stream",
     "text": [
      "Model: \"sequential\"\n",
      "_________________________________________________________________\n",
      " Layer (type)                Output Shape              Param #   \n",
      "=================================================================\n",
      " dense (Dense)               (None, 64)                832       \n",
      "                                                                 \n",
      " dropout (Dropout)           (None, 64)                0         \n",
      "                                                                 \n",
      " dense_1 (Dense)             (None, 32)                2080      \n",
      "                                                                 \n",
      " dropout_1 (Dropout)         (None, 32)                0         \n",
      "                                                                 \n",
      " dense_2 (Dense)             (None, 3)                 99        \n",
      "                                                                 \n",
      "=================================================================\n",
      "Total params: 3,011\n",
      "Trainable params: 3,011\n",
      "Non-trainable params: 0\n",
      "_________________________________________________________________\n"
     ]
    }
   ],
   "source": [
    "# Define the initial ANN model\n",
    "ann_model = Sequential([\n",
    "    Dense(64, activation='relu', input_dim=input_dim),\n",
    "    Dropout(0.3),  # Add dropout to prevent overfitting\n",
    "    Dense(32, activation='relu'),\n",
    "    Dropout(0.3),\n",
    "    Dense(output_dim,activation='softmax')  # Use softmax for multiclass classification\n",
    "])\n",
    "\n",
    "# Compile the model\n",
    "ann_model.compile(optimizer=Adam(learning_rate=0.001),\n",
    "              loss='categorical_crossentropy',\n",
    "              metrics=['accuracy'])\n",
    "\n",
    "ann_model.summary()"
   ]
  },
  {
   "cell_type": "code",
   "execution_count": 50,
   "metadata": {},
   "outputs": [
    {
     "name": "stdout",
     "output_type": "stream",
     "text": [
      "Epoch 1/50\n",
      "2309/2309 [==============================] - 7s 2ms/step - loss: 4761.4941 - accuracy: 0.6336 - val_loss: 1.7972 - val_accuracy: 0.6688\n",
      "Epoch 2/50\n",
      "2309/2309 [==============================] - 5s 2ms/step - loss: 12.0176 - accuracy: 0.6667 - val_loss: 1.2445 - val_accuracy: 0.6688\n",
      "Epoch 3/50\n",
      "2309/2309 [==============================] - 5s 2ms/step - loss: 3.2858 - accuracy: 0.6680 - val_loss: 0.8532 - val_accuracy: 0.6688\n",
      "Epoch 4/50\n",
      "2309/2309 [==============================] - 4s 2ms/step - loss: 2.0004 - accuracy: 0.6684 - val_loss: 0.8565 - val_accuracy: 0.6688\n",
      "Epoch 5/50\n",
      "2309/2309 [==============================] - 4s 2ms/step - loss: 1.9275 - accuracy: 0.6685 - val_loss: 0.8530 - val_accuracy: 0.6688\n",
      "Epoch 6/50\n",
      "2309/2309 [==============================] - 4s 2ms/step - loss: 1.0670 - accuracy: 0.6686 - val_loss: 0.8530 - val_accuracy: 0.6688\n",
      "Epoch 7/50\n",
      "2309/2309 [==============================] - 4s 2ms/step - loss: 1.0141 - accuracy: 0.6686 - val_loss: 0.8530 - val_accuracy: 0.6688\n",
      "Epoch 8/50\n",
      "2309/2309 [==============================] - 4s 2ms/step - loss: 0.9610 - accuracy: 0.6686 - val_loss: 0.8531 - val_accuracy: 0.6688\n",
      "Epoch 9/50\n",
      "2309/2309 [==============================] - 4s 2ms/step - loss: 1.0555 - accuracy: 0.6686 - val_loss: 0.8530 - val_accuracy: 0.6688\n",
      "Epoch 10/50\n",
      "2309/2309 [==============================] - 4s 2ms/step - loss: 0.9976 - accuracy: 0.6686 - val_loss: 0.8530 - val_accuracy: 0.6688\n",
      "Epoch 11/50\n",
      "2309/2309 [==============================] - 4s 2ms/step - loss: 0.8699 - accuracy: 0.6686 - val_loss: 0.8530 - val_accuracy: 0.6688\n"
     ]
    }
   ],
   "source": [
    "# Early stopping to prevent overfitting\n",
    "early_stopping = EarlyStopping(monitor='val_loss', patience=5, restore_best_weights=True)\n",
    "\n",
    "# Train the model\n",
    "history = ann_model.fit(\n",
    "    X_train, y_train,\n",
    "    validation_data=(X_val, y_val),\n",
    "    epochs=50,\n",
    "    batch_size=32,\n",
    "    callbacks=[early_stopping]\n",
    ")"
   ]
  },
  {
   "cell_type": "code",
   "execution_count": 51,
   "metadata": {},
   "outputs": [
    {
     "name": "stdout",
     "output_type": "stream",
     "text": [
      "Test Accuracy: 0.68\n"
     ]
    },
    {
     "data": {
      "image/png": "[encoded data removed]",
      "text/plain": [
       "<Figure size 640x480 with 1 Axes>"
      ]
     },
     "metadata": {},
     "output_type": "display_data"
    }
   ],
   "source": [
    "# Evaluate on the test set\n",
    "test_loss, test_accuracy = ann_model.evaluate(X_test, y_test, verbose=0)\n",
    "print(f\"Test Accuracy: {test_accuracy:.2f}\")\n",
    "\n",
    "plt.plot(history.history['accuracy'], label='Training Accuracy')\n",
    "plt.plot(history.history['val_accuracy'], label='Validation Accuracy')\n",
    "plt.title('Training and Validation Accuracy')\n",
    "plt.xlabel('Epochs')\n",
    "plt.ylabel('Accuracy')\n",
    "plt.legend()\n",
    "plt.show()"
   ]
  },
  {
   "cell_type": "code",
   "execution_count": 52,
   "metadata": {},
   "outputs": [
    {
     "name": "stdout",
     "output_type": "stream",
     "text": [
      "495/495 [==============================] - 1s 1ms/step\n",
      "confusion matrix:\n",
      " [[10687     0     0]\n",
      " [ 3195     0     0]\n",
      " [ 1950     0     0]]\n",
      "\n",
      "              precision    recall  f1-score   support\n",
      "\n",
      "           0       0.68      1.00      0.81     10687\n",
      "           1       0.00      0.00      0.00      3195\n",
      "           2       0.00      0.00      0.00      1950\n",
      "\n",
      "    accuracy                           0.68     15832\n",
      "   macro avg       0.23      0.33      0.27     15832\n",
      "weighted avg       0.46      0.68      0.54     15832\n",
      "\n"
     ]
    },
    {
     "data": {
      "image/png": "[encoded data removed]",
      "text/plain": [
       "<Figure size 640x480 with 2 Axes>"
      ]
     },
     "metadata": {},
     "output_type": "display_data"
    }
   ],
   "source": [
    "# Predict on test data\n",
    "y_pred_probs = ann_model.predict(X_test)\n",
    "y_pred_classes = np.argmax(y_pred_probs, axis=1)\n",
    "\n",
    "# Decode the predicted and true labels\n",
    "y_test_classes = np.argmax(y_test.values, axis=1)\n",
    "\n",
    "# Confusion Matrix\n",
    "helper.print_confusion_matrix_details(y_test_classes, y_pred_classes)"
   ]
  },
  {
   "cell_type": "markdown",
   "metadata": {},
   "source": [
    "#### Accuracy to beat: 68%\n",
    "\n",
    "The metrics and confusion matrix show that there's a class imbalance and potential issues with the model's ability to generalize."
   ]
  },
  {
   "cell_type": "markdown",
   "metadata": {},
   "source": [
    "### Tuning: Class Weights\n",
    "Let's try to assign higher weights to minority classes in the loss function and see if our model improves."
   ]
  },
  {
   "cell_type": "code",
   "execution_count": 53,
   "metadata": {},
   "outputs": [
    {
     "name": "stdout",
     "output_type": "stream",
     "text": [
      "Class Weights: {0: 2.710956993982093, 1: 0.49852895528833824, 2: 1.599424130241822}\n"
     ]
    }
   ],
   "source": [
    "class_weights = compute_class_weight('balanced', classes=np.unique(y_train.idxmax(axis=1)), y=y_train.idxmax(axis=1))\n",
    "class_weights_dict = {i: class_weights[i] for i in range(len(class_weights))}\n",
    "\n",
    "print(\"Class Weights:\", class_weights_dict)"
   ]
  },
  {
   "cell_type": "code",
   "execution_count": 54,
   "metadata": {},
   "outputs": [
    {
     "name": "stdout",
     "output_type": "stream",
     "text": [
      "Epoch 1/50\n",
      "2309/2309 [==============================] - 6s 2ms/step - loss: 1.2659 - accuracy: 0.6686 - val_loss: 1.0209 - val_accuracy: 0.6688\n",
      "Epoch 2/50\n",
      "2309/2309 [==============================] - 5s 2ms/step - loss: 1.0646 - accuracy: 0.6686 - val_loss: 1.0250 - val_accuracy: 0.6688\n",
      "Epoch 3/50\n",
      "2309/2309 [==============================] - 6s 3ms/step - loss: 1.2301 - accuracy: 0.6686 - val_loss: 1.0236 - val_accuracy: 0.6688\n",
      "Epoch 4/50\n",
      "2309/2309 [==============================] - 6s 2ms/step - loss: 1.3010 - accuracy: 0.6686 - val_loss: 1.0261 - val_accuracy: 0.6688\n",
      "Epoch 5/50\n",
      "2309/2309 [==============================] - 7s 3ms/step - loss: 1.0747 - accuracy: 0.6686 - val_loss: 1.0207 - val_accuracy: 0.6688\n",
      "Epoch 6/50\n",
      "2309/2309 [==============================] - 7s 3ms/step - loss: 1.0581 - accuracy: 0.6686 - val_loss: 1.0224 - val_accuracy: 0.6688\n",
      "Epoch 7/50\n",
      "2309/2309 [==============================] - 4s 2ms/step - loss: 1.2065 - accuracy: 0.6686 - val_loss: 1.0191 - val_accuracy: 0.6688\n",
      "Epoch 8/50\n",
      "2309/2309 [==============================] - 4s 2ms/step - loss: 1.0581 - accuracy: 0.6686 - val_loss: 1.0259 - val_accuracy: 0.6688\n",
      "Epoch 9/50\n",
      "2309/2309 [==============================] - 5s 2ms/step - loss: 1.0794 - accuracy: 0.6686 - val_loss: 1.0241 - val_accuracy: 0.6688\n",
      "Epoch 10/50\n",
      "2309/2309 [==============================] - 4s 2ms/step - loss: 1.0598 - accuracy: 0.6686 - val_loss: 1.0230 - val_accuracy: 0.6688\n",
      "Epoch 11/50\n",
      "2309/2309 [==============================] - 4s 2ms/step - loss: 1.0581 - accuracy: 0.6686 - val_loss: 1.0228 - val_accuracy: 0.6688\n",
      "Epoch 12/50\n",
      "2309/2309 [==============================] - 4s 2ms/step - loss: 1.0581 - accuracy: 0.6686 - val_loss: 1.0193 - val_accuracy: 0.6688\n"
     ]
    }
   ],
   "source": [
    "# Train the model\n",
    "history = ann_model.fit(X_train, y_train,\n",
    "                    validation_data=(X_val, y_val),\n",
    "                    epochs=50,\n",
    "                    batch_size=32,\n",
    "                    class_weight=class_weights_dict,\n",
    "                    callbacks=[early_stopping])"
   ]
  },
  {
   "cell_type": "code",
   "execution_count": 55,
   "metadata": {},
   "outputs": [
    {
     "name": "stdout",
     "output_type": "stream",
     "text": [
      "Test Accuracy: 0.68\n"
     ]
    }
   ],
   "source": [
    "# Evaluate on the test set\n",
    "test_loss, test_accuracy = ann_model.evaluate(X_test, y_test, verbose=0)\n",
    "print(f\"Test Accuracy: {test_accuracy:.2f}\")"
   ]
  },
  {
   "cell_type": "code",
   "execution_count": 56,
   "metadata": {},
   "outputs": [
    {
     "name": "stdout",
     "output_type": "stream",
     "text": [
      "495/495 [==============================] - 0s 906us/step\n",
      "confusion matrix:\n",
      " [[10687     0     0]\n",
      " [ 3195     0     0]\n",
      " [ 1950     0     0]]\n",
      "\n",
      "              precision    recall  f1-score   support\n",
      "\n",
      "           0       0.68      1.00      0.81     10687\n",
      "           1       0.00      0.00      0.00      3195\n",
      "           2       0.00      0.00      0.00      1950\n",
      "\n",
      "    accuracy                           0.68     15832\n",
      "   macro avg       0.23      0.33      0.27     15832\n",
      "weighted avg       0.46      0.68      0.54     15832\n",
      "\n"
     ]
    },
    {
     "data": {
      "image/png": "[encoded data removed]",
      "text/plain": [
       "<Figure size 640x480 with 2 Axes>"
      ]
     },
     "metadata": {},
     "output_type": "display_data"
    }
   ],
   "source": [
    "# Predict on test data\n",
    "y_pred_probs = ann_model.predict(X_test)\n",
    "y_pred_classes = np.argmax(y_pred_probs, axis=1)\n",
    "\n",
    "# Decode the predicted and true labels\n",
    "y_test_classes = np.argmax(y_test.values, axis=1)\n",
    "\n",
    "# Confusion Matrix\n",
    "helper.print_confusion_matrix_details(y_test_classes, y_pred_classes)"
   ]
  },
  {
   "cell_type": "markdown",
   "metadata": {},
   "source": [
    "Changing the class weights didn't improve the model at all.\n",
    "\n",
    "#### Accuracy to beat: 68%"
   ]
  },
  {
   "cell_type": "markdown",
   "metadata": {},
   "source": [
    "### Tuning: LeakyReLU\n",
    "Let's add a LeakyReLU layer to our model to try improving model accuracy."
   ]
  },
  {
   "cell_type": "code",
   "execution_count": 57,
   "metadata": {},
   "outputs": [
    {
     "name": "stdout",
     "output_type": "stream",
     "text": [
      "Model: \"sequential_1\"\n",
      "_________________________________________________________________\n",
      " Layer (type)                Output Shape              Param #   \n",
      "=================================================================\n",
      " dense_3 (Dense)             (None, 64)                832       \n",
      "                                                                 \n",
      " leaky_re_lu (LeakyReLU)     (None, 64)                0         \n",
      "                                                                 \n",
      " dropout_2 (Dropout)         (None, 64)                0         \n",
      "                                                                 \n",
      " dense_4 (Dense)             (None, 32)                2080      \n",
      "                                                                 \n",
      " leaky_re_lu_1 (LeakyReLU)   (None, 32)                0         \n",
      "                                                                 \n",
      " dropout_3 (Dropout)         (None, 32)                0         \n",
      "                                                                 \n",
      " dense_5 (Dense)             (None, 3)                 99        \n",
      "                                                                 \n",
      "=================================================================\n",
      "Total params: 3,011\n",
      "Trainable params: 3,011\n",
      "Non-trainable params: 0\n",
      "_________________________________________________________________\n"
     ]
    }
   ],
   "source": [
    "# add LeakyReLU with alpha 0.1 to model\n",
    "leaky_model = Sequential([\n",
    "    Dense(64, input_dim=input_dim),\n",
    "    LeakyReLU(alpha=0.1),\n",
    "    Dropout(0.3),\n",
    "    Dense(32),\n",
    "    LeakyReLU(alpha=0.1),\n",
    "    Dropout(0.3),\n",
    "    Dense(output_dim, activation='softmax')\n",
    "])\n",
    "\n",
    "# Compile the model\n",
    "leaky_model.compile(optimizer=Adam(learning_rate=0.001),\n",
    "              loss='categorical_crossentropy',\n",
    "              metrics=['accuracy'])\n",
    "\n",
    "leaky_model.summary()"
   ]
  },
  {
   "cell_type": "code",
   "execution_count": 58,
   "metadata": {},
   "outputs": [
    {
     "name": "stdout",
     "output_type": "stream",
     "text": [
      "Epoch 1/50\n",
      "2309/2309 [==============================] - 6s 2ms/step - loss: 5092.3667 - accuracy: 0.5659 - val_loss: 61.9290 - val_accuracy: 0.6945\n",
      "Epoch 2/50\n",
      "2309/2309 [==============================] - 4s 2ms/step - loss: 86.7046 - accuracy: 0.5737 - val_loss: 16.9438 - val_accuracy: 0.7030\n",
      "Epoch 3/50\n",
      "2309/2309 [==============================] - 4s 2ms/step - loss: 26.4410 - accuracy: 0.5735 - val_loss: 3.5843 - val_accuracy: 0.6812\n",
      "Epoch 4/50\n",
      "2309/2309 [==============================] - 4s 2ms/step - loss: 7.9684 - accuracy: 0.5585 - val_loss: 1.6512 - val_accuracy: 0.6800\n",
      "Epoch 5/50\n",
      "2309/2309 [==============================] - 4s 2ms/step - loss: 3.9365 - accuracy: 0.5612 - val_loss: 0.9832 - val_accuracy: 0.6893\n",
      "Epoch 6/50\n",
      "2309/2309 [==============================] - 4s 2ms/step - loss: 2.5533 - accuracy: 0.5823 - val_loss: 2.4082 - val_accuracy: 0.7090\n",
      "Epoch 7/50\n",
      "2309/2309 [==============================] - 4s 2ms/step - loss: 1.5168 - accuracy: 0.6116 - val_loss: 0.8782 - val_accuracy: 0.7044\n",
      "Epoch 8/50\n",
      "2309/2309 [==============================] - 4s 2ms/step - loss: 1.1912 - accuracy: 0.6280 - val_loss: 0.8156 - val_accuracy: 0.7011\n",
      "Epoch 9/50\n",
      "2309/2309 [==============================] - 4s 2ms/step - loss: 0.9503 - accuracy: 0.6621 - val_loss: 0.7814 - val_accuracy: 0.6960\n",
      "Epoch 10/50\n",
      "2309/2309 [==============================] - 4s 2ms/step - loss: 0.9109 - accuracy: 0.6722 - val_loss: 0.7506 - val_accuracy: 0.7147\n",
      "Epoch 11/50\n",
      "2309/2309 [==============================] - 5s 2ms/step - loss: 0.8092 - accuracy: 0.6917 - val_loss: 0.7082 - val_accuracy: 0.7260\n",
      "Epoch 12/50\n",
      "2309/2309 [==============================] - 4s 2ms/step - loss: 0.8158 - accuracy: 0.6889 - val_loss: 0.7285 - val_accuracy: 0.7255\n",
      "Epoch 13/50\n",
      "2309/2309 [==============================] - 6s 2ms/step - loss: 0.8068 - accuracy: 0.6896 - val_loss: 0.7830 - val_accuracy: 0.6962\n",
      "Epoch 14/50\n",
      "2309/2309 [==============================] - 6s 3ms/step - loss: 0.8064 - accuracy: 0.6891 - val_loss: 0.7057 - val_accuracy: 0.7163\n",
      "Epoch 15/50\n",
      "2309/2309 [==============================] - 5s 2ms/step - loss: 0.8140 - accuracy: 0.6850 - val_loss: 0.7248 - val_accuracy: 0.7118\n",
      "Epoch 16/50\n",
      "2309/2309 [==============================] - 6s 3ms/step - loss: 0.8021 - accuracy: 0.6914 - val_loss: 0.7711 - val_accuracy: 0.7011\n",
      "Epoch 17/50\n",
      "2309/2309 [==============================] - 6s 3ms/step - loss: 0.8002 - accuracy: 0.6903 - val_loss: 0.7026 - val_accuracy: 0.7075\n",
      "Epoch 18/50\n",
      "2309/2309 [==============================] - 6s 3ms/step - loss: 0.8127 - accuracy: 0.6877 - val_loss: 0.7278 - val_accuracy: 0.6962\n",
      "Epoch 19/50\n",
      "2309/2309 [==============================] - 6s 3ms/step - loss: 0.7977 - accuracy: 0.6913 - val_loss: 0.7504 - val_accuracy: 0.6987\n",
      "Epoch 20/50\n",
      "2309/2309 [==============================] - 4s 2ms/step - loss: 0.8123 - accuracy: 0.6857 - val_loss: 0.7317 - val_accuracy: 0.6805\n",
      "Epoch 21/50\n",
      "2309/2309 [==============================] - 3s 1ms/step - loss: 0.8257 - accuracy: 0.6836 - val_loss: 0.7792 - val_accuracy: 0.6684\n",
      "Epoch 22/50\n",
      "2309/2309 [==============================] - 4s 2ms/step - loss: 0.7964 - accuracy: 0.6908 - val_loss: 0.7199 - val_accuracy: 0.7050\n"
     ]
    }
   ],
   "source": [
    "# Train the model\n",
    "history = leaky_model.fit(\n",
    "    X_train, y_train,\n",
    "    validation_data=(X_val, y_val),\n",
    "    epochs=50,\n",
    "    batch_size=32,\n",
    "    callbacks=[early_stopping]\n",
    ")"
   ]
  },
  {
   "cell_type": "code",
   "execution_count": 59,
   "metadata": {},
   "outputs": [
    {
     "name": "stdout",
     "output_type": "stream",
     "text": [
      "Test Accuracy: 0.71\n"
     ]
    }
   ],
   "source": [
    "# Evaluate on the test set\n",
    "test_loss, test_accuracy = leaky_model.evaluate(X_test, y_test, verbose=0)\n",
    "print(f\"Test Accuracy: {test_accuracy:.2f}\")"
   ]
  },
  {
   "cell_type": "code",
   "execution_count": 60,
   "metadata": {},
   "outputs": [
    {
     "name": "stdout",
     "output_type": "stream",
     "text": [
      "495/495 [==============================] - 1s 932us/step\n",
      "confusion matrix:\n",
      " [[9980  697   10]\n",
      " [1997 1194    4]\n",
      " [ 697 1247    6]]\n",
      "\n",
      "              precision    recall  f1-score   support\n",
      "\n",
      "           0       0.79      0.93      0.85     10687\n",
      "           1       0.38      0.37      0.38      3195\n",
      "           2       0.30      0.00      0.01      1950\n",
      "\n",
      "    accuracy                           0.71     15832\n",
      "   macro avg       0.49      0.44      0.41     15832\n",
      "weighted avg       0.65      0.71      0.65     15832\n",
      "\n"
     ]
    },
    {
     "data": {
      "image/png": "[encoded data removed]",
      "text/plain": [
       "<Figure size 640x480 with 2 Axes>"
      ]
     },
     "metadata": {},
     "output_type": "display_data"
    }
   ],
   "source": [
    "# Predict on test data\n",
    "y_pred_probs = leaky_model.predict(X_test)\n",
    "y_pred_classes = np.argmax(y_pred_probs, axis=1)\n",
    "\n",
    "# Decode the predicted and true labels\n",
    "y_test_classes = np.argmax(y_test.values, axis=1)\n",
    "\n",
    "# Confusion Matrix\n",
    "helper.print_confusion_matrix_details(y_test_classes, y_pred_classes)"
   ]
  },
  {
   "cell_type": "markdown",
   "metadata": {},
   "source": [
    "This improved the model a bit!\n",
    "\n",
    "#### Accuracy to beat: 73%"
   ]
  },
  {
   "cell_type": "markdown",
   "metadata": {},
   "source": [
    "### Tuning: GridSearchCV"
   ]
  },
  {
   "cell_type": "code",
   "execution_count": 61,
   "metadata": {},
   "outputs": [],
   "source": [
    "# define hyperparameters\n",
    "hyperparameters = {\n",
    "    'neurons': [32, 64, 128],\n",
    "    'optimizer': ['adam', 'rmsprop'],\n",
    "    'dropout_rate': [0.0, 0.2, 0.4],\n",
    "    'batch_size': [16, 32, 64],\n",
    "    'epochs': [10, 20]\n",
    "}"
   ]
  },
  {
   "cell_type": "code",
   "execution_count": 62,
   "metadata": {},
   "outputs": [],
   "source": [
    "# Define the ANN model\n",
    "def create_model(neurons=64, optimizer='adam', dropout_rate=0.0):\n",
    "    model = Sequential()\n",
    "    model.add(Dense(neurons, input_dim=input_dim))\n",
    "    model.add(LeakyReLU(alpha=0.1))\n",
    "    model.add(Dropout(dropout_rate))\n",
    "    model.add(Dense(neurons))\n",
    "    model.add(LeakyReLU(alpha=0.1))\n",
    "    model.add(Dropout(dropout_rate))\n",
    "    model.add(Dense(output_dim, activation='softmax'))  # For multi-class classification\n",
    "\n",
    "    model.compile(optimizer=optimizer, loss='categorical_crossentropy', metrics=['accuracy'])\n",
    "    \n",
    "    return model"
   ]
  },
  {
   "cell_type": "code",
   "execution_count": 63,
   "metadata": {},
   "outputs": [],
   "source": [
    "tuned_model = KerasClassifier(build_fn=create_model)\n",
    "model_tuner = GridSearchCV(tuned_model, hyperparameters, cv=10, scoring=\"accuracy\")"
   ]
  },
  {
   "cell_type": "code",
   "execution_count": 64,
   "metadata": {},
   "outputs": [],
   "source": [
    "# model_tuner.fit(X_train, y_train)"
   ]
  },
  {
   "cell_type": "markdown",
   "metadata": {},
   "source": [
    "The code for the grid search was commented out, as it didn't even finish overnight, but the accuracy oscillated between 62-67%, which is no better than our previous models."
   ]
  },
  {
   "cell_type": "code",
   "execution_count": 65,
   "metadata": {},
   "outputs": [],
   "source": [
    "# Most optimal ANN model: xxxx\n",
    "\n",
    "# commenting this out because this will cause an error\n",
    "# if the above cell is also commented out\n",
    "\n",
    "# optimally_tuned_classifier = model_tuner.best_estimator_\n",
    "\n",
    "# optimally_tuned_classifier"
   ]
  },
  {
   "cell_type": "code",
   "execution_count": 66,
   "metadata": {},
   "outputs": [],
   "source": [
    "# commenting this out because this will cause an error\n",
    "# if the above cell is also commented out\n",
    "\n",
    "# Get accuracy of the most optimal classifier\n",
    "# y_pred = optimally_tuned_classifier.predict(X_test_scaled)\n",
    "\n",
    "# helper.print_accuracy(y_test, y_pred, isRegressor=False)"
   ]
  },
  {
   "cell_type": "markdown",
   "metadata": {},
   "source": [
    "### Tuning: Learning Rate Scheduler\n",
    "Lastly, we will try using a learning rate scheduler to adjust the learning rate dynamically."
   ]
  },
  {
   "cell_type": "code",
   "execution_count": 67,
   "metadata": {},
   "outputs": [],
   "source": [
    "# create learning rate scheduler\n",
    "lr_scheduler = ReduceLROnPlateau(monitor='val_loss', factor=0.5, patience=3)"
   ]
  },
  {
   "cell_type": "code",
   "execution_count": 68,
   "metadata": {},
   "outputs": [
    {
     "name": "stdout",
     "output_type": "stream",
     "text": [
      "Epoch 1/50\n",
      "2309/2309 [==============================] - 4s 2ms/step - loss: 0.8182 - accuracy: 0.6872 - val_loss: 0.7755 - val_accuracy: 0.6681 - lr: 0.0010\n",
      "Epoch 2/50\n",
      "2309/2309 [==============================] - 4s 2ms/step - loss: 0.8010 - accuracy: 0.6902 - val_loss: 0.7137 - val_accuracy: 0.7223 - lr: 0.0010\n",
      "Epoch 3/50\n",
      "2309/2309 [==============================] - 4s 2ms/step - loss: 0.8130 - accuracy: 0.6863 - val_loss: 0.7161 - val_accuracy: 0.7157 - lr: 0.0010\n",
      "Epoch 4/50\n",
      "2309/2309 [==============================] - 3s 1ms/step - loss: 0.8036 - accuracy: 0.6893 - val_loss: 0.7158 - val_accuracy: 0.7148 - lr: 0.0010\n",
      "Epoch 5/50\n",
      "2309/2309 [==============================] - 7s 3ms/step - loss: 0.8060 - accuracy: 0.6896 - val_loss: 0.7012 - val_accuracy: 0.7075 - lr: 0.0010\n",
      "Epoch 6/50\n",
      "2309/2309 [==============================] - 7s 3ms/step - loss: 0.8069 - accuracy: 0.6882 - val_loss: 0.7466 - val_accuracy: 0.6718 - lr: 0.0010\n",
      "Epoch 7/50\n",
      "2309/2309 [==============================] - 5s 2ms/step - loss: 0.8067 - accuracy: 0.6872 - val_loss: 0.7251 - val_accuracy: 0.6795 - lr: 0.0010\n",
      "Epoch 8/50\n",
      "2309/2309 [==============================] - 6s 2ms/step - loss: 0.8139 - accuracy: 0.6850 - val_loss: 0.7128 - val_accuracy: 0.7227 - lr: 0.0010\n",
      "Epoch 9/50\n",
      "2309/2309 [==============================] - 4s 2ms/step - loss: 0.7535 - accuracy: 0.6977 - val_loss: 0.7051 - val_accuracy: 0.7054 - lr: 5.0000e-04\n",
      "Epoch 10/50\n",
      "2309/2309 [==============================] - 5s 2ms/step - loss: 0.7587 - accuracy: 0.6965 - val_loss: 0.7059 - val_accuracy: 0.7132 - lr: 5.0000e-04\n"
     ]
    }
   ],
   "source": [
    "# add LRS to winning ANN leaky model \n",
    "history = leaky_model.fit(X_train, y_train, validation_data=(X_val, y_val), epochs=50, batch_size=32, callbacks=[early_stopping, lr_scheduler])"
   ]
  },
  {
   "cell_type": "code",
   "execution_count": 69,
   "metadata": {},
   "outputs": [
    {
     "name": "stdout",
     "output_type": "stream",
     "text": [
      "Test Accuracy: 0.71\n"
     ]
    }
   ],
   "source": [
    "# Evaluate on the test set\n",
    "test_loss, test_accuracy = leaky_model.evaluate(X_test, y_test, verbose=0)\n",
    "print(f\"Test Accuracy: {test_accuracy:.2f}\")"
   ]
  },
  {
   "cell_type": "code",
   "execution_count": 70,
   "metadata": {},
   "outputs": [
    {
     "name": "stdout",
     "output_type": "stream",
     "text": [
      "495/495 [==============================] - 1s 1ms/step\n",
      "confusion matrix:\n",
      " [[10057   622     8]\n",
      " [ 2053  1141     1]\n",
      " [  724  1226     0]]\n",
      "\n",
      "              precision    recall  f1-score   support\n",
      "\n",
      "           0       0.78      0.94      0.86     10687\n",
      "           1       0.38      0.36      0.37      3195\n",
      "           2       0.00      0.00      0.00      1950\n",
      "\n",
      "    accuracy                           0.71     15832\n",
      "   macro avg       0.39      0.43      0.41     15832\n",
      "weighted avg       0.61      0.71      0.65     15832\n",
      "\n"
     ]
    },
    {
     "data": {
      "image/png": "[encoded data removed]",
      "text/plain": [
       "<Figure size 640x480 with 2 Axes>"
      ]
     },
     "metadata": {},
     "output_type": "display_data"
    }
   ],
   "source": [
    "# Predict on test data\n",
    "y_pred_probs = leaky_model.predict(X_test)\n",
    "y_pred_classes = np.argmax(y_pred_probs, axis=1)\n",
    "\n",
    "# Decode the predicted and true labels\n",
    "y_test_classes = np.argmax(y_test.values, axis=1)\n",
    "\n",
    "# Confusion Matrix\n",
    "helper.print_confusion_matrix_details(y_test_classes, y_pred_classes)"
   ]
  },
  {
   "cell_type": "markdown",
   "metadata": {},
   "source": [
    "The LRS didn't improve the performance of the ANN model."
   ]
  },
  {
   "cell_type": "markdown",
   "metadata": {},
   "source": [
    "# Summary"
   ]
  },
  {
   "cell_type": "markdown",
   "metadata": {},
   "source": [
    "## Winning Model\n",
    "The kNN was our winning model that performed the best with our fashion trends data and was able to predict with the highest accuracy (76%) whether an article of clothing was low, medium, or high popularity."
   ]
  },
  {
   "cell_type": "markdown",
   "metadata": {},
   "source": [
    "## Next Steps\n",
    "Moving forward, we can implement some methods that could improve this model further:\n",
    "- Feature Selection & Engineering: We only used descriptive data of each article of clothing and didn't use any metadata on the customers that purchased the clothing. Cherry picking customer features and creating a more comprehensive dataset for machine learning may provide more accurate predictions.\n",
    "- Hyperparameter Tuning: Our accuracy score is not very high and may need more hyperparameter tuning. With more time, we can do a selective GridSearchCV with this model to understand which hyperparameters would be even better to put into our model.\n",
    "\n",
    "If we are able to improve the accuracy of popularity predictions, we may be able to use this data to create a recommender system that can provide outfit recommendations based on trends."
   ]
  },
  {
   "cell_type": "markdown",
   "metadata": {},
   "source": []
  }
 ],
 "metadata": {
  "kernelspec": {
   "display_name": "Cohort-Env",
   "language": "python",
   "name": "python3"
  },
  "language_info": {
   "codemirror_mode": {
    "name": "ipython",
    "version": 3
   },
   "file_extension": ".py",
   "mimetype": "text/x-python",
   "name": "python",
   "nbconvert_exporter": "python",
   "pygments_lexer": "ipython3",
   "version": "3.8.18"
  }
 },
 "nbformat": 4,
 "nbformat_minor": 2
}
