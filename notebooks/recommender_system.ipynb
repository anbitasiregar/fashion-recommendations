{
 "cells": [
  {
   "cell_type": "markdown",
   "metadata": {},
   "source": [
    "# Analysis of Fashion data"
   ]
  },
  {
   "cell_type": "markdown",
   "metadata": {},
   "source": [
    "## Overview\n",
    "**Goal:** Use a recommendation model to optimize predictions and create a recommender system to provide outfit recommendations based on product popularity."
   ]
  },
  {
   "cell_type": "markdown",
   "metadata": {},
   "source": [
    "### Load our data"
   ]
  },
  {
   "cell_type": "code",
   "execution_count": 747,
   "metadata": {},
   "outputs": [],
   "source": [
    "import pandas as pd\n",
    "import numpy as np\n",
    "import matplotlib.pyplot as plt\n",
    "import seaborn as sns\n",
    "\n",
    "# data preprocessing and tuning\n",
    "from sklearn.model_selection import train_test_split\n",
    "from sklearn.preprocessing import StandardScaler, MinMaxScaler, OneHotEncoder, LabelEncoder\n",
    "\n",
    "from tensorflow.keras import Model, Input\n",
    "from tensorflow.keras.models import Sequential\n",
    "from tensorflow.keras.layers import Dense, Dropout, LeakyReLU, Embedding, Flatten, Dot, Dense, Concatenate\n",
    "from tensorflow.keras.optimizers import Adam\n",
    "from tensorflow.keras.callbacks import EarlyStopping, ReduceLROnPlateau\n",
    "\n",
    "# for webapp\n",
    "from flask import Flask, request, jsonify\n",
    "\n",
    "# to get the newest version of helper\n",
    "import importlib\n",
    "importlib.reload(helper)\n",
    "\n",
    "# Setup to Ignore Version Errors and Deprecations\n",
    "import warnings\n",
    "warnings.filterwarnings(\"ignore\")"
   ]
  },
  {
   "cell_type": "markdown",
   "metadata": {},
   "source": [
    "### Load the data"
   ]
  },
  {
   "cell_type": "code",
   "execution_count": 715,
   "metadata": {},
   "outputs": [
    {
     "data": {
      "text/html": [
       "<div>\n",
       "<style scoped>\n",
       "    .dataframe tbody tr th:only-of-type {\n",
       "        vertical-align: middle;\n",
       "    }\n",
       "\n",
       "    .dataframe tbody tr th {\n",
       "        vertical-align: top;\n",
       "    }\n",
       "\n",
       "    .dataframe thead th {\n",
       "        text-align: right;\n",
       "    }\n",
       "</style>\n",
       "<table border=\"1\" class=\"dataframe\">\n",
       "  <thead>\n",
       "    <tr style=\"text-align: right;\">\n",
       "      <th></th>\n",
       "      <th>article_id</th>\n",
       "      <th>product_code</th>\n",
       "      <th>prod_name</th>\n",
       "      <th>product_type_no</th>\n",
       "      <th>product_type_name</th>\n",
       "      <th>product_group_name</th>\n",
       "      <th>graphical_appearance_no</th>\n",
       "      <th>graphical_appearance_name</th>\n",
       "      <th>colour_group_code</th>\n",
       "      <th>colour_group_name</th>\n",
       "      <th>...</th>\n",
       "      <th>department_name</th>\n",
       "      <th>index_code</th>\n",
       "      <th>index_name</th>\n",
       "      <th>index_group_no</th>\n",
       "      <th>index_group_name</th>\n",
       "      <th>section_no</th>\n",
       "      <th>section_name</th>\n",
       "      <th>garment_group_no</th>\n",
       "      <th>garment_group_name</th>\n",
       "      <th>detail_desc</th>\n",
       "    </tr>\n",
       "  </thead>\n",
       "  <tbody>\n",
       "    <tr>\n",
       "      <th>0</th>\n",
       "      <td>108775015</td>\n",
       "      <td>108775</td>\n",
       "      <td>Strap top</td>\n",
       "      <td>253</td>\n",
       "      <td>Vest top</td>\n",
       "      <td>Garment Upper body</td>\n",
       "      <td>1010016</td>\n",
       "      <td>Solid</td>\n",
       "      <td>9</td>\n",
       "      <td>Black</td>\n",
       "      <td>...</td>\n",
       "      <td>Jersey Basic</td>\n",
       "      <td>A</td>\n",
       "      <td>Ladieswear</td>\n",
       "      <td>1</td>\n",
       "      <td>Ladieswear</td>\n",
       "      <td>16</td>\n",
       "      <td>Womens Everyday Basics</td>\n",
       "      <td>1002</td>\n",
       "      <td>Jersey Basic</td>\n",
       "      <td>Jersey top with narrow shoulder straps.</td>\n",
       "    </tr>\n",
       "    <tr>\n",
       "      <th>1</th>\n",
       "      <td>108775044</td>\n",
       "      <td>108775</td>\n",
       "      <td>Strap top</td>\n",
       "      <td>253</td>\n",
       "      <td>Vest top</td>\n",
       "      <td>Garment Upper body</td>\n",
       "      <td>1010016</td>\n",
       "      <td>Solid</td>\n",
       "      <td>10</td>\n",
       "      <td>White</td>\n",
       "      <td>...</td>\n",
       "      <td>Jersey Basic</td>\n",
       "      <td>A</td>\n",
       "      <td>Ladieswear</td>\n",
       "      <td>1</td>\n",
       "      <td>Ladieswear</td>\n",
       "      <td>16</td>\n",
       "      <td>Womens Everyday Basics</td>\n",
       "      <td>1002</td>\n",
       "      <td>Jersey Basic</td>\n",
       "      <td>Jersey top with narrow shoulder straps.</td>\n",
       "    </tr>\n",
       "    <tr>\n",
       "      <th>2</th>\n",
       "      <td>108775051</td>\n",
       "      <td>108775</td>\n",
       "      <td>Strap top (1)</td>\n",
       "      <td>253</td>\n",
       "      <td>Vest top</td>\n",
       "      <td>Garment Upper body</td>\n",
       "      <td>1010017</td>\n",
       "      <td>Stripe</td>\n",
       "      <td>11</td>\n",
       "      <td>Off White</td>\n",
       "      <td>...</td>\n",
       "      <td>Jersey Basic</td>\n",
       "      <td>A</td>\n",
       "      <td>Ladieswear</td>\n",
       "      <td>1</td>\n",
       "      <td>Ladieswear</td>\n",
       "      <td>16</td>\n",
       "      <td>Womens Everyday Basics</td>\n",
       "      <td>1002</td>\n",
       "      <td>Jersey Basic</td>\n",
       "      <td>Jersey top with narrow shoulder straps.</td>\n",
       "    </tr>\n",
       "    <tr>\n",
       "      <th>3</th>\n",
       "      <td>110065001</td>\n",
       "      <td>110065</td>\n",
       "      <td>OP T-shirt (Idro)</td>\n",
       "      <td>306</td>\n",
       "      <td>Bra</td>\n",
       "      <td>Underwear</td>\n",
       "      <td>1010016</td>\n",
       "      <td>Solid</td>\n",
       "      <td>9</td>\n",
       "      <td>Black</td>\n",
       "      <td>...</td>\n",
       "      <td>Clean Lingerie</td>\n",
       "      <td>B</td>\n",
       "      <td>Lingeries/Tights</td>\n",
       "      <td>1</td>\n",
       "      <td>Ladieswear</td>\n",
       "      <td>61</td>\n",
       "      <td>Womens Lingerie</td>\n",
       "      <td>1017</td>\n",
       "      <td>Under-, Nightwear</td>\n",
       "      <td>Microfibre T-shirt bra with underwired, moulde...</td>\n",
       "    </tr>\n",
       "    <tr>\n",
       "      <th>4</th>\n",
       "      <td>110065002</td>\n",
       "      <td>110065</td>\n",
       "      <td>OP T-shirt (Idro)</td>\n",
       "      <td>306</td>\n",
       "      <td>Bra</td>\n",
       "      <td>Underwear</td>\n",
       "      <td>1010016</td>\n",
       "      <td>Solid</td>\n",
       "      <td>10</td>\n",
       "      <td>White</td>\n",
       "      <td>...</td>\n",
       "      <td>Clean Lingerie</td>\n",
       "      <td>B</td>\n",
       "      <td>Lingeries/Tights</td>\n",
       "      <td>1</td>\n",
       "      <td>Ladieswear</td>\n",
       "      <td>61</td>\n",
       "      <td>Womens Lingerie</td>\n",
       "      <td>1017</td>\n",
       "      <td>Under-, Nightwear</td>\n",
       "      <td>Microfibre T-shirt bra with underwired, moulde...</td>\n",
       "    </tr>\n",
       "  </tbody>\n",
       "</table>\n",
       "<p>5 rows × 25 columns</p>\n",
       "</div>"
      ],
      "text/plain": [
       "   article_id  product_code          prod_name  product_type_no  \\\n",
       "0   108775015        108775          Strap top              253   \n",
       "1   108775044        108775          Strap top              253   \n",
       "2   108775051        108775      Strap top (1)              253   \n",
       "3   110065001        110065  OP T-shirt (Idro)              306   \n",
       "4   110065002        110065  OP T-shirt (Idro)              306   \n",
       "\n",
       "  product_type_name  product_group_name  graphical_appearance_no  \\\n",
       "0          Vest top  Garment Upper body                  1010016   \n",
       "1          Vest top  Garment Upper body                  1010016   \n",
       "2          Vest top  Garment Upper body                  1010017   \n",
       "3               Bra           Underwear                  1010016   \n",
       "4               Bra           Underwear                  1010016   \n",
       "\n",
       "  graphical_appearance_name  colour_group_code colour_group_name  ...  \\\n",
       "0                     Solid                  9             Black  ...   \n",
       "1                     Solid                 10             White  ...   \n",
       "2                    Stripe                 11         Off White  ...   \n",
       "3                     Solid                  9             Black  ...   \n",
       "4                     Solid                 10             White  ...   \n",
       "\n",
       "   department_name index_code        index_name index_group_no  \\\n",
       "0     Jersey Basic          A        Ladieswear              1   \n",
       "1     Jersey Basic          A        Ladieswear              1   \n",
       "2     Jersey Basic          A        Ladieswear              1   \n",
       "3   Clean Lingerie          B  Lingeries/Tights              1   \n",
       "4   Clean Lingerie          B  Lingeries/Tights              1   \n",
       "\n",
       "   index_group_name section_no            section_name garment_group_no  \\\n",
       "0        Ladieswear         16  Womens Everyday Basics             1002   \n",
       "1        Ladieswear         16  Womens Everyday Basics             1002   \n",
       "2        Ladieswear         16  Womens Everyday Basics             1002   \n",
       "3        Ladieswear         61         Womens Lingerie             1017   \n",
       "4        Ladieswear         61         Womens Lingerie             1017   \n",
       "\n",
       "   garment_group_name                                        detail_desc  \n",
       "0        Jersey Basic            Jersey top with narrow shoulder straps.  \n",
       "1        Jersey Basic            Jersey top with narrow shoulder straps.  \n",
       "2        Jersey Basic            Jersey top with narrow shoulder straps.  \n",
       "3   Under-, Nightwear  Microfibre T-shirt bra with underwired, moulde...  \n",
       "4   Under-, Nightwear  Microfibre T-shirt bra with underwired, moulde...  \n",
       "\n",
       "[5 rows x 25 columns]"
      ]
     },
     "execution_count": 715,
     "metadata": {},
     "output_type": "execute_result"
    }
   ],
   "source": [
    "# loading in the article data\n",
    "articles_df = pd.read_csv(\"../data/articles.csv\")\n",
    "articles_df.head()"
   ]
  },
  {
   "cell_type": "code",
   "execution_count": 716,
   "metadata": {},
   "outputs": [
    {
     "data": {
      "text/html": [
       "<div>\n",
       "<style scoped>\n",
       "    .dataframe tbody tr th:only-of-type {\n",
       "        vertical-align: middle;\n",
       "    }\n",
       "\n",
       "    .dataframe tbody tr th {\n",
       "        vertical-align: top;\n",
       "    }\n",
       "\n",
       "    .dataframe thead th {\n",
       "        text-align: right;\n",
       "    }\n",
       "</style>\n",
       "<table border=\"1\" class=\"dataframe\">\n",
       "  <thead>\n",
       "    <tr style=\"text-align: right;\">\n",
       "      <th></th>\n",
       "      <th>product_code</th>\n",
       "      <th>product_type_no</th>\n",
       "      <th>product_group_name</th>\n",
       "      <th>graphical_appearance_no</th>\n",
       "      <th>colour_group_code</th>\n",
       "      <th>perceived_colour_value_id</th>\n",
       "      <th>perceived_colour_master_id</th>\n",
       "      <th>department_no</th>\n",
       "      <th>index_code</th>\n",
       "      <th>index_group_no</th>\n",
       "      <th>section_no</th>\n",
       "      <th>garment_group_no</th>\n",
       "      <th>popularity</th>\n",
       "    </tr>\n",
       "  </thead>\n",
       "  <tbody>\n",
       "    <tr>\n",
       "      <th>0</th>\n",
       "      <td>108775</td>\n",
       "      <td>253</td>\n",
       "      <td>Garment Upper body</td>\n",
       "      <td>1010016</td>\n",
       "      <td>9</td>\n",
       "      <td>4</td>\n",
       "      <td>5</td>\n",
       "      <td>1676</td>\n",
       "      <td>A</td>\n",
       "      <td>1</td>\n",
       "      <td>16</td>\n",
       "      <td>1002</td>\n",
       "      <td>low</td>\n",
       "    </tr>\n",
       "    <tr>\n",
       "      <th>1</th>\n",
       "      <td>108775</td>\n",
       "      <td>253</td>\n",
       "      <td>Garment Upper body</td>\n",
       "      <td>1010016</td>\n",
       "      <td>10</td>\n",
       "      <td>3</td>\n",
       "      <td>9</td>\n",
       "      <td>1676</td>\n",
       "      <td>A</td>\n",
       "      <td>1</td>\n",
       "      <td>16</td>\n",
       "      <td>1002</td>\n",
       "      <td>high</td>\n",
       "    </tr>\n",
       "    <tr>\n",
       "      <th>2</th>\n",
       "      <td>108775</td>\n",
       "      <td>253</td>\n",
       "      <td>Garment Upper body</td>\n",
       "      <td>1010017</td>\n",
       "      <td>11</td>\n",
       "      <td>1</td>\n",
       "      <td>9</td>\n",
       "      <td>1676</td>\n",
       "      <td>A</td>\n",
       "      <td>1</td>\n",
       "      <td>16</td>\n",
       "      <td>1002</td>\n",
       "      <td>low</td>\n",
       "    </tr>\n",
       "    <tr>\n",
       "      <th>3</th>\n",
       "      <td>110065</td>\n",
       "      <td>306</td>\n",
       "      <td>Underwear</td>\n",
       "      <td>1010016</td>\n",
       "      <td>9</td>\n",
       "      <td>4</td>\n",
       "      <td>5</td>\n",
       "      <td>1339</td>\n",
       "      <td>B</td>\n",
       "      <td>1</td>\n",
       "      <td>61</td>\n",
       "      <td>1017</td>\n",
       "      <td>medium</td>\n",
       "    </tr>\n",
       "    <tr>\n",
       "      <th>4</th>\n",
       "      <td>110065</td>\n",
       "      <td>306</td>\n",
       "      <td>Underwear</td>\n",
       "      <td>1010016</td>\n",
       "      <td>10</td>\n",
       "      <td>3</td>\n",
       "      <td>9</td>\n",
       "      <td>1339</td>\n",
       "      <td>B</td>\n",
       "      <td>1</td>\n",
       "      <td>61</td>\n",
       "      <td>1017</td>\n",
       "      <td>medium</td>\n",
       "    </tr>\n",
       "  </tbody>\n",
       "</table>\n",
       "</div>"
      ],
      "text/plain": [
       "   product_code  product_type_no  product_group_name  graphical_appearance_no  \\\n",
       "0        108775              253  Garment Upper body                  1010016   \n",
       "1        108775              253  Garment Upper body                  1010016   \n",
       "2        108775              253  Garment Upper body                  1010017   \n",
       "3        110065              306           Underwear                  1010016   \n",
       "4        110065              306           Underwear                  1010016   \n",
       "\n",
       "   colour_group_code  perceived_colour_value_id  perceived_colour_master_id  \\\n",
       "0                  9                          4                           5   \n",
       "1                 10                          3                           9   \n",
       "2                 11                          1                           9   \n",
       "3                  9                          4                           5   \n",
       "4                 10                          3                           9   \n",
       "\n",
       "   department_no index_code  index_group_no  section_no  garment_group_no  \\\n",
       "0           1676          A               1          16              1002   \n",
       "1           1676          A               1          16              1002   \n",
       "2           1676          A               1          16              1002   \n",
       "3           1339          B               1          61              1017   \n",
       "4           1339          B               1          61              1017   \n",
       "\n",
       "  popularity  \n",
       "0        low  \n",
       "1       high  \n",
       "2        low  \n",
       "3     medium  \n",
       "4     medium  "
      ]
     },
     "execution_count": 716,
     "metadata": {},
     "output_type": "execute_result"
    }
   ],
   "source": [
    "# load the modeldata from previous notebook\n",
    "modeldata_df = pd.read_csv(\"../data/modeldata_df.csv\")\n",
    "modeldata_df.head()"
   ]
  },
  {
   "cell_type": "code",
   "execution_count": 717,
   "metadata": {},
   "outputs": [
    {
     "name": "stdout",
     "output_type": "stream",
     "text": [
      "<class 'pandas.core.frame.DataFrame'>\n",
      "RangeIndex: 105542 entries, 0 to 105541\n",
      "Data columns (total 13 columns):\n",
      " #   Column                      Non-Null Count   Dtype \n",
      "---  ------                      --------------   ----- \n",
      " 0   product_code                105542 non-null  int64 \n",
      " 1   product_type_no             105542 non-null  int64 \n",
      " 2   product_group_name          105542 non-null  object\n",
      " 3   graphical_appearance_no     105542 non-null  int64 \n",
      " 4   colour_group_code           105542 non-null  int64 \n",
      " 5   perceived_colour_value_id   105542 non-null  int64 \n",
      " 6   perceived_colour_master_id  105542 non-null  int64 \n",
      " 7   department_no               105542 non-null  int64 \n",
      " 8   index_code                  105542 non-null  object\n",
      " 9   index_group_no              105542 non-null  int64 \n",
      " 10  section_no                  105542 non-null  int64 \n",
      " 11  garment_group_no            105542 non-null  int64 \n",
      " 12  popularity                  105542 non-null  object\n",
      "dtypes: int64(10), object(3)\n",
      "memory usage: 10.5+ MB\n"
     ]
    }
   ],
   "source": [
    "modeldata_df.info()"
   ]
  },
  {
   "cell_type": "markdown",
   "metadata": {},
   "source": [
    "## Feature Selection and Engineering"
   ]
  },
  {
   "cell_type": "code",
   "execution_count": 718,
   "metadata": {},
   "outputs": [
    {
     "data": {
      "text/plain": [
       "Index(['product_code', 'product_type_no', 'product_group_name',\n",
       "       'graphical_appearance_no', 'colour_group_code',\n",
       "       'perceived_colour_value_id', 'perceived_colour_master_id',\n",
       "       'department_no', 'index_code', 'index_group_no', 'section_no',\n",
       "       'garment_group_no', 'popularity'],\n",
       "      dtype='object')"
      ]
     },
     "execution_count": 718,
     "metadata": {},
     "output_type": "execute_result"
    }
   ],
   "source": [
    "modeldata_df.columns"
   ]
  },
  {
   "cell_type": "markdown",
   "metadata": {},
   "source": [
    "Our recommender model is going to use the product group name to recommend outfits, so let's clean that feature up a bit."
   ]
  },
  {
   "cell_type": "code",
   "execution_count": 719,
   "metadata": {},
   "outputs": [
    {
     "data": {
      "text/plain": [
       "product_group_name\n",
       "Garment Upper body       42741\n",
       "Garment Lower body       19812\n",
       "Garment Full body        13292\n",
       "Accessories              11158\n",
       "Underwear                 5490\n",
       "Shoes                     5283\n",
       "Swimwear                  3127\n",
       "Socks & Tights            2442\n",
       "Nightwear                 1899\n",
       "Unknown                    121\n",
       "Underwear/nightwear         54\n",
       "Cosmetic                    49\n",
       "Bags                        25\n",
       "Items                       17\n",
       "Furniture                   13\n",
       "Garment and Shoe care        9\n",
       "Stationery                   5\n",
       "Interior textile             3\n",
       "Fun                          2\n",
       "Name: count, dtype: int64"
      ]
     },
     "execution_count": 719,
     "metadata": {},
     "output_type": "execute_result"
    }
   ],
   "source": [
    "modeldata_df[\"product_group_name\"].value_counts()"
   ]
  },
  {
   "cell_type": "code",
   "execution_count": 720,
   "metadata": {},
   "outputs": [
    {
     "data": {
      "text/plain": [
       "product_group_name\n",
       "Garment Upper body    42741\n",
       "Garment Lower body    19812\n",
       "Garment Full body     13292\n",
       "Accessories           11158\n",
       "Swimwear               3127\n",
       "Bags                     25\n",
       "Name: count, dtype: int64"
      ]
     },
     "execution_count": 720,
     "metadata": {},
     "output_type": "execute_result"
    }
   ],
   "source": [
    "# drop rows of irrelevant product groups\n",
    "modeldata_df = modeldata_df[modeldata_df[\"product_group_name\"].isin([\"Garment Upper body\", \"Garment Lower body\", \"Garment Full body\", \"Accessories\", \"Swimwear\", \"Bags\"])]\n",
    "modeldata_df[\"product_group_name\"].value_counts()"
   ]
  },
  {
   "cell_type": "markdown",
   "metadata": {},
   "source": [
    "We want to map the product name to a number for easier processing."
   ]
  },
  {
   "cell_type": "code",
   "execution_count": 721,
   "metadata": {},
   "outputs": [],
   "source": [
    "# map each product group to a number\n",
    "product_group_mapper = {\n",
    "    \"Garment Upper body\": 1,\n",
    "    \"Garment Lower body\": 2,\n",
    "    \"Garment Full body\": 3,\n",
    "    \"Accessories\": 4,\n",
    "    \"Swimwear\": 5,\n",
    "    \"Bags\": 6,\n",
    "}"
   ]
  },
  {
   "cell_type": "code",
   "execution_count": 722,
   "metadata": {},
   "outputs": [
    {
     "data": {
      "text/plain": [
       "product_group_name\n",
       "1    42741\n",
       "2    19812\n",
       "3    13292\n",
       "4    11158\n",
       "5     3127\n",
       "6       25\n",
       "Name: count, dtype: int64"
      ]
     },
     "execution_count": 722,
     "metadata": {},
     "output_type": "execute_result"
    }
   ],
   "source": [
    "# replace the product_group_name with a number\n",
    "modeldata_df[\"product_group_name\"] = modeldata_df[\"product_group_name\"].replace(product_group_mapper)\n",
    "modeldata_df[\"product_group_name\"].value_counts()"
   ]
  },
  {
   "cell_type": "code",
   "execution_count": 723,
   "metadata": {},
   "outputs": [],
   "source": [
    "# we also want to map the popularity index to numbers\n",
    "popularity_mapper = {\n",
    "    \"low\": 0,\n",
    "    \"medium\": 1,\n",
    "    \"high\": 2\n",
    "}"
   ]
  },
  {
   "cell_type": "code",
   "execution_count": 762,
   "metadata": {},
   "outputs": [
    {
     "data": {
      "text/plain": [
       "popularity\n",
       "1    60384\n",
       "2    18666\n",
       "0    11105\n",
       "Name: count, dtype: int64"
      ]
     },
     "execution_count": 762,
     "metadata": {},
     "output_type": "execute_result"
    }
   ],
   "source": [
    "# replace the popularity with a number\n",
    "modeldata_df[\"popularity\"] = modeldata_df[\"popularity\"].replace(popularity_mapper)\n",
    "modeldata_df[\"popularity\"].value_counts()"
   ]
  },
  {
   "cell_type": "markdown",
   "metadata": {},
   "source": [
    "## Artificial Neural Network (ANN)\n",
    "74% was the best our previous ANN could do in the previous machine learning notebook, using LeakyReLU and a laearning rate scheduler (LRS). We might need this model later as a backup recommendation system.\n",
    "\n",
    "### Train-test split"
   ]
  },
  {
   "cell_type": "code",
   "execution_count": 724,
   "metadata": {},
   "outputs": [],
   "source": [
    "TARGET = [\"popularity\"]\n",
    "X, y = modeldata_df.drop(columns=TARGET, axis=1), modeldata_df[TARGET]"
   ]
  },
  {
   "cell_type": "code",
   "execution_count": 725,
   "metadata": {},
   "outputs": [],
   "source": [
    "# use encoder helper function on the text columns in X\n",
    "# for easier analysis\n",
    "helper.encode_strings(X)"
   ]
  },
  {
   "cell_type": "code",
   "execution_count": 726,
   "metadata": {},
   "outputs": [],
   "source": [
    "# One-hot encode target variable (for multiclass classification)\n",
    "y_onehot = pd.get_dummies(y)"
   ]
  },
  {
   "cell_type": "code",
   "execution_count": 727,
   "metadata": {},
   "outputs": [],
   "source": [
    "# Split data into training, validation, and test sets\n",
    "X_train, X_temp, y_train, y_temp = train_test_split(X, y_onehot, test_size=0.3, random_state=42)\n",
    "X_val, X_test, y_val, y_test = train_test_split(X_temp, y_temp, test_size=0.5, random_state=42)"
   ]
  },
  {
   "cell_type": "markdown",
   "metadata": {},
   "source": [
    "### Tuning: Standard Scaler"
   ]
  },
  {
   "cell_type": "code",
   "execution_count": 728,
   "metadata": {},
   "outputs": [],
   "source": [
    "# use standard scaler\n",
    "# check if that will gain better results\n",
    "scaler = StandardScaler()\n",
    "X_train_scaled = scaler.fit_transform(X_train)\n",
    "X_val_scaled = scaler.transform(X_val)\n",
    "X_test_scaled = scaler.transform(X_test)"
   ]
  },
  {
   "cell_type": "markdown",
   "metadata": {},
   "source": [
    "### Modeling: ANN"
   ]
  },
  {
   "cell_type": "code",
   "execution_count": 729,
   "metadata": {},
   "outputs": [
    {
     "data": {
      "text/plain": [
       "(12, 3)"
      ]
     },
     "execution_count": 729,
     "metadata": {},
     "output_type": "execute_result"
    }
   ],
   "source": [
    "# Number of features after preprocessing\n",
    "input_dim = X_train_scaled.shape[1]\n",
    "\n",
    "# Number of classes (low, medium, high)\n",
    "output_dim = y_train.shape[1]\n",
    "\n",
    "input_dim, output_dim"
   ]
  },
  {
   "cell_type": "code",
   "execution_count": 730,
   "metadata": {},
   "outputs": [
    {
     "name": "stdout",
     "output_type": "stream",
     "text": [
      "Model: \"sequential_16\"\n",
      "_________________________________________________________________\n",
      " Layer (type)                Output Shape              Param #   \n",
      "=================================================================\n",
      " dense_63 (Dense)            (None, 64)                832       \n",
      "                                                                 \n",
      " leaky_re_lu_31 (LeakyReLU)  (None, 64)                0         \n",
      "                                                                 \n",
      " dropout_32 (Dropout)        (None, 64)                0         \n",
      "                                                                 \n",
      " dense_64 (Dense)            (None, 32)                2080      \n",
      "                                                                 \n",
      " leaky_re_lu_32 (LeakyReLU)  (None, 32)                0         \n",
      "                                                                 \n",
      " dropout_33 (Dropout)        (None, 32)                0         \n",
      "                                                                 \n",
      " dense_65 (Dense)            (None, 3)                 99        \n",
      "                                                                 \n",
      "=================================================================\n",
      "Total params: 3,011\n",
      "Trainable params: 3,011\n",
      "Non-trainable params: 0\n",
      "_________________________________________________________________\n"
     ]
    }
   ],
   "source": [
    "# Best performing model from previous notebook:\n",
    "# ANN Model with LeakyRelu and learning rate scheduler\n",
    "ann_model = helper.ANN(input_size=input_dim, hidden_layers=[64, 32], dropouts=[0.3, 0.3], output_size=output_dim, learning_rate=0.001, leaky=True)\n",
    "ann_model.model_summary()"
   ]
  },
  {
   "cell_type": "code",
   "execution_count": 731,
   "metadata": {},
   "outputs": [
    {
     "data": {
      "text/plain": [
       "'\\nhistory = ann_model.train_model(X_train=X_train_scaled, y_train=y_train,\\n                      X_validation=X_val_scaled, y_validation=y_val,\\n                      epoch=50, batch_size=32)\\n'"
      ]
     },
     "execution_count": 731,
     "metadata": {},
     "output_type": "execute_result"
    }
   ],
   "source": [
    "# DO NOT DELETE\n",
    "# Commenting out for faster notebook execution\n",
    "# Train the model\n",
    "\"\"\"\n",
    "history = ann_model.train_model(X_train=X_train_scaled, y_train=y_train,\n",
    "                      X_validation=X_val_scaled, y_validation=y_val,\n",
    "                      epoch=50, batch_size=32)\n",
    "\"\"\""
   ]
  },
  {
   "cell_type": "code",
   "execution_count": 732,
   "metadata": {},
   "outputs": [],
   "source": [
    "# DO NOT DELETE\n",
    "# Evaluate on the test set\n",
    "# ann_model.evaluate_accuracy(X_test=X_test_scaled, y_test=y_test)"
   ]
  },
  {
   "cell_type": "code",
   "execution_count": 733,
   "metadata": {},
   "outputs": [],
   "source": [
    "# DO NOT DELETE\n",
    "# predict on the model and print confusion matrix\n",
    "# y_pred_probs = ann_model.predict_model(X_test=X_test_scaled, y_test=y_test)"
   ]
  },
  {
   "cell_type": "markdown",
   "metadata": {},
   "source": [
    "## Recommendation System\n",
    "We're going to use a Generalized Matrix Factorization recommender system to recommend outfits based on dot product proximity. Let's create the recoemmender class and train the model."
   ]
  },
  {
   "cell_type": "code",
   "execution_count": 734,
   "metadata": {},
   "outputs": [],
   "source": [
    "# Generalized Matrix Factorization (GMF)\n",
    "# GMF-Based Outfit Recommender\n",
    "class OutfitRecommenderGMF:\n",
    "    def __init__(self, num_products, num_features, embedding_dim=8, learning_rate=0.01):\n",
    "        self.num_products = num_products\n",
    "        self.num_features = num_features\n",
    "        self.embedding_dim = embedding_dim\n",
    "        self.learning_rate = learning_rate\n",
    "        self.model = self.initialize_model()\n",
    "        \n",
    "    def initialize_model(self):\n",
    "        # Inputs\n",
    "        product_input = Input(shape=(1,), name=\"Product_Input\")\n",
    "        feature_input = Input(shape=(self.num_features,), name=\"Feature_Input\")\n",
    "\n",
    "        # Embedding layer for product\n",
    "        product_embedding = Embedding(input_dim=self.num_products, output_dim=self.embedding_dim, name=\"Product_Embedding\")(product_input)\n",
    "\n",
    "        product_embedding = Flatten()(product_embedding)\n",
    "\n",
    "        # Transform feature input to match embedding size\n",
    "        transformed_features = Dense(self.embedding_dim, activation='relu')(feature_input)\n",
    "\n",
    "        # Dot product of the two embeddings\n",
    "        dot_product = Dot(axes=1)([product_embedding, transformed_features])\n",
    "\n",
    "        # Dense layer for prediction\n",
    "        output = Dense(1, activation=\"linear\", name=\"Output\")(dot_product)\n",
    "\n",
    "        # Compile the model\n",
    "        model = Model(inputs=[product_input, feature_input], outputs=output)\n",
    "\n",
    "        # print the model summary\n",
    "        model.summary()\n",
    "\n",
    "        model.compile(optimizer=Adam(learning_rate=self.learning_rate), loss=\"mse\", metrics=[\"accuracy\"])\n",
    "        return model\n",
    "\n",
    "    def train(self, product_codes, features, popularity, epochs=100, batch_size=32, verbose=True):\n",
    "        # fit the model\n",
    "        self.model.fit([product_codes, features], popularity, epochs=epochs, batch_size=batch_size, verbose=verbose, validation_split=0.2)\n",
    "\n",
    "    def predict(self, product_codes, features):\n",
    "        # predict the model using the given product codes and features\n",
    "        return self.model.predict([product_codes, features])\n",
    "\n",
    "    def recommend_outfit(self, product_codes, features, df, preference):\n",
    "        # return the recommended outfit based on the predicted values\n",
    "        # of the given product codes and features\n",
    "        predictions = self.predict(product_codes, features)\n",
    "        \n",
    "        if preference == 0: # low popularity\n",
    "            recommended_idx = np.argmin(predictions)\n",
    "        elif preference == 2: # high popularity\n",
    "            recommended_idx = np.argmax(predictions)\n",
    "        else: # medium popularity\n",
    "            recommended_idx = np.argmax(np.mean(predictions))\n",
    "        return df.iloc[recommended_idx]"
   ]
  },
  {
   "cell_type": "code",
   "execution_count": 735,
   "metadata": {},
   "outputs": [],
   "source": [
    "# encode the strings in modeldata_df\n",
    "helper.encode_strings(modeldata_df)"
   ]
  },
  {
   "cell_type": "code",
   "execution_count": 736,
   "metadata": {},
   "outputs": [],
   "source": [
    "# split the product codes, popularity, and features of the model\n",
    "product_codes = modeldata_df[\"product_code\"].values\n",
    "popularity = modeldata_df[\"popularity\"].values\n",
    "features = modeldata_df.drop([\"popularity\", \"product_code\"], axis=1).values"
   ]
  },
  {
   "cell_type": "code",
   "execution_count": 737,
   "metadata": {},
   "outputs": [],
   "source": [
    "# scale the features\n",
    "feature_scaler = StandardScaler()\n",
    "features = feature_scaler.fit_transform(features)"
   ]
  },
  {
   "cell_type": "code",
   "execution_count": 738,
   "metadata": {},
   "outputs": [],
   "source": [
    "# train test split the product codes, popularity, and features\n",
    "prod_train, prod_test, feat_train, feat_test, pop_train, pop_test = train_test_split(\n",
    "        product_codes, features, popularity, test_size=0.2, random_state=42)"
   ]
  },
  {
   "cell_type": "code",
   "execution_count": 739,
   "metadata": {},
   "outputs": [
    {
     "name": "stdout",
     "output_type": "stream",
     "text": [
      "Model: \"model_24\"\n",
      "__________________________________________________________________________________________________\n",
      " Layer (type)                   Output Shape         Param #     Connected to                     \n",
      "==================================================================================================\n",
      " Product_Input (InputLayer)     [(None, 1)]          0           []                               \n",
      "                                                                                                  \n",
      " Product_Embedding (Embedding)  (None, 1, 1)         959462      ['Product_Input[0][0]']          \n",
      "                                                                                                  \n",
      " Feature_Input (InputLayer)     [(None, 11)]         0           []                               \n",
      "                                                                                                  \n",
      " flatten_25 (Flatten)           (None, 1)            0           ['Product_Embedding[0][0]']      \n",
      "                                                                                                  \n",
      " dense_66 (Dense)               (None, 1)            12          ['Feature_Input[0][0]']          \n",
      "                                                                                                  \n",
      " dot_16 (Dot)                   (None, 1)            0           ['flatten_25[0][0]',             \n",
      "                                                                  'dense_66[0][0]']               \n",
      "                                                                                                  \n",
      " Output (Dense)                 (None, 1)            2           ['dot_16[0][0]']                 \n",
      "                                                                                                  \n",
      "==================================================================================================\n",
      "Total params: 959,476\n",
      "Trainable params: 959,476\n",
      "Non-trainable params: 0\n",
      "__________________________________________________________________________________________________\n",
      "Epoch 1/50\n",
      "1804/1804 [==============================] - 20s 9ms/step - loss: 0.3477 - accuracy: 0.6533 - val_loss: 0.3077 - val_accuracy: 0.6749\n",
      "Epoch 2/50\n",
      "1804/1804 [==============================] - 10s 6ms/step - loss: 0.2537 - accuracy: 0.6891 - val_loss: 0.2967 - val_accuracy: 0.6935\n",
      "Epoch 3/50\n",
      "1804/1804 [==============================] - 13s 7ms/step - loss: 0.1931 - accuracy: 0.7148 - val_loss: 0.2978 - val_accuracy: 0.7072\n",
      "Epoch 4/50\n",
      "1804/1804 [==============================] - 14s 8ms/step - loss: 0.1630 - accuracy: 0.7308 - val_loss: 0.2952 - val_accuracy: 0.7076\n",
      "Epoch 5/50\n",
      "1804/1804 [==============================] - 16s 9ms/step - loss: 0.1523 - accuracy: 0.7367 - val_loss: 0.2996 - val_accuracy: 0.7089\n",
      "Epoch 6/50\n",
      "1804/1804 [==============================] - 21s 12ms/step - loss: 0.1464 - accuracy: 0.7386 - val_loss: 0.3084 - val_accuracy: 0.7099\n",
      "Epoch 7/50\n",
      "1804/1804 [==============================] - 20s 11ms/step - loss: 0.1434 - accuracy: 0.7394 - val_loss: 0.3108 - val_accuracy: 0.7106\n",
      "Epoch 8/50\n",
      "1804/1804 [==============================] - 18s 10ms/step - loss: 0.1405 - accuracy: 0.7400 - val_loss: 0.3087 - val_accuracy: 0.7108\n",
      "Epoch 9/50\n",
      "1804/1804 [==============================] - 15s 9ms/step - loss: 0.1389 - accuracy: 0.7398 - val_loss: 0.3119 - val_accuracy: 0.7109\n",
      "Epoch 10/50\n",
      "1804/1804 [==============================] - 15s 9ms/step - loss: 0.1374 - accuracy: 0.7401 - val_loss: 0.3165 - val_accuracy: 0.7118\n",
      "Epoch 11/50\n",
      "1804/1804 [==============================] - 15s 8ms/step - loss: 0.1362 - accuracy: 0.7402 - val_loss: 0.3139 - val_accuracy: 0.7118\n",
      "Epoch 12/50\n",
      "1804/1804 [==============================] - 15s 8ms/step - loss: 0.1351 - accuracy: 0.7408 - val_loss: 0.3055 - val_accuracy: 0.7097\n",
      "Epoch 13/50\n",
      "1804/1804 [==============================] - 16s 9ms/step - loss: 0.1346 - accuracy: 0.7409 - val_loss: 0.3107 - val_accuracy: 0.7107\n",
      "Epoch 14/50\n",
      "1804/1804 [==============================] - 19s 11ms/step - loss: 0.1335 - accuracy: 0.7411 - val_loss: 0.3124 - val_accuracy: 0.7113\n",
      "Epoch 15/50\n",
      "1804/1804 [==============================] - 19s 11ms/step - loss: 0.1329 - accuracy: 0.7411 - val_loss: 0.3259 - val_accuracy: 0.7132\n",
      "Epoch 16/50\n",
      "1804/1804 [==============================] - 19s 11ms/step - loss: 0.1322 - accuracy: 0.7416 - val_loss: 0.3029 - val_accuracy: 0.7104\n",
      "Epoch 17/50\n",
      "1804/1804 [==============================] - 15s 8ms/step - loss: 0.1318 - accuracy: 0.7417 - val_loss: 0.3226 - val_accuracy: 0.7108\n",
      "Epoch 18/50\n",
      "1804/1804 [==============================] - 14s 8ms/step - loss: 0.1314 - accuracy: 0.7415 - val_loss: 0.3088 - val_accuracy: 0.7114\n",
      "Epoch 19/50\n",
      "1804/1804 [==============================] - 13s 7ms/step - loss: 0.1310 - accuracy: 0.7420 - val_loss: 0.3308 - val_accuracy: 0.7137\n",
      "Epoch 20/50\n",
      "1804/1804 [==============================] - 14s 8ms/step - loss: 0.1307 - accuracy: 0.7421 - val_loss: 0.3088 - val_accuracy: 0.7116\n",
      "Epoch 21/50\n",
      "1804/1804 [==============================] - 13s 7ms/step - loss: 0.1303 - accuracy: 0.7419 - val_loss: 0.3095 - val_accuracy: 0.7121\n",
      "Epoch 22/50\n",
      "1804/1804 [==============================] - 13s 7ms/step - loss: 0.1300 - accuracy: 0.7421 - val_loss: 0.3098 - val_accuracy: 0.7122\n",
      "Epoch 23/50\n",
      "1804/1804 [==============================] - 14s 8ms/step - loss: 0.1297 - accuracy: 0.7420 - val_loss: 0.3127 - val_accuracy: 0.7121\n",
      "Epoch 24/50\n",
      "1804/1804 [==============================] - 13s 7ms/step - loss: 0.1293 - accuracy: 0.7422 - val_loss: 0.3113 - val_accuracy: 0.7106\n",
      "Epoch 25/50\n",
      "1804/1804 [==============================] - 15s 8ms/step - loss: 0.1292 - accuracy: 0.7424 - val_loss: 0.3097 - val_accuracy: 0.7110\n",
      "Epoch 26/50\n",
      "1804/1804 [==============================] - 14s 8ms/step - loss: 0.1291 - accuracy: 0.7425 - val_loss: 0.3134 - val_accuracy: 0.7111\n",
      "Epoch 27/50\n",
      "1804/1804 [==============================] - 14s 8ms/step - loss: 0.1288 - accuracy: 0.7418 - val_loss: 0.3094 - val_accuracy: 0.7119\n",
      "Epoch 28/50\n",
      "1804/1804 [==============================] - 13s 7ms/step - loss: 0.1287 - accuracy: 0.7426 - val_loss: 0.3156 - val_accuracy: 0.7111\n",
      "Epoch 29/50\n",
      "1804/1804 [==============================] - 13s 7ms/step - loss: 0.1286 - accuracy: 0.7426 - val_loss: 0.3099 - val_accuracy: 0.7116\n",
      "Epoch 30/50\n",
      "1804/1804 [==============================] - 17s 9ms/step - loss: 0.1283 - accuracy: 0.7424 - val_loss: 0.3027 - val_accuracy: 0.7118\n",
      "Epoch 31/50\n",
      "1804/1804 [==============================] - 14s 8ms/step - loss: 0.1281 - accuracy: 0.7424 - val_loss: 0.3027 - val_accuracy: 0.7110\n",
      "Epoch 32/50\n",
      "1804/1804 [==============================] - 14s 8ms/step - loss: 0.1279 - accuracy: 0.7425 - val_loss: 0.3060 - val_accuracy: 0.7122\n",
      "Epoch 33/50\n",
      "1804/1804 [==============================] - 14s 8ms/step - loss: 0.1278 - accuracy: 0.7426 - val_loss: 0.3115 - val_accuracy: 0.7120\n",
      "Epoch 34/50\n",
      "1804/1804 [==============================] - 13s 7ms/step - loss: 0.1275 - accuracy: 0.7428 - val_loss: 0.3137 - val_accuracy: 0.7124\n",
      "Epoch 35/50\n",
      "1804/1804 [==============================] - 14s 8ms/step - loss: 0.1277 - accuracy: 0.7425 - val_loss: 0.3070 - val_accuracy: 0.7108\n",
      "Epoch 36/50\n",
      "1804/1804 [==============================] - 14s 8ms/step - loss: 0.1273 - accuracy: 0.7429 - val_loss: 0.3121 - val_accuracy: 0.7122\n",
      "Epoch 37/50\n",
      "1804/1804 [==============================] - 14s 8ms/step - loss: 0.1272 - accuracy: 0.7427 - val_loss: 0.3097 - val_accuracy: 0.7119\n",
      "Epoch 38/50\n",
      "1804/1804 [==============================] - 13s 7ms/step - loss: 0.1271 - accuracy: 0.7427 - val_loss: 0.3158 - val_accuracy: 0.7129\n",
      "Epoch 39/50\n",
      "1804/1804 [==============================] - 14s 8ms/step - loss: 0.1269 - accuracy: 0.7424 - val_loss: 0.2935 - val_accuracy: 0.7089\n",
      "Epoch 40/50\n",
      "1804/1804 [==============================] - 13s 7ms/step - loss: 0.1270 - accuracy: 0.7429 - val_loss: 0.3119 - val_accuracy: 0.7115\n",
      "Epoch 41/50\n",
      "1804/1804 [==============================] - 13s 7ms/step - loss: 0.1266 - accuracy: 0.7430 - val_loss: 0.3025 - val_accuracy: 0.7115\n",
      "Epoch 42/50\n",
      "1804/1804 [==============================] - 13s 7ms/step - loss: 0.1264 - accuracy: 0.7429 - val_loss: 0.3100 - val_accuracy: 0.7119\n",
      "Epoch 43/50\n",
      "1804/1804 [==============================] - 13s 7ms/step - loss: 0.1265 - accuracy: 0.7433 - val_loss: 0.3139 - val_accuracy: 0.7120\n",
      "Epoch 44/50\n",
      "1804/1804 [==============================] - 13s 7ms/step - loss: 0.1264 - accuracy: 0.7428 - val_loss: 0.3234 - val_accuracy: 0.7131\n",
      "Epoch 45/50\n",
      "1804/1804 [==============================] - 13s 7ms/step - loss: 0.1264 - accuracy: 0.7432 - val_loss: 0.3166 - val_accuracy: 0.7115\n",
      "Epoch 46/50\n",
      "1804/1804 [==============================] - 17s 9ms/step - loss: 0.1263 - accuracy: 0.7431 - val_loss: 0.3202 - val_accuracy: 0.7128\n",
      "Epoch 47/50\n",
      "1804/1804 [==============================] - 14s 8ms/step - loss: 0.1262 - accuracy: 0.7428 - val_loss: 0.3128 - val_accuracy: 0.7118\n",
      "Epoch 48/50\n",
      "1804/1804 [==============================] - 15s 8ms/step - loss: 0.1261 - accuracy: 0.7431 - val_loss: 0.3010 - val_accuracy: 0.7097\n",
      "Epoch 49/50\n",
      "1804/1804 [==============================] - 15s 9ms/step - loss: 0.1262 - accuracy: 0.7427 - val_loss: 0.3157 - val_accuracy: 0.7124\n",
      "Epoch 50/50\n",
      "1804/1804 [==============================] - 14s 8ms/step - loss: 0.1259 - accuracy: 0.7431 - val_loss: 0.3403 - val_accuracy: 0.7146\n"
     ]
    }
   ],
   "source": [
    " # Create and Train the Model\n",
    "\n",
    "# num_products: max value of product_code\n",
    "# num_features: number of features in the model\n",
    "# embedding_dim: want to recommend 1 outfit\n",
    "recommender = OutfitRecommenderGMF(num_products=modeldata_df[\"product_code\"].max() + 1, num_features=features.shape[1], embedding_dim=1, learning_rate=0.01)\n",
    "\n",
    "# train the model\n",
    "recommender.train(prod_train, feat_train, pop_train, epochs=50, batch_size=32)"
   ]
  },
  {
   "cell_type": "markdown",
   "metadata": {},
   "source": [
    "## Getting User Input\n",
    "In order to provide more accurate outfit recommendations for each user, we are going to ask the user for their preferences.\n",
    "1. What type of outfit they're looking for\n",
    "2. How popular they want their outfit to be. Some users may want outfit recommendations with more alternative styles."
   ]
  },
  {
   "cell_type": "code",
   "execution_count": 740,
   "metadata": {},
   "outputs": [
    {
     "data": {
      "text/plain": [
       "{'low': 0, 'medium': 1, 'high': 2}"
      ]
     },
     "execution_count": 740,
     "metadata": {},
     "output_type": "execute_result"
    }
   ],
   "source": [
    "popularity_mapper"
   ]
  },
  {
   "cell_type": "code",
   "execution_count": 741,
   "metadata": {},
   "outputs": [
    {
     "data": {
      "text/plain": [
       "{'Garment Upper body': 1,\n",
       " 'Garment Lower body': 2,\n",
       " 'Garment Full body': 3,\n",
       " 'Accessories': 4,\n",
       " 'Swimwear': 5,\n",
       " 'Bags': 6}"
      ]
     },
     "execution_count": 741,
     "metadata": {},
     "output_type": "execute_result"
    }
   ],
   "source": [
    "product_group_mapper"
   ]
  },
  {
   "cell_type": "code",
   "execution_count": 742,
   "metadata": {},
   "outputs": [],
   "source": [
    "# ask customer for user input\n",
    "\n",
    "# give multiple choice\n",
    "user_outfit_type = int(input(\"What type of garment are you looking for? Top: 1, Bottoms: 2, Dress: 3, Accessories: 4, Swimwear: 5, Bags: 6\"))\n",
    "\n",
    "# give multiple choice\n",
    "user_preference = int(input(\"What level of popularity do you want your clothing to be? low: 0, medium: 1, high: 2\"))"
   ]
  },
  {
   "cell_type": "code",
   "execution_count": 753,
   "metadata": {},
   "outputs": [],
   "source": [
    "# function to recommend outfit based on user preferences\n",
    "def recommend_outfit_for_user(user_outfit_type, user_preference):\n",
    "    # Filter Data Based on User Input\n",
    "    filtered_df = modeldata_df[modeldata_df[\"product_group_name\"] == user_outfit_type]\n",
    "\n",
    "    # get filtered product codes, popularity, and features based on user input\n",
    "    filtered_product_codes = filtered_df[\"product_code\"].values\n",
    "    filtered_popularity = filtered_df[\"popularity\"].values\n",
    "    filtered_features = feature_scaler.transform(filtered_df.drop([\"popularity\", \"product_code\"], axis=1).values)\n",
    "\n",
    "    # get the recommended outfit\n",
    "    recommended_outfit = recommender.recommend_outfit(filtered_product_codes, filtered_features, filtered_df, preference=user_preference)\n",
    "\n",
    "    # print the recommended product\n",
    "    recommended_product_name = articles_df[articles_df[\"product_code\"] == recommended_outfit[\"product_code\"]][\"prod_name\"].values[0]\n",
    "    print(f\"Recommended Outfit Based on Your Preference:\\nProduct Name: {recommended_product_name}, Product Code: {recommended_outfit['product_code']}, Popularity: {recommended_outfit['popularity']}\")\n",
    "\n",
    "    # return recommended product name and popularity\n",
    "    return (recommended_product_name, recommended_outfit['popularity'])\n",
    "    "
   ]
  },
  {
   "cell_type": "code",
   "execution_count": 752,
   "metadata": {},
   "outputs": [
    {
     "name": "stdout",
     "output_type": "stream",
     "text": [
      "416/416 [==============================] - 2s 4ms/step\n",
      "Recommended Outfit Based on Your Preference:\n",
      "Product Name: Alma Party dress, Product Code: 801938, Popularity: 2\n"
     ]
    }
   ],
   "source": [
    "# call the recommend_out_for_user function when we have the user preferences\n",
    "recommend_outfit_for_user(user_outfit_type=user_outfit_type, user_preference=user_preference)"
   ]
  },
  {
   "cell_type": "code",
   "execution_count": null,
   "metadata": {},
   "outputs": [
    {
     "data": {
      "text/html": [
       "<div>\n",
       "<style scoped>\n",
       "    .dataframe tbody tr th:only-of-type {\n",
       "        vertical-align: middle;\n",
       "    }\n",
       "\n",
       "    .dataframe tbody tr th {\n",
       "        vertical-align: top;\n",
       "    }\n",
       "\n",
       "    .dataframe thead th {\n",
       "        text-align: right;\n",
       "    }\n",
       "</style>\n",
       "<table border=\"1\" class=\"dataframe\">\n",
       "  <thead>\n",
       "    <tr style=\"text-align: right;\">\n",
       "      <th></th>\n",
       "      <th>product_code</th>\n",
       "      <th>product_type_no</th>\n",
       "      <th>product_group_name</th>\n",
       "      <th>graphical_appearance_no</th>\n",
       "      <th>colour_group_code</th>\n",
       "      <th>perceived_colour_value_id</th>\n",
       "      <th>perceived_colour_master_id</th>\n",
       "      <th>department_no</th>\n",
       "      <th>index_code</th>\n",
       "      <th>index_group_no</th>\n",
       "      <th>section_no</th>\n",
       "      <th>garment_group_no</th>\n",
       "      <th>popularity</th>\n",
       "    </tr>\n",
       "  </thead>\n",
       "  <tbody>\n",
       "    <tr>\n",
       "      <th>204</th>\n",
       "      <td>192460</td>\n",
       "      <td>265</td>\n",
       "      <td>3</td>\n",
       "      <td>1010016</td>\n",
       "      <td>8</td>\n",
       "      <td>4</td>\n",
       "      <td>12</td>\n",
       "      <td>5963</td>\n",
       "      <td>3</td>\n",
       "      <td>2</td>\n",
       "      <td>58</td>\n",
       "      <td>1003</td>\n",
       "      <td>1</td>\n",
       "    </tr>\n",
       "    <tr>\n",
       "      <th>238</th>\n",
       "      <td>202017</td>\n",
       "      <td>265</td>\n",
       "      <td>3</td>\n",
       "      <td>1010017</td>\n",
       "      <td>10</td>\n",
       "      <td>3</td>\n",
       "      <td>9</td>\n",
       "      <td>1676</td>\n",
       "      <td>0</td>\n",
       "      <td>1</td>\n",
       "      <td>16</td>\n",
       "      <td>1002</td>\n",
       "      <td>1</td>\n",
       "    </tr>\n",
       "    <tr>\n",
       "      <th>261</th>\n",
       "      <td>212629</td>\n",
       "      <td>265</td>\n",
       "      <td>3</td>\n",
       "      <td>1010016</td>\n",
       "      <td>9</td>\n",
       "      <td>4</td>\n",
       "      <td>5</td>\n",
       "      <td>1643</td>\n",
       "      <td>3</td>\n",
       "      <td>2</td>\n",
       "      <td>51</td>\n",
       "      <td>1002</td>\n",
       "      <td>0</td>\n",
       "    </tr>\n",
       "    <tr>\n",
       "      <th>262</th>\n",
       "      <td>212629</td>\n",
       "      <td>265</td>\n",
       "      <td>3</td>\n",
       "      <td>1010016</td>\n",
       "      <td>93</td>\n",
       "      <td>4</td>\n",
       "      <td>19</td>\n",
       "      <td>1643</td>\n",
       "      <td>3</td>\n",
       "      <td>2</td>\n",
       "      <td>51</td>\n",
       "      <td>1002</td>\n",
       "      <td>1</td>\n",
       "    </tr>\n",
       "    <tr>\n",
       "      <th>263</th>\n",
       "      <td>212629</td>\n",
       "      <td>265</td>\n",
       "      <td>3</td>\n",
       "      <td>1010016</td>\n",
       "      <td>53</td>\n",
       "      <td>4</td>\n",
       "      <td>18</td>\n",
       "      <td>1643</td>\n",
       "      <td>3</td>\n",
       "      <td>2</td>\n",
       "      <td>51</td>\n",
       "      <td>1002</td>\n",
       "      <td>1</td>\n",
       "    </tr>\n",
       "    <tr>\n",
       "      <th>...</th>\n",
       "      <td>...</td>\n",
       "      <td>...</td>\n",
       "      <td>...</td>\n",
       "      <td>...</td>\n",
       "      <td>...</td>\n",
       "      <td>...</td>\n",
       "      <td>...</td>\n",
       "      <td>...</td>\n",
       "      <td>...</td>\n",
       "      <td>...</td>\n",
       "      <td>...</td>\n",
       "      <td>...</td>\n",
       "      <td>...</td>\n",
       "    </tr>\n",
       "    <tr>\n",
       "      <th>105522</th>\n",
       "      <td>948152</td>\n",
       "      <td>270</td>\n",
       "      <td>3</td>\n",
       "      <td>1010001</td>\n",
       "      <td>22</td>\n",
       "      <td>2</td>\n",
       "      <td>8</td>\n",
       "      <td>7920</td>\n",
       "      <td>6</td>\n",
       "      <td>4</td>\n",
       "      <td>79</td>\n",
       "      <td>1002</td>\n",
       "      <td>2</td>\n",
       "    </tr>\n",
       "    <tr>\n",
       "      <th>105523</th>\n",
       "      <td>948152</td>\n",
       "      <td>270</td>\n",
       "      <td>3</td>\n",
       "      <td>1010001</td>\n",
       "      <td>92</td>\n",
       "      <td>1</td>\n",
       "      <td>19</td>\n",
       "      <td>7920</td>\n",
       "      <td>6</td>\n",
       "      <td>4</td>\n",
       "      <td>79</td>\n",
       "      <td>1002</td>\n",
       "      <td>2</td>\n",
       "    </tr>\n",
       "    <tr>\n",
       "      <th>105535</th>\n",
       "      <td>952937</td>\n",
       "      <td>265</td>\n",
       "      <td>3</td>\n",
       "      <td>1010001</td>\n",
       "      <td>13</td>\n",
       "      <td>2</td>\n",
       "      <td>1</td>\n",
       "      <td>1641</td>\n",
       "      <td>0</td>\n",
       "      <td>1</td>\n",
       "      <td>18</td>\n",
       "      <td>1005</td>\n",
       "      <td>1</td>\n",
       "    </tr>\n",
       "    <tr>\n",
       "      <th>105539</th>\n",
       "      <td>956217</td>\n",
       "      <td>265</td>\n",
       "      <td>3</td>\n",
       "      <td>1010016</td>\n",
       "      <td>9</td>\n",
       "      <td>4</td>\n",
       "      <td>5</td>\n",
       "      <td>1641</td>\n",
       "      <td>0</td>\n",
       "      <td>1</td>\n",
       "      <td>18</td>\n",
       "      <td>1005</td>\n",
       "      <td>0</td>\n",
       "    </tr>\n",
       "    <tr>\n",
       "      <th>105541</th>\n",
       "      <td>959461</td>\n",
       "      <td>265</td>\n",
       "      <td>3</td>\n",
       "      <td>1010016</td>\n",
       "      <td>11</td>\n",
       "      <td>1</td>\n",
       "      <td>9</td>\n",
       "      <td>1641</td>\n",
       "      <td>0</td>\n",
       "      <td>1</td>\n",
       "      <td>18</td>\n",
       "      <td>1005</td>\n",
       "      <td>1</td>\n",
       "    </tr>\n",
       "  </tbody>\n",
       "</table>\n",
       "<p>13292 rows × 13 columns</p>\n",
       "</div>"
      ],
      "text/plain": [
       "        product_code  product_type_no  product_group_name  \\\n",
       "204           192460              265                   3   \n",
       "238           202017              265                   3   \n",
       "261           212629              265                   3   \n",
       "262           212629              265                   3   \n",
       "263           212629              265                   3   \n",
       "...              ...              ...                 ...   \n",
       "105522        948152              270                   3   \n",
       "105523        948152              270                   3   \n",
       "105535        952937              265                   3   \n",
       "105539        956217              265                   3   \n",
       "105541        959461              265                   3   \n",
       "\n",
       "        graphical_appearance_no  colour_group_code  perceived_colour_value_id  \\\n",
       "204                     1010016                  8                          4   \n",
       "238                     1010017                 10                          3   \n",
       "261                     1010016                  9                          4   \n",
       "262                     1010016                 93                          4   \n",
       "263                     1010016                 53                          4   \n",
       "...                         ...                ...                        ...   \n",
       "105522                  1010001                 22                          2   \n",
       "105523                  1010001                 92                          1   \n",
       "105535                  1010001                 13                          2   \n",
       "105539                  1010016                  9                          4   \n",
       "105541                  1010016                 11                          1   \n",
       "\n",
       "        perceived_colour_master_id  department_no  index_code  index_group_no  \\\n",
       "204                             12           5963           3               2   \n",
       "238                              9           1676           0               1   \n",
       "261                              5           1643           3               2   \n",
       "262                             19           1643           3               2   \n",
       "263                             18           1643           3               2   \n",
       "...                            ...            ...         ...             ...   \n",
       "105522                           8           7920           6               4   \n",
       "105523                          19           7920           6               4   \n",
       "105535                           1           1641           0               1   \n",
       "105539                           5           1641           0               1   \n",
       "105541                           9           1641           0               1   \n",
       "\n",
       "        section_no  garment_group_no  popularity  \n",
       "204             58              1003           1  \n",
       "238             16              1002           1  \n",
       "261             51              1002           0  \n",
       "262             51              1002           1  \n",
       "263             51              1002           1  \n",
       "...            ...               ...         ...  \n",
       "105522          79              1002           2  \n",
       "105523          79              1002           2  \n",
       "105535          18              1005           1  \n",
       "105539          18              1005           0  \n",
       "105541          18              1005           1  \n",
       "\n",
       "[13292 rows x 13 columns]"
      ]
     },
     "execution_count": 743,
     "metadata": {},
     "output_type": "execute_result"
    }
   ],
   "source": [
    "# Filter Data Based on User Input\n",
    "# filtered_df = modeldata_df[modeldata_df[\"product_group_name\"] == user_outfit_type]\n",
    "# filtered_df"
   ]
  },
  {
   "cell_type": "code",
   "execution_count": null,
   "metadata": {},
   "outputs": [],
   "source": [
    "# filtered_product_codes = filtered_df[\"product_code\"].values\n",
    "# filtered_popularity = filtered_df[\"popularity\"].values\n",
    "# filtered_features = feature_scaler.transform(filtered_df.drop([\"popularity\", \"product_code\"], axis=1).values)"
   ]
  },
  {
   "cell_type": "code",
   "execution_count": null,
   "metadata": {},
   "outputs": [
    {
     "name": "stdout",
     "output_type": "stream",
     "text": [
      "416/416 [==============================] - 1s 1ms/step\n"
     ]
    },
    {
     "data": {
      "text/plain": [
       "product_code                   801938\n",
       "product_type_no                   265\n",
       "product_group_name                  3\n",
       "graphical_appearance_no       1010002\n",
       "colour_group_code                  51\n",
       "perceived_colour_value_id           1\n",
       "perceived_colour_master_id          4\n",
       "department_no                    7613\n",
       "index_code                          6\n",
       "index_group_no                      4\n",
       "section_no                         76\n",
       "garment_group_no                 1014\n",
       "popularity                          2\n",
       "Name: 80409, dtype: int64"
      ]
     },
     "execution_count": 745,
     "metadata": {},
     "output_type": "execute_result"
    }
   ],
   "source": [
    "# recommended_outfit = recommender.recommend_outfit(filtered_product_codes, filtered_features, filtered_df, preference=user_preference)\n",
    "# recommended_outfit"
   ]
  },
  {
   "cell_type": "code",
   "execution_count": null,
   "metadata": {},
   "outputs": [
    {
     "name": "stdout",
     "output_type": "stream",
     "text": [
      "Recommended Outfit Based on Your Preference:\n",
      "Product Name: Alma Party dress, Product Code: 801938, Popularity: 2\n"
     ]
    }
   ],
   "source": [
    "# print the recommended product\n",
    "# recommended_product_name = articles_df[articles_df[\"product_code\"] == recommended_outfit[\"product_code\"]][\"prod_name\"].values[0]\n",
    "\n",
    "# print(f\"Recommended Outfit Based on Your Preference:\\nProduct Name: {recommended_product_name}, Product Code: {recommended_outfit['product_code']}, Popularity: {recommended_outfit['popularity']}\")"
   ]
  },
  {
   "cell_type": "markdown",
   "metadata": {},
   "source": [
    "## Model API"
   ]
  },
  {
   "cell_type": "code",
   "execution_count": 757,
   "metadata": {},
   "outputs": [],
   "source": [
    "# use Flask to create an API endpoint\n",
    "app = Flask(__name__)"
   ]
  },
  {
   "cell_type": "code",
   "execution_count": 758,
   "metadata": {},
   "outputs": [],
   "source": [
    "# Route for recommendations\n",
    "@app.route('/recommend', methods=['POST'])\n",
    "def recommend():\n",
    "    data = request.json\n",
    "    outfit_type = data['outfitType']\n",
    "    preference = data['preference']\n",
    "\n",
    "    # Filter dataset based on user input\n",
    "    name, popularity = recommend_outfit_for_user(user_outfit_type=outfit_type, user_preference=preference)\n",
    "    \n",
    "    response = {\n",
    "        \"name\": name,\n",
    "        \"popularity\": popularity\n",
    "    }\n",
    "    return jsonify(response)"
   ]
  },
  {
   "cell_type": "code",
   "execution_count": 761,
   "metadata": {},
   "outputs": [
    {
     "name": "stdout",
     "output_type": "stream",
     "text": [
      " * Serving Flask app '__main__'\n",
      " * Debug mode: on\n"
     ]
    },
    {
     "name": "stderr",
     "output_type": "stream",
     "text": [
      "\u001b[31m\u001b[1mWARNING: This is a development server. Do not use it in a production deployment. Use a production WSGI server instead.\u001b[0m\n",
      " * Running on http://127.0.0.1:8000\n",
      "\u001b[33mPress CTRL+C to quit\u001b[0m\n",
      " * Restarting with stat\n",
      "Traceback (most recent call last):\n",
      "  File \"/opt/anaconda3/envs/Cohort-Env/lib/python3.8/site-packages/ipykernel_launcher.py\", line 18, in <module>\n",
      "    app.launch_new_instance()\n",
      "  File \"/opt/anaconda3/envs/Cohort-Env/lib/python3.8/site-packages/traitlets/config/application.py\", line 1074, in launch_instance\n",
      "    app.initialize(argv)\n",
      "  File \"/opt/anaconda3/envs/Cohort-Env/lib/python3.8/site-packages/traitlets/config/application.py\", line 118, in inner\n",
      "    return method(app, *args, **kwargs)\n",
      "  File \"/opt/anaconda3/envs/Cohort-Env/lib/python3.8/site-packages/ipykernel/kernelapp.py\", line 692, in initialize\n",
      "    self.init_sockets()\n",
      "  File \"/opt/anaconda3/envs/Cohort-Env/lib/python3.8/site-packages/ipykernel/kernelapp.py\", line 331, in init_sockets\n",
      "    self.shell_port = self._bind_socket(self.shell_socket, self.shell_port)\n",
      "  File \"/opt/anaconda3/envs/Cohort-Env/lib/python3.8/site-packages/ipykernel/kernelapp.py\", line 253, in _bind_socket\n",
      "    return self._try_bind_socket(s, port)\n",
      "  File \"/opt/anaconda3/envs/Cohort-Env/lib/python3.8/site-packages/ipykernel/kernelapp.py\", line 229, in _try_bind_socket\n",
      "    s.bind(\"tcp://%s:%i\" % (self.ip, port))\n",
      "  File \"/opt/anaconda3/envs/Cohort-Env/lib/python3.8/site-packages/zmq/sugar/socket.py\", line 311, in bind\n",
      "    super().bind(addr)\n",
      "  File \"_zmq.py\", line 917, in zmq.backend.cython._zmq.Socket.bind\n",
      "  File \"_zmq.py\", line 179, in zmq.backend.cython._zmq._check_rc\n",
      "zmq.error.ZMQError: Address already in use (addr='tcp://127.0.0.1:9042')\n"
     ]
    },
    {
     "ename": "SystemExit",
     "evalue": "1",
     "output_type": "error",
     "traceback": [
      "An exception has occurred, use %tb to see the full traceback.\n",
      "\u001b[0;31mSystemExit\u001b[0m\u001b[0;31m:\u001b[0m 1\n"
     ]
    }
   ],
   "source": [
    "if __name__ == \"__main__\":\n",
    "    app.run(port=8000)"
   ]
  },
  {
   "cell_type": "code",
   "execution_count": null,
   "metadata": {},
   "outputs": [],
   "source": [
    "# next steps:\n",
    "# adjust the user input to have top and bottom as one outfit, accessories as an add-on\n",
    "# improve the UI"
   ]
  },
  {
   "cell_type": "markdown",
   "metadata": {},
   "source": [
    "## Summary\n",
    "Since we want to use this recommender model in a web app, we are going to move and refactor our code into python files that can be run from the terminal. Please see `../server/model.py` for the model and `../ui/outfitapp.js` for the web UI."
   ]
  },
  {
   "cell_type": "markdown",
   "metadata": {},
   "source": []
  }
 ],
 "metadata": {
  "kernelspec": {
   "display_name": "Cohort-Env",
   "language": "python",
   "name": "python3"
  },
  "language_info": {
   "codemirror_mode": {
    "name": "ipython",
    "version": 3
   },
   "file_extension": ".py",
   "mimetype": "text/x-python",
   "name": "python",
   "nbconvert_exporter": "python",
   "pygments_lexer": "ipython3",
   "version": "3.8.18"
  }
 },
 "nbformat": 4,
 "nbformat_minor": 2
}
