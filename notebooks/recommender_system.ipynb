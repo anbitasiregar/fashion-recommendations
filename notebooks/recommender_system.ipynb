{
 "cells": [
  {
   "cell_type": "markdown",
   "metadata": {},
   "source": [
    "# Analysis of Fashion data"
   ]
  },
  {
   "cell_type": "markdown",
   "metadata": {},
   "source": [
    "## Overview\n",
    "**Goal:** Use an ANN model from the previous notebook to optimize predictions and create a recommender system to provide outfit recommendations based on product popularity."
   ]
  },
  {
   "cell_type": "markdown",
   "metadata": {},
   "source": [
    "### Load our data"
   ]
  },
  {
   "cell_type": "code",
   "execution_count": 438,
   "metadata": {},
   "outputs": [],
   "source": [
    "import pandas as pd\n",
    "import numpy as np\n",
    "import matplotlib.pyplot as plt\n",
    "import seaborn as sns\n",
    "\n",
    "# data preprocessing and tuning\n",
    "from sklearn.model_selection import train_test_split\n",
    "from sklearn.preprocessing import StandardScaler, MinMaxScaler, OneHotEncoder, LabelEncoder\n",
    "\n",
    "from tensorflow.keras import Model, Input\n",
    "from tensorflow.keras.models import Sequential\n",
    "from tensorflow.keras.layers import Dense, Dropout, LeakyReLU, Embedding, Flatten, Dot, Dense, Concatenate\n",
    "from tensorflow.keras.optimizers import Adam\n",
    "from tensorflow.keras.callbacks import EarlyStopping, ReduceLROnPlateau\n",
    "\n",
    "# to get the newest version of helper\n",
    "import importlib\n",
    "importlib.reload(helper)\n",
    "\n",
    "# Setup to Ignore Version Errors and Deprecations\n",
    "import warnings\n",
    "warnings.filterwarnings(\"ignore\")"
   ]
  },
  {
   "cell_type": "markdown",
   "metadata": {},
   "source": [
    "### Load the data"
   ]
  },
  {
   "cell_type": "code",
   "execution_count": 485,
   "metadata": {},
   "outputs": [
    {
     "data": {
      "text/html": [
       "<div>\n",
       "<style scoped>\n",
       "    .dataframe tbody tr th:only-of-type {\n",
       "        vertical-align: middle;\n",
       "    }\n",
       "\n",
       "    .dataframe tbody tr th {\n",
       "        vertical-align: top;\n",
       "    }\n",
       "\n",
       "    .dataframe thead th {\n",
       "        text-align: right;\n",
       "    }\n",
       "</style>\n",
       "<table border=\"1\" class=\"dataframe\">\n",
       "  <thead>\n",
       "    <tr style=\"text-align: right;\">\n",
       "      <th></th>\n",
       "      <th>article_id</th>\n",
       "      <th>product_code</th>\n",
       "      <th>prod_name</th>\n",
       "      <th>product_type_no</th>\n",
       "      <th>product_type_name</th>\n",
       "      <th>product_group_name</th>\n",
       "      <th>graphical_appearance_no</th>\n",
       "      <th>graphical_appearance_name</th>\n",
       "      <th>colour_group_code</th>\n",
       "      <th>colour_group_name</th>\n",
       "      <th>...</th>\n",
       "      <th>department_name</th>\n",
       "      <th>index_code</th>\n",
       "      <th>index_name</th>\n",
       "      <th>index_group_no</th>\n",
       "      <th>index_group_name</th>\n",
       "      <th>section_no</th>\n",
       "      <th>section_name</th>\n",
       "      <th>garment_group_no</th>\n",
       "      <th>garment_group_name</th>\n",
       "      <th>detail_desc</th>\n",
       "    </tr>\n",
       "  </thead>\n",
       "  <tbody>\n",
       "    <tr>\n",
       "      <th>0</th>\n",
       "      <td>108775015</td>\n",
       "      <td>108775</td>\n",
       "      <td>Strap top</td>\n",
       "      <td>253</td>\n",
       "      <td>Vest top</td>\n",
       "      <td>Garment Upper body</td>\n",
       "      <td>1010016</td>\n",
       "      <td>Solid</td>\n",
       "      <td>9</td>\n",
       "      <td>Black</td>\n",
       "      <td>...</td>\n",
       "      <td>Jersey Basic</td>\n",
       "      <td>A</td>\n",
       "      <td>Ladieswear</td>\n",
       "      <td>1</td>\n",
       "      <td>Ladieswear</td>\n",
       "      <td>16</td>\n",
       "      <td>Womens Everyday Basics</td>\n",
       "      <td>1002</td>\n",
       "      <td>Jersey Basic</td>\n",
       "      <td>Jersey top with narrow shoulder straps.</td>\n",
       "    </tr>\n",
       "    <tr>\n",
       "      <th>1</th>\n",
       "      <td>108775044</td>\n",
       "      <td>108775</td>\n",
       "      <td>Strap top</td>\n",
       "      <td>253</td>\n",
       "      <td>Vest top</td>\n",
       "      <td>Garment Upper body</td>\n",
       "      <td>1010016</td>\n",
       "      <td>Solid</td>\n",
       "      <td>10</td>\n",
       "      <td>White</td>\n",
       "      <td>...</td>\n",
       "      <td>Jersey Basic</td>\n",
       "      <td>A</td>\n",
       "      <td>Ladieswear</td>\n",
       "      <td>1</td>\n",
       "      <td>Ladieswear</td>\n",
       "      <td>16</td>\n",
       "      <td>Womens Everyday Basics</td>\n",
       "      <td>1002</td>\n",
       "      <td>Jersey Basic</td>\n",
       "      <td>Jersey top with narrow shoulder straps.</td>\n",
       "    </tr>\n",
       "    <tr>\n",
       "      <th>2</th>\n",
       "      <td>108775051</td>\n",
       "      <td>108775</td>\n",
       "      <td>Strap top (1)</td>\n",
       "      <td>253</td>\n",
       "      <td>Vest top</td>\n",
       "      <td>Garment Upper body</td>\n",
       "      <td>1010017</td>\n",
       "      <td>Stripe</td>\n",
       "      <td>11</td>\n",
       "      <td>Off White</td>\n",
       "      <td>...</td>\n",
       "      <td>Jersey Basic</td>\n",
       "      <td>A</td>\n",
       "      <td>Ladieswear</td>\n",
       "      <td>1</td>\n",
       "      <td>Ladieswear</td>\n",
       "      <td>16</td>\n",
       "      <td>Womens Everyday Basics</td>\n",
       "      <td>1002</td>\n",
       "      <td>Jersey Basic</td>\n",
       "      <td>Jersey top with narrow shoulder straps.</td>\n",
       "    </tr>\n",
       "    <tr>\n",
       "      <th>3</th>\n",
       "      <td>110065001</td>\n",
       "      <td>110065</td>\n",
       "      <td>OP T-shirt (Idro)</td>\n",
       "      <td>306</td>\n",
       "      <td>Bra</td>\n",
       "      <td>Underwear</td>\n",
       "      <td>1010016</td>\n",
       "      <td>Solid</td>\n",
       "      <td>9</td>\n",
       "      <td>Black</td>\n",
       "      <td>...</td>\n",
       "      <td>Clean Lingerie</td>\n",
       "      <td>B</td>\n",
       "      <td>Lingeries/Tights</td>\n",
       "      <td>1</td>\n",
       "      <td>Ladieswear</td>\n",
       "      <td>61</td>\n",
       "      <td>Womens Lingerie</td>\n",
       "      <td>1017</td>\n",
       "      <td>Under-, Nightwear</td>\n",
       "      <td>Microfibre T-shirt bra with underwired, moulde...</td>\n",
       "    </tr>\n",
       "    <tr>\n",
       "      <th>4</th>\n",
       "      <td>110065002</td>\n",
       "      <td>110065</td>\n",
       "      <td>OP T-shirt (Idro)</td>\n",
       "      <td>306</td>\n",
       "      <td>Bra</td>\n",
       "      <td>Underwear</td>\n",
       "      <td>1010016</td>\n",
       "      <td>Solid</td>\n",
       "      <td>10</td>\n",
       "      <td>White</td>\n",
       "      <td>...</td>\n",
       "      <td>Clean Lingerie</td>\n",
       "      <td>B</td>\n",
       "      <td>Lingeries/Tights</td>\n",
       "      <td>1</td>\n",
       "      <td>Ladieswear</td>\n",
       "      <td>61</td>\n",
       "      <td>Womens Lingerie</td>\n",
       "      <td>1017</td>\n",
       "      <td>Under-, Nightwear</td>\n",
       "      <td>Microfibre T-shirt bra with underwired, moulde...</td>\n",
       "    </tr>\n",
       "  </tbody>\n",
       "</table>\n",
       "<p>5 rows × 25 columns</p>\n",
       "</div>"
      ],
      "text/plain": [
       "   article_id  product_code          prod_name  product_type_no  \\\n",
       "0   108775015        108775          Strap top              253   \n",
       "1   108775044        108775          Strap top              253   \n",
       "2   108775051        108775      Strap top (1)              253   \n",
       "3   110065001        110065  OP T-shirt (Idro)              306   \n",
       "4   110065002        110065  OP T-shirt (Idro)              306   \n",
       "\n",
       "  product_type_name  product_group_name  graphical_appearance_no  \\\n",
       "0          Vest top  Garment Upper body                  1010016   \n",
       "1          Vest top  Garment Upper body                  1010016   \n",
       "2          Vest top  Garment Upper body                  1010017   \n",
       "3               Bra           Underwear                  1010016   \n",
       "4               Bra           Underwear                  1010016   \n",
       "\n",
       "  graphical_appearance_name  colour_group_code colour_group_name  ...  \\\n",
       "0                     Solid                  9             Black  ...   \n",
       "1                     Solid                 10             White  ...   \n",
       "2                    Stripe                 11         Off White  ...   \n",
       "3                     Solid                  9             Black  ...   \n",
       "4                     Solid                 10             White  ...   \n",
       "\n",
       "   department_name index_code        index_name index_group_no  \\\n",
       "0     Jersey Basic          A        Ladieswear              1   \n",
       "1     Jersey Basic          A        Ladieswear              1   \n",
       "2     Jersey Basic          A        Ladieswear              1   \n",
       "3   Clean Lingerie          B  Lingeries/Tights              1   \n",
       "4   Clean Lingerie          B  Lingeries/Tights              1   \n",
       "\n",
       "   index_group_name section_no            section_name garment_group_no  \\\n",
       "0        Ladieswear         16  Womens Everyday Basics             1002   \n",
       "1        Ladieswear         16  Womens Everyday Basics             1002   \n",
       "2        Ladieswear         16  Womens Everyday Basics             1002   \n",
       "3        Ladieswear         61         Womens Lingerie             1017   \n",
       "4        Ladieswear         61         Womens Lingerie             1017   \n",
       "\n",
       "   garment_group_name                                        detail_desc  \n",
       "0        Jersey Basic            Jersey top with narrow shoulder straps.  \n",
       "1        Jersey Basic            Jersey top with narrow shoulder straps.  \n",
       "2        Jersey Basic            Jersey top with narrow shoulder straps.  \n",
       "3   Under-, Nightwear  Microfibre T-shirt bra with underwired, moulde...  \n",
       "4   Under-, Nightwear  Microfibre T-shirt bra with underwired, moulde...  \n",
       "\n",
       "[5 rows x 25 columns]"
      ]
     },
     "execution_count": 485,
     "metadata": {},
     "output_type": "execute_result"
    }
   ],
   "source": [
    "# loading in the article data\n",
    "articles_df = pd.read_csv(\"../data/articles.csv\")\n",
    "articles_df.head()"
   ]
  },
  {
   "cell_type": "code",
   "execution_count": 440,
   "metadata": {},
   "outputs": [
    {
     "data": {
      "text/html": [
       "<div>\n",
       "<style scoped>\n",
       "    .dataframe tbody tr th:only-of-type {\n",
       "        vertical-align: middle;\n",
       "    }\n",
       "\n",
       "    .dataframe tbody tr th {\n",
       "        vertical-align: top;\n",
       "    }\n",
       "\n",
       "    .dataframe thead th {\n",
       "        text-align: right;\n",
       "    }\n",
       "</style>\n",
       "<table border=\"1\" class=\"dataframe\">\n",
       "  <thead>\n",
       "    <tr style=\"text-align: right;\">\n",
       "      <th></th>\n",
       "      <th>product_code</th>\n",
       "      <th>product_type_no</th>\n",
       "      <th>product_group_name</th>\n",
       "      <th>graphical_appearance_no</th>\n",
       "      <th>colour_group_code</th>\n",
       "      <th>perceived_colour_value_id</th>\n",
       "      <th>perceived_colour_master_id</th>\n",
       "      <th>department_no</th>\n",
       "      <th>index_code</th>\n",
       "      <th>index_group_no</th>\n",
       "      <th>section_no</th>\n",
       "      <th>garment_group_no</th>\n",
       "      <th>popularity</th>\n",
       "    </tr>\n",
       "  </thead>\n",
       "  <tbody>\n",
       "    <tr>\n",
       "      <th>0</th>\n",
       "      <td>108775</td>\n",
       "      <td>253</td>\n",
       "      <td>Garment Upper body</td>\n",
       "      <td>1010016</td>\n",
       "      <td>9</td>\n",
       "      <td>4</td>\n",
       "      <td>5</td>\n",
       "      <td>1676</td>\n",
       "      <td>A</td>\n",
       "      <td>1</td>\n",
       "      <td>16</td>\n",
       "      <td>1002</td>\n",
       "      <td>low</td>\n",
       "    </tr>\n",
       "    <tr>\n",
       "      <th>1</th>\n",
       "      <td>108775</td>\n",
       "      <td>253</td>\n",
       "      <td>Garment Upper body</td>\n",
       "      <td>1010016</td>\n",
       "      <td>10</td>\n",
       "      <td>3</td>\n",
       "      <td>9</td>\n",
       "      <td>1676</td>\n",
       "      <td>A</td>\n",
       "      <td>1</td>\n",
       "      <td>16</td>\n",
       "      <td>1002</td>\n",
       "      <td>high</td>\n",
       "    </tr>\n",
       "    <tr>\n",
       "      <th>2</th>\n",
       "      <td>108775</td>\n",
       "      <td>253</td>\n",
       "      <td>Garment Upper body</td>\n",
       "      <td>1010017</td>\n",
       "      <td>11</td>\n",
       "      <td>1</td>\n",
       "      <td>9</td>\n",
       "      <td>1676</td>\n",
       "      <td>A</td>\n",
       "      <td>1</td>\n",
       "      <td>16</td>\n",
       "      <td>1002</td>\n",
       "      <td>low</td>\n",
       "    </tr>\n",
       "    <tr>\n",
       "      <th>3</th>\n",
       "      <td>110065</td>\n",
       "      <td>306</td>\n",
       "      <td>Underwear</td>\n",
       "      <td>1010016</td>\n",
       "      <td>9</td>\n",
       "      <td>4</td>\n",
       "      <td>5</td>\n",
       "      <td>1339</td>\n",
       "      <td>B</td>\n",
       "      <td>1</td>\n",
       "      <td>61</td>\n",
       "      <td>1017</td>\n",
       "      <td>medium</td>\n",
       "    </tr>\n",
       "    <tr>\n",
       "      <th>4</th>\n",
       "      <td>110065</td>\n",
       "      <td>306</td>\n",
       "      <td>Underwear</td>\n",
       "      <td>1010016</td>\n",
       "      <td>10</td>\n",
       "      <td>3</td>\n",
       "      <td>9</td>\n",
       "      <td>1339</td>\n",
       "      <td>B</td>\n",
       "      <td>1</td>\n",
       "      <td>61</td>\n",
       "      <td>1017</td>\n",
       "      <td>medium</td>\n",
       "    </tr>\n",
       "  </tbody>\n",
       "</table>\n",
       "</div>"
      ],
      "text/plain": [
       "   product_code  product_type_no  product_group_name  graphical_appearance_no  \\\n",
       "0        108775              253  Garment Upper body                  1010016   \n",
       "1        108775              253  Garment Upper body                  1010016   \n",
       "2        108775              253  Garment Upper body                  1010017   \n",
       "3        110065              306           Underwear                  1010016   \n",
       "4        110065              306           Underwear                  1010016   \n",
       "\n",
       "   colour_group_code  perceived_colour_value_id  perceived_colour_master_id  \\\n",
       "0                  9                          4                           5   \n",
       "1                 10                          3                           9   \n",
       "2                 11                          1                           9   \n",
       "3                  9                          4                           5   \n",
       "4                 10                          3                           9   \n",
       "\n",
       "   department_no index_code  index_group_no  section_no  garment_group_no  \\\n",
       "0           1676          A               1          16              1002   \n",
       "1           1676          A               1          16              1002   \n",
       "2           1676          A               1          16              1002   \n",
       "3           1339          B               1          61              1017   \n",
       "4           1339          B               1          61              1017   \n",
       "\n",
       "  popularity  \n",
       "0        low  \n",
       "1       high  \n",
       "2        low  \n",
       "3     medium  \n",
       "4     medium  "
      ]
     },
     "execution_count": 440,
     "metadata": {},
     "output_type": "execute_result"
    }
   ],
   "source": [
    "# load the modeldata from previous notebook\n",
    "modeldata_df = pd.read_csv(\"../data/modeldata_df.csv\")\n",
    "modeldata_df.head()"
   ]
  },
  {
   "cell_type": "code",
   "execution_count": 441,
   "metadata": {},
   "outputs": [
    {
     "name": "stdout",
     "output_type": "stream",
     "text": [
      "<class 'pandas.core.frame.DataFrame'>\n",
      "RangeIndex: 105542 entries, 0 to 105541\n",
      "Data columns (total 13 columns):\n",
      " #   Column                      Non-Null Count   Dtype \n",
      "---  ------                      --------------   ----- \n",
      " 0   product_code                105542 non-null  int64 \n",
      " 1   product_type_no             105542 non-null  int64 \n",
      " 2   product_group_name          105542 non-null  object\n",
      " 3   graphical_appearance_no     105542 non-null  int64 \n",
      " 4   colour_group_code           105542 non-null  int64 \n",
      " 5   perceived_colour_value_id   105542 non-null  int64 \n",
      " 6   perceived_colour_master_id  105542 non-null  int64 \n",
      " 7   department_no               105542 non-null  int64 \n",
      " 8   index_code                  105542 non-null  object\n",
      " 9   index_group_no              105542 non-null  int64 \n",
      " 10  section_no                  105542 non-null  int64 \n",
      " 11  garment_group_no            105542 non-null  int64 \n",
      " 12  popularity                  105542 non-null  object\n",
      "dtypes: int64(10), object(3)\n",
      "memory usage: 10.5+ MB\n"
     ]
    }
   ],
   "source": [
    "modeldata_df.info()"
   ]
  },
  {
   "cell_type": "markdown",
   "metadata": {},
   "source": [
    "## Feature Selection and Engineering"
   ]
  },
  {
   "cell_type": "code",
   "execution_count": 442,
   "metadata": {},
   "outputs": [
    {
     "data": {
      "text/plain": [
       "Index(['product_code', 'product_type_no', 'product_group_name',\n",
       "       'graphical_appearance_no', 'colour_group_code',\n",
       "       'perceived_colour_value_id', 'perceived_colour_master_id',\n",
       "       'department_no', 'index_code', 'index_group_no', 'section_no',\n",
       "       'garment_group_no', 'popularity'],\n",
       "      dtype='object')"
      ]
     },
     "execution_count": 442,
     "metadata": {},
     "output_type": "execute_result"
    }
   ],
   "source": [
    "modeldata_df.columns"
   ]
  },
  {
   "cell_type": "markdown",
   "metadata": {},
   "source": [
    "Our recommender model is going to use the product group name to recommend outfits, so let's clean that feature up a bit."
   ]
  },
  {
   "cell_type": "code",
   "execution_count": 443,
   "metadata": {},
   "outputs": [
    {
     "data": {
      "text/plain": [
       "product_group_name\n",
       "Garment Upper body       42741\n",
       "Garment Lower body       19812\n",
       "Garment Full body        13292\n",
       "Accessories              11158\n",
       "Underwear                 5490\n",
       "Shoes                     5283\n",
       "Swimwear                  3127\n",
       "Socks & Tights            2442\n",
       "Nightwear                 1899\n",
       "Unknown                    121\n",
       "Underwear/nightwear         54\n",
       "Cosmetic                    49\n",
       "Bags                        25\n",
       "Items                       17\n",
       "Furniture                   13\n",
       "Garment and Shoe care        9\n",
       "Stationery                   5\n",
       "Interior textile             3\n",
       "Fun                          2\n",
       "Name: count, dtype: int64"
      ]
     },
     "execution_count": 443,
     "metadata": {},
     "output_type": "execute_result"
    }
   ],
   "source": [
    "modeldata_df[\"product_group_name\"].value_counts()"
   ]
  },
  {
   "cell_type": "code",
   "execution_count": 444,
   "metadata": {},
   "outputs": [
    {
     "data": {
      "text/plain": [
       "product_group_name\n",
       "Garment Upper body    42741\n",
       "Garment Lower body    19812\n",
       "Garment Full body     13292\n",
       "Accessories           11158\n",
       "Swimwear               3127\n",
       "Bags                     25\n",
       "Name: count, dtype: int64"
      ]
     },
     "execution_count": 444,
     "metadata": {},
     "output_type": "execute_result"
    }
   ],
   "source": [
    "# drop rows of irrelevant product groups\n",
    "modeldata_df = modeldata_df[modeldata_df[\"product_group_name\"].isin([\"Garment Upper body\", \"Garment Lower body\", \"Garment Full body\", \"Accessories\", \"Swimwear\", \"Bags\"])]\n",
    "modeldata_df[\"product_group_name\"].value_counts()"
   ]
  },
  {
   "cell_type": "markdown",
   "metadata": {},
   "source": [
    "We want to map the product name to a number for easier processing."
   ]
  },
  {
   "cell_type": "code",
   "execution_count": 445,
   "metadata": {},
   "outputs": [],
   "source": [
    "# map each product group to a number\n",
    "product_group_mapper = {\n",
    "    \"Garment Upper body\": 1,\n",
    "    \"Garment Lower body\": 2,\n",
    "    \"Garment Full body\": 3,\n",
    "    \"Accessories\": 4,\n",
    "    \"Swimwear\": 5,\n",
    "    \"Bags\": 6,\n",
    "}"
   ]
  },
  {
   "cell_type": "code",
   "execution_count": 446,
   "metadata": {},
   "outputs": [
    {
     "data": {
      "text/plain": [
       "product_group_name\n",
       "1    42741\n",
       "2    19812\n",
       "3    13292\n",
       "4    11158\n",
       "5     3127\n",
       "6       25\n",
       "Name: count, dtype: int64"
      ]
     },
     "execution_count": 446,
     "metadata": {},
     "output_type": "execute_result"
    }
   ],
   "source": [
    "# replace the product_group_name with a number\n",
    "modeldata_df[\"product_group_name\"] = modeldata_df[\"product_group_name\"].replace(product_group_mapper)\n",
    "modeldata_df[\"product_group_name\"].value_counts()"
   ]
  },
  {
   "cell_type": "code",
   "execution_count": 447,
   "metadata": {},
   "outputs": [],
   "source": [
    "# might need to add product names back in here for recommender output"
   ]
  },
  {
   "cell_type": "markdown",
   "metadata": {},
   "source": [
    "## Artificial Neural Network (ANN)\n",
    "We want to use an ANN and improve it for our recommender model. 74% was the best our previous ANN could do, using LeakyReLU and a laearning rate scheduler (LRS).\n",
    "\n",
    "### Train-test split"
   ]
  },
  {
   "cell_type": "code",
   "execution_count": null,
   "metadata": {},
   "outputs": [],
   "source": [
    "TARGET = [\"popularity\"]\n",
    "X, y = modeldata_df.drop(columns=TARGET, axis=1), modeldata_df[TARGET]"
   ]
  },
  {
   "cell_type": "code",
   "execution_count": 449,
   "metadata": {},
   "outputs": [],
   "source": [
    "# use encoder helper function on the text columns in X\n",
    "# for easier analysis\n",
    "helper.encode_strings(X)"
   ]
  },
  {
   "cell_type": "code",
   "execution_count": 450,
   "metadata": {},
   "outputs": [],
   "source": [
    "# One-hot encode target variable (for multiclass classification)\n",
    "y_onehot = pd.get_dummies(y)"
   ]
  },
  {
   "cell_type": "code",
   "execution_count": 451,
   "metadata": {},
   "outputs": [],
   "source": [
    "# Split data into training, validation, and test sets\n",
    "X_train, X_temp, y_train, y_temp = train_test_split(X, y_onehot, test_size=0.3, random_state=42)\n",
    "X_val, X_test, y_val, y_test = train_test_split(X_temp, y_temp, test_size=0.5, random_state=42)"
   ]
  },
  {
   "cell_type": "markdown",
   "metadata": {},
   "source": [
    "### Tuning: Standard Scaler"
   ]
  },
  {
   "cell_type": "code",
   "execution_count": 452,
   "metadata": {},
   "outputs": [],
   "source": [
    "# use standard scaler\n",
    "# check if that will gain better results\n",
    "scaler = StandardScaler()\n",
    "X_train_scaled = scaler.fit_transform(X_train)\n",
    "X_val_scaled = scaler.transform(X_val)\n",
    "X_test_scaled = scaler.transform(X_test)"
   ]
  },
  {
   "cell_type": "markdown",
   "metadata": {},
   "source": [
    "### Modeling: ANN"
   ]
  },
  {
   "cell_type": "code",
   "execution_count": 453,
   "metadata": {},
   "outputs": [
    {
     "data": {
      "text/plain": [
       "(12, 3)"
      ]
     },
     "execution_count": 453,
     "metadata": {},
     "output_type": "execute_result"
    }
   ],
   "source": [
    "# Number of features after preprocessing\n",
    "input_dim = X_train_scaled.shape[1]\n",
    "\n",
    "# Number of classes (low, medium, high)\n",
    "output_dim = y_train.shape[1]\n",
    "\n",
    "input_dim, output_dim"
   ]
  },
  {
   "cell_type": "code",
   "execution_count": 454,
   "metadata": {},
   "outputs": [
    {
     "name": "stdout",
     "output_type": "stream",
     "text": [
      "Model: \"sequential_10\"\n",
      "_________________________________________________________________\n",
      " Layer (type)                Output Shape              Param #   \n",
      "=================================================================\n",
      " dense_39 (Dense)            (None, 64)                832       \n",
      "                                                                 \n",
      " leaky_re_lu_19 (LeakyReLU)  (None, 64)                0         \n",
      "                                                                 \n",
      " dropout_20 (Dropout)        (None, 64)                0         \n",
      "                                                                 \n",
      " dense_40 (Dense)            (None, 32)                2080      \n",
      "                                                                 \n",
      " leaky_re_lu_20 (LeakyReLU)  (None, 32)                0         \n",
      "                                                                 \n",
      " dropout_21 (Dropout)        (None, 32)                0         \n",
      "                                                                 \n",
      " dense_41 (Dense)            (None, 3)                 99        \n",
      "                                                                 \n",
      "=================================================================\n",
      "Total params: 3,011\n",
      "Trainable params: 3,011\n",
      "Non-trainable params: 0\n",
      "_________________________________________________________________\n"
     ]
    }
   ],
   "source": [
    "# Best performing model from previous notebook:\n",
    "# ANN Model with LeakyRelu and learning rate scheduler\n",
    "ann_model = helper.ANN(input_size=input_dim, hidden_layers=[64, 32], dropouts=[0.3, 0.3], output_size=output_dim, learning_rate=0.001, leaky=True)\n",
    "ann_model.model_summary()"
   ]
  },
  {
   "cell_type": "code",
   "execution_count": null,
   "metadata": {},
   "outputs": [
    {
     "name": "stdout",
     "output_type": "stream",
     "text": [
      "Epoch 1/50\n",
      "1973/1973 [==============================] - 9s 3ms/step - loss: 0.7138 - accuracy: 0.7038 - val_loss: 0.6531 - val_accuracy: 0.7376 - lr: 0.0010\n",
      "Epoch 2/50\n",
      "1973/1973 [==============================] - 4s 2ms/step - loss: 0.6595 - accuracy: 0.7340 - val_loss: 0.6463 - val_accuracy: 0.7359 - lr: 0.0010\n",
      "Epoch 3/50\n",
      "1973/1973 [==============================] - 4s 2ms/step - loss: 0.6499 - accuracy: 0.7362 - val_loss: 0.6421 - val_accuracy: 0.7412 - lr: 0.0010\n",
      "Epoch 4/50\n",
      "1973/1973 [==============================] - 3s 2ms/step - loss: 0.6457 - accuracy: 0.7400 - val_loss: 0.6403 - val_accuracy: 0.7371 - lr: 0.0010\n",
      "Epoch 5/50\n",
      "1973/1973 [==============================] - 3s 2ms/step - loss: 0.6442 - accuracy: 0.7403 - val_loss: 0.6388 - val_accuracy: 0.7417 - lr: 0.0010\n",
      "Epoch 6/50\n",
      "1973/1973 [==============================] - 4s 2ms/step - loss: 0.6408 - accuracy: 0.7403 - val_loss: 0.6361 - val_accuracy: 0.7411 - lr: 0.0010\n",
      "Epoch 7/50\n",
      "1973/1973 [==============================] - 3s 2ms/step - loss: 0.6400 - accuracy: 0.7407 - val_loss: 0.6359 - val_accuracy: 0.7433 - lr: 0.0010\n",
      "Epoch 8/50\n",
      "1973/1973 [==============================] - 3s 2ms/step - loss: 0.6389 - accuracy: 0.7413 - val_loss: 0.6347 - val_accuracy: 0.7424 - lr: 0.0010\n",
      "Epoch 9/50\n",
      "1973/1973 [==============================] - 3s 2ms/step - loss: 0.6386 - accuracy: 0.7433 - val_loss: 0.6332 - val_accuracy: 0.7429 - lr: 0.0010\n",
      "Epoch 10/50\n",
      "1973/1973 [==============================] - 3s 2ms/step - loss: 0.6367 - accuracy: 0.7443 - val_loss: 0.6326 - val_accuracy: 0.7433 - lr: 0.0010\n",
      "Epoch 11/50\n",
      "1973/1973 [==============================] - 3s 2ms/step - loss: 0.6368 - accuracy: 0.7445 - val_loss: 0.6320 - val_accuracy: 0.7441 - lr: 0.0010\n",
      "Epoch 12/50\n",
      "1973/1973 [==============================] - 3s 2ms/step - loss: 0.6353 - accuracy: 0.7438 - val_loss: 0.6327 - val_accuracy: 0.7454 - lr: 0.0010\n",
      "Epoch 13/50\n",
      "1973/1973 [==============================] - 4s 2ms/step - loss: 0.6346 - accuracy: 0.7446 - val_loss: 0.6309 - val_accuracy: 0.7427 - lr: 0.0010\n",
      "Epoch 14/50\n",
      "1973/1973 [==============================] - 4s 2ms/step - loss: 0.6350 - accuracy: 0.7441 - val_loss: 0.6307 - val_accuracy: 0.7450 - lr: 0.0010\n",
      "Epoch 15/50\n",
      "1973/1973 [==============================] - 3s 2ms/step - loss: 0.6346 - accuracy: 0.7444 - val_loss: 0.6309 - val_accuracy: 0.7442 - lr: 0.0010\n",
      "Epoch 16/50\n",
      "1973/1973 [==============================] - 3s 2ms/step - loss: 0.6336 - accuracy: 0.7454 - val_loss: 0.6296 - val_accuracy: 0.7433 - lr: 0.0010\n",
      "Epoch 17/50\n",
      "1973/1973 [==============================] - 3s 2ms/step - loss: 0.6320 - accuracy: 0.7436 - val_loss: 0.6299 - val_accuracy: 0.7413 - lr: 0.0010\n",
      "Epoch 18/50\n",
      "1973/1973 [==============================] - 3s 2ms/step - loss: 0.6324 - accuracy: 0.7445 - val_loss: 0.6288 - val_accuracy: 0.7446 - lr: 0.0010\n",
      "Epoch 19/50\n",
      "1973/1973 [==============================] - 3s 2ms/step - loss: 0.6305 - accuracy: 0.7460 - val_loss: 0.6301 - val_accuracy: 0.7424 - lr: 0.0010\n",
      "Epoch 20/50\n",
      "1973/1973 [==============================] - 3s 2ms/step - loss: 0.6320 - accuracy: 0.7458 - val_loss: 0.6277 - val_accuracy: 0.7439 - lr: 0.0010\n",
      "Epoch 21/50\n",
      "1973/1973 [==============================] - 3s 2ms/step - loss: 0.6314 - accuracy: 0.7454 - val_loss: 0.6275 - val_accuracy: 0.7447 - lr: 0.0010\n",
      "Epoch 22/50\n",
      "1973/1973 [==============================] - 3s 2ms/step - loss: 0.6316 - accuracy: 0.7454 - val_loss: 0.6270 - val_accuracy: 0.7439 - lr: 0.0010\n",
      "Epoch 23/50\n",
      "1973/1973 [==============================] - 3s 2ms/step - loss: 0.6310 - accuracy: 0.7468 - val_loss: 0.6263 - val_accuracy: 0.7433 - lr: 0.0010\n",
      "Epoch 24/50\n",
      "1973/1973 [==============================] - 3s 2ms/step - loss: 0.6304 - accuracy: 0.7460 - val_loss: 0.6267 - val_accuracy: 0.7444 - lr: 0.0010\n",
      "Epoch 25/50\n",
      "1973/1973 [==============================] - 3s 2ms/step - loss: 0.6310 - accuracy: 0.7459 - val_loss: 0.6267 - val_accuracy: 0.7443 - lr: 0.0010\n",
      "Epoch 26/50\n",
      "1973/1973 [==============================] - 4s 2ms/step - loss: 0.6290 - accuracy: 0.7464 - val_loss: 0.6269 - val_accuracy: 0.7461 - lr: 0.0010\n",
      "Epoch 27/50\n",
      "1973/1973 [==============================] - 3s 2ms/step - loss: 0.6279 - accuracy: 0.7483 - val_loss: 0.6250 - val_accuracy: 0.7467 - lr: 5.0000e-04\n",
      "Epoch 28/50\n",
      "1973/1973 [==============================] - 3s 2ms/step - loss: 0.6282 - accuracy: 0.7473 - val_loss: 0.6246 - val_accuracy: 0.7445 - lr: 5.0000e-04\n",
      "Epoch 29/50\n",
      "1973/1973 [==============================] - 3s 2ms/step - loss: 0.6286 - accuracy: 0.7465 - val_loss: 0.6255 - val_accuracy: 0.7469 - lr: 5.0000e-04\n",
      "Epoch 30/50\n",
      "1973/1973 [==============================] - 4s 2ms/step - loss: 0.6288 - accuracy: 0.7467 - val_loss: 0.6247 - val_accuracy: 0.7438 - lr: 5.0000e-04\n",
      "Epoch 31/50\n",
      "1973/1973 [==============================] - 3s 2ms/step - loss: 0.6287 - accuracy: 0.7466 - val_loss: 0.6247 - val_accuracy: 0.7455 - lr: 5.0000e-04\n",
      "Epoch 32/50\n",
      "1973/1973 [==============================] - 4s 2ms/step - loss: 0.6271 - accuracy: 0.7490 - val_loss: 0.6242 - val_accuracy: 0.7464 - lr: 2.5000e-04\n",
      "Epoch 33/50\n",
      "1973/1973 [==============================] - 3s 2ms/step - loss: 0.6268 - accuracy: 0.7473 - val_loss: 0.6242 - val_accuracy: 0.7441 - lr: 2.5000e-04\n",
      "Epoch 34/50\n",
      "1973/1973 [==============================] - 3s 2ms/step - loss: 0.6266 - accuracy: 0.7487 - val_loss: 0.6239 - val_accuracy: 0.7454 - lr: 2.5000e-04\n",
      "Epoch 35/50\n",
      "1973/1973 [==============================] - 3s 2ms/step - loss: 0.6271 - accuracy: 0.7466 - val_loss: 0.6243 - val_accuracy: 0.7469 - lr: 2.5000e-04\n",
      "Epoch 36/50\n",
      "1973/1973 [==============================] - 4s 2ms/step - loss: 0.6266 - accuracy: 0.7481 - val_loss: 0.6240 - val_accuracy: 0.7465 - lr: 2.5000e-04\n",
      "Epoch 37/50\n",
      "1973/1973 [==============================] - 3s 2ms/step - loss: 0.6274 - accuracy: 0.7475 - val_loss: 0.6237 - val_accuracy: 0.7447 - lr: 2.5000e-04\n",
      "Epoch 38/50\n",
      "1973/1973 [==============================] - 3s 2ms/step - loss: 0.6265 - accuracy: 0.7493 - val_loss: 0.6237 - val_accuracy: 0.7455 - lr: 2.5000e-04\n",
      "Epoch 39/50\n",
      "1973/1973 [==============================] - 3s 2ms/step - loss: 0.6262 - accuracy: 0.7483 - val_loss: 0.6237 - val_accuracy: 0.7461 - lr: 2.5000e-04\n",
      "Epoch 40/50\n",
      "1973/1973 [==============================] - 3s 2ms/step - loss: 0.6265 - accuracy: 0.7481 - val_loss: 0.6236 - val_accuracy: 0.7465 - lr: 2.5000e-04\n",
      "Epoch 41/50\n",
      "1973/1973 [==============================] - 3s 2ms/step - loss: 0.6261 - accuracy: 0.7490 - val_loss: 0.6241 - val_accuracy: 0.7444 - lr: 2.5000e-04\n",
      "Epoch 42/50\n",
      "1973/1973 [==============================] - 3s 2ms/step - loss: 0.6260 - accuracy: 0.7495 - val_loss: 0.6233 - val_accuracy: 0.7459 - lr: 2.5000e-04\n",
      "Epoch 43/50\n",
      "1973/1973 [==============================] - 4s 2ms/step - loss: 0.6269 - accuracy: 0.7479 - val_loss: 0.6233 - val_accuracy: 0.7450 - lr: 2.5000e-04\n",
      "Epoch 44/50\n",
      "1973/1973 [==============================] - 3s 2ms/step - loss: 0.6275 - accuracy: 0.7482 - val_loss: 0.6237 - val_accuracy: 0.7459 - lr: 2.5000e-04\n",
      "Epoch 45/50\n",
      "1973/1973 [==============================] - 3s 2ms/step - loss: 0.6262 - accuracy: 0.7479 - val_loss: 0.6234 - val_accuracy: 0.7470 - lr: 2.5000e-04\n",
      "Epoch 46/50\n",
      "1973/1973 [==============================] - 3s 2ms/step - loss: 0.6273 - accuracy: 0.7484 - val_loss: 0.6234 - val_accuracy: 0.7468 - lr: 1.2500e-04\n",
      "Epoch 47/50\n",
      "1973/1973 [==============================] - 3s 2ms/step - loss: 0.6253 - accuracy: 0.7488 - val_loss: 0.6233 - val_accuracy: 0.7452 - lr: 1.2500e-04\n",
      "Epoch 48/50\n",
      "1973/1973 [==============================] - 3s 2ms/step - loss: 0.6253 - accuracy: 0.7478 - val_loss: 0.6231 - val_accuracy: 0.7458 - lr: 1.2500e-04\n",
      "Epoch 49/50\n",
      "1973/1973 [==============================] - 3s 2ms/step - loss: 0.6269 - accuracy: 0.7484 - val_loss: 0.6231 - val_accuracy: 0.7467 - lr: 1.2500e-04\n",
      "Epoch 50/50\n",
      "1973/1973 [==============================] - 3s 2ms/step - loss: 0.6263 - accuracy: 0.7479 - val_loss: 0.6231 - val_accuracy: 0.7455 - lr: 1.2500e-04\n"
     ]
    }
   ],
   "source": [
    "# DO NOT DELETE\n",
    "# Commenting out for faster notebook execution\n",
    "# Train the model\n",
    "\"\"\"\n",
    "history = ann_model.train_model(X_train=X_train_scaled, y_train=y_train,\n",
    "                      X_validation=X_val_scaled, y_validation=y_val,\n",
    "                      epoch=50, batch_size=32)\n",
    "\"\"\""
   ]
  },
  {
   "cell_type": "code",
   "execution_count": null,
   "metadata": {},
   "outputs": [
    {
     "name": "stdout",
     "output_type": "stream",
     "text": [
      "423/423 [==============================] - 1s 1ms/step - loss: 0.6253 - accuracy: 0.7447\n",
      "Test Accuracy: 0.74\n"
     ]
    }
   ],
   "source": [
    "# DO NOT DELETE\n",
    "# Evaluate on the test set\n",
    "# ann_model.evaluate_accuracy(X_test=X_test_scaled, y_test=y_test)"
   ]
  },
  {
   "cell_type": "code",
   "execution_count": null,
   "metadata": {},
   "outputs": [
    {
     "name": "stdout",
     "output_type": "stream",
     "text": [
      "423/423 [==============================] - 1s 960us/step\n",
      "confusion matrix:\n",
      " [[ 778  555  294]\n",
      " [  97 8544  330]\n",
      " [ 394 1783  749]]\n",
      "\n",
      "              precision    recall  f1-score   support\n",
      "\n",
      "           0       0.61      0.48      0.54      1627\n",
      "           1       0.79      0.95      0.86      8971\n",
      "           2       0.55      0.26      0.35      2926\n",
      "\n",
      "    accuracy                           0.74     13524\n",
      "   macro avg       0.65      0.56      0.58     13524\n",
      "weighted avg       0.71      0.74      0.71     13524\n",
      "\n"
     ]
    },
    {
     "data": {
      "image/png": "[encoded data removed]",
      "text/plain": [
       "<Figure size 640x480 with 2 Axes>"
      ]
     },
     "metadata": {},
     "output_type": "display_data"
    }
   ],
   "source": [
    "# DO NOT DELETE\n",
    "# predict on the model and print confusion matrix\n",
    "# y_pred_probs = ann_model.predict_model(X_test=X_test_scaled, y_test=y_test)"
   ]
  },
  {
   "cell_type": "markdown",
   "metadata": {},
   "source": [
    "## Recommendation System"
   ]
  },
  {
   "cell_type": "code",
   "execution_count": 501,
   "metadata": {},
   "outputs": [],
   "source": [
    "# Generalized Matrix Factorization (GMF)\n",
    "# GMF-Based Outfit Recommender\n",
    "class OutfitRecommenderGMF:\n",
    "    def __init__(self, num_products, num_features, embedding_dim=8, learning_rate=0.001):\n",
    "        self.num_products = num_products\n",
    "        self.num_features = num_features\n",
    "        self.embedding_dim = embedding_dim\n",
    "        self.learning_rate = learning_rate\n",
    "        self.model = self.initialize_model()\n",
    "        \n",
    "    def initialize_model(self):\n",
    "        # Inputs\n",
    "        product_input = Input(shape=(1,), name=\"Product_Input\")\n",
    "        feature_input = Input(shape=(self.num_features,), name=\"Feature_Input\")\n",
    "\n",
    "        # Embedding layer for product\n",
    "        product_embedding = Embedding(input_dim=self.num_products, output_dim=self.embedding_dim, name=\"Product_Embedding\")(product_input)\n",
    "\n",
    "        product_embedding = Flatten()(product_embedding)\n",
    "\n",
    "        # Concatenate embeddings and features\n",
    "        # concatenated = Concatenate()([product_embedding, feature_input])\n",
    "\n",
    "        # Transform feature input to match embedding size\n",
    "        transformed_features = Dense(self.embedding_dim, activation='relu')(feature_input)\n",
    "\n",
    "        # Dot product of the two embeddings\n",
    "        dot_product = Dot(axes=1)([product_embedding, transformed_features])\n",
    "\n",
    "        # Dense layer for prediction\n",
    "        # output = Dense(1, activation=\"linear\", name=\"Output\")(concatenated)\n",
    "        output = Dense(1, activation=\"linear\", name=\"Output\")(dot_product)\n",
    "\n",
    "        # Compile the model\n",
    "        model = Model(inputs=[product_input, feature_input], outputs=output)\n",
    "\n",
    "        model.summary()\n",
    "\n",
    "        model.compile(optimizer=Adam(learning_rate=self.learning_rate), loss=\"mse\", metrics=[\"accuracy\"])\n",
    "        return model\n",
    "\n",
    "    def train(self, product_codes, features, popularity, epochs=100, batch_size=32, verbose=1):\n",
    "        self.model.fit([product_codes, features], popularity, epochs=epochs, batch_size=batch_size, verbose=verbose, validation_split=0.2)\n",
    "\n",
    "    def predict(self, product_codes, features):\n",
    "        return self.model.predict([product_codes, features])\n",
    "\n",
    "    def recommend_outfit(self, product_codes, features, original_df, preference=\"popular\"):\n",
    "        print(f\"inside recommend outfit\")\n",
    "        predictions = self.predict(product_codes, features)\n",
    "        print(f\"predictions: {predictions}\")\n",
    "        \n",
    "        if preference == \"popular\":\n",
    "            recommended_idx = np.argmax(predictions)\n",
    "        else:  # Alternative, less popular\n",
    "            recommended_idx = np.argmin(predictions)\n",
    "        return original_df.iloc[recommended_idx]"
   ]
  },
  {
   "cell_type": "code",
   "execution_count": 456,
   "metadata": {},
   "outputs": [],
   "source": [
    "# turn epochs to 3\n",
    "# batch size to None"
   ]
  },
  {
   "cell_type": "code",
   "execution_count": 458,
   "metadata": {},
   "outputs": [],
   "source": [
    "\"\"\"\n",
    "categorical_features = ['product_group_name', 'index_code']\n",
    "for feature in categorical_features:\n",
    "    le = LabelEncoder()\n",
    "    modeldata_df[feature] = le.fit_transform(modeldata_df[feature])\n",
    "\"\"\"\n",
    "\n",
    "helper.encode_strings(modeldata_df)"
   ]
  },
  {
   "cell_type": "code",
   "execution_count": 465,
   "metadata": {},
   "outputs": [],
   "source": [
    "product_codes = modeldata_df[\"product_code\"].values\n",
    "popularity = modeldata_df[\"popularity\"].values\n",
    "features = modeldata_df.drop([\"popularity\", \"product_code\"], axis=1).values"
   ]
  },
  {
   "cell_type": "code",
   "execution_count": 466,
   "metadata": {},
   "outputs": [],
   "source": [
    "# standard scaler\n",
    "scaler = StandardScaler()\n",
    "features = scaler.fit_transform(features)"
   ]
  },
  {
   "cell_type": "code",
   "execution_count": 467,
   "metadata": {},
   "outputs": [],
   "source": [
    "prod_train, prod_test, feat_train, feat_test, pop_train, pop_test = train_test_split(\n",
    "        product_codes, features, popularity, test_size=0.2, random_state=42)"
   ]
  },
  {
   "cell_type": "code",
   "execution_count": null,
   "metadata": {},
   "outputs": [
    {
     "data": {
      "text/plain": [
       "41026"
      ]
     },
     "execution_count": 462,
     "metadata": {},
     "output_type": "execute_result"
    }
   ],
   "source": [
    "\"\"\"product_encoder = LabelEncoder()\n",
    "modeldata_df_copy = modeldata_df\n",
    "modeldata_df_copy[\"product_code\"] = product_encoder.fit_transform(modeldata_df_copy[\"product_code\"])\n",
    "\n",
    "product_codes = modeldata_df_copy[\"product_code\"].values\n",
    "\n",
    "len(product_encoder.classes_)\"\"\""
   ]
  },
  {
   "cell_type": "code",
   "execution_count": null,
   "metadata": {},
   "outputs": [
    {
     "data": {
      "text/plain": [
       "41026"
      ]
     },
     "execution_count": 463,
     "metadata": {},
     "output_type": "execute_result"
    }
   ],
   "source": [
    "# len(modeldata_df[\"product_code\"].value_counts().index)"
   ]
  },
  {
   "cell_type": "code",
   "execution_count": 468,
   "metadata": {},
   "outputs": [
    {
     "data": {
      "text/html": [
       "<div>\n",
       "<style scoped>\n",
       "    .dataframe tbody tr th:only-of-type {\n",
       "        vertical-align: middle;\n",
       "    }\n",
       "\n",
       "    .dataframe tbody tr th {\n",
       "        vertical-align: top;\n",
       "    }\n",
       "\n",
       "    .dataframe thead th {\n",
       "        text-align: right;\n",
       "    }\n",
       "</style>\n",
       "<table border=\"1\" class=\"dataframe\">\n",
       "  <thead>\n",
       "    <tr style=\"text-align: right;\">\n",
       "      <th></th>\n",
       "      <th>product_code</th>\n",
       "      <th>product_type_no</th>\n",
       "      <th>product_group_name</th>\n",
       "      <th>graphical_appearance_no</th>\n",
       "      <th>colour_group_code</th>\n",
       "      <th>perceived_colour_value_id</th>\n",
       "      <th>perceived_colour_master_id</th>\n",
       "      <th>department_no</th>\n",
       "      <th>index_code</th>\n",
       "      <th>index_group_no</th>\n",
       "      <th>section_no</th>\n",
       "      <th>garment_group_no</th>\n",
       "      <th>popularity</th>\n",
       "    </tr>\n",
       "  </thead>\n",
       "  <tbody>\n",
       "    <tr>\n",
       "      <th>0</th>\n",
       "      <td>0</td>\n",
       "      <td>253</td>\n",
       "      <td>1</td>\n",
       "      <td>1010016</td>\n",
       "      <td>9</td>\n",
       "      <td>4</td>\n",
       "      <td>5</td>\n",
       "      <td>1676</td>\n",
       "      <td>0</td>\n",
       "      <td>1</td>\n",
       "      <td>16</td>\n",
       "      <td>1002</td>\n",
       "      <td>1</td>\n",
       "    </tr>\n",
       "    <tr>\n",
       "      <th>1</th>\n",
       "      <td>0</td>\n",
       "      <td>253</td>\n",
       "      <td>1</td>\n",
       "      <td>1010016</td>\n",
       "      <td>10</td>\n",
       "      <td>3</td>\n",
       "      <td>9</td>\n",
       "      <td>1676</td>\n",
       "      <td>0</td>\n",
       "      <td>1</td>\n",
       "      <td>16</td>\n",
       "      <td>1002</td>\n",
       "      <td>0</td>\n",
       "    </tr>\n",
       "    <tr>\n",
       "      <th>2</th>\n",
       "      <td>0</td>\n",
       "      <td>253</td>\n",
       "      <td>1</td>\n",
       "      <td>1010017</td>\n",
       "      <td>11</td>\n",
       "      <td>1</td>\n",
       "      <td>9</td>\n",
       "      <td>1676</td>\n",
       "      <td>0</td>\n",
       "      <td>1</td>\n",
       "      <td>16</td>\n",
       "      <td>1002</td>\n",
       "      <td>1</td>\n",
       "    </tr>\n",
       "    <tr>\n",
       "      <th>8</th>\n",
       "      <td>1</td>\n",
       "      <td>273</td>\n",
       "      <td>2</td>\n",
       "      <td>1010016</td>\n",
       "      <td>9</td>\n",
       "      <td>4</td>\n",
       "      <td>5</td>\n",
       "      <td>3608</td>\n",
       "      <td>1</td>\n",
       "      <td>1</td>\n",
       "      <td>62</td>\n",
       "      <td>1021</td>\n",
       "      <td>0</td>\n",
       "    </tr>\n",
       "    <tr>\n",
       "      <th>11</th>\n",
       "      <td>2</td>\n",
       "      <td>252</td>\n",
       "      <td>1</td>\n",
       "      <td>1010001</td>\n",
       "      <td>7</td>\n",
       "      <td>1</td>\n",
       "      <td>12</td>\n",
       "      <td>6515</td>\n",
       "      <td>5</td>\n",
       "      <td>4</td>\n",
       "      <td>44</td>\n",
       "      <td>1002</td>\n",
       "      <td>1</td>\n",
       "    </tr>\n",
       "  </tbody>\n",
       "</table>\n",
       "</div>"
      ],
      "text/plain": [
       "    product_code  product_type_no  product_group_name  \\\n",
       "0              0              253                   1   \n",
       "1              0              253                   1   \n",
       "2              0              253                   1   \n",
       "8              1              273                   2   \n",
       "11             2              252                   1   \n",
       "\n",
       "    graphical_appearance_no  colour_group_code  perceived_colour_value_id  \\\n",
       "0                   1010016                  9                          4   \n",
       "1                   1010016                 10                          3   \n",
       "2                   1010017                 11                          1   \n",
       "8                   1010016                  9                          4   \n",
       "11                  1010001                  7                          1   \n",
       "\n",
       "    perceived_colour_master_id  department_no  index_code  index_group_no  \\\n",
       "0                            5           1676           0               1   \n",
       "1                            9           1676           0               1   \n",
       "2                            9           1676           0               1   \n",
       "8                            5           3608           1               1   \n",
       "11                          12           6515           5               4   \n",
       "\n",
       "    section_no  garment_group_no  popularity  \n",
       "0           16              1002           1  \n",
       "1           16              1002           0  \n",
       "2           16              1002           1  \n",
       "8           62              1021           0  \n",
       "11          44              1002           1  "
      ]
     },
     "execution_count": 468,
     "metadata": {},
     "output_type": "execute_result"
    }
   ],
   "source": [
    "modeldata_df.head()"
   ]
  },
  {
   "cell_type": "code",
   "execution_count": 469,
   "metadata": {},
   "outputs": [
    {
     "data": {
      "text/plain": [
       "'\\n# Number of features after preprocessing\\ninput_dim = X_train_scaled.shape[1]\\n\\n# Number of classes (low, medium, high)\\noutput_dim = y_train.shape[1]\\n\\ninput_dim, output_dim\\n'"
      ]
     },
     "execution_count": 469,
     "metadata": {},
     "output_type": "execute_result"
    }
   ],
   "source": [
    "\"\"\"\n",
    "# Number of features after preprocessing\n",
    "input_dim = X_train_scaled.shape[1]\n",
    "\n",
    "# Number of classes (low, medium, high)\n",
    "output_dim = y_train.shape[1]\n",
    "\n",
    "input_dim, output_dim\n",
    "\"\"\""
   ]
  },
  {
   "cell_type": "code",
   "execution_count": null,
   "metadata": {},
   "outputs": [
    {
     "data": {
      "text/plain": [
       "41024"
      ]
     },
     "execution_count": 470,
     "metadata": {},
     "output_type": "execute_result"
    }
   ],
   "source": [
    "# prod_train.max()"
   ]
  },
  {
   "cell_type": "code",
   "execution_count": 471,
   "metadata": {},
   "outputs": [
    {
     "name": "stdout",
     "output_type": "stream",
     "text": [
      "Model: \"model_18\"\n",
      "__________________________________________________________________________________________________\n",
      " Layer (type)                   Output Shape         Param #     Connected to                     \n",
      "==================================================================================================\n",
      " Product_Input (InputLayer)     [(None, 1)]          0           []                               \n",
      "                                                                                                  \n",
      " Product_Embedding (Embedding)  (None, 1, 1)         959462      ['Product_Input[0][0]']          \n",
      "                                                                                                  \n",
      " Feature_Input (InputLayer)     [(None, 11)]         0           []                               \n",
      "                                                                                                  \n",
      " flatten_19 (Flatten)           (None, 1)            0           ['Product_Embedding[0][0]']      \n",
      "                                                                                                  \n",
      " dense_42 (Dense)               (None, 1)            12          ['Feature_Input[0][0]']          \n",
      "                                                                                                  \n",
      " dot_10 (Dot)                   (None, 1)            0           ['flatten_19[0][0]',             \n",
      "                                                                  'dense_42[0][0]']               \n",
      "                                                                                                  \n",
      " Output (Dense)                 (None, 1)            2           ['dot_10[0][0]']                 \n",
      "                                                                                                  \n",
      "==================================================================================================\n",
      "Total params: 959,476\n",
      "Trainable params: 959,476\n",
      "Non-trainable params: 0\n",
      "__________________________________________________________________________________________________\n",
      "Epoch 1/10\n",
      "1804/1804 [==============================] - 16s 7ms/step - loss: 0.6044 - accuracy: 0.4945 - val_loss: 0.3208 - val_accuracy: 0.6733\n",
      "Epoch 2/10\n",
      "1804/1804 [==============================] - 12s 6ms/step - loss: 0.3024 - accuracy: 0.6710 - val_loss: 0.3078 - val_accuracy: 0.6765\n",
      "Epoch 3/10\n",
      "1804/1804 [==============================] - 12s 7ms/step - loss: 0.2462 - accuracy: 0.6907 - val_loss: 0.3064 - val_accuracy: 0.6898\n",
      "Epoch 4/10\n",
      "1804/1804 [==============================] - 11s 6ms/step - loss: 0.2019 - accuracy: 0.7121 - val_loss: 0.3086 - val_accuracy: 0.6979\n",
      "Epoch 5/10\n",
      "1804/1804 [==============================] - 13s 7ms/step - loss: 0.1798 - accuracy: 0.7232 - val_loss: 0.3127 - val_accuracy: 0.7060\n",
      "Epoch 6/10\n",
      "1804/1804 [==============================] - 16s 9ms/step - loss: 0.1696 - accuracy: 0.7295 - val_loss: 0.3147 - val_accuracy: 0.7072\n",
      "Epoch 7/10\n",
      "1804/1804 [==============================] - 15s 8ms/step - loss: 0.1646 - accuracy: 0.7324 - val_loss: 0.3158 - val_accuracy: 0.7085\n",
      "Epoch 8/10\n",
      "1804/1804 [==============================] - 16s 9ms/step - loss: 0.1614 - accuracy: 0.7337 - val_loss: 0.3154 - val_accuracy: 0.7085\n",
      "Epoch 9/10\n",
      "1804/1804 [==============================] - 16s 9ms/step - loss: 0.1593 - accuracy: 0.7337 - val_loss: 0.3146 - val_accuracy: 0.7085\n",
      "Epoch 10/10\n",
      "1804/1804 [==============================] - 14s 8ms/step - loss: 0.1576 - accuracy: 0.7343 - val_loss: 0.3144 - val_accuracy: 0.7084\n"
     ]
    }
   ],
   "source": [
    " # Create and Train the Model\n",
    "# num_products = len(modeldata_df[\"product_code\"].value_counts().index)\n",
    "\n",
    "# recommender = OutfitRecommenderGMF(num_products=num_products, num_features=features.shape[1], embedding_dim=1, learning_rate=0.001)\n",
    "recommender = OutfitRecommenderGMF(num_products=articles_df[\"product_code\"].max() + 1, num_features=features.shape[1], embedding_dim=1, learning_rate=0.001)\n",
    "recommender.train(prod_train, feat_train, pop_train, epochs=10, batch_size=32)"
   ]
  },
  {
   "cell_type": "markdown",
   "metadata": {},
   "source": [
    "## Getting User Input"
   ]
  },
  {
   "cell_type": "code",
   "execution_count": 431,
   "metadata": {},
   "outputs": [],
   "source": [
    "# Map preferences\n",
    "preference_mapper = {\n",
    "    \"Popular\": 1,\n",
    "    \"Alternative\": 2\n",
    "}"
   ]
  },
  {
   "cell_type": "code",
   "execution_count": 472,
   "metadata": {},
   "outputs": [
    {
     "data": {
      "text/plain": [
       "{'Garment Upper body': 1,\n",
       " 'Garment Lower body': 2,\n",
       " 'Garment Full body': 3,\n",
       " 'Accessories': 4,\n",
       " 'Swimwear': 5,\n",
       " 'Bags': 6}"
      ]
     },
     "execution_count": 472,
     "metadata": {},
     "output_type": "execute_result"
    }
   ],
   "source": [
    "product_group_mapper"
   ]
  },
  {
   "cell_type": "code",
   "execution_count": 502,
   "metadata": {},
   "outputs": [],
   "source": [
    "# ask customer for user input\n",
    "\n",
    "# give multiple choice\n",
    "user_outfit_type = int(input(\"What type of garmet are you looking for? Top: 1, Bottoms: 2, Dress: 3, Accessories: 4, Swimwear: 5, Bags: 6\"))\n",
    "\n",
    "# give multiple choice\n",
    "user_preference = int(input(\"Do you want something popular or alternative? Popular: 1, Alternative: 2\"))"
   ]
  },
  {
   "cell_type": "code",
   "execution_count": 503,
   "metadata": {},
   "outputs": [],
   "source": [
    "# Filter Data Based on User Input\n",
    "filtered_df = modeldata_df[modeldata_df[\"product_group_name\"] == user_outfit_type]\n",
    "filtered_product_codes = filtered_df[\"product_code\"].values\n",
    "filtered_features = scaler.transform(filtered_df.drop([\"popularity\", \"product_code\"], axis=1).values)"
   ]
  },
  {
   "cell_type": "code",
   "execution_count": 504,
   "metadata": {},
   "outputs": [
    {
     "data": {
      "text/html": [
       "<div>\n",
       "<style scoped>\n",
       "    .dataframe tbody tr th:only-of-type {\n",
       "        vertical-align: middle;\n",
       "    }\n",
       "\n",
       "    .dataframe tbody tr th {\n",
       "        vertical-align: top;\n",
       "    }\n",
       "\n",
       "    .dataframe thead th {\n",
       "        text-align: right;\n",
       "    }\n",
       "</style>\n",
       "<table border=\"1\" class=\"dataframe\">\n",
       "  <thead>\n",
       "    <tr style=\"text-align: right;\">\n",
       "      <th></th>\n",
       "      <th>product_code</th>\n",
       "      <th>product_type_no</th>\n",
       "      <th>product_group_name</th>\n",
       "      <th>graphical_appearance_no</th>\n",
       "      <th>colour_group_code</th>\n",
       "      <th>perceived_colour_value_id</th>\n",
       "      <th>perceived_colour_master_id</th>\n",
       "      <th>department_no</th>\n",
       "      <th>index_code</th>\n",
       "      <th>index_group_no</th>\n",
       "      <th>section_no</th>\n",
       "      <th>garment_group_no</th>\n",
       "      <th>popularity</th>\n",
       "    </tr>\n",
       "  </thead>\n",
       "  <tbody>\n",
       "  </tbody>\n",
       "</table>\n",
       "</div>"
      ],
      "text/plain": [
       "Empty DataFrame\n",
       "Columns: [product_code, product_type_no, product_group_name, graphical_appearance_no, colour_group_code, perceived_colour_value_id, perceived_colour_master_id, department_no, index_code, index_group_no, section_no, garment_group_no, popularity]\n",
       "Index: []"
      ]
     },
     "execution_count": 504,
     "metadata": {},
     "output_type": "execute_result"
    }
   ],
   "source": [
    "filtered_df[filtered_df[\"product_code\"] == 3957]"
   ]
  },
  {
   "cell_type": "code",
   "execution_count": 505,
   "metadata": {},
   "outputs": [
    {
     "data": {
      "text/plain": [
       "array([[ 0.40754992,  0.81375248,  0.02273934, ..., -0.27144291,\n",
       "         0.73774624, -0.97670077],\n",
       "       [ 0.40754992,  0.81375248,  0.02278318, ..., -0.50050582,\n",
       "        -1.04655229, -1.13593673],\n",
       "       [ 0.40754992,  0.81375248,  0.02273934, ..., -0.27144291,\n",
       "         0.44036315, -1.13593673],\n",
       "       ...,\n",
       "       [ 0.40754992,  0.81375248,  0.0220817 , ..., -0.50050582,\n",
       "        -0.9615857 , -0.65822886],\n",
       "       [ 0.40754992,  0.81375248,  0.02273934, ..., -0.50050582,\n",
       "        -0.9615857 , -0.65822886],\n",
       "       [ 0.40754992,  0.81375248,  0.02273934, ..., -0.50050582,\n",
       "        -0.9615857 , -0.65822886]])"
      ]
     },
     "execution_count": 505,
     "metadata": {},
     "output_type": "execute_result"
    }
   ],
   "source": [
    "filtered_features"
   ]
  },
  {
   "cell_type": "code",
   "execution_count": 506,
   "metadata": {},
   "outputs": [
    {
     "name": "stdout",
     "output_type": "stream",
     "text": [
      "416/416 [==============================] - 0s 987us/step\n"
     ]
    },
    {
     "data": {
      "text/plain": [
       "product_code                     3957\n",
       "product_type_no                   298\n",
       "product_group_name                  5\n",
       "graphical_appearance_no       1010016\n",
       "colour_group_code                  62\n",
       "perceived_colour_value_id           3\n",
       "perceived_colour_master_id          6\n",
       "department_no                    4242\n",
       "index_code                          1\n",
       "index_group_no                      1\n",
       "section_no                         60\n",
       "garment_group_no                 1018\n",
       "popularity                          1\n",
       "Name: 13872, dtype: int64"
      ]
     },
     "execution_count": 506,
     "metadata": {},
     "output_type": "execute_result"
    }
   ],
   "source": [
    "recommended_outfit = recommender.recommend_outfit(filtered_product_codes, filtered_features, modeldata_df, preference=user_preference)\n",
    "recommended_outfit"
   ]
  },
  {
   "cell_type": "code",
   "execution_count": 486,
   "metadata": {},
   "outputs": [
    {
     "data": {
      "text/html": [
       "<div>\n",
       "<style scoped>\n",
       "    .dataframe tbody tr th:only-of-type {\n",
       "        vertical-align: middle;\n",
       "    }\n",
       "\n",
       "    .dataframe tbody tr th {\n",
       "        vertical-align: top;\n",
       "    }\n",
       "\n",
       "    .dataframe thead th {\n",
       "        text-align: right;\n",
       "    }\n",
       "</style>\n",
       "<table border=\"1\" class=\"dataframe\">\n",
       "  <thead>\n",
       "    <tr style=\"text-align: right;\">\n",
       "      <th></th>\n",
       "      <th>article_id</th>\n",
       "      <th>product_code</th>\n",
       "      <th>prod_name</th>\n",
       "      <th>product_type_no</th>\n",
       "      <th>product_type_name</th>\n",
       "      <th>product_group_name</th>\n",
       "      <th>graphical_appearance_no</th>\n",
       "      <th>graphical_appearance_name</th>\n",
       "      <th>colour_group_code</th>\n",
       "      <th>colour_group_name</th>\n",
       "      <th>...</th>\n",
       "      <th>department_name</th>\n",
       "      <th>index_code</th>\n",
       "      <th>index_name</th>\n",
       "      <th>index_group_no</th>\n",
       "      <th>index_group_name</th>\n",
       "      <th>section_no</th>\n",
       "      <th>section_name</th>\n",
       "      <th>garment_group_no</th>\n",
       "      <th>garment_group_name</th>\n",
       "      <th>detail_desc</th>\n",
       "    </tr>\n",
       "  </thead>\n",
       "  <tbody>\n",
       "  </tbody>\n",
       "</table>\n",
       "<p>0 rows × 25 columns</p>\n",
       "</div>"
      ],
      "text/plain": [
       "Empty DataFrame\n",
       "Columns: [article_id, product_code, prod_name, product_type_no, product_type_name, product_group_name, graphical_appearance_no, graphical_appearance_name, colour_group_code, colour_group_name, perceived_colour_value_id, perceived_colour_value_name, perceived_colour_master_id, perceived_colour_master_name, department_no, department_name, index_code, index_name, index_group_no, index_group_name, section_no, section_name, garment_group_no, garment_group_name, detail_desc]\n",
       "Index: []\n",
       "\n",
       "[0 rows x 25 columns]"
      ]
     },
     "execution_count": 486,
     "metadata": {},
     "output_type": "execute_result"
    }
   ],
   "source": [
    "articles_df[articles_df[\"product_code\"] == recommended_outfit[\"product_code\"]]"
   ]
  },
  {
   "cell_type": "code",
   "execution_count": 487,
   "metadata": {},
   "outputs": [
    {
     "data": {
      "text/html": [
       "<div>\n",
       "<style scoped>\n",
       "    .dataframe tbody tr th:only-of-type {\n",
       "        vertical-align: middle;\n",
       "    }\n",
       "\n",
       "    .dataframe tbody tr th {\n",
       "        vertical-align: top;\n",
       "    }\n",
       "\n",
       "    .dataframe thead th {\n",
       "        text-align: right;\n",
       "    }\n",
       "</style>\n",
       "<table border=\"1\" class=\"dataframe\">\n",
       "  <thead>\n",
       "    <tr style=\"text-align: right;\">\n",
       "      <th></th>\n",
       "      <th>product_code</th>\n",
       "      <th>product_type_no</th>\n",
       "      <th>product_group_name</th>\n",
       "      <th>graphical_appearance_no</th>\n",
       "      <th>colour_group_code</th>\n",
       "      <th>perceived_colour_value_id</th>\n",
       "      <th>perceived_colour_master_id</th>\n",
       "      <th>department_no</th>\n",
       "      <th>index_code</th>\n",
       "      <th>index_group_no</th>\n",
       "      <th>section_no</th>\n",
       "      <th>garment_group_no</th>\n",
       "      <th>popularity</th>\n",
       "    </tr>\n",
       "  </thead>\n",
       "  <tbody>\n",
       "    <tr>\n",
       "      <th>13872</th>\n",
       "      <td>3957</td>\n",
       "      <td>298</td>\n",
       "      <td>5</td>\n",
       "      <td>1010016</td>\n",
       "      <td>62</td>\n",
       "      <td>3</td>\n",
       "      <td>6</td>\n",
       "      <td>4242</td>\n",
       "      <td>1</td>\n",
       "      <td>1</td>\n",
       "      <td>60</td>\n",
       "      <td>1018</td>\n",
       "      <td>1</td>\n",
       "    </tr>\n",
       "    <tr>\n",
       "      <th>13873</th>\n",
       "      <td>3957</td>\n",
       "      <td>298</td>\n",
       "      <td>5</td>\n",
       "      <td>1010016</td>\n",
       "      <td>9</td>\n",
       "      <td>4</td>\n",
       "      <td>5</td>\n",
       "      <td>4242</td>\n",
       "      <td>1</td>\n",
       "      <td>1</td>\n",
       "      <td>60</td>\n",
       "      <td>1018</td>\n",
       "      <td>0</td>\n",
       "    </tr>\n",
       "    <tr>\n",
       "      <th>13874</th>\n",
       "      <td>3957</td>\n",
       "      <td>298</td>\n",
       "      <td>5</td>\n",
       "      <td>1010016</td>\n",
       "      <td>21</td>\n",
       "      <td>3</td>\n",
       "      <td>8</td>\n",
       "      <td>4242</td>\n",
       "      <td>1</td>\n",
       "      <td>1</td>\n",
       "      <td>60</td>\n",
       "      <td>1018</td>\n",
       "      <td>1</td>\n",
       "    </tr>\n",
       "    <tr>\n",
       "      <th>13875</th>\n",
       "      <td>3957</td>\n",
       "      <td>298</td>\n",
       "      <td>5</td>\n",
       "      <td>1010001</td>\n",
       "      <td>71</td>\n",
       "      <td>3</td>\n",
       "      <td>2</td>\n",
       "      <td>4242</td>\n",
       "      <td>1</td>\n",
       "      <td>1</td>\n",
       "      <td>60</td>\n",
       "      <td>1018</td>\n",
       "      <td>1</td>\n",
       "    </tr>\n",
       "  </tbody>\n",
       "</table>\n",
       "</div>"
      ],
      "text/plain": [
       "       product_code  product_type_no  product_group_name  \\\n",
       "13872          3957              298                   5   \n",
       "13873          3957              298                   5   \n",
       "13874          3957              298                   5   \n",
       "13875          3957              298                   5   \n",
       "\n",
       "       graphical_appearance_no  colour_group_code  perceived_colour_value_id  \\\n",
       "13872                  1010016                 62                          3   \n",
       "13873                  1010016                  9                          4   \n",
       "13874                  1010016                 21                          3   \n",
       "13875                  1010001                 71                          3   \n",
       "\n",
       "       perceived_colour_master_id  department_no  index_code  index_group_no  \\\n",
       "13872                           6           4242           1               1   \n",
       "13873                           5           4242           1               1   \n",
       "13874                           8           4242           1               1   \n",
       "13875                           2           4242           1               1   \n",
       "\n",
       "       section_no  garment_group_no  popularity  \n",
       "13872          60              1018           1  \n",
       "13873          60              1018           0  \n",
       "13874          60              1018           1  \n",
       "13875          60              1018           1  "
      ]
     },
     "execution_count": 487,
     "metadata": {},
     "output_type": "execute_result"
    }
   ],
   "source": [
    "modeldata_df[modeldata_df[\"product_code\"] == 3957]"
   ]
  },
  {
   "cell_type": "code",
   "execution_count": 482,
   "metadata": {},
   "outputs": [
    {
     "ename": "IndexError",
     "evalue": "index 0 is out of bounds for axis 0 with size 0",
     "output_type": "error",
     "traceback": [
      "\u001b[0;31m---------------------------------------------------------------------------\u001b[0m",
      "\u001b[0;31mIndexError\u001b[0m                                Traceback (most recent call last)",
      "Cell \u001b[0;32mIn[482], line 2\u001b[0m\n\u001b[1;32m      1\u001b[0m \u001b[38;5;66;03m# need to change it to be the product name from the code\u001b[39;00m\n\u001b[0;32m----> 2\u001b[0m recommended_product_name \u001b[38;5;241m=\u001b[39m \u001b[43marticles_df\u001b[49m\u001b[43m[\u001b[49m\u001b[43marticles_df\u001b[49m\u001b[43m[\u001b[49m\u001b[38;5;124;43m\"\u001b[39;49m\u001b[38;5;124;43mproduct_code\u001b[39;49m\u001b[38;5;124;43m\"\u001b[39;49m\u001b[43m]\u001b[49m\u001b[43m \u001b[49m\u001b[38;5;241;43m==\u001b[39;49m\u001b[43m \u001b[49m\u001b[43mrecommended_outfit\u001b[49m\u001b[43m[\u001b[49m\u001b[38;5;124;43m\"\u001b[39;49m\u001b[38;5;124;43mproduct_code\u001b[39;49m\u001b[38;5;124;43m\"\u001b[39;49m\u001b[43m]\u001b[49m\u001b[43m]\u001b[49m\u001b[43m[\u001b[49m\u001b[38;5;124;43m\"\u001b[39;49m\u001b[38;5;124;43mprod_name\u001b[39;49m\u001b[38;5;124;43m\"\u001b[39;49m\u001b[43m]\u001b[49m\u001b[38;5;241;43m.\u001b[39;49m\u001b[43mvalues\u001b[49m\u001b[43m[\u001b[49m\u001b[38;5;241;43m0\u001b[39;49m\u001b[43m]\u001b[49m\n\u001b[1;32m      3\u001b[0m recommended_product_name\n",
      "\u001b[0;31mIndexError\u001b[0m: index 0 is out of bounds for axis 0 with size 0"
     ]
    }
   ],
   "source": [
    "# need to change it to be the product name from the code\n",
    "recommended_product_name = articles_df[articles_df[\"product_code\"] == recommended_outfit[\"product_code\"]][\"prod_name\"].values[0]\n",
    "recommended_product_name"
   ]
  },
  {
   "cell_type": "code",
   "execution_count": 481,
   "metadata": {},
   "outputs": [
    {
     "ename": "IndexError",
     "evalue": "index 0 is out of bounds for axis 0 with size 0",
     "output_type": "error",
     "traceback": [
      "\u001b[0;31m---------------------------------------------------------------------------\u001b[0m",
      "\u001b[0;31mIndexError\u001b[0m                                Traceback (most recent call last)",
      "Cell \u001b[0;32mIn[481], line 2\u001b[0m\n\u001b[1;32m      1\u001b[0m \u001b[38;5;66;03m# need to change it to be the product name from the code\u001b[39;00m\n\u001b[0;32m----> 2\u001b[0m recommended_product_name \u001b[38;5;241m=\u001b[39m \u001b[43marticles_df\u001b[49m\u001b[43m[\u001b[49m\u001b[43marticles_df\u001b[49m\u001b[43m[\u001b[49m\u001b[38;5;124;43m\"\u001b[39;49m\u001b[38;5;124;43mproduct_code\u001b[39;49m\u001b[38;5;124;43m\"\u001b[39;49m\u001b[43m]\u001b[49m\u001b[43m \u001b[49m\u001b[38;5;241;43m==\u001b[39;49m\u001b[43m \u001b[49m\u001b[43mrecommended_outfit\u001b[49m\u001b[43m[\u001b[49m\u001b[38;5;124;43m\"\u001b[39;49m\u001b[38;5;124;43mproduct_code\u001b[39;49m\u001b[38;5;124;43m\"\u001b[39;49m\u001b[43m]\u001b[49m\u001b[43m]\u001b[49m\u001b[43m[\u001b[49m\u001b[38;5;124;43m\"\u001b[39;49m\u001b[38;5;124;43mprod_name\u001b[39;49m\u001b[38;5;124;43m\"\u001b[39;49m\u001b[43m]\u001b[49m\u001b[38;5;241;43m.\u001b[39;49m\u001b[43mvalues\u001b[49m\u001b[43m[\u001b[49m\u001b[38;5;241;43m0\u001b[39;49m\u001b[43m]\u001b[49m\n\u001b[1;32m      4\u001b[0m \u001b[38;5;28mprint\u001b[39m(\u001b[38;5;124mf\u001b[39m\u001b[38;5;124m\"\u001b[39m\u001b[38;5;124mRecommended Outfit Based on Your Preference:\u001b[39m\u001b[38;5;130;01m\\n\u001b[39;00m\u001b[38;5;124mProduct Name: \u001b[39m\u001b[38;5;132;01m{\u001b[39;00mrecommended_product_name\u001b[38;5;132;01m}\u001b[39;00m\u001b[38;5;124m, Product Code: \u001b[39m\u001b[38;5;132;01m{\u001b[39;00mrecommended_outfit[\u001b[38;5;124m'\u001b[39m\u001b[38;5;124mproduct_code\u001b[39m\u001b[38;5;124m'\u001b[39m]\u001b[38;5;132;01m}\u001b[39;00m\u001b[38;5;124m\"\u001b[39m)\n",
      "\u001b[0;31mIndexError\u001b[0m: index 0 is out of bounds for axis 0 with size 0"
     ]
    }
   ],
   "source": [
    "# need to change it to be the product name from the code\n",
    "recommended_product_name = articles_df[articles_df[\"product_code\"] == recommended_outfit[\"product_code\"]][\"prod_name\"].values[0]\n",
    "\n",
    "print(f\"Recommended Outfit Based on Your Preference:\\nProduct Name: {recommended_product_name}, Product Code: {recommended_outfit['product_code']}\")"
   ]
  },
  {
   "cell_type": "code",
   "execution_count": 437,
   "metadata": {},
   "outputs": [
    {
     "data": {
      "text/html": [
       "<div>\n",
       "<style scoped>\n",
       "    .dataframe tbody tr th:only-of-type {\n",
       "        vertical-align: middle;\n",
       "    }\n",
       "\n",
       "    .dataframe tbody tr th {\n",
       "        vertical-align: top;\n",
       "    }\n",
       "\n",
       "    .dataframe thead th {\n",
       "        text-align: right;\n",
       "    }\n",
       "</style>\n",
       "<table border=\"1\" class=\"dataframe\">\n",
       "  <thead>\n",
       "    <tr style=\"text-align: right;\">\n",
       "      <th></th>\n",
       "      <th>article_id</th>\n",
       "      <th>product_code</th>\n",
       "      <th>prod_name</th>\n",
       "      <th>product_type_no</th>\n",
       "      <th>product_type_name</th>\n",
       "      <th>product_group_name</th>\n",
       "      <th>graphical_appearance_no</th>\n",
       "      <th>graphical_appearance_name</th>\n",
       "      <th>colour_group_code</th>\n",
       "      <th>colour_group_name</th>\n",
       "      <th>...</th>\n",
       "      <th>department_name</th>\n",
       "      <th>index_code</th>\n",
       "      <th>index_name</th>\n",
       "      <th>index_group_no</th>\n",
       "      <th>index_group_name</th>\n",
       "      <th>section_no</th>\n",
       "      <th>section_name</th>\n",
       "      <th>garment_group_no</th>\n",
       "      <th>garment_group_name</th>\n",
       "      <th>detail_desc</th>\n",
       "    </tr>\n",
       "  </thead>\n",
       "  <tbody>\n",
       "    <tr>\n",
       "      <th>15377</th>\n",
       "      <td>566715003</td>\n",
       "      <td>566715</td>\n",
       "      <td>Lin Shiny</td>\n",
       "      <td>272</td>\n",
       "      <td>Trousers</td>\n",
       "      <td>Garment Lower body</td>\n",
       "      <td>1010016</td>\n",
       "      <td>Solid</td>\n",
       "      <td>52</td>\n",
       "      <td>Pink</td>\n",
       "      <td>...</td>\n",
       "      <td>Trouser</td>\n",
       "      <td>A</td>\n",
       "      <td>Ladieswear</td>\n",
       "      <td>1</td>\n",
       "      <td>Ladieswear</td>\n",
       "      <td>11</td>\n",
       "      <td>Womens Tailoring</td>\n",
       "      <td>1009</td>\n",
       "      <td>Trousers</td>\n",
       "      <td>Trousers in satin with a detachable tie belt, ...</td>\n",
       "    </tr>\n",
       "  </tbody>\n",
       "</table>\n",
       "<p>1 rows × 25 columns</p>\n",
       "</div>"
      ],
      "text/plain": [
       "       article_id  product_code  prod_name  product_type_no product_type_name  \\\n",
       "15377   566715003        566715  Lin Shiny              272          Trousers   \n",
       "\n",
       "       product_group_name  graphical_appearance_no graphical_appearance_name  \\\n",
       "15377  Garment Lower body                  1010016                     Solid   \n",
       "\n",
       "       colour_group_code colour_group_name  ...  department_name index_code  \\\n",
       "15377                 52              Pink  ...          Trouser          A   \n",
       "\n",
       "       index_name index_group_no  index_group_name section_no  \\\n",
       "15377  Ladieswear              1        Ladieswear         11   \n",
       "\n",
       "           section_name garment_group_no  garment_group_name  \\\n",
       "15377  Womens Tailoring             1009            Trousers   \n",
       "\n",
       "                                             detail_desc  \n",
       "15377  Trousers in satin with a detachable tie belt, ...  \n",
       "\n",
       "[1 rows x 25 columns]"
      ]
     },
     "execution_count": 437,
     "metadata": {},
     "output_type": "execute_result"
    }
   ],
   "source": [
    "articles_df[articles_df[\"product_code\"] == 566715]"
   ]
  },
  {
   "cell_type": "markdown",
   "metadata": {},
   "source": [
    "### Use ANN Model to recommend outfit"
   ]
  },
  {
   "cell_type": "code",
   "execution_count": 395,
   "metadata": {},
   "outputs": [],
   "source": [
    "# last ANN step: predict_model (y_pred_probs)\n",
    "def recommend_outfit(predictions, original_df, preference=preference_mapper[\"Popular\"]):\n",
    "        if preference == preference_mapper[\"Popular\"]:\n",
    "            recommended_idx = np.argmax(predictions)\n",
    "        else:  # Alternative, less popular\n",
    "            recommended_idx = np.argmin(predictions)\n",
    "        return original_df.iloc[recommended_idx]"
   ]
  },
  {
   "cell_type": "code",
   "execution_count": 403,
   "metadata": {},
   "outputs": [
    {
     "name": "stdout",
     "output_type": "stream",
     "text": [
      "Recommended Outfit Based on Your Preference:\n",
      " PQ Lottie cashmere headband\n"
     ]
    }
   ],
   "source": [
    "# need to change it to be the product name from the code\n",
    "recommended_outfit = recommend_outfit(y_pred_probs, modeldata_df, preference=user_preference)\n",
    "recommended_product_name = articles_df[articles_df[\"product_code\"] == recommended_outfit[\"product_code\"]][\"prod_name\"].values[0]\n",
    "\n",
    "print(\"Recommended Outfit Based on Your Preference:\\n\", recommended_product_name)"
   ]
  },
  {
   "cell_type": "code",
   "execution_count": null,
   "metadata": {},
   "outputs": [],
   "source": []
  }
 ],
 "metadata": {
  "kernelspec": {
   "display_name": "Cohort-Env",
   "language": "python",
   "name": "python3"
  },
  "language_info": {
   "codemirror_mode": {
    "name": "ipython",
    "version": 3
   },
   "file_extension": ".py",
   "mimetype": "text/x-python",
   "name": "python",
   "nbconvert_exporter": "python",
   "pygments_lexer": "ipython3",
   "version": "3.8.18"
  }
 },
 "nbformat": 4,
 "nbformat_minor": 2
}
