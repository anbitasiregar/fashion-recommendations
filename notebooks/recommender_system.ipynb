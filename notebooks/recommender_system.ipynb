{
 "cells": [
  {
   "cell_type": "markdown",
   "metadata": {},
   "source": [
    "# Analysis of Fashion data"
   ]
  },
  {
   "cell_type": "markdown",
   "metadata": {},
   "source": [
    "## Overview\n",
    "**Goal:** Use an ANN model from the previous notebook to optimize predictions and create a recommender system to provide outfit recommendations based on product popularity."
   ]
  },
  {
   "cell_type": "markdown",
   "metadata": {},
   "source": [
    "### Load our data"
   ]
  },
  {
   "cell_type": "code",
   "execution_count": 305,
   "metadata": {},
   "outputs": [],
   "source": [
    "import pandas as pd\n",
    "import numpy as np\n",
    "import matplotlib.pyplot as plt\n",
    "import seaborn as sns\n",
    "\n",
    "# data preprocessing and tuning\n",
    "from sklearn.model_selection import train_test_split\n",
    "from sklearn.preprocessing import StandardScaler, MinMaxScaler, OneHotEncoder, LabelEncoder\n",
    "\n",
    "from tensorflow.keras import Model, Input\n",
    "from tensorflow.keras.models import Sequential\n",
    "from tensorflow.keras.layers import Dense, Dropout, LeakyReLU, Embedding, Flatten, Dot, Dense, Concatenate\n",
    "from tensorflow.keras.optimizers import Adam\n",
    "from tensorflow.keras.callbacks import EarlyStopping, ReduceLROnPlateau\n",
    "\n",
    "# to get the newest version of helper\n",
    "import importlib\n",
    "importlib.reload(helper)\n",
    "\n",
    "# Setup to Ignore Version Errors and Deprecations\n",
    "import warnings\n",
    "warnings.filterwarnings(\"ignore\")"
   ]
  },
  {
   "cell_type": "markdown",
   "metadata": {},
   "source": [
    "### Load the data"
   ]
  },
  {
   "cell_type": "code",
   "execution_count": 306,
   "metadata": {},
   "outputs": [
    {
     "data": {
      "text/html": [
       "<div>\n",
       "<style scoped>\n",
       "    .dataframe tbody tr th:only-of-type {\n",
       "        vertical-align: middle;\n",
       "    }\n",
       "\n",
       "    .dataframe tbody tr th {\n",
       "        vertical-align: top;\n",
       "    }\n",
       "\n",
       "    .dataframe thead th {\n",
       "        text-align: right;\n",
       "    }\n",
       "</style>\n",
       "<table border=\"1\" class=\"dataframe\">\n",
       "  <thead>\n",
       "    <tr style=\"text-align: right;\">\n",
       "      <th></th>\n",
       "      <th>product_code</th>\n",
       "      <th>product_type_no</th>\n",
       "      <th>product_group_name</th>\n",
       "      <th>graphical_appearance_no</th>\n",
       "      <th>colour_group_code</th>\n",
       "      <th>perceived_colour_value_id</th>\n",
       "      <th>perceived_colour_master_id</th>\n",
       "      <th>department_no</th>\n",
       "      <th>index_code</th>\n",
       "      <th>index_group_no</th>\n",
       "      <th>section_no</th>\n",
       "      <th>garment_group_no</th>\n",
       "      <th>popularity</th>\n",
       "    </tr>\n",
       "  </thead>\n",
       "  <tbody>\n",
       "    <tr>\n",
       "      <th>0</th>\n",
       "      <td>108775</td>\n",
       "      <td>253</td>\n",
       "      <td>Garment Upper body</td>\n",
       "      <td>1010016</td>\n",
       "      <td>9</td>\n",
       "      <td>4</td>\n",
       "      <td>5</td>\n",
       "      <td>1676</td>\n",
       "      <td>A</td>\n",
       "      <td>1</td>\n",
       "      <td>16</td>\n",
       "      <td>1002</td>\n",
       "      <td>low</td>\n",
       "    </tr>\n",
       "    <tr>\n",
       "      <th>1</th>\n",
       "      <td>108775</td>\n",
       "      <td>253</td>\n",
       "      <td>Garment Upper body</td>\n",
       "      <td>1010016</td>\n",
       "      <td>10</td>\n",
       "      <td>3</td>\n",
       "      <td>9</td>\n",
       "      <td>1676</td>\n",
       "      <td>A</td>\n",
       "      <td>1</td>\n",
       "      <td>16</td>\n",
       "      <td>1002</td>\n",
       "      <td>high</td>\n",
       "    </tr>\n",
       "    <tr>\n",
       "      <th>2</th>\n",
       "      <td>108775</td>\n",
       "      <td>253</td>\n",
       "      <td>Garment Upper body</td>\n",
       "      <td>1010017</td>\n",
       "      <td>11</td>\n",
       "      <td>1</td>\n",
       "      <td>9</td>\n",
       "      <td>1676</td>\n",
       "      <td>A</td>\n",
       "      <td>1</td>\n",
       "      <td>16</td>\n",
       "      <td>1002</td>\n",
       "      <td>low</td>\n",
       "    </tr>\n",
       "    <tr>\n",
       "      <th>3</th>\n",
       "      <td>110065</td>\n",
       "      <td>306</td>\n",
       "      <td>Underwear</td>\n",
       "      <td>1010016</td>\n",
       "      <td>9</td>\n",
       "      <td>4</td>\n",
       "      <td>5</td>\n",
       "      <td>1339</td>\n",
       "      <td>B</td>\n",
       "      <td>1</td>\n",
       "      <td>61</td>\n",
       "      <td>1017</td>\n",
       "      <td>medium</td>\n",
       "    </tr>\n",
       "    <tr>\n",
       "      <th>4</th>\n",
       "      <td>110065</td>\n",
       "      <td>306</td>\n",
       "      <td>Underwear</td>\n",
       "      <td>1010016</td>\n",
       "      <td>10</td>\n",
       "      <td>3</td>\n",
       "      <td>9</td>\n",
       "      <td>1339</td>\n",
       "      <td>B</td>\n",
       "      <td>1</td>\n",
       "      <td>61</td>\n",
       "      <td>1017</td>\n",
       "      <td>medium</td>\n",
       "    </tr>\n",
       "  </tbody>\n",
       "</table>\n",
       "</div>"
      ],
      "text/plain": [
       "   product_code  product_type_no  product_group_name  graphical_appearance_no  \\\n",
       "0        108775              253  Garment Upper body                  1010016   \n",
       "1        108775              253  Garment Upper body                  1010016   \n",
       "2        108775              253  Garment Upper body                  1010017   \n",
       "3        110065              306           Underwear                  1010016   \n",
       "4        110065              306           Underwear                  1010016   \n",
       "\n",
       "   colour_group_code  perceived_colour_value_id  perceived_colour_master_id  \\\n",
       "0                  9                          4                           5   \n",
       "1                 10                          3                           9   \n",
       "2                 11                          1                           9   \n",
       "3                  9                          4                           5   \n",
       "4                 10                          3                           9   \n",
       "\n",
       "   department_no index_code  index_group_no  section_no  garment_group_no  \\\n",
       "0           1676          A               1          16              1002   \n",
       "1           1676          A               1          16              1002   \n",
       "2           1676          A               1          16              1002   \n",
       "3           1339          B               1          61              1017   \n",
       "4           1339          B               1          61              1017   \n",
       "\n",
       "  popularity  \n",
       "0        low  \n",
       "1       high  \n",
       "2        low  \n",
       "3     medium  \n",
       "4     medium  "
      ]
     },
     "execution_count": 306,
     "metadata": {},
     "output_type": "execute_result"
    }
   ],
   "source": [
    "# load the modeldata from previous notebook\n",
    "modeldata_df = pd.read_csv(\"../data/modeldata_df.csv\")\n",
    "modeldata_df.head()"
   ]
  },
  {
   "cell_type": "code",
   "execution_count": 307,
   "metadata": {},
   "outputs": [
    {
     "name": "stdout",
     "output_type": "stream",
     "text": [
      "<class 'pandas.core.frame.DataFrame'>\n",
      "RangeIndex: 105542 entries, 0 to 105541\n",
      "Data columns (total 13 columns):\n",
      " #   Column                      Non-Null Count   Dtype \n",
      "---  ------                      --------------   ----- \n",
      " 0   product_code                105542 non-null  int64 \n",
      " 1   product_type_no             105542 non-null  int64 \n",
      " 2   product_group_name          105542 non-null  object\n",
      " 3   graphical_appearance_no     105542 non-null  int64 \n",
      " 4   colour_group_code           105542 non-null  int64 \n",
      " 5   perceived_colour_value_id   105542 non-null  int64 \n",
      " 6   perceived_colour_master_id  105542 non-null  int64 \n",
      " 7   department_no               105542 non-null  int64 \n",
      " 8   index_code                  105542 non-null  object\n",
      " 9   index_group_no              105542 non-null  int64 \n",
      " 10  section_no                  105542 non-null  int64 \n",
      " 11  garment_group_no            105542 non-null  int64 \n",
      " 12  popularity                  105542 non-null  object\n",
      "dtypes: int64(10), object(3)\n",
      "memory usage: 10.5+ MB\n"
     ]
    }
   ],
   "source": [
    "modeldata_df.info()"
   ]
  },
  {
   "cell_type": "markdown",
   "metadata": {},
   "source": [
    "## Feature Selection and Engineering"
   ]
  },
  {
   "cell_type": "code",
   "execution_count": 308,
   "metadata": {},
   "outputs": [
    {
     "data": {
      "text/plain": [
       "Index(['product_code', 'product_type_no', 'product_group_name',\n",
       "       'graphical_appearance_no', 'colour_group_code',\n",
       "       'perceived_colour_value_id', 'perceived_colour_master_id',\n",
       "       'department_no', 'index_code', 'index_group_no', 'section_no',\n",
       "       'garment_group_no', 'popularity'],\n",
       "      dtype='object')"
      ]
     },
     "execution_count": 308,
     "metadata": {},
     "output_type": "execute_result"
    }
   ],
   "source": [
    "modeldata_df.columns"
   ]
  },
  {
   "cell_type": "markdown",
   "metadata": {},
   "source": [
    "Our recommender model is going to use the product group name to recommend outfits, so let's clean that feature up a bit."
   ]
  },
  {
   "cell_type": "code",
   "execution_count": 309,
   "metadata": {},
   "outputs": [
    {
     "data": {
      "text/plain": [
       "product_group_name\n",
       "Garment Upper body       42741\n",
       "Garment Lower body       19812\n",
       "Garment Full body        13292\n",
       "Accessories              11158\n",
       "Underwear                 5490\n",
       "Shoes                     5283\n",
       "Swimwear                  3127\n",
       "Socks & Tights            2442\n",
       "Nightwear                 1899\n",
       "Unknown                    121\n",
       "Underwear/nightwear         54\n",
       "Cosmetic                    49\n",
       "Bags                        25\n",
       "Items                       17\n",
       "Furniture                   13\n",
       "Garment and Shoe care        9\n",
       "Stationery                   5\n",
       "Interior textile             3\n",
       "Fun                          2\n",
       "Name: count, dtype: int64"
      ]
     },
     "execution_count": 309,
     "metadata": {},
     "output_type": "execute_result"
    }
   ],
   "source": [
    "modeldata_df[\"product_group_name\"].value_counts()"
   ]
  },
  {
   "cell_type": "code",
   "execution_count": 310,
   "metadata": {},
   "outputs": [
    {
     "data": {
      "text/plain": [
       "product_group_name\n",
       "Garment Upper body    42741\n",
       "Garment Lower body    19812\n",
       "Garment Full body     13292\n",
       "Accessories           11158\n",
       "Swimwear               3127\n",
       "Bags                     25\n",
       "Name: count, dtype: int64"
      ]
     },
     "execution_count": 310,
     "metadata": {},
     "output_type": "execute_result"
    }
   ],
   "source": [
    "# drop rows of irrelevant product groups\n",
    "modeldata_df = modeldata_df[modeldata_df[\"product_group_name\"].isin([\"Garment Upper body\", \"Garment Lower body\", \"Garment Full body\", \"Accessories\", \"Swimwear\", \"Bags\"])]\n",
    "modeldata_df[\"product_group_name\"].value_counts()"
   ]
  },
  {
   "cell_type": "markdown",
   "metadata": {},
   "source": [
    "We want to map the product name to a number for easier processing."
   ]
  },
  {
   "cell_type": "code",
   "execution_count": 311,
   "metadata": {},
   "outputs": [],
   "source": [
    "# map each product group to a number\n",
    "product_group_mapper = {\n",
    "    \"Garment Upper body\": 1,\n",
    "    \"Garment Lower body\": 2,\n",
    "    \"Garment Full body\": 3,\n",
    "    \"Accessories\": 4,\n",
    "    \"Swimwear\": 5,\n",
    "    \"Bags\": 6,\n",
    "}"
   ]
  },
  {
   "cell_type": "code",
   "execution_count": 312,
   "metadata": {},
   "outputs": [
    {
     "data": {
      "text/plain": [
       "product_group_name\n",
       "1    42741\n",
       "2    19812\n",
       "3    13292\n",
       "4    11158\n",
       "5     3127\n",
       "6       25\n",
       "Name: count, dtype: int64"
      ]
     },
     "execution_count": 312,
     "metadata": {},
     "output_type": "execute_result"
    }
   ],
   "source": [
    "# replace the product_group_name with a number\n",
    "modeldata_df[\"product_group_name\"] = modeldata_df[\"product_group_name\"].replace(product_group_mapper)\n",
    "modeldata_df[\"product_group_name\"].value_counts()"
   ]
  },
  {
   "cell_type": "code",
   "execution_count": null,
   "metadata": {},
   "outputs": [],
   "source": [
    "# might need to add product names back in here for recommender output"
   ]
  },
  {
   "cell_type": "markdown",
   "metadata": {},
   "source": [
    "## Artificial Neural Network (ANN)\n",
    "We want to use an ANN and improve it for our recommender model. 74% was the best our previous ANN could do, using LeakyReLU and a laearning rate scheduler (LRS).\n",
    "\n",
    "### Train-test split"
   ]
  },
  {
   "cell_type": "code",
   "execution_count": 313,
   "metadata": {},
   "outputs": [],
   "source": [
    "TARGET = [\"popularity\"]\n",
    "X, y = modeldata_df.drop(columns=TARGET, axis=1), modeldata_df[TARGET]"
   ]
  },
  {
   "cell_type": "code",
   "execution_count": 314,
   "metadata": {},
   "outputs": [],
   "source": [
    "# use encoder helper function on the text columns in X\n",
    "# for easier analysis\n",
    "helper.encode_strings(X)"
   ]
  },
  {
   "cell_type": "code",
   "execution_count": 315,
   "metadata": {},
   "outputs": [],
   "source": [
    "# One-hot encode target variable (for multiclass classification)\n",
    "y_onehot = pd.get_dummies(y)"
   ]
  },
  {
   "cell_type": "code",
   "execution_count": 316,
   "metadata": {},
   "outputs": [],
   "source": [
    "# Split data into training, validation, and test sets\n",
    "X_train, X_temp, y_train, y_temp = train_test_split(X, y_onehot, test_size=0.3, random_state=42)\n",
    "X_val, X_test, y_val, y_test = train_test_split(X_temp, y_temp, test_size=0.5, random_state=42)"
   ]
  },
  {
   "cell_type": "markdown",
   "metadata": {},
   "source": [
    "### Tuning: Standard Scaler"
   ]
  },
  {
   "cell_type": "code",
   "execution_count": 317,
   "metadata": {},
   "outputs": [],
   "source": [
    "# use standard scaler\n",
    "# check if that will gain better results\n",
    "scaler = StandardScaler()\n",
    "X_train_scaled = scaler.fit_transform(X_train)\n",
    "X_val_scaled = scaler.transform(X_val)\n",
    "X_test_scaled = scaler.transform(X_test)"
   ]
  },
  {
   "cell_type": "markdown",
   "metadata": {},
   "source": [
    "### Modeling: ANN"
   ]
  },
  {
   "cell_type": "code",
   "execution_count": 318,
   "metadata": {},
   "outputs": [
    {
     "data": {
      "text/plain": [
       "(12, 3)"
      ]
     },
     "execution_count": 318,
     "metadata": {},
     "output_type": "execute_result"
    }
   ],
   "source": [
    "# Number of features after preprocessing\n",
    "input_dim = X_train_scaled.shape[1]\n",
    "\n",
    "# Number of classes (low, medium, high)\n",
    "output_dim = y_train.shape[1]\n",
    "\n",
    "input_dim, output_dim"
   ]
  },
  {
   "cell_type": "code",
   "execution_count": 319,
   "metadata": {},
   "outputs": [
    {
     "name": "stdout",
     "output_type": "stream",
     "text": [
      "Model: \"sequential_8\"\n",
      "_________________________________________________________________\n",
      " Layer (type)                Output Shape              Param #   \n",
      "=================================================================\n",
      " dense_24 (Dense)            (None, 64)                832       \n",
      "                                                                 \n",
      " leaky_re_lu_15 (LeakyReLU)  (None, 64)                0         \n",
      "                                                                 \n",
      " dropout_16 (Dropout)        (None, 64)                0         \n",
      "                                                                 \n",
      " dense_25 (Dense)            (None, 32)                2080      \n",
      "                                                                 \n",
      " leaky_re_lu_16 (LeakyReLU)  (None, 32)                0         \n",
      "                                                                 \n",
      " dropout_17 (Dropout)        (None, 32)                0         \n",
      "                                                                 \n",
      " dense_26 (Dense)            (None, 3)                 99        \n",
      "                                                                 \n",
      "=================================================================\n",
      "Total params: 3,011\n",
      "Trainable params: 3,011\n",
      "Non-trainable params: 0\n",
      "_________________________________________________________________\n"
     ]
    }
   ],
   "source": [
    "# Best performing model from previous notebook:\n",
    "# ANN Model with LeakyRelu and learning rate scheduler\n",
    "ann_model = helper.ANN(input_size=input_dim, hidden_layers=[64, 32], dropouts=[0.3, 0.3], output_size=output_dim, learning_rate=0.001, leaky=True)\n",
    "ann_model.model_summary()"
   ]
  },
  {
   "cell_type": "code",
   "execution_count": 320,
   "metadata": {},
   "outputs": [
    {
     "name": "stdout",
     "output_type": "stream",
     "text": [
      "Epoch 1/50\n",
      "1973/1973 [==============================] - 8s 2ms/step - loss: 0.7143 - accuracy: 0.7056 - val_loss: 0.6524 - val_accuracy: 0.7359 - lr: 0.0010\n",
      "Epoch 2/50\n",
      "1973/1973 [==============================] - 4s 2ms/step - loss: 0.6597 - accuracy: 0.7336 - val_loss: 0.6466 - val_accuracy: 0.7383 - lr: 0.0010\n",
      "Epoch 3/50\n",
      "1973/1973 [==============================] - 4s 2ms/step - loss: 0.6499 - accuracy: 0.7379 - val_loss: 0.6415 - val_accuracy: 0.7416 - lr: 0.0010\n",
      "Epoch 4/50\n",
      "1973/1973 [==============================] - 4s 2ms/step - loss: 0.6464 - accuracy: 0.7380 - val_loss: 0.6402 - val_accuracy: 0.7415 - lr: 0.0010\n",
      "Epoch 5/50\n",
      "1973/1973 [==============================] - 4s 2ms/step - loss: 0.6434 - accuracy: 0.7397 - val_loss: 0.6366 - val_accuracy: 0.7401 - lr: 0.0010\n",
      "Epoch 6/50\n",
      "1973/1973 [==============================] - 4s 2ms/step - loss: 0.6409 - accuracy: 0.7415 - val_loss: 0.6362 - val_accuracy: 0.7435 - lr: 0.0010\n",
      "Epoch 7/50\n",
      "1973/1973 [==============================] - 4s 2ms/step - loss: 0.6392 - accuracy: 0.7420 - val_loss: 0.6359 - val_accuracy: 0.7400 - lr: 0.0010\n",
      "Epoch 8/50\n",
      "1973/1973 [==============================] - 4s 2ms/step - loss: 0.6388 - accuracy: 0.7420 - val_loss: 0.6340 - val_accuracy: 0.7421 - lr: 0.0010\n",
      "Epoch 9/50\n",
      "1973/1973 [==============================] - 4s 2ms/step - loss: 0.6373 - accuracy: 0.7426 - val_loss: 0.6317 - val_accuracy: 0.7444 - lr: 0.0010\n",
      "Epoch 10/50\n",
      "1973/1973 [==============================] - 4s 2ms/step - loss: 0.6355 - accuracy: 0.7445 - val_loss: 0.6326 - val_accuracy: 0.7426 - lr: 0.0010\n",
      "Epoch 11/50\n",
      "1973/1973 [==============================] - 4s 2ms/step - loss: 0.6346 - accuracy: 0.7447 - val_loss: 0.6314 - val_accuracy: 0.7445 - lr: 0.0010\n",
      "Epoch 12/50\n",
      "1973/1973 [==============================] - 4s 2ms/step - loss: 0.6361 - accuracy: 0.7444 - val_loss: 0.6308 - val_accuracy: 0.7416 - lr: 0.0010\n",
      "Epoch 13/50\n",
      "1973/1973 [==============================] - 4s 2ms/step - loss: 0.6350 - accuracy: 0.7442 - val_loss: 0.6313 - val_accuracy: 0.7450 - lr: 0.0010\n",
      "Epoch 14/50\n",
      "1973/1973 [==============================] - 4s 2ms/step - loss: 0.6345 - accuracy: 0.7449 - val_loss: 0.6301 - val_accuracy: 0.7430 - lr: 0.0010\n",
      "Epoch 15/50\n",
      "1973/1973 [==============================] - 4s 2ms/step - loss: 0.6341 - accuracy: 0.7450 - val_loss: 0.6300 - val_accuracy: 0.7441 - lr: 0.0010\n",
      "Epoch 16/50\n",
      "1973/1973 [==============================] - 4s 2ms/step - loss: 0.6336 - accuracy: 0.7449 - val_loss: 0.6294 - val_accuracy: 0.7421 - lr: 0.0010\n",
      "Epoch 17/50\n",
      "1973/1973 [==============================] - 4s 2ms/step - loss: 0.6330 - accuracy: 0.7445 - val_loss: 0.6309 - val_accuracy: 0.7461 - lr: 0.0010\n",
      "Epoch 18/50\n",
      "1973/1973 [==============================] - 4s 2ms/step - loss: 0.6322 - accuracy: 0.7444 - val_loss: 0.6302 - val_accuracy: 0.7437 - lr: 0.0010\n",
      "Epoch 19/50\n",
      "1973/1973 [==============================] - 4s 2ms/step - loss: 0.6319 - accuracy: 0.7458 - val_loss: 0.6287 - val_accuracy: 0.7453 - lr: 0.0010\n",
      "Epoch 20/50\n",
      "1973/1973 [==============================] - 4s 2ms/step - loss: 0.6312 - accuracy: 0.7460 - val_loss: 0.6282 - val_accuracy: 0.7450 - lr: 0.0010\n",
      "Epoch 21/50\n",
      "1973/1973 [==============================] - 4s 2ms/step - loss: 0.6316 - accuracy: 0.7453 - val_loss: 0.6286 - val_accuracy: 0.7440 - lr: 0.0010\n",
      "Epoch 22/50\n",
      "1973/1973 [==============================] - 4s 2ms/step - loss: 0.6323 - accuracy: 0.7454 - val_loss: 0.6282 - val_accuracy: 0.7434 - lr: 0.0010\n",
      "Epoch 23/50\n",
      "1973/1973 [==============================] - 4s 2ms/step - loss: 0.6308 - accuracy: 0.7445 - val_loss: 0.6272 - val_accuracy: 0.7434 - lr: 0.0010\n",
      "Epoch 24/50\n",
      "1973/1973 [==============================] - 4s 2ms/step - loss: 0.6316 - accuracy: 0.7454 - val_loss: 0.6280 - val_accuracy: 0.7435 - lr: 0.0010\n",
      "Epoch 25/50\n",
      "1973/1973 [==============================] - 4s 2ms/step - loss: 0.6306 - accuracy: 0.7462 - val_loss: 0.6272 - val_accuracy: 0.7441 - lr: 0.0010\n",
      "Epoch 26/50\n",
      "1973/1973 [==============================] - 4s 2ms/step - loss: 0.6301 - accuracy: 0.7467 - val_loss: 0.6264 - val_accuracy: 0.7451 - lr: 0.0010\n",
      "Epoch 27/50\n",
      "1973/1973 [==============================] - 4s 2ms/step - loss: 0.6312 - accuracy: 0.7455 - val_loss: 0.6264 - val_accuracy: 0.7446 - lr: 0.0010\n",
      "Epoch 28/50\n",
      "1973/1973 [==============================] - 4s 2ms/step - loss: 0.6297 - accuracy: 0.7461 - val_loss: 0.6275 - val_accuracy: 0.7432 - lr: 0.0010\n",
      "Epoch 29/50\n",
      "1973/1973 [==============================] - 4s 2ms/step - loss: 0.6293 - accuracy: 0.7473 - val_loss: 0.6263 - val_accuracy: 0.7445 - lr: 0.0010\n",
      "Epoch 30/50\n",
      "1973/1973 [==============================] - 4s 2ms/step - loss: 0.6304 - accuracy: 0.7461 - val_loss: 0.6258 - val_accuracy: 0.7435 - lr: 0.0010\n",
      "Epoch 31/50\n",
      "1973/1973 [==============================] - 4s 2ms/step - loss: 0.6301 - accuracy: 0.7470 - val_loss: 0.6253 - val_accuracy: 0.7438 - lr: 0.0010\n",
      "Epoch 32/50\n",
      "1973/1973 [==============================] - 4s 2ms/step - loss: 0.6293 - accuracy: 0.7469 - val_loss: 0.6260 - val_accuracy: 0.7435 - lr: 0.0010\n",
      "Epoch 33/50\n",
      "1973/1973 [==============================] - 4s 2ms/step - loss: 0.6296 - accuracy: 0.7454 - val_loss: 0.6265 - val_accuracy: 0.7429 - lr: 0.0010\n",
      "Epoch 34/50\n",
      "1973/1973 [==============================] - 4s 2ms/step - loss: 0.6287 - accuracy: 0.7469 - val_loss: 0.6254 - val_accuracy: 0.7440 - lr: 0.0010\n",
      "Epoch 35/50\n",
      "1973/1973 [==============================] - 4s 2ms/step - loss: 0.6284 - accuracy: 0.7463 - val_loss: 0.6243 - val_accuracy: 0.7456 - lr: 5.0000e-04\n",
      "Epoch 36/50\n",
      "1973/1973 [==============================] - 4s 2ms/step - loss: 0.6269 - accuracy: 0.7474 - val_loss: 0.6244 - val_accuracy: 0.7458 - lr: 5.0000e-04\n",
      "Epoch 37/50\n",
      "1973/1973 [==============================] - 4s 2ms/step - loss: 0.6261 - accuracy: 0.7472 - val_loss: 0.6240 - val_accuracy: 0.7444 - lr: 5.0000e-04\n",
      "Epoch 38/50\n",
      "1973/1973 [==============================] - 4s 2ms/step - loss: 0.6276 - accuracy: 0.7480 - val_loss: 0.6241 - val_accuracy: 0.7447 - lr: 5.0000e-04\n",
      "Epoch 39/50\n",
      "1973/1973 [==============================] - 4s 2ms/step - loss: 0.6269 - accuracy: 0.7474 - val_loss: 0.6236 - val_accuracy: 0.7460 - lr: 5.0000e-04\n",
      "Epoch 40/50\n",
      "1973/1973 [==============================] - 4s 2ms/step - loss: 0.6269 - accuracy: 0.7475 - val_loss: 0.6246 - val_accuracy: 0.7432 - lr: 5.0000e-04\n",
      "Epoch 41/50\n",
      "1973/1973 [==============================] - 4s 2ms/step - loss: 0.6275 - accuracy: 0.7472 - val_loss: 0.6235 - val_accuracy: 0.7440 - lr: 5.0000e-04\n",
      "Epoch 42/50\n",
      "1973/1973 [==============================] - 4s 2ms/step - loss: 0.6272 - accuracy: 0.7470 - val_loss: 0.6238 - val_accuracy: 0.7444 - lr: 5.0000e-04\n",
      "Epoch 43/50\n",
      "1973/1973 [==============================] - 4s 2ms/step - loss: 0.6264 - accuracy: 0.7482 - val_loss: 0.6234 - val_accuracy: 0.7448 - lr: 5.0000e-04\n",
      "Epoch 44/50\n",
      "1973/1973 [==============================] - 4s 2ms/step - loss: 0.6276 - accuracy: 0.7482 - val_loss: 0.6231 - val_accuracy: 0.7455 - lr: 5.0000e-04\n",
      "Epoch 45/50\n",
      "1973/1973 [==============================] - 4s 2ms/step - loss: 0.6264 - accuracy: 0.7473 - val_loss: 0.6235 - val_accuracy: 0.7447 - lr: 5.0000e-04\n",
      "Epoch 46/50\n",
      "1973/1973 [==============================] - 4s 2ms/step - loss: 0.6272 - accuracy: 0.7471 - val_loss: 0.6236 - val_accuracy: 0.7455 - lr: 5.0000e-04\n",
      "Epoch 47/50\n",
      "1973/1973 [==============================] - 4s 2ms/step - loss: 0.6256 - accuracy: 0.7477 - val_loss: 0.6234 - val_accuracy: 0.7452 - lr: 5.0000e-04\n",
      "Epoch 48/50\n",
      "1973/1973 [==============================] - 4s 2ms/step - loss: 0.6252 - accuracy: 0.7476 - val_loss: 0.6226 - val_accuracy: 0.7443 - lr: 2.5000e-04\n",
      "Epoch 49/50\n",
      "1973/1973 [==============================] - 4s 2ms/step - loss: 0.6254 - accuracy: 0.7470 - val_loss: 0.6228 - val_accuracy: 0.7438 - lr: 2.5000e-04\n",
      "Epoch 50/50\n",
      "1973/1973 [==============================] - 4s 2ms/step - loss: 0.6247 - accuracy: 0.7486 - val_loss: 0.6224 - val_accuracy: 0.7448 - lr: 2.5000e-04\n"
     ]
    }
   ],
   "source": [
    "# Train the model\n",
    "history = ann_model.train_model(X_train=X_train_scaled, y_train=y_train,\n",
    "                      X_validation=X_val_scaled, y_validation=y_val,\n",
    "                      epoch=50, batch_size=32)"
   ]
  },
  {
   "cell_type": "code",
   "execution_count": 331,
   "metadata": {},
   "outputs": [
    {
     "name": "stdout",
     "output_type": "stream",
     "text": [
      "423/423 [==============================] - 1s 1ms/step - loss: 0.6249 - accuracy: 0.7428\n",
      "Test Accuracy: 0.74\n"
     ]
    }
   ],
   "source": [
    "# Evaluate on the test set\n",
    "ann_model.evaluate_accuracy(X_test=X_test_scaled, y_test=y_test)"
   ]
  },
  {
   "cell_type": "code",
   "execution_count": 332,
   "metadata": {},
   "outputs": [
    {
     "name": "stdout",
     "output_type": "stream",
     "text": [
      "423/423 [==============================] - 0s 1ms/step\n",
      "confusion matrix:\n",
      " [[ 785  578  264]\n",
      " [ 105 8583  283]\n",
      " [ 411 1838  677]]\n",
      "\n",
      "              precision    recall  f1-score   support\n",
      "\n",
      "           0       0.60      0.48      0.54      1627\n",
      "           1       0.78      0.96      0.86      8971\n",
      "           2       0.55      0.23      0.33      2926\n",
      "\n",
      "    accuracy                           0.74     13524\n",
      "   macro avg       0.65      0.56      0.57     13524\n",
      "weighted avg       0.71      0.74      0.71     13524\n",
      "\n"
     ]
    },
    {
     "data": {
      "image/png": "[encoded data removed]",
      "text/plain": [
       "<Figure size 640x480 with 2 Axes>"
      ]
     },
     "metadata": {},
     "output_type": "display_data"
    }
   ],
   "source": [
    "# predict on the model and print confusion matrix\n",
    "ann_model.predict_model(X_test=X_test_scaled, y_test=y_test)"
   ]
  },
  {
   "cell_type": "markdown",
   "metadata": {},
   "source": [
    "## Recommendation System"
   ]
  },
  {
   "cell_type": "code",
   "execution_count": 333,
   "metadata": {},
   "outputs": [],
   "source": [
    "# Generalized Matrix Factorization (GMF)\n",
    "# GMF-Based Outfit Recommender\n",
    "class OutfitRecommenderGMF:\n",
    "    def __init__(self, num_products, num_features, embedding_dim=8, learning_rate=0.001):\n",
    "        self.num_products = num_products\n",
    "        self.num_features = num_features\n",
    "        self.embedding_dim = embedding_dim\n",
    "        self.learning_rate = learning_rate\n",
    "        self.model = self.initialize_model()\n",
    "        \n",
    "    def initialize_model(self):\n",
    "        # Inputs\n",
    "        product_input = Input(shape=(1,), name=\"Product_Input\")\n",
    "        feature_input = Input(shape=(self.num_features,), name=\"Feature_Input\")\n",
    "\n",
    "        # Embedding layer for product\n",
    "        product_embedding = Embedding(input_dim=self.num_products, output_dim=self.embedding_dim, name=\"Product_Embedding\")(product_input)\n",
    "        product_embedding = Flatten()(product_embedding)\n",
    "\n",
    "        # Concatenate embeddings and features\n",
    "        concatenated = Concatenate()([product_embedding, feature_input])\n",
    "\n",
    "        # Dense layer for prediction\n",
    "        output = Dense(1, activation=\"linear\", name=\"Output\")(concatenated)\n",
    "\n",
    "        # Compile the model\n",
    "        model = Model(inputs=[product_input, feature_input], outputs=output)\n",
    "        model.compile(optimizer=Adam(learning_rate=self.learning_rate), loss=\"mse\", metrics=[\"mae\"])\n",
    "        return model\n",
    "\n",
    "    def train(self, product_codes, features, popularity, epochs=100, batch_size=32, verbose=1):\n",
    "        self.model.fit([product_codes, features], popularity, epochs=epochs, batch_size=batch_size, verbose=verbose, validation_split=0.2)\n",
    "\n",
    "    def predict(self, product_codes, features):\n",
    "        return self.model.predict([product_codes, features])\n",
    "\n",
    "    def recommend_outfit(self, product_codes, features, original_df, preference=\"popular\"):\n",
    "        predictions = self.predict(product_codes, features)\n",
    "        if preference == \"popular\":\n",
    "            recommended_idx = np.argmax(predictions)\n",
    "        else:  # Alternative, less popular\n",
    "            recommended_idx = np.argmin(predictions)\n",
    "        return original_df.iloc[recommended_idx]"
   ]
  },
  {
   "cell_type": "code",
   "execution_count": null,
   "metadata": {},
   "outputs": [],
   "source": [
    "\"\"\"\n",
    "categorical_features = ['product_group_name', 'index_code']\n",
    "for feature in categorical_features:\n",
    "    le = LabelEncoder()\n",
    "    modeldata_df[feature] = le.fit_transform(modeldata_df[feature])\n",
    "\"\"\"\n",
    "\n",
    "# helper.encode_strings(modeldata_df)"
   ]
  },
  {
   "cell_type": "code",
   "execution_count": 325,
   "metadata": {},
   "outputs": [],
   "source": [
    "product_codes = modeldata_df[\"product_code\"].values\n",
    "features = modeldata_df.drop([\"popularity\", \"product_code\"], axis=1).values\n",
    "popularity = modeldata_df[\"popularity\"].values"
   ]
  },
  {
   "cell_type": "code",
   "execution_count": 326,
   "metadata": {},
   "outputs": [],
   "source": [
    "# standard scaler\n",
    "scaler = StandardScaler()\n",
    "features = scaler.fit_transform(features)"
   ]
  },
  {
   "cell_type": "code",
   "execution_count": 327,
   "metadata": {},
   "outputs": [],
   "source": [
    "prod_train, prod_test, feat_train, feat_test, pop_train, pop_test = train_test_split(\n",
    "        product_codes, features, popularity, test_size=0.2, random_state=42)"
   ]
  },
  {
   "cell_type": "code",
   "execution_count": 328,
   "metadata": {},
   "outputs": [
    {
     "data": {
      "text/plain": [
       "41026"
      ]
     },
     "execution_count": 328,
     "metadata": {},
     "output_type": "execute_result"
    }
   ],
   "source": [
    "product_encoder = LabelEncoder()\n",
    "modeldata_df_copy = modeldata_df\n",
    "modeldata_df_copy[\"product_code\"] = product_encoder.fit_transform(modeldata_df_copy[\"product_code\"])\n",
    "\n",
    "product_codes = modeldata_df_copy[\"product_code\"].values\n",
    "\n",
    "len(product_encoder.classes_)"
   ]
  },
  {
   "cell_type": "code",
   "execution_count": 329,
   "metadata": {},
   "outputs": [
    {
     "data": {
      "text/plain": [
       "41026"
      ]
     },
     "execution_count": 329,
     "metadata": {},
     "output_type": "execute_result"
    }
   ],
   "source": [
    "len(modeldata_df[\"product_code\"].value_counts().index)"
   ]
  },
  {
   "cell_type": "code",
   "execution_count": 330,
   "metadata": {},
   "outputs": [
    {
     "name": "stdout",
     "output_type": "stream",
     "text": [
      "Epoch 1/200\n"
     ]
    },
    {
     "name": "stderr",
     "output_type": "stream",
     "text": [
      "2024-12-12 23:18:37.977089: I tensorflow/core/common_runtime/executor.cc:1197] [/job:localhost/replica:0/task:0/device:CPU:0] (DEBUG INFO) Executor start aborting (this does not indicate an error and you can ignore this message): INVALID_ARGUMENT: indices[0,0] = 925664 is not in [0, 41026)\n",
      "\t [[{{node model_7/Product_Embedding/embedding_lookup}}]]\n"
     ]
    },
    {
     "ename": "InvalidArgumentError",
     "evalue": "Graph execution error:\n\nDetected at node 'model_7/Product_Embedding/embedding_lookup' defined at (most recent call last):\n    File \"/opt/anaconda3/envs/Cohort-Env/lib/python3.8/runpy.py\", line 194, in _run_module_as_main\n      return _run_code(code, main_globals, None,\n    File \"/opt/anaconda3/envs/Cohort-Env/lib/python3.8/runpy.py\", line 87, in _run_code\n      exec(code, run_globals)\n    File \"/opt/anaconda3/envs/Cohort-Env/lib/python3.8/site-packages/ipykernel_launcher.py\", line 18, in <module>\n      app.launch_new_instance()\n    File \"/opt/anaconda3/envs/Cohort-Env/lib/python3.8/site-packages/traitlets/config/application.py\", line 1075, in launch_instance\n      app.start()\n    File \"/opt/anaconda3/envs/Cohort-Env/lib/python3.8/site-packages/ipykernel/kernelapp.py\", line 739, in start\n      self.io_loop.start()\n    File \"/opt/anaconda3/envs/Cohort-Env/lib/python3.8/site-packages/tornado/platform/asyncio.py\", line 205, in start\n      self.asyncio_loop.run_forever()\n    File \"/opt/anaconda3/envs/Cohort-Env/lib/python3.8/asyncio/base_events.py\", line 570, in run_forever\n      self._run_once()\n    File \"/opt/anaconda3/envs/Cohort-Env/lib/python3.8/asyncio/base_events.py\", line 1859, in _run_once\n      handle._run()\n    File \"/opt/anaconda3/envs/Cohort-Env/lib/python3.8/asyncio/events.py\", line 81, in _run\n      self._context.run(self._callback, *self._args)\n    File \"/opt/anaconda3/envs/Cohort-Env/lib/python3.8/site-packages/ipykernel/kernelbase.py\", line 545, in dispatch_queue\n      await self.process_one()\n    File \"/opt/anaconda3/envs/Cohort-Env/lib/python3.8/site-packages/ipykernel/kernelbase.py\", line 534, in process_one\n      await dispatch(*args)\n    File \"/opt/anaconda3/envs/Cohort-Env/lib/python3.8/site-packages/ipykernel/kernelbase.py\", line 437, in dispatch_shell\n      await result\n    File \"/opt/anaconda3/envs/Cohort-Env/lib/python3.8/site-packages/ipykernel/ipkernel.py\", line 362, in execute_request\n      await super().execute_request(stream, ident, parent)\n    File \"/opt/anaconda3/envs/Cohort-Env/lib/python3.8/site-packages/ipykernel/kernelbase.py\", line 778, in execute_request\n      reply_content = await reply_content\n    File \"/opt/anaconda3/envs/Cohort-Env/lib/python3.8/site-packages/ipykernel/ipkernel.py\", line 449, in do_execute\n      res = shell.run_cell(\n    File \"/opt/anaconda3/envs/Cohort-Env/lib/python3.8/site-packages/ipykernel/zmqshell.py\", line 549, in run_cell\n      return super().run_cell(*args, **kwargs)\n    File \"/opt/anaconda3/envs/Cohort-Env/lib/python3.8/site-packages/IPython/core/interactiveshell.py\", line 3009, in run_cell\n      result = self._run_cell(\n    File \"/opt/anaconda3/envs/Cohort-Env/lib/python3.8/site-packages/IPython/core/interactiveshell.py\", line 3064, in _run_cell\n      result = runner(coro)\n    File \"/opt/anaconda3/envs/Cohort-Env/lib/python3.8/site-packages/IPython/core/async_helpers.py\", line 129, in _pseudo_sync_runner\n      coro.send(None)\n    File \"/opt/anaconda3/envs/Cohort-Env/lib/python3.8/site-packages/IPython/core/interactiveshell.py\", line 3269, in run_cell_async\n      has_raised = await self.run_ast_nodes(code_ast.body, cell_name,\n    File \"/opt/anaconda3/envs/Cohort-Env/lib/python3.8/site-packages/IPython/core/interactiveshell.py\", line 3448, in run_ast_nodes\n      if await self.run_code(code, result, async_=asy):\n    File \"/opt/anaconda3/envs/Cohort-Env/lib/python3.8/site-packages/IPython/core/interactiveshell.py\", line 3508, in run_code\n      exec(code_obj, self.user_global_ns, self.user_ns)\n    File \"/var/folders/8g/m6zcqnnd1p36dhf35mwkv0zw0000gn/T/ipykernel_48105/408820654.py\", line 5, in <module>\n      recommender.train(prod_train, feat_train, pop_train, epochs=200, batch_size=16)\n    File \"/var/folders/8g/m6zcqnnd1p36dhf35mwkv0zw0000gn/T/ipykernel_48105/2608761856.py\", line 32, in train\n      self.model.fit([product_codes, features], popularity, epochs=epochs, batch_size=batch_size, verbose=verbose, validation_split=0.2)\n    File \"/opt/anaconda3/envs/Cohort-Env/lib/python3.8/site-packages/keras/utils/traceback_utils.py\", line 65, in error_handler\n      return fn(*args, **kwargs)\n    File \"/opt/anaconda3/envs/Cohort-Env/lib/python3.8/site-packages/keras/engine/training.py\", line 1685, in fit\n      tmp_logs = self.train_function(iterator)\n    File \"/opt/anaconda3/envs/Cohort-Env/lib/python3.8/site-packages/keras/engine/training.py\", line 1284, in train_function\n      return step_function(self, iterator)\n    File \"/opt/anaconda3/envs/Cohort-Env/lib/python3.8/site-packages/keras/engine/training.py\", line 1268, in step_function\n      outputs = model.distribute_strategy.run(run_step, args=(data,))\n    File \"/opt/anaconda3/envs/Cohort-Env/lib/python3.8/site-packages/keras/engine/training.py\", line 1249, in run_step\n      outputs = model.train_step(data)\n    File \"/opt/anaconda3/envs/Cohort-Env/lib/python3.8/site-packages/keras/engine/training.py\", line 1050, in train_step\n      y_pred = self(x, training=True)\n    File \"/opt/anaconda3/envs/Cohort-Env/lib/python3.8/site-packages/keras/utils/traceback_utils.py\", line 65, in error_handler\n      return fn(*args, **kwargs)\n    File \"/opt/anaconda3/envs/Cohort-Env/lib/python3.8/site-packages/keras/engine/training.py\", line 558, in __call__\n      return super().__call__(*args, **kwargs)\n    File \"/opt/anaconda3/envs/Cohort-Env/lib/python3.8/site-packages/keras/utils/traceback_utils.py\", line 65, in error_handler\n      return fn(*args, **kwargs)\n    File \"/opt/anaconda3/envs/Cohort-Env/lib/python3.8/site-packages/keras/engine/base_layer.py\", line 1145, in __call__\n      outputs = call_fn(inputs, *args, **kwargs)\n    File \"/opt/anaconda3/envs/Cohort-Env/lib/python3.8/site-packages/keras/utils/traceback_utils.py\", line 96, in error_handler\n      return fn(*args, **kwargs)\n    File \"/opt/anaconda3/envs/Cohort-Env/lib/python3.8/site-packages/keras/engine/functional.py\", line 512, in call\n      return self._run_internal_graph(inputs, training=training, mask=mask)\n    File \"/opt/anaconda3/envs/Cohort-Env/lib/python3.8/site-packages/keras/engine/functional.py\", line 669, in _run_internal_graph\n      outputs = node.layer(*args, **kwargs)\n    File \"/opt/anaconda3/envs/Cohort-Env/lib/python3.8/site-packages/keras/utils/traceback_utils.py\", line 65, in error_handler\n      return fn(*args, **kwargs)\n    File \"/opt/anaconda3/envs/Cohort-Env/lib/python3.8/site-packages/keras/engine/base_layer.py\", line 1145, in __call__\n      outputs = call_fn(inputs, *args, **kwargs)\n    File \"/opt/anaconda3/envs/Cohort-Env/lib/python3.8/site-packages/keras/utils/traceback_utils.py\", line 96, in error_handler\n      return fn(*args, **kwargs)\n    File \"/opt/anaconda3/envs/Cohort-Env/lib/python3.8/site-packages/keras/layers/core/embedding.py\", line 272, in call\n      out = tf.nn.embedding_lookup(self.embeddings, inputs)\nNode: 'model_7/Product_Embedding/embedding_lookup'\nindices[0,0] = 925664 is not in [0, 41026)\n\t [[{{node model_7/Product_Embedding/embedding_lookup}}]] [Op:__inference_train_function_13421030]",
     "output_type": "error",
     "traceback": [
      "\u001b[0;31m---------------------------------------------------------------------------\u001b[0m",
      "\u001b[0;31mInvalidArgumentError\u001b[0m                      Traceback (most recent call last)",
      "Cell \u001b[0;32mIn[330], line 5\u001b[0m\n\u001b[1;32m      2\u001b[0m num_products \u001b[38;5;241m=\u001b[39m \u001b[38;5;28mlen\u001b[39m(modeldata_df[\u001b[38;5;124m\"\u001b[39m\u001b[38;5;124mproduct_code\u001b[39m\u001b[38;5;124m\"\u001b[39m]\u001b[38;5;241m.\u001b[39mvalue_counts()\u001b[38;5;241m.\u001b[39mindex)\n\u001b[1;32m      4\u001b[0m recommender \u001b[38;5;241m=\u001b[39m OutfitRecommenderGMF(num_products\u001b[38;5;241m=\u001b[39mnum_products, num_features\u001b[38;5;241m=\u001b[39mfeatures\u001b[38;5;241m.\u001b[39mshape[\u001b[38;5;241m1\u001b[39m], embedding_dim\u001b[38;5;241m=\u001b[39m\u001b[38;5;241m8\u001b[39m, learning_rate\u001b[38;5;241m=\u001b[39m\u001b[38;5;241m0.001\u001b[39m)\n\u001b[0;32m----> 5\u001b[0m \u001b[43mrecommender\u001b[49m\u001b[38;5;241;43m.\u001b[39;49m\u001b[43mtrain\u001b[49m\u001b[43m(\u001b[49m\u001b[43mprod_train\u001b[49m\u001b[43m,\u001b[49m\u001b[43m \u001b[49m\u001b[43mfeat_train\u001b[49m\u001b[43m,\u001b[49m\u001b[43m \u001b[49m\u001b[43mpop_train\u001b[49m\u001b[43m,\u001b[49m\u001b[43m \u001b[49m\u001b[43mepochs\u001b[49m\u001b[38;5;241;43m=\u001b[39;49m\u001b[38;5;241;43m200\u001b[39;49m\u001b[43m,\u001b[49m\u001b[43m \u001b[49m\u001b[43mbatch_size\u001b[49m\u001b[38;5;241;43m=\u001b[39;49m\u001b[38;5;241;43m16\u001b[39;49m\u001b[43m)\u001b[49m\n",
      "Cell \u001b[0;32mIn[323], line 32\u001b[0m, in \u001b[0;36mOutfitRecommenderGMF.train\u001b[0;34m(self, product_codes, features, popularity, epochs, batch_size, verbose)\u001b[0m\n\u001b[1;32m     31\u001b[0m \u001b[38;5;28;01mdef\u001b[39;00m \u001b[38;5;21mtrain\u001b[39m(\u001b[38;5;28mself\u001b[39m, product_codes, features, popularity, epochs\u001b[38;5;241m=\u001b[39m\u001b[38;5;241m100\u001b[39m, batch_size\u001b[38;5;241m=\u001b[39m\u001b[38;5;241m32\u001b[39m, verbose\u001b[38;5;241m=\u001b[39m\u001b[38;5;241m1\u001b[39m):\n\u001b[0;32m---> 32\u001b[0m     \u001b[38;5;28;43mself\u001b[39;49m\u001b[38;5;241;43m.\u001b[39;49m\u001b[43mmodel\u001b[49m\u001b[38;5;241;43m.\u001b[39;49m\u001b[43mfit\u001b[49m\u001b[43m(\u001b[49m\u001b[43m[\u001b[49m\u001b[43mproduct_codes\u001b[49m\u001b[43m,\u001b[49m\u001b[43m \u001b[49m\u001b[43mfeatures\u001b[49m\u001b[43m]\u001b[49m\u001b[43m,\u001b[49m\u001b[43m \u001b[49m\u001b[43mpopularity\u001b[49m\u001b[43m,\u001b[49m\u001b[43m \u001b[49m\u001b[43mepochs\u001b[49m\u001b[38;5;241;43m=\u001b[39;49m\u001b[43mepochs\u001b[49m\u001b[43m,\u001b[49m\u001b[43m \u001b[49m\u001b[43mbatch_size\u001b[49m\u001b[38;5;241;43m=\u001b[39;49m\u001b[43mbatch_size\u001b[49m\u001b[43m,\u001b[49m\u001b[43m \u001b[49m\u001b[43mverbose\u001b[49m\u001b[38;5;241;43m=\u001b[39;49m\u001b[43mverbose\u001b[49m\u001b[43m,\u001b[49m\u001b[43m \u001b[49m\u001b[43mvalidation_split\u001b[49m\u001b[38;5;241;43m=\u001b[39;49m\u001b[38;5;241;43m0.2\u001b[39;49m\u001b[43m)\u001b[49m\n",
      "File \u001b[0;32m/opt/anaconda3/envs/Cohort-Env/lib/python3.8/site-packages/keras/utils/traceback_utils.py:70\u001b[0m, in \u001b[0;36mfilter_traceback.<locals>.error_handler\u001b[0;34m(*args, **kwargs)\u001b[0m\n\u001b[1;32m     67\u001b[0m     filtered_tb \u001b[38;5;241m=\u001b[39m _process_traceback_frames(e\u001b[38;5;241m.\u001b[39m__traceback__)\n\u001b[1;32m     68\u001b[0m     \u001b[38;5;66;03m# To get the full stack trace, call:\u001b[39;00m\n\u001b[1;32m     69\u001b[0m     \u001b[38;5;66;03m# `tf.debugging.disable_traceback_filtering()`\u001b[39;00m\n\u001b[0;32m---> 70\u001b[0m     \u001b[38;5;28;01mraise\u001b[39;00m e\u001b[38;5;241m.\u001b[39mwith_traceback(filtered_tb) \u001b[38;5;28;01mfrom\u001b[39;00m \u001b[38;5;28;01mNone\u001b[39;00m\n\u001b[1;32m     71\u001b[0m \u001b[38;5;28;01mfinally\u001b[39;00m:\n\u001b[1;32m     72\u001b[0m     \u001b[38;5;28;01mdel\u001b[39;00m filtered_tb\n",
      "File \u001b[0;32m/opt/anaconda3/envs/Cohort-Env/lib/python3.8/site-packages/tensorflow/python/eager/execute.py:52\u001b[0m, in \u001b[0;36mquick_execute\u001b[0;34m(op_name, num_outputs, inputs, attrs, ctx, name)\u001b[0m\n\u001b[1;32m     50\u001b[0m \u001b[38;5;28;01mtry\u001b[39;00m:\n\u001b[1;32m     51\u001b[0m   ctx\u001b[38;5;241m.\u001b[39mensure_initialized()\n\u001b[0;32m---> 52\u001b[0m   tensors \u001b[38;5;241m=\u001b[39m pywrap_tfe\u001b[38;5;241m.\u001b[39mTFE_Py_Execute(ctx\u001b[38;5;241m.\u001b[39m_handle, device_name, op_name,\n\u001b[1;32m     53\u001b[0m                                       inputs, attrs, num_outputs)\n\u001b[1;32m     54\u001b[0m \u001b[38;5;28;01mexcept\u001b[39;00m core\u001b[38;5;241m.\u001b[39m_NotOkStatusException \u001b[38;5;28;01mas\u001b[39;00m e:\n\u001b[1;32m     55\u001b[0m   \u001b[38;5;28;01mif\u001b[39;00m name \u001b[38;5;129;01mis\u001b[39;00m \u001b[38;5;129;01mnot\u001b[39;00m \u001b[38;5;28;01mNone\u001b[39;00m:\n",
      "\u001b[0;31mInvalidArgumentError\u001b[0m: Graph execution error:\n\nDetected at node 'model_7/Product_Embedding/embedding_lookup' defined at (most recent call last):\n    File \"/opt/anaconda3/envs/Cohort-Env/lib/python3.8/runpy.py\", line 194, in _run_module_as_main\n      return _run_code(code, main_globals, None,\n    File \"/opt/anaconda3/envs/Cohort-Env/lib/python3.8/runpy.py\", line 87, in _run_code\n      exec(code, run_globals)\n    File \"/opt/anaconda3/envs/Cohort-Env/lib/python3.8/site-packages/ipykernel_launcher.py\", line 18, in <module>\n      app.launch_new_instance()\n    File \"/opt/anaconda3/envs/Cohort-Env/lib/python3.8/site-packages/traitlets/config/application.py\", line 1075, in launch_instance\n      app.start()\n    File \"/opt/anaconda3/envs/Cohort-Env/lib/python3.8/site-packages/ipykernel/kernelapp.py\", line 739, in start\n      self.io_loop.start()\n    File \"/opt/anaconda3/envs/Cohort-Env/lib/python3.8/site-packages/tornado/platform/asyncio.py\", line 205, in start\n      self.asyncio_loop.run_forever()\n    File \"/opt/anaconda3/envs/Cohort-Env/lib/python3.8/asyncio/base_events.py\", line 570, in run_forever\n      self._run_once()\n    File \"/opt/anaconda3/envs/Cohort-Env/lib/python3.8/asyncio/base_events.py\", line 1859, in _run_once\n      handle._run()\n    File \"/opt/anaconda3/envs/Cohort-Env/lib/python3.8/asyncio/events.py\", line 81, in _run\n      self._context.run(self._callback, *self._args)\n    File \"/opt/anaconda3/envs/Cohort-Env/lib/python3.8/site-packages/ipykernel/kernelbase.py\", line 545, in dispatch_queue\n      await self.process_one()\n    File \"/opt/anaconda3/envs/Cohort-Env/lib/python3.8/site-packages/ipykernel/kernelbase.py\", line 534, in process_one\n      await dispatch(*args)\n    File \"/opt/anaconda3/envs/Cohort-Env/lib/python3.8/site-packages/ipykernel/kernelbase.py\", line 437, in dispatch_shell\n      await result\n    File \"/opt/anaconda3/envs/Cohort-Env/lib/python3.8/site-packages/ipykernel/ipkernel.py\", line 362, in execute_request\n      await super().execute_request(stream, ident, parent)\n    File \"/opt/anaconda3/envs/Cohort-Env/lib/python3.8/site-packages/ipykernel/kernelbase.py\", line 778, in execute_request\n      reply_content = await reply_content\n    File \"/opt/anaconda3/envs/Cohort-Env/lib/python3.8/site-packages/ipykernel/ipkernel.py\", line 449, in do_execute\n      res = shell.run_cell(\n    File \"/opt/anaconda3/envs/Cohort-Env/lib/python3.8/site-packages/ipykernel/zmqshell.py\", line 549, in run_cell\n      return super().run_cell(*args, **kwargs)\n    File \"/opt/anaconda3/envs/Cohort-Env/lib/python3.8/site-packages/IPython/core/interactiveshell.py\", line 3009, in run_cell\n      result = self._run_cell(\n    File \"/opt/anaconda3/envs/Cohort-Env/lib/python3.8/site-packages/IPython/core/interactiveshell.py\", line 3064, in _run_cell\n      result = runner(coro)\n    File \"/opt/anaconda3/envs/Cohort-Env/lib/python3.8/site-packages/IPython/core/async_helpers.py\", line 129, in _pseudo_sync_runner\n      coro.send(None)\n    File \"/opt/anaconda3/envs/Cohort-Env/lib/python3.8/site-packages/IPython/core/interactiveshell.py\", line 3269, in run_cell_async\n      has_raised = await self.run_ast_nodes(code_ast.body, cell_name,\n    File \"/opt/anaconda3/envs/Cohort-Env/lib/python3.8/site-packages/IPython/core/interactiveshell.py\", line 3448, in run_ast_nodes\n      if await self.run_code(code, result, async_=asy):\n    File \"/opt/anaconda3/envs/Cohort-Env/lib/python3.8/site-packages/IPython/core/interactiveshell.py\", line 3508, in run_code\n      exec(code_obj, self.user_global_ns, self.user_ns)\n    File \"/var/folders/8g/m6zcqnnd1p36dhf35mwkv0zw0000gn/T/ipykernel_48105/408820654.py\", line 5, in <module>\n      recommender.train(prod_train, feat_train, pop_train, epochs=200, batch_size=16)\n    File \"/var/folders/8g/m6zcqnnd1p36dhf35mwkv0zw0000gn/T/ipykernel_48105/2608761856.py\", line 32, in train\n      self.model.fit([product_codes, features], popularity, epochs=epochs, batch_size=batch_size, verbose=verbose, validation_split=0.2)\n    File \"/opt/anaconda3/envs/Cohort-Env/lib/python3.8/site-packages/keras/utils/traceback_utils.py\", line 65, in error_handler\n      return fn(*args, **kwargs)\n    File \"/opt/anaconda3/envs/Cohort-Env/lib/python3.8/site-packages/keras/engine/training.py\", line 1685, in fit\n      tmp_logs = self.train_function(iterator)\n    File \"/opt/anaconda3/envs/Cohort-Env/lib/python3.8/site-packages/keras/engine/training.py\", line 1284, in train_function\n      return step_function(self, iterator)\n    File \"/opt/anaconda3/envs/Cohort-Env/lib/python3.8/site-packages/keras/engine/training.py\", line 1268, in step_function\n      outputs = model.distribute_strategy.run(run_step, args=(data,))\n    File \"/opt/anaconda3/envs/Cohort-Env/lib/python3.8/site-packages/keras/engine/training.py\", line 1249, in run_step\n      outputs = model.train_step(data)\n    File \"/opt/anaconda3/envs/Cohort-Env/lib/python3.8/site-packages/keras/engine/training.py\", line 1050, in train_step\n      y_pred = self(x, training=True)\n    File \"/opt/anaconda3/envs/Cohort-Env/lib/python3.8/site-packages/keras/utils/traceback_utils.py\", line 65, in error_handler\n      return fn(*args, **kwargs)\n    File \"/opt/anaconda3/envs/Cohort-Env/lib/python3.8/site-packages/keras/engine/training.py\", line 558, in __call__\n      return super().__call__(*args, **kwargs)\n    File \"/opt/anaconda3/envs/Cohort-Env/lib/python3.8/site-packages/keras/utils/traceback_utils.py\", line 65, in error_handler\n      return fn(*args, **kwargs)\n    File \"/opt/anaconda3/envs/Cohort-Env/lib/python3.8/site-packages/keras/engine/base_layer.py\", line 1145, in __call__\n      outputs = call_fn(inputs, *args, **kwargs)\n    File \"/opt/anaconda3/envs/Cohort-Env/lib/python3.8/site-packages/keras/utils/traceback_utils.py\", line 96, in error_handler\n      return fn(*args, **kwargs)\n    File \"/opt/anaconda3/envs/Cohort-Env/lib/python3.8/site-packages/keras/engine/functional.py\", line 512, in call\n      return self._run_internal_graph(inputs, training=training, mask=mask)\n    File \"/opt/anaconda3/envs/Cohort-Env/lib/python3.8/site-packages/keras/engine/functional.py\", line 669, in _run_internal_graph\n      outputs = node.layer(*args, **kwargs)\n    File \"/opt/anaconda3/envs/Cohort-Env/lib/python3.8/site-packages/keras/utils/traceback_utils.py\", line 65, in error_handler\n      return fn(*args, **kwargs)\n    File \"/opt/anaconda3/envs/Cohort-Env/lib/python3.8/site-packages/keras/engine/base_layer.py\", line 1145, in __call__\n      outputs = call_fn(inputs, *args, **kwargs)\n    File \"/opt/anaconda3/envs/Cohort-Env/lib/python3.8/site-packages/keras/utils/traceback_utils.py\", line 96, in error_handler\n      return fn(*args, **kwargs)\n    File \"/opt/anaconda3/envs/Cohort-Env/lib/python3.8/site-packages/keras/layers/core/embedding.py\", line 272, in call\n      out = tf.nn.embedding_lookup(self.embeddings, inputs)\nNode: 'model_7/Product_Embedding/embedding_lookup'\nindices[0,0] = 925664 is not in [0, 41026)\n\t [[{{node model_7/Product_Embedding/embedding_lookup}}]] [Op:__inference_train_function_13421030]"
     ]
    }
   ],
   "source": [
    " # Create and Train the Model\n",
    "num_products = len(modeldata_df[\"product_code\"].value_counts().index)\n",
    "\n",
    "recommender = OutfitRecommenderGMF(num_products=num_products, num_features=features.shape[1], embedding_dim=8, learning_rate=0.001)\n",
    "recommender.train(prod_train, feat_train, pop_train, epochs=200, batch_size=16)"
   ]
  },
  {
   "cell_type": "markdown",
   "metadata": {},
   "source": [
    "## Getting User Input"
   ]
  },
  {
   "cell_type": "code",
   "execution_count": 341,
   "metadata": {},
   "outputs": [],
   "source": [
    "# ask customer for user input\n",
    "\n",
    "# give multiple choice\n",
    "user_outfit_type = int(input(\"What type of garmet are you looking for? Top: 1, Bottoms: 2, Dress: 3, Accessories: 4, Swimwear: 5, Bags: 6\"))\n",
    "\n",
    "# give multiple choice\n",
    "user_preference = int(input(\"Do you want something popular or alternative? Popular: 1, Alternative: 2\"))"
   ]
  },
  {
   "cell_type": "code",
   "execution_count": 342,
   "metadata": {},
   "outputs": [],
   "source": [
    "# Filter Data Based on User Input\n",
    "filtered_df = modeldata_df[modeldata_df[\"product_group_name\"] == user_outfit_type]\n",
    "filtered_product_codes = filtered_df[\"product_code\"].values\n",
    "filtered_features = scaler.transform(filtered_df.drop([\"popularity\", \"product_code\"], axis=1).values)"
   ]
  },
  {
   "cell_type": "code",
   "execution_count": null,
   "metadata": {},
   "outputs": [
    {
     "name": "stdout",
     "output_type": "stream",
     "text": [
      "416/416 [==============================] - 1s 1ms/step\n",
      "Recommended Outfit Based on Your Preference:\n",
      " 1820\n"
     ]
    }
   ],
   "source": [
    "# need to change it to be the product name from the code\n",
    "recommended_outfit = recommender.recommend_outfit(filtered_product_codes, filtered_features, modeldata_df, preference=user_preference)\n",
    "print(\"Recommended Outfit Based on Your Preference:\\n\", recommended_outfit[\"product_code\"])"
   ]
  },
  {
   "cell_type": "code",
   "execution_count": null,
   "metadata": {},
   "outputs": [],
   "source": []
  }
 ],
 "metadata": {
  "kernelspec": {
   "display_name": "Cohort-Env",
   "language": "python",
   "name": "python3"
  },
  "language_info": {
   "codemirror_mode": {
    "name": "ipython",
    "version": 3
   },
   "file_extension": ".py",
   "mimetype": "text/x-python",
   "name": "python",
   "nbconvert_exporter": "python",
   "pygments_lexer": "ipython3",
   "version": "3.8.18"
  }
 },
 "nbformat": 4,
 "nbformat_minor": 2
}
