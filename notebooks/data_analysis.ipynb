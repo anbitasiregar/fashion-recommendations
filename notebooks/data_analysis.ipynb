{
 "cells": [
  {
   "cell_type": "markdown",
   "metadata": {},
   "source": [
    "# Analysis of Fashion data"
   ]
  },
  {
   "cell_type": "markdown",
   "metadata": {},
   "source": [
    "## Overview\n",
    "This [dataset](https://www.kaggle.com/competitions/h-and-m-personalized-fashion-recommendations/data) comes from Kaggle and details purchase history from the popular clothing store H&M from September 20, 2018 to September 22, 2020. We will use this data to:\n",
    "1. analyze purchase and clothing trends.\n",
    "2. provide outfit recommendations to repeat customers of H&M."
   ]
  },
  {
   "cell_type": "markdown",
   "metadata": {},
   "source": [
    "## Business Problem\n",
    "This analysis is great for H&M but also other retailers to use for their customers to recommend outfits that are popular, based on purchase data.\n",
    "\n",
    "# TODO"
   ]
  },
  {
   "cell_type": "markdown",
   "metadata": {},
   "source": [
    "## Data Understanding\n",
    "There are 3 datasets we will explore. `articles.csv` has descriptive data on different articles of clothing sold at H&M, `customers.csv` has metadata on H&M customers, and `transactions_train.csv` is our training data for our model and contains data on each transaction within the two-year timeframe described above."
   ]
  },
  {
   "cell_type": "markdown",
   "metadata": {},
   "source": [
    "### Loading the datasets"
   ]
  },
  {
   "cell_type": "code",
   "execution_count": 59,
   "metadata": {},
   "outputs": [
    {
     "data": {
      "text/plain": [
       "<module 'helper' from '/Users/macbook/Documents/Flatiron/Cohort-Repos/assessments/phase4-project/fashion-recommendations/notebooks/helper.py'>"
      ]
     },
     "execution_count": 59,
     "metadata": {},
     "output_type": "execute_result"
    }
   ],
   "source": [
    "import pandas as pd\n",
    "import numpy as np\n",
    "\n",
    "import matplotlib.pyplot as plt\n",
    "import seaborn as sns\n",
    "\n",
    "from scipy.stats import f_oneway, ttest_ind\n",
    "from sklearn.cluster import KMeans\n",
    "from sklearn.metrics import silhouette_score\n",
    "\n",
    "import helper\n",
    "\n",
    "# to get the newest version of helper\n",
    "import importlib\n",
    "importlib.reload(helper)"
   ]
  },
  {
   "cell_type": "code",
   "execution_count": 3,
   "metadata": {},
   "outputs": [
    {
     "data": {
      "text/html": [
       "<div>\n",
       "<style scoped>\n",
       "    .dataframe tbody tr th:only-of-type {\n",
       "        vertical-align: middle;\n",
       "    }\n",
       "\n",
       "    .dataframe tbody tr th {\n",
       "        vertical-align: top;\n",
       "    }\n",
       "\n",
       "    .dataframe thead th {\n",
       "        text-align: right;\n",
       "    }\n",
       "</style>\n",
       "<table border=\"1\" class=\"dataframe\">\n",
       "  <thead>\n",
       "    <tr style=\"text-align: right;\">\n",
       "      <th></th>\n",
       "      <th>article_id</th>\n",
       "      <th>product_code</th>\n",
       "      <th>prod_name</th>\n",
       "      <th>product_type_no</th>\n",
       "      <th>product_type_name</th>\n",
       "      <th>product_group_name</th>\n",
       "      <th>graphical_appearance_no</th>\n",
       "      <th>graphical_appearance_name</th>\n",
       "      <th>colour_group_code</th>\n",
       "      <th>colour_group_name</th>\n",
       "      <th>...</th>\n",
       "      <th>department_name</th>\n",
       "      <th>index_code</th>\n",
       "      <th>index_name</th>\n",
       "      <th>index_group_no</th>\n",
       "      <th>index_group_name</th>\n",
       "      <th>section_no</th>\n",
       "      <th>section_name</th>\n",
       "      <th>garment_group_no</th>\n",
       "      <th>garment_group_name</th>\n",
       "      <th>detail_desc</th>\n",
       "    </tr>\n",
       "  </thead>\n",
       "  <tbody>\n",
       "    <tr>\n",
       "      <th>0</th>\n",
       "      <td>108775015</td>\n",
       "      <td>108775</td>\n",
       "      <td>Strap top</td>\n",
       "      <td>253</td>\n",
       "      <td>Vest top</td>\n",
       "      <td>Garment Upper body</td>\n",
       "      <td>1010016</td>\n",
       "      <td>Solid</td>\n",
       "      <td>9</td>\n",
       "      <td>Black</td>\n",
       "      <td>...</td>\n",
       "      <td>Jersey Basic</td>\n",
       "      <td>A</td>\n",
       "      <td>Ladieswear</td>\n",
       "      <td>1</td>\n",
       "      <td>Ladieswear</td>\n",
       "      <td>16</td>\n",
       "      <td>Womens Everyday Basics</td>\n",
       "      <td>1002</td>\n",
       "      <td>Jersey Basic</td>\n",
       "      <td>Jersey top with narrow shoulder straps.</td>\n",
       "    </tr>\n",
       "    <tr>\n",
       "      <th>1</th>\n",
       "      <td>108775044</td>\n",
       "      <td>108775</td>\n",
       "      <td>Strap top</td>\n",
       "      <td>253</td>\n",
       "      <td>Vest top</td>\n",
       "      <td>Garment Upper body</td>\n",
       "      <td>1010016</td>\n",
       "      <td>Solid</td>\n",
       "      <td>10</td>\n",
       "      <td>White</td>\n",
       "      <td>...</td>\n",
       "      <td>Jersey Basic</td>\n",
       "      <td>A</td>\n",
       "      <td>Ladieswear</td>\n",
       "      <td>1</td>\n",
       "      <td>Ladieswear</td>\n",
       "      <td>16</td>\n",
       "      <td>Womens Everyday Basics</td>\n",
       "      <td>1002</td>\n",
       "      <td>Jersey Basic</td>\n",
       "      <td>Jersey top with narrow shoulder straps.</td>\n",
       "    </tr>\n",
       "    <tr>\n",
       "      <th>2</th>\n",
       "      <td>108775051</td>\n",
       "      <td>108775</td>\n",
       "      <td>Strap top (1)</td>\n",
       "      <td>253</td>\n",
       "      <td>Vest top</td>\n",
       "      <td>Garment Upper body</td>\n",
       "      <td>1010017</td>\n",
       "      <td>Stripe</td>\n",
       "      <td>11</td>\n",
       "      <td>Off White</td>\n",
       "      <td>...</td>\n",
       "      <td>Jersey Basic</td>\n",
       "      <td>A</td>\n",
       "      <td>Ladieswear</td>\n",
       "      <td>1</td>\n",
       "      <td>Ladieswear</td>\n",
       "      <td>16</td>\n",
       "      <td>Womens Everyday Basics</td>\n",
       "      <td>1002</td>\n",
       "      <td>Jersey Basic</td>\n",
       "      <td>Jersey top with narrow shoulder straps.</td>\n",
       "    </tr>\n",
       "    <tr>\n",
       "      <th>3</th>\n",
       "      <td>110065001</td>\n",
       "      <td>110065</td>\n",
       "      <td>OP T-shirt (Idro)</td>\n",
       "      <td>306</td>\n",
       "      <td>Bra</td>\n",
       "      <td>Underwear</td>\n",
       "      <td>1010016</td>\n",
       "      <td>Solid</td>\n",
       "      <td>9</td>\n",
       "      <td>Black</td>\n",
       "      <td>...</td>\n",
       "      <td>Clean Lingerie</td>\n",
       "      <td>B</td>\n",
       "      <td>Lingeries/Tights</td>\n",
       "      <td>1</td>\n",
       "      <td>Ladieswear</td>\n",
       "      <td>61</td>\n",
       "      <td>Womens Lingerie</td>\n",
       "      <td>1017</td>\n",
       "      <td>Under-, Nightwear</td>\n",
       "      <td>Microfibre T-shirt bra with underwired, moulde...</td>\n",
       "    </tr>\n",
       "    <tr>\n",
       "      <th>4</th>\n",
       "      <td>110065002</td>\n",
       "      <td>110065</td>\n",
       "      <td>OP T-shirt (Idro)</td>\n",
       "      <td>306</td>\n",
       "      <td>Bra</td>\n",
       "      <td>Underwear</td>\n",
       "      <td>1010016</td>\n",
       "      <td>Solid</td>\n",
       "      <td>10</td>\n",
       "      <td>White</td>\n",
       "      <td>...</td>\n",
       "      <td>Clean Lingerie</td>\n",
       "      <td>B</td>\n",
       "      <td>Lingeries/Tights</td>\n",
       "      <td>1</td>\n",
       "      <td>Ladieswear</td>\n",
       "      <td>61</td>\n",
       "      <td>Womens Lingerie</td>\n",
       "      <td>1017</td>\n",
       "      <td>Under-, Nightwear</td>\n",
       "      <td>Microfibre T-shirt bra with underwired, moulde...</td>\n",
       "    </tr>\n",
       "  </tbody>\n",
       "</table>\n",
       "<p>5 rows × 25 columns</p>\n",
       "</div>"
      ],
      "text/plain": [
       "   article_id  product_code          prod_name  product_type_no  \\\n",
       "0   108775015        108775          Strap top              253   \n",
       "1   108775044        108775          Strap top              253   \n",
       "2   108775051        108775      Strap top (1)              253   \n",
       "3   110065001        110065  OP T-shirt (Idro)              306   \n",
       "4   110065002        110065  OP T-shirt (Idro)              306   \n",
       "\n",
       "  product_type_name  product_group_name  graphical_appearance_no  \\\n",
       "0          Vest top  Garment Upper body                  1010016   \n",
       "1          Vest top  Garment Upper body                  1010016   \n",
       "2          Vest top  Garment Upper body                  1010017   \n",
       "3               Bra           Underwear                  1010016   \n",
       "4               Bra           Underwear                  1010016   \n",
       "\n",
       "  graphical_appearance_name  colour_group_code colour_group_name  ...  \\\n",
       "0                     Solid                  9             Black  ...   \n",
       "1                     Solid                 10             White  ...   \n",
       "2                    Stripe                 11         Off White  ...   \n",
       "3                     Solid                  9             Black  ...   \n",
       "4                     Solid                 10             White  ...   \n",
       "\n",
       "   department_name index_code        index_name index_group_no  \\\n",
       "0     Jersey Basic          A        Ladieswear              1   \n",
       "1     Jersey Basic          A        Ladieswear              1   \n",
       "2     Jersey Basic          A        Ladieswear              1   \n",
       "3   Clean Lingerie          B  Lingeries/Tights              1   \n",
       "4   Clean Lingerie          B  Lingeries/Tights              1   \n",
       "\n",
       "   index_group_name section_no            section_name garment_group_no  \\\n",
       "0        Ladieswear         16  Womens Everyday Basics             1002   \n",
       "1        Ladieswear         16  Womens Everyday Basics             1002   \n",
       "2        Ladieswear         16  Womens Everyday Basics             1002   \n",
       "3        Ladieswear         61         Womens Lingerie             1017   \n",
       "4        Ladieswear         61         Womens Lingerie             1017   \n",
       "\n",
       "   garment_group_name                                        detail_desc  \n",
       "0        Jersey Basic            Jersey top with narrow shoulder straps.  \n",
       "1        Jersey Basic            Jersey top with narrow shoulder straps.  \n",
       "2        Jersey Basic            Jersey top with narrow shoulder straps.  \n",
       "3   Under-, Nightwear  Microfibre T-shirt bra with underwired, moulde...  \n",
       "4   Under-, Nightwear  Microfibre T-shirt bra with underwired, moulde...  \n",
       "\n",
       "[5 rows x 25 columns]"
      ]
     },
     "execution_count": 3,
     "metadata": {},
     "output_type": "execute_result"
    }
   ],
   "source": [
    "# loading in the article data\n",
    "articles_df = pd.read_csv(\"../data/articles.csv\")\n",
    "\n",
    "articles_df.head()"
   ]
  },
  {
   "cell_type": "code",
   "execution_count": 4,
   "metadata": {},
   "outputs": [
    {
     "name": "stdout",
     "output_type": "stream",
     "text": [
      "<class 'pandas.core.frame.DataFrame'>\n",
      "RangeIndex: 105542 entries, 0 to 105541\n",
      "Data columns (total 25 columns):\n",
      " #   Column                        Non-Null Count   Dtype \n",
      "---  ------                        --------------   ----- \n",
      " 0   article_id                    105542 non-null  int64 \n",
      " 1   product_code                  105542 non-null  int64 \n",
      " 2   prod_name                     105542 non-null  object\n",
      " 3   product_type_no               105542 non-null  int64 \n",
      " 4   product_type_name             105542 non-null  object\n",
      " 5   product_group_name            105542 non-null  object\n",
      " 6   graphical_appearance_no       105542 non-null  int64 \n",
      " 7   graphical_appearance_name     105542 non-null  object\n",
      " 8   colour_group_code             105542 non-null  int64 \n",
      " 9   colour_group_name             105542 non-null  object\n",
      " 10  perceived_colour_value_id     105542 non-null  int64 \n",
      " 11  perceived_colour_value_name   105542 non-null  object\n",
      " 12  perceived_colour_master_id    105542 non-null  int64 \n",
      " 13  perceived_colour_master_name  105542 non-null  object\n",
      " 14  department_no                 105542 non-null  int64 \n",
      " 15  department_name               105542 non-null  object\n",
      " 16  index_code                    105542 non-null  object\n",
      " 17  index_name                    105542 non-null  object\n",
      " 18  index_group_no                105542 non-null  int64 \n",
      " 19  index_group_name              105542 non-null  object\n",
      " 20  section_no                    105542 non-null  int64 \n",
      " 21  section_name                  105542 non-null  object\n",
      " 22  garment_group_no              105542 non-null  int64 \n",
      " 23  garment_group_name            105542 non-null  object\n",
      " 24  detail_desc                   105126 non-null  object\n",
      "dtypes: int64(11), object(14)\n",
      "memory usage: 20.1+ MB\n"
     ]
    }
   ],
   "source": [
    "articles_df.info()"
   ]
  },
  {
   "cell_type": "markdown",
   "metadata": {},
   "source": [
    "This dataframe holds the information for all the product details of an article of clothing.\n",
    "\n",
    "The only null values are in `detail_desc`, so we can handle that below."
   ]
  },
  {
   "cell_type": "code",
   "execution_count": 5,
   "metadata": {},
   "outputs": [
    {
     "data": {
      "text/html": [
       "<div>\n",
       "<style scoped>\n",
       "    .dataframe tbody tr th:only-of-type {\n",
       "        vertical-align: middle;\n",
       "    }\n",
       "\n",
       "    .dataframe tbody tr th {\n",
       "        vertical-align: top;\n",
       "    }\n",
       "\n",
       "    .dataframe thead th {\n",
       "        text-align: right;\n",
       "    }\n",
       "</style>\n",
       "<table border=\"1\" class=\"dataframe\">\n",
       "  <thead>\n",
       "    <tr style=\"text-align: right;\">\n",
       "      <th></th>\n",
       "      <th>article_id</th>\n",
       "      <th>product_code</th>\n",
       "      <th>product_type_no</th>\n",
       "      <th>graphical_appearance_no</th>\n",
       "      <th>colour_group_code</th>\n",
       "      <th>perceived_colour_value_id</th>\n",
       "      <th>perceived_colour_master_id</th>\n",
       "      <th>department_no</th>\n",
       "      <th>index_group_no</th>\n",
       "      <th>section_no</th>\n",
       "      <th>garment_group_no</th>\n",
       "    </tr>\n",
       "  </thead>\n",
       "  <tbody>\n",
       "    <tr>\n",
       "      <th>count</th>\n",
       "      <td>1.055420e+05</td>\n",
       "      <td>105542.000000</td>\n",
       "      <td>105542.000000</td>\n",
       "      <td>1.055420e+05</td>\n",
       "      <td>105542.000000</td>\n",
       "      <td>105542.000000</td>\n",
       "      <td>105542.000000</td>\n",
       "      <td>105542.000000</td>\n",
       "      <td>105542.000000</td>\n",
       "      <td>105542.000000</td>\n",
       "      <td>105542.000000</td>\n",
       "    </tr>\n",
       "    <tr>\n",
       "      <th>mean</th>\n",
       "      <td>6.984246e+08</td>\n",
       "      <td>698424.563378</td>\n",
       "      <td>234.861875</td>\n",
       "      <td>1.009515e+06</td>\n",
       "      <td>32.233822</td>\n",
       "      <td>3.206183</td>\n",
       "      <td>7.807972</td>\n",
       "      <td>4532.777833</td>\n",
       "      <td>3.171534</td>\n",
       "      <td>42.664219</td>\n",
       "      <td>1010.438290</td>\n",
       "    </tr>\n",
       "    <tr>\n",
       "      <th>std</th>\n",
       "      <td>1.284624e+08</td>\n",
       "      <td>128462.384432</td>\n",
       "      <td>75.049308</td>\n",
       "      <td>2.241359e+04</td>\n",
       "      <td>28.086154</td>\n",
       "      <td>1.563839</td>\n",
       "      <td>5.376727</td>\n",
       "      <td>2712.692011</td>\n",
       "      <td>4.353234</td>\n",
       "      <td>23.260105</td>\n",
       "      <td>6.731023</td>\n",
       "    </tr>\n",
       "    <tr>\n",
       "      <th>min</th>\n",
       "      <td>1.087750e+08</td>\n",
       "      <td>108775.000000</td>\n",
       "      <td>-1.000000</td>\n",
       "      <td>-1.000000e+00</td>\n",
       "      <td>-1.000000</td>\n",
       "      <td>-1.000000</td>\n",
       "      <td>-1.000000</td>\n",
       "      <td>1201.000000</td>\n",
       "      <td>1.000000</td>\n",
       "      <td>2.000000</td>\n",
       "      <td>1001.000000</td>\n",
       "    </tr>\n",
       "    <tr>\n",
       "      <th>25%</th>\n",
       "      <td>6.169925e+08</td>\n",
       "      <td>616992.500000</td>\n",
       "      <td>252.000000</td>\n",
       "      <td>1.010008e+06</td>\n",
       "      <td>9.000000</td>\n",
       "      <td>2.000000</td>\n",
       "      <td>4.000000</td>\n",
       "      <td>1676.000000</td>\n",
       "      <td>1.000000</td>\n",
       "      <td>20.000000</td>\n",
       "      <td>1005.000000</td>\n",
       "    </tr>\n",
       "    <tr>\n",
       "      <th>50%</th>\n",
       "      <td>7.022130e+08</td>\n",
       "      <td>702213.000000</td>\n",
       "      <td>259.000000</td>\n",
       "      <td>1.010016e+06</td>\n",
       "      <td>14.000000</td>\n",
       "      <td>4.000000</td>\n",
       "      <td>5.000000</td>\n",
       "      <td>4222.000000</td>\n",
       "      <td>2.000000</td>\n",
       "      <td>46.000000</td>\n",
       "      <td>1009.000000</td>\n",
       "    </tr>\n",
       "    <tr>\n",
       "      <th>75%</th>\n",
       "      <td>7.967030e+08</td>\n",
       "      <td>796703.000000</td>\n",
       "      <td>272.000000</td>\n",
       "      <td>1.010016e+06</td>\n",
       "      <td>52.000000</td>\n",
       "      <td>4.000000</td>\n",
       "      <td>11.000000</td>\n",
       "      <td>7389.000000</td>\n",
       "      <td>4.000000</td>\n",
       "      <td>61.000000</td>\n",
       "      <td>1017.000000</td>\n",
       "    </tr>\n",
       "    <tr>\n",
       "      <th>max</th>\n",
       "      <td>9.594610e+08</td>\n",
       "      <td>959461.000000</td>\n",
       "      <td>762.000000</td>\n",
       "      <td>1.010029e+06</td>\n",
       "      <td>93.000000</td>\n",
       "      <td>7.000000</td>\n",
       "      <td>20.000000</td>\n",
       "      <td>9989.000000</td>\n",
       "      <td>26.000000</td>\n",
       "      <td>97.000000</td>\n",
       "      <td>1025.000000</td>\n",
       "    </tr>\n",
       "  </tbody>\n",
       "</table>\n",
       "</div>"
      ],
      "text/plain": [
       "         article_id   product_code  product_type_no  graphical_appearance_no  \\\n",
       "count  1.055420e+05  105542.000000    105542.000000             1.055420e+05   \n",
       "mean   6.984246e+08  698424.563378       234.861875             1.009515e+06   \n",
       "std    1.284624e+08  128462.384432        75.049308             2.241359e+04   \n",
       "min    1.087750e+08  108775.000000        -1.000000            -1.000000e+00   \n",
       "25%    6.169925e+08  616992.500000       252.000000             1.010008e+06   \n",
       "50%    7.022130e+08  702213.000000       259.000000             1.010016e+06   \n",
       "75%    7.967030e+08  796703.000000       272.000000             1.010016e+06   \n",
       "max    9.594610e+08  959461.000000       762.000000             1.010029e+06   \n",
       "\n",
       "       colour_group_code  perceived_colour_value_id  \\\n",
       "count      105542.000000              105542.000000   \n",
       "mean           32.233822                   3.206183   \n",
       "std            28.086154                   1.563839   \n",
       "min            -1.000000                  -1.000000   \n",
       "25%             9.000000                   2.000000   \n",
       "50%            14.000000                   4.000000   \n",
       "75%            52.000000                   4.000000   \n",
       "max            93.000000                   7.000000   \n",
       "\n",
       "       perceived_colour_master_id  department_no  index_group_no  \\\n",
       "count               105542.000000  105542.000000   105542.000000   \n",
       "mean                     7.807972    4532.777833        3.171534   \n",
       "std                      5.376727    2712.692011        4.353234   \n",
       "min                     -1.000000    1201.000000        1.000000   \n",
       "25%                      4.000000    1676.000000        1.000000   \n",
       "50%                      5.000000    4222.000000        2.000000   \n",
       "75%                     11.000000    7389.000000        4.000000   \n",
       "max                     20.000000    9989.000000       26.000000   \n",
       "\n",
       "          section_no  garment_group_no  \n",
       "count  105542.000000     105542.000000  \n",
       "mean       42.664219       1010.438290  \n",
       "std        23.260105          6.731023  \n",
       "min         2.000000       1001.000000  \n",
       "25%        20.000000       1005.000000  \n",
       "50%        46.000000       1009.000000  \n",
       "75%        61.000000       1017.000000  \n",
       "max        97.000000       1025.000000  "
      ]
     },
     "execution_count": 5,
     "metadata": {},
     "output_type": "execute_result"
    }
   ],
   "source": [
    "articles_df.describe()"
   ]
  },
  {
   "cell_type": "code",
   "execution_count": 6,
   "metadata": {},
   "outputs": [
    {
     "data": {
      "text/html": [
       "<div>\n",
       "<style scoped>\n",
       "    .dataframe tbody tr th:only-of-type {\n",
       "        vertical-align: middle;\n",
       "    }\n",
       "\n",
       "    .dataframe tbody tr th {\n",
       "        vertical-align: top;\n",
       "    }\n",
       "\n",
       "    .dataframe thead th {\n",
       "        text-align: right;\n",
       "    }\n",
       "</style>\n",
       "<table border=\"1\" class=\"dataframe\">\n",
       "  <thead>\n",
       "    <tr style=\"text-align: right;\">\n",
       "      <th></th>\n",
       "      <th>customer_id</th>\n",
       "      <th>FN</th>\n",
       "      <th>Active</th>\n",
       "      <th>club_member_status</th>\n",
       "      <th>fashion_news_frequency</th>\n",
       "      <th>age</th>\n",
       "      <th>postal_code</th>\n",
       "    </tr>\n",
       "  </thead>\n",
       "  <tbody>\n",
       "    <tr>\n",
       "      <th>0</th>\n",
       "      <td>00000dbacae5abe5e23885899a1fa44253a17956c6d1c3...</td>\n",
       "      <td>NaN</td>\n",
       "      <td>NaN</td>\n",
       "      <td>ACTIVE</td>\n",
       "      <td>NONE</td>\n",
       "      <td>49.0</td>\n",
       "      <td>52043ee2162cf5aa7ee79974281641c6f11a68d276429a...</td>\n",
       "    </tr>\n",
       "    <tr>\n",
       "      <th>1</th>\n",
       "      <td>0000423b00ade91418cceaf3b26c6af3dd342b51fd051e...</td>\n",
       "      <td>NaN</td>\n",
       "      <td>NaN</td>\n",
       "      <td>ACTIVE</td>\n",
       "      <td>NONE</td>\n",
       "      <td>25.0</td>\n",
       "      <td>2973abc54daa8a5f8ccfe9362140c63247c5eee03f1d93...</td>\n",
       "    </tr>\n",
       "    <tr>\n",
       "      <th>2</th>\n",
       "      <td>000058a12d5b43e67d225668fa1f8d618c13dc232df0ca...</td>\n",
       "      <td>NaN</td>\n",
       "      <td>NaN</td>\n",
       "      <td>ACTIVE</td>\n",
       "      <td>NONE</td>\n",
       "      <td>24.0</td>\n",
       "      <td>64f17e6a330a85798e4998f62d0930d14db8db1c054af6...</td>\n",
       "    </tr>\n",
       "    <tr>\n",
       "      <th>3</th>\n",
       "      <td>00005ca1c9ed5f5146b52ac8639a40ca9d57aeff4d1bd2...</td>\n",
       "      <td>NaN</td>\n",
       "      <td>NaN</td>\n",
       "      <td>ACTIVE</td>\n",
       "      <td>NONE</td>\n",
       "      <td>54.0</td>\n",
       "      <td>5d36574f52495e81f019b680c843c443bd343d5ca5b1c2...</td>\n",
       "    </tr>\n",
       "    <tr>\n",
       "      <th>4</th>\n",
       "      <td>00006413d8573cd20ed7128e53b7b13819fe5cfc2d801f...</td>\n",
       "      <td>1.0</td>\n",
       "      <td>1.0</td>\n",
       "      <td>ACTIVE</td>\n",
       "      <td>Regularly</td>\n",
       "      <td>52.0</td>\n",
       "      <td>25fa5ddee9aac01b35208d01736e57942317d756b32ddd...</td>\n",
       "    </tr>\n",
       "  </tbody>\n",
       "</table>\n",
       "</div>"
      ],
      "text/plain": [
       "                                         customer_id   FN  Active  \\\n",
       "0  00000dbacae5abe5e23885899a1fa44253a17956c6d1c3...  NaN     NaN   \n",
       "1  0000423b00ade91418cceaf3b26c6af3dd342b51fd051e...  NaN     NaN   \n",
       "2  000058a12d5b43e67d225668fa1f8d618c13dc232df0ca...  NaN     NaN   \n",
       "3  00005ca1c9ed5f5146b52ac8639a40ca9d57aeff4d1bd2...  NaN     NaN   \n",
       "4  00006413d8573cd20ed7128e53b7b13819fe5cfc2d801f...  1.0     1.0   \n",
       "\n",
       "  club_member_status fashion_news_frequency   age  \\\n",
       "0             ACTIVE                   NONE  49.0   \n",
       "1             ACTIVE                   NONE  25.0   \n",
       "2             ACTIVE                   NONE  24.0   \n",
       "3             ACTIVE                   NONE  54.0   \n",
       "4             ACTIVE              Regularly  52.0   \n",
       "\n",
       "                                         postal_code  \n",
       "0  52043ee2162cf5aa7ee79974281641c6f11a68d276429a...  \n",
       "1  2973abc54daa8a5f8ccfe9362140c63247c5eee03f1d93...  \n",
       "2  64f17e6a330a85798e4998f62d0930d14db8db1c054af6...  \n",
       "3  5d36574f52495e81f019b680c843c443bd343d5ca5b1c2...  \n",
       "4  25fa5ddee9aac01b35208d01736e57942317d756b32ddd...  "
      ]
     },
     "execution_count": 6,
     "metadata": {},
     "output_type": "execute_result"
    }
   ],
   "source": [
    "# loading in customer data\n",
    "customer_df = pd.read_csv(\"../data/customers.csv\")\n",
    "\n",
    "customer_df.head()"
   ]
  },
  {
   "cell_type": "code",
   "execution_count": 7,
   "metadata": {},
   "outputs": [
    {
     "name": "stdout",
     "output_type": "stream",
     "text": [
      "<class 'pandas.core.frame.DataFrame'>\n",
      "RangeIndex: 1371980 entries, 0 to 1371979\n",
      "Data columns (total 7 columns):\n",
      " #   Column                  Non-Null Count    Dtype  \n",
      "---  ------                  --------------    -----  \n",
      " 0   customer_id             1371980 non-null  object \n",
      " 1   FN                      476930 non-null   float64\n",
      " 2   Active                  464404 non-null   float64\n",
      " 3   club_member_status      1365918 non-null  object \n",
      " 4   fashion_news_frequency  1355969 non-null  object \n",
      " 5   age                     1356119 non-null  float64\n",
      " 6   postal_code             1371980 non-null  object \n",
      "dtypes: float64(3), object(4)\n",
      "memory usage: 73.3+ MB\n"
     ]
    }
   ],
   "source": [
    "customer_df.info()"
   ]
  },
  {
   "cell_type": "markdown",
   "metadata": {},
   "source": [
    "This dataframe has the information of H&M customers. We may not need a lot of this information, so we will drop most of the columns except for age and postal_code in the next section."
   ]
  },
  {
   "cell_type": "code",
   "execution_count": 8,
   "metadata": {},
   "outputs": [
    {
     "data": {
      "text/html": [
       "<div>\n",
       "<style scoped>\n",
       "    .dataframe tbody tr th:only-of-type {\n",
       "        vertical-align: middle;\n",
       "    }\n",
       "\n",
       "    .dataframe tbody tr th {\n",
       "        vertical-align: top;\n",
       "    }\n",
       "\n",
       "    .dataframe thead th {\n",
       "        text-align: right;\n",
       "    }\n",
       "</style>\n",
       "<table border=\"1\" class=\"dataframe\">\n",
       "  <thead>\n",
       "    <tr style=\"text-align: right;\">\n",
       "      <th></th>\n",
       "      <th>t_dat</th>\n",
       "      <th>customer_id</th>\n",
       "      <th>article_id</th>\n",
       "      <th>price</th>\n",
       "      <th>sales_channel_id</th>\n",
       "    </tr>\n",
       "  </thead>\n",
       "  <tbody>\n",
       "    <tr>\n",
       "      <th>0</th>\n",
       "      <td>2018-09-20</td>\n",
       "      <td>000058a12d5b43e67d225668fa1f8d618c13dc232df0ca...</td>\n",
       "      <td>663713001</td>\n",
       "      <td>0.050831</td>\n",
       "      <td>2</td>\n",
       "    </tr>\n",
       "    <tr>\n",
       "      <th>1</th>\n",
       "      <td>2018-09-20</td>\n",
       "      <td>000058a12d5b43e67d225668fa1f8d618c13dc232df0ca...</td>\n",
       "      <td>541518023</td>\n",
       "      <td>0.030492</td>\n",
       "      <td>2</td>\n",
       "    </tr>\n",
       "    <tr>\n",
       "      <th>2</th>\n",
       "      <td>2018-09-20</td>\n",
       "      <td>00007d2de826758b65a93dd24ce629ed66842531df6699...</td>\n",
       "      <td>505221004</td>\n",
       "      <td>0.015237</td>\n",
       "      <td>2</td>\n",
       "    </tr>\n",
       "    <tr>\n",
       "      <th>3</th>\n",
       "      <td>2018-09-20</td>\n",
       "      <td>00007d2de826758b65a93dd24ce629ed66842531df6699...</td>\n",
       "      <td>685687003</td>\n",
       "      <td>0.016932</td>\n",
       "      <td>2</td>\n",
       "    </tr>\n",
       "    <tr>\n",
       "      <th>4</th>\n",
       "      <td>2018-09-20</td>\n",
       "      <td>00007d2de826758b65a93dd24ce629ed66842531df6699...</td>\n",
       "      <td>685687004</td>\n",
       "      <td>0.016932</td>\n",
       "      <td>2</td>\n",
       "    </tr>\n",
       "  </tbody>\n",
       "</table>\n",
       "</div>"
      ],
      "text/plain": [
       "        t_dat                                        customer_id  article_id  \\\n",
       "0  2018-09-20  000058a12d5b43e67d225668fa1f8d618c13dc232df0ca...   663713001   \n",
       "1  2018-09-20  000058a12d5b43e67d225668fa1f8d618c13dc232df0ca...   541518023   \n",
       "2  2018-09-20  00007d2de826758b65a93dd24ce629ed66842531df6699...   505221004   \n",
       "3  2018-09-20  00007d2de826758b65a93dd24ce629ed66842531df6699...   685687003   \n",
       "4  2018-09-20  00007d2de826758b65a93dd24ce629ed66842531df6699...   685687004   \n",
       "\n",
       "      price  sales_channel_id  \n",
       "0  0.050831                 2  \n",
       "1  0.030492                 2  \n",
       "2  0.015237                 2  \n",
       "3  0.016932                 2  \n",
       "4  0.016932                 2  "
      ]
     },
     "execution_count": 8,
     "metadata": {},
     "output_type": "execute_result"
    }
   ],
   "source": [
    "# load in transactions training data\n",
    "# we will use this data to train our model later\n",
    "transactions_df = pd.read_csv(\"../data/transactions_train.csv\")\n",
    "\n",
    "transactions_df.head()"
   ]
  },
  {
   "cell_type": "code",
   "execution_count": 9,
   "metadata": {},
   "outputs": [
    {
     "name": "stdout",
     "output_type": "stream",
     "text": [
      "<class 'pandas.core.frame.DataFrame'>\n",
      "RangeIndex: 31788324 entries, 0 to 31788323\n",
      "Data columns (total 5 columns):\n",
      " #   Column            Dtype  \n",
      "---  ------            -----  \n",
      " 0   t_dat             object \n",
      " 1   customer_id       object \n",
      " 2   article_id        int64  \n",
      " 3   price             float64\n",
      " 4   sales_channel_id  int64  \n",
      "dtypes: float64(1), int64(2), object(2)\n",
      "memory usage: 1.2+ GB\n"
     ]
    }
   ],
   "source": [
    "transactions_df.info()"
   ]
  },
  {
   "cell_type": "code",
   "execution_count": 10,
   "metadata": {},
   "outputs": [
    {
     "data": {
      "text/plain": [
       "t_dat               0\n",
       "customer_id         0\n",
       "article_id          0\n",
       "price               0\n",
       "sales_channel_id    0\n",
       "dtype: int64"
      ]
     },
     "execution_count": 10,
     "metadata": {},
     "output_type": "execute_result"
    }
   ],
   "source": [
    "transactions_df.isna().sum()"
   ]
  },
  {
   "cell_type": "markdown",
   "metadata": {},
   "source": [
    "No null values to clean in the transactions data!"
   ]
  },
  {
   "cell_type": "markdown",
   "metadata": {},
   "source": [
    "### Data Cleaning & Feature Engineering"
   ]
  },
  {
   "cell_type": "markdown",
   "metadata": {},
   "source": [
    "`articles_df`:\n",
    "- The only null values are in `detail_desc`, so we can handle that below."
   ]
  },
  {
   "cell_type": "code",
   "execution_count": 11,
   "metadata": {},
   "outputs": [
    {
     "data": {
      "text/html": [
       "<div>\n",
       "<style scoped>\n",
       "    .dataframe tbody tr th:only-of-type {\n",
       "        vertical-align: middle;\n",
       "    }\n",
       "\n",
       "    .dataframe tbody tr th {\n",
       "        vertical-align: top;\n",
       "    }\n",
       "\n",
       "    .dataframe thead th {\n",
       "        text-align: right;\n",
       "    }\n",
       "</style>\n",
       "<table border=\"1\" class=\"dataframe\">\n",
       "  <thead>\n",
       "    <tr style=\"text-align: right;\">\n",
       "      <th></th>\n",
       "      <th>article_id</th>\n",
       "      <th>product_code</th>\n",
       "      <th>prod_name</th>\n",
       "      <th>product_type_no</th>\n",
       "      <th>product_type_name</th>\n",
       "      <th>product_group_name</th>\n",
       "      <th>graphical_appearance_no</th>\n",
       "      <th>graphical_appearance_name</th>\n",
       "      <th>colour_group_code</th>\n",
       "      <th>colour_group_name</th>\n",
       "      <th>...</th>\n",
       "      <th>department_name</th>\n",
       "      <th>index_code</th>\n",
       "      <th>index_name</th>\n",
       "      <th>index_group_no</th>\n",
       "      <th>index_group_name</th>\n",
       "      <th>section_no</th>\n",
       "      <th>section_name</th>\n",
       "      <th>garment_group_no</th>\n",
       "      <th>garment_group_name</th>\n",
       "      <th>detail_desc</th>\n",
       "    </tr>\n",
       "  </thead>\n",
       "  <tbody>\n",
       "    <tr>\n",
       "      <th>1467</th>\n",
       "      <td>351332007</td>\n",
       "      <td>351332</td>\n",
       "      <td>Marshall Lace up Top</td>\n",
       "      <td>252</td>\n",
       "      <td>Sweater</td>\n",
       "      <td>Garment Upper body</td>\n",
       "      <td>1010018</td>\n",
       "      <td>Treatment</td>\n",
       "      <td>7</td>\n",
       "      <td>Grey</td>\n",
       "      <td>...</td>\n",
       "      <td>Jersey Fancy DS</td>\n",
       "      <td>D</td>\n",
       "      <td>Divided</td>\n",
       "      <td>2</td>\n",
       "      <td>Divided</td>\n",
       "      <td>58</td>\n",
       "      <td>Divided Selected</td>\n",
       "      <td>1005</td>\n",
       "      <td>Jersey Fancy</td>\n",
       "      <td>NaN</td>\n",
       "    </tr>\n",
       "    <tr>\n",
       "      <th>2644</th>\n",
       "      <td>420049002</td>\n",
       "      <td>420049</td>\n",
       "      <td>OL TAGE PQ</td>\n",
       "      <td>87</td>\n",
       "      <td>Boots</td>\n",
       "      <td>Shoes</td>\n",
       "      <td>1010016</td>\n",
       "      <td>Solid</td>\n",
       "      <td>13</td>\n",
       "      <td>Beige</td>\n",
       "      <td>...</td>\n",
       "      <td>Premium Quality</td>\n",
       "      <td>C</td>\n",
       "      <td>Ladies Accessories</td>\n",
       "      <td>1</td>\n",
       "      <td>Ladieswear</td>\n",
       "      <td>64</td>\n",
       "      <td>Womens Shoes</td>\n",
       "      <td>1020</td>\n",
       "      <td>Shoes</td>\n",
       "      <td>NaN</td>\n",
       "    </tr>\n",
       "    <tr>\n",
       "      <th>2645</th>\n",
       "      <td>420049003</td>\n",
       "      <td>420049</td>\n",
       "      <td>OL TAGE PQ</td>\n",
       "      <td>87</td>\n",
       "      <td>Boots</td>\n",
       "      <td>Shoes</td>\n",
       "      <td>1010016</td>\n",
       "      <td>Solid</td>\n",
       "      <td>23</td>\n",
       "      <td>Dark Yellow</td>\n",
       "      <td>...</td>\n",
       "      <td>Premium Quality</td>\n",
       "      <td>C</td>\n",
       "      <td>Ladies Accessories</td>\n",
       "      <td>1</td>\n",
       "      <td>Ladieswear</td>\n",
       "      <td>64</td>\n",
       "      <td>Womens Shoes</td>\n",
       "      <td>1020</td>\n",
       "      <td>Shoes</td>\n",
       "      <td>NaN</td>\n",
       "    </tr>\n",
       "    <tr>\n",
       "      <th>2742</th>\n",
       "      <td>426199002</td>\n",
       "      <td>426199</td>\n",
       "      <td>Ellen Shortie Daisy Low 3p</td>\n",
       "      <td>286</td>\n",
       "      <td>Underwear bottom</td>\n",
       "      <td>Underwear</td>\n",
       "      <td>1010016</td>\n",
       "      <td>Solid</td>\n",
       "      <td>9</td>\n",
       "      <td>Black</td>\n",
       "      <td>...</td>\n",
       "      <td>Casual Lingerie</td>\n",
       "      <td>B</td>\n",
       "      <td>Lingeries/Tights</td>\n",
       "      <td>1</td>\n",
       "      <td>Ladieswear</td>\n",
       "      <td>61</td>\n",
       "      <td>Womens Lingerie</td>\n",
       "      <td>1017</td>\n",
       "      <td>Under-, Nightwear</td>\n",
       "      <td>NaN</td>\n",
       "    </tr>\n",
       "    <tr>\n",
       "      <th>2743</th>\n",
       "      <td>426199010</td>\n",
       "      <td>426199</td>\n",
       "      <td>Ellen Shortie Daisy Low 3p</td>\n",
       "      <td>286</td>\n",
       "      <td>Underwear bottom</td>\n",
       "      <td>Underwear</td>\n",
       "      <td>1010017</td>\n",
       "      <td>Stripe</td>\n",
       "      <td>8</td>\n",
       "      <td>Dark Grey</td>\n",
       "      <td>...</td>\n",
       "      <td>Casual Lingerie</td>\n",
       "      <td>B</td>\n",
       "      <td>Lingeries/Tights</td>\n",
       "      <td>1</td>\n",
       "      <td>Ladieswear</td>\n",
       "      <td>61</td>\n",
       "      <td>Womens Lingerie</td>\n",
       "      <td>1017</td>\n",
       "      <td>Under-, Nightwear</td>\n",
       "      <td>NaN</td>\n",
       "    </tr>\n",
       "    <tr>\n",
       "      <th>...</th>\n",
       "      <td>...</td>\n",
       "      <td>...</td>\n",
       "      <td>...</td>\n",
       "      <td>...</td>\n",
       "      <td>...</td>\n",
       "      <td>...</td>\n",
       "      <td>...</td>\n",
       "      <td>...</td>\n",
       "      <td>...</td>\n",
       "      <td>...</td>\n",
       "      <td>...</td>\n",
       "      <td>...</td>\n",
       "      <td>...</td>\n",
       "      <td>...</td>\n",
       "      <td>...</td>\n",
       "      <td>...</td>\n",
       "      <td>...</td>\n",
       "      <td>...</td>\n",
       "      <td>...</td>\n",
       "      <td>...</td>\n",
       "      <td>...</td>\n",
       "    </tr>\n",
       "    <tr>\n",
       "      <th>67838</th>\n",
       "      <td>752458001</td>\n",
       "      <td>752458</td>\n",
       "      <td>Poissy boho dress</td>\n",
       "      <td>265</td>\n",
       "      <td>Dress</td>\n",
       "      <td>Garment Full body</td>\n",
       "      <td>1010007</td>\n",
       "      <td>Embroidery</td>\n",
       "      <td>10</td>\n",
       "      <td>White</td>\n",
       "      <td>...</td>\n",
       "      <td>Dress</td>\n",
       "      <td>A</td>\n",
       "      <td>Ladieswear</td>\n",
       "      <td>1</td>\n",
       "      <td>Ladieswear</td>\n",
       "      <td>6</td>\n",
       "      <td>Womens Casual</td>\n",
       "      <td>1013</td>\n",
       "      <td>Dresses Ladies</td>\n",
       "      <td>NaN</td>\n",
       "    </tr>\n",
       "    <tr>\n",
       "      <th>72720</th>\n",
       "      <td>768842001</td>\n",
       "      <td>768842</td>\n",
       "      <td>Andrews set</td>\n",
       "      <td>270</td>\n",
       "      <td>Garment Set</td>\n",
       "      <td>Garment Full body</td>\n",
       "      <td>1010017</td>\n",
       "      <td>Stripe</td>\n",
       "      <td>10</td>\n",
       "      <td>White</td>\n",
       "      <td>...</td>\n",
       "      <td>Baby Boy Woven</td>\n",
       "      <td>G</td>\n",
       "      <td>Baby Sizes 50-98</td>\n",
       "      <td>4</td>\n",
       "      <td>Baby/Children</td>\n",
       "      <td>41</td>\n",
       "      <td>Baby Boy</td>\n",
       "      <td>1006</td>\n",
       "      <td>Woven/Jersey/Knitted mix Baby</td>\n",
       "      <td>NaN</td>\n",
       "    </tr>\n",
       "    <tr>\n",
       "      <th>72721</th>\n",
       "      <td>768842004</td>\n",
       "      <td>768842</td>\n",
       "      <td>Andrews set</td>\n",
       "      <td>270</td>\n",
       "      <td>Garment Set</td>\n",
       "      <td>Garment Full body</td>\n",
       "      <td>1010004</td>\n",
       "      <td>Check</td>\n",
       "      <td>73</td>\n",
       "      <td>Dark Blue</td>\n",
       "      <td>...</td>\n",
       "      <td>Baby Boy Woven</td>\n",
       "      <td>G</td>\n",
       "      <td>Baby Sizes 50-98</td>\n",
       "      <td>4</td>\n",
       "      <td>Baby/Children</td>\n",
       "      <td>41</td>\n",
       "      <td>Baby Boy</td>\n",
       "      <td>1006</td>\n",
       "      <td>Woven/Jersey/Knitted mix Baby</td>\n",
       "      <td>NaN</td>\n",
       "    </tr>\n",
       "    <tr>\n",
       "      <th>93144</th>\n",
       "      <td>856985001</td>\n",
       "      <td>856985</td>\n",
       "      <td>Pogo rope</td>\n",
       "      <td>67</td>\n",
       "      <td>Belt</td>\n",
       "      <td>Accessories</td>\n",
       "      <td>1010016</td>\n",
       "      <td>Solid</td>\n",
       "      <td>12</td>\n",
       "      <td>Light Beige</td>\n",
       "      <td>...</td>\n",
       "      <td>Belts</td>\n",
       "      <td>C</td>\n",
       "      <td>Ladies Accessories</td>\n",
       "      <td>1</td>\n",
       "      <td>Ladieswear</td>\n",
       "      <td>65</td>\n",
       "      <td>Womens Big accessories</td>\n",
       "      <td>1019</td>\n",
       "      <td>Accessories</td>\n",
       "      <td>NaN</td>\n",
       "    </tr>\n",
       "    <tr>\n",
       "      <th>95624</th>\n",
       "      <td>867200001</td>\n",
       "      <td>867200</td>\n",
       "      <td>Necklace Simon</td>\n",
       "      <td>77</td>\n",
       "      <td>Necklace</td>\n",
       "      <td>Accessories</td>\n",
       "      <td>1010011</td>\n",
       "      <td>Metallic</td>\n",
       "      <td>3</td>\n",
       "      <td>Silver</td>\n",
       "      <td>...</td>\n",
       "      <td>Small Accessories</td>\n",
       "      <td>F</td>\n",
       "      <td>Menswear</td>\n",
       "      <td>3</td>\n",
       "      <td>Menswear</td>\n",
       "      <td>25</td>\n",
       "      <td>Men Accessories</td>\n",
       "      <td>1019</td>\n",
       "      <td>Accessories</td>\n",
       "      <td>NaN</td>\n",
       "    </tr>\n",
       "  </tbody>\n",
       "</table>\n",
       "<p>416 rows × 25 columns</p>\n",
       "</div>"
      ],
      "text/plain": [
       "       article_id  product_code                   prod_name  product_type_no  \\\n",
       "1467    351332007        351332        Marshall Lace up Top              252   \n",
       "2644    420049002        420049                  OL TAGE PQ               87   \n",
       "2645    420049003        420049                  OL TAGE PQ               87   \n",
       "2742    426199002        426199  Ellen Shortie Daisy Low 3p              286   \n",
       "2743    426199010        426199  Ellen Shortie Daisy Low 3p              286   \n",
       "...           ...           ...                         ...              ...   \n",
       "67838   752458001        752458           Poissy boho dress              265   \n",
       "72720   768842001        768842                 Andrews set              270   \n",
       "72721   768842004        768842                 Andrews set              270   \n",
       "93144   856985001        856985                   Pogo rope               67   \n",
       "95624   867200001        867200              Necklace Simon               77   \n",
       "\n",
       "      product_type_name  product_group_name  graphical_appearance_no  \\\n",
       "1467            Sweater  Garment Upper body                  1010018   \n",
       "2644              Boots               Shoes                  1010016   \n",
       "2645              Boots               Shoes                  1010016   \n",
       "2742   Underwear bottom           Underwear                  1010016   \n",
       "2743   Underwear bottom           Underwear                  1010017   \n",
       "...                 ...                 ...                      ...   \n",
       "67838             Dress   Garment Full body                  1010007   \n",
       "72720       Garment Set   Garment Full body                  1010017   \n",
       "72721       Garment Set   Garment Full body                  1010004   \n",
       "93144              Belt         Accessories                  1010016   \n",
       "95624          Necklace         Accessories                  1010011   \n",
       "\n",
       "      graphical_appearance_name  colour_group_code colour_group_name  ...  \\\n",
       "1467                  Treatment                  7              Grey  ...   \n",
       "2644                      Solid                 13             Beige  ...   \n",
       "2645                      Solid                 23       Dark Yellow  ...   \n",
       "2742                      Solid                  9             Black  ...   \n",
       "2743                     Stripe                  8         Dark Grey  ...   \n",
       "...                         ...                ...               ...  ...   \n",
       "67838                Embroidery                 10             White  ...   \n",
       "72720                    Stripe                 10             White  ...   \n",
       "72721                     Check                 73         Dark Blue  ...   \n",
       "93144                     Solid                 12       Light Beige  ...   \n",
       "95624                  Metallic                  3            Silver  ...   \n",
       "\n",
       "         department_name index_code          index_name index_group_no  \\\n",
       "1467     Jersey Fancy DS          D             Divided              2   \n",
       "2644     Premium Quality          C  Ladies Accessories              1   \n",
       "2645     Premium Quality          C  Ladies Accessories              1   \n",
       "2742     Casual Lingerie          B    Lingeries/Tights              1   \n",
       "2743     Casual Lingerie          B    Lingeries/Tights              1   \n",
       "...                  ...        ...                 ...            ...   \n",
       "67838              Dress          A          Ladieswear              1   \n",
       "72720     Baby Boy Woven          G    Baby Sizes 50-98              4   \n",
       "72721     Baby Boy Woven          G    Baby Sizes 50-98              4   \n",
       "93144              Belts          C  Ladies Accessories              1   \n",
       "95624  Small Accessories          F            Menswear              3   \n",
       "\n",
       "       index_group_name section_no            section_name garment_group_no  \\\n",
       "1467            Divided         58        Divided Selected             1005   \n",
       "2644         Ladieswear         64            Womens Shoes             1020   \n",
       "2645         Ladieswear         64            Womens Shoes             1020   \n",
       "2742         Ladieswear         61         Womens Lingerie             1017   \n",
       "2743         Ladieswear         61         Womens Lingerie             1017   \n",
       "...                 ...        ...                     ...              ...   \n",
       "67838        Ladieswear          6           Womens Casual             1013   \n",
       "72720     Baby/Children         41                Baby Boy             1006   \n",
       "72721     Baby/Children         41                Baby Boy             1006   \n",
       "93144        Ladieswear         65  Womens Big accessories             1019   \n",
       "95624          Menswear         25         Men Accessories             1019   \n",
       "\n",
       "                  garment_group_name detail_desc  \n",
       "1467                    Jersey Fancy         NaN  \n",
       "2644                           Shoes         NaN  \n",
       "2645                           Shoes         NaN  \n",
       "2742               Under-, Nightwear         NaN  \n",
       "2743               Under-, Nightwear         NaN  \n",
       "...                              ...         ...  \n",
       "67838                 Dresses Ladies         NaN  \n",
       "72720  Woven/Jersey/Knitted mix Baby         NaN  \n",
       "72721  Woven/Jersey/Knitted mix Baby         NaN  \n",
       "93144                    Accessories         NaN  \n",
       "95624                    Accessories         NaN  \n",
       "\n",
       "[416 rows x 25 columns]"
      ]
     },
     "execution_count": 11,
     "metadata": {},
     "output_type": "execute_result"
    }
   ],
   "source": [
    "# look at null values in detail_desc inside articles_df\n",
    "articles_df[articles_df[\"detail_desc\"].isna()]"
   ]
  },
  {
   "cell_type": "code",
   "execution_count": 12,
   "metadata": {},
   "outputs": [
    {
     "data": {
      "text/html": [
       "<div>\n",
       "<style scoped>\n",
       "    .dataframe tbody tr th:only-of-type {\n",
       "        vertical-align: middle;\n",
       "    }\n",
       "\n",
       "    .dataframe tbody tr th {\n",
       "        vertical-align: top;\n",
       "    }\n",
       "\n",
       "    .dataframe thead th {\n",
       "        text-align: right;\n",
       "    }\n",
       "</style>\n",
       "<table border=\"1\" class=\"dataframe\">\n",
       "  <thead>\n",
       "    <tr style=\"text-align: right;\">\n",
       "      <th></th>\n",
       "      <th>article_id</th>\n",
       "      <th>product_code</th>\n",
       "      <th>prod_name</th>\n",
       "      <th>product_type_no</th>\n",
       "      <th>product_type_name</th>\n",
       "      <th>product_group_name</th>\n",
       "      <th>graphical_appearance_no</th>\n",
       "      <th>graphical_appearance_name</th>\n",
       "      <th>colour_group_code</th>\n",
       "      <th>colour_group_name</th>\n",
       "      <th>...</th>\n",
       "      <th>department_name</th>\n",
       "      <th>index_code</th>\n",
       "      <th>index_name</th>\n",
       "      <th>index_group_no</th>\n",
       "      <th>index_group_name</th>\n",
       "      <th>section_no</th>\n",
       "      <th>section_name</th>\n",
       "      <th>garment_group_no</th>\n",
       "      <th>garment_group_name</th>\n",
       "      <th>detail_desc</th>\n",
       "    </tr>\n",
       "  </thead>\n",
       "  <tbody>\n",
       "  </tbody>\n",
       "</table>\n",
       "<p>0 rows × 25 columns</p>\n",
       "</div>"
      ],
      "text/plain": [
       "Empty DataFrame\n",
       "Columns: [article_id, product_code, prod_name, product_type_no, product_type_name, product_group_name, graphical_appearance_no, graphical_appearance_name, colour_group_code, colour_group_name, perceived_colour_value_id, perceived_colour_value_name, perceived_colour_master_id, perceived_colour_master_name, department_no, department_name, index_code, index_name, index_group_no, index_group_name, section_no, section_name, garment_group_no, garment_group_name, detail_desc]\n",
       "Index: []\n",
       "\n",
       "[0 rows x 25 columns]"
      ]
     },
     "execution_count": 12,
     "metadata": {},
     "output_type": "execute_result"
    }
   ],
   "source": [
    "# fill empty detail_desc with \"No Detailed description\"\n",
    "articles_df[\"detail_desc\"] = articles_df[\"detail_desc\"].fillna(\"No Detailed Description\")\n",
    "\n",
    "articles_df[articles_df[\"detail_desc\"].isna()]"
   ]
  },
  {
   "cell_type": "markdown",
   "metadata": {},
   "source": [
    "`customers_df`:\n",
    "- drop all columns except for `customer_id`, `age` and `postal_code`"
   ]
  },
  {
   "cell_type": "code",
   "execution_count": 13,
   "metadata": {},
   "outputs": [
    {
     "data": {
      "text/plain": [
       "Index(['customer_id', 'FN', 'Active', 'club_member_status',\n",
       "       'fashion_news_frequency', 'age', 'postal_code'],\n",
       "      dtype='object')"
      ]
     },
     "execution_count": 13,
     "metadata": {},
     "output_type": "execute_result"
    }
   ],
   "source": [
    "customer_df.columns"
   ]
  },
  {
   "cell_type": "code",
   "execution_count": 14,
   "metadata": {},
   "outputs": [
    {
     "data": {
      "text/html": [
       "<div>\n",
       "<style scoped>\n",
       "    .dataframe tbody tr th:only-of-type {\n",
       "        vertical-align: middle;\n",
       "    }\n",
       "\n",
       "    .dataframe tbody tr th {\n",
       "        vertical-align: top;\n",
       "    }\n",
       "\n",
       "    .dataframe thead th {\n",
       "        text-align: right;\n",
       "    }\n",
       "</style>\n",
       "<table border=\"1\" class=\"dataframe\">\n",
       "  <thead>\n",
       "    <tr style=\"text-align: right;\">\n",
       "      <th></th>\n",
       "      <th>customer_id</th>\n",
       "      <th>age</th>\n",
       "      <th>postal_code</th>\n",
       "    </tr>\n",
       "  </thead>\n",
       "  <tbody>\n",
       "    <tr>\n",
       "      <th>0</th>\n",
       "      <td>00000dbacae5abe5e23885899a1fa44253a17956c6d1c3...</td>\n",
       "      <td>49.0</td>\n",
       "      <td>52043ee2162cf5aa7ee79974281641c6f11a68d276429a...</td>\n",
       "    </tr>\n",
       "    <tr>\n",
       "      <th>1</th>\n",
       "      <td>0000423b00ade91418cceaf3b26c6af3dd342b51fd051e...</td>\n",
       "      <td>25.0</td>\n",
       "      <td>2973abc54daa8a5f8ccfe9362140c63247c5eee03f1d93...</td>\n",
       "    </tr>\n",
       "    <tr>\n",
       "      <th>2</th>\n",
       "      <td>000058a12d5b43e67d225668fa1f8d618c13dc232df0ca...</td>\n",
       "      <td>24.0</td>\n",
       "      <td>64f17e6a330a85798e4998f62d0930d14db8db1c054af6...</td>\n",
       "    </tr>\n",
       "    <tr>\n",
       "      <th>3</th>\n",
       "      <td>00005ca1c9ed5f5146b52ac8639a40ca9d57aeff4d1bd2...</td>\n",
       "      <td>54.0</td>\n",
       "      <td>5d36574f52495e81f019b680c843c443bd343d5ca5b1c2...</td>\n",
       "    </tr>\n",
       "    <tr>\n",
       "      <th>4</th>\n",
       "      <td>00006413d8573cd20ed7128e53b7b13819fe5cfc2d801f...</td>\n",
       "      <td>52.0</td>\n",
       "      <td>25fa5ddee9aac01b35208d01736e57942317d756b32ddd...</td>\n",
       "    </tr>\n",
       "  </tbody>\n",
       "</table>\n",
       "</div>"
      ],
      "text/plain": [
       "                                         customer_id   age  \\\n",
       "0  00000dbacae5abe5e23885899a1fa44253a17956c6d1c3...  49.0   \n",
       "1  0000423b00ade91418cceaf3b26c6af3dd342b51fd051e...  25.0   \n",
       "2  000058a12d5b43e67d225668fa1f8d618c13dc232df0ca...  24.0   \n",
       "3  00005ca1c9ed5f5146b52ac8639a40ca9d57aeff4d1bd2...  54.0   \n",
       "4  00006413d8573cd20ed7128e53b7b13819fe5cfc2d801f...  52.0   \n",
       "\n",
       "                                         postal_code  \n",
       "0  52043ee2162cf5aa7ee79974281641c6f11a68d276429a...  \n",
       "1  2973abc54daa8a5f8ccfe9362140c63247c5eee03f1d93...  \n",
       "2  64f17e6a330a85798e4998f62d0930d14db8db1c054af6...  \n",
       "3  5d36574f52495e81f019b680c843c443bd343d5ca5b1c2...  \n",
       "4  25fa5ddee9aac01b35208d01736e57942317d756b32ddd...  "
      ]
     },
     "execution_count": 14,
     "metadata": {},
     "output_type": "execute_result"
    }
   ],
   "source": [
    "customer_df = customer_df.drop(columns=[\"FN\", \"Active\", \"club_member_status\", \"fashion_news_frequency\"])\n",
    "customer_df.head()"
   ]
  },
  {
   "cell_type": "markdown",
   "metadata": {},
   "source": [
    "`transactions_df`:\n",
    "- filter the data to the last 2 months of data only to reduce data size (August 1, 2020 - September 30, 2020)"
   ]
  },
  {
   "cell_type": "code",
   "execution_count": 15,
   "metadata": {},
   "outputs": [
    {
     "data": {
      "text/plain": [
       "t_dat               2035461\n",
       "customer_id         2035461\n",
       "article_id          2035461\n",
       "price               2035461\n",
       "sales_channel_id    2035461\n",
       "dtype: int64"
      ]
     },
     "execution_count": 15,
     "metadata": {},
     "output_type": "execute_result"
    }
   ],
   "source": [
    "# get last 2 months of transaction data\n",
    "newest_trans_df = transactions_df[transactions_df[\"t_dat\"] >= \"2020-08-01\"]\n",
    "\n",
    "newest_trans_df.count()"
   ]
  },
  {
   "cell_type": "markdown",
   "metadata": {},
   "source": [
    "Even with this reduction, we still have 2,035,461 rows! Let's try to reduce this a bit more by filter users with **more than 5 purchases**. We have more data on these \"power users,\" which will help us be able to recommend better outfits for them."
   ]
  },
  {
   "cell_type": "code",
   "execution_count": null,
   "metadata": {},
   "outputs": [
    {
     "data": {
      "text/plain": [
       "t_dat               1403810\n",
       "customer_id         1403810\n",
       "article_id          1403810\n",
       "price               1403810\n",
       "sales_channel_id    1403810\n",
       "dtype: int64"
      ]
     },
     "execution_count": 16,
     "metadata": {},
     "output_type": "execute_result"
    }
   ],
   "source": [
    "# get power customers data from last 2 months\n",
    "counts = newest_trans_df[\"customer_id\"].value_counts()\n",
    "newest_pu_trans_df = newest_trans_df[newest_trans_df[\"customer_id\"].isin(counts.index[counts > 5])]\n",
    "\n",
    "newest_pu_trans_df.count()"
   ]
  },
  {
   "cell_type": "markdown",
   "metadata": {},
   "source": [
    "Let's work with the 1,403,810 rows of the transactions of \"power users\" with more than 5 purchases in the last 2 months."
   ]
  },
  {
   "cell_type": "markdown",
   "metadata": {},
   "source": [
    "## Analysis"
   ]
  },
  {
   "cell_type": "markdown",
   "metadata": {},
   "source": [
    "### Description Analysis"
   ]
  },
  {
   "cell_type": "markdown",
   "metadata": {},
   "source": [
    "#### What were the 5 most expensive items sold in the last two months?"
   ]
  },
  {
   "cell_type": "code",
   "execution_count": 18,
   "metadata": {},
   "outputs": [
    {
     "data": {
      "text/html": [
       "<div>\n",
       "<style scoped>\n",
       "    .dataframe tbody tr th:only-of-type {\n",
       "        vertical-align: middle;\n",
       "    }\n",
       "\n",
       "    .dataframe tbody tr th {\n",
       "        vertical-align: top;\n",
       "    }\n",
       "\n",
       "    .dataframe thead th {\n",
       "        text-align: right;\n",
       "    }\n",
       "</style>\n",
       "<table border=\"1\" class=\"dataframe\">\n",
       "  <thead>\n",
       "    <tr style=\"text-align: right;\">\n",
       "      <th></th>\n",
       "      <th>article_id</th>\n",
       "      <th>prod_name</th>\n",
       "    </tr>\n",
       "  </thead>\n",
       "  <tbody>\n",
       "    <tr>\n",
       "      <th>75173</th>\n",
       "      <td>780031001</td>\n",
       "      <td>PS FI LEATHER LEGGINGS</td>\n",
       "    </tr>\n",
       "    <tr>\n",
       "      <th>75176</th>\n",
       "      <td>780031004</td>\n",
       "      <td>PQ FI LEATHER LEGGINGS</td>\n",
       "    </tr>\n",
       "    <tr>\n",
       "      <th>103842</th>\n",
       "      <td>916300001</td>\n",
       "      <td>PQ OLGA LEATHER DRESS</td>\n",
       "    </tr>\n",
       "    <tr>\n",
       "      <th>103843</th>\n",
       "      <td>916300002</td>\n",
       "      <td>PQ OLGA LEATHER DRESS</td>\n",
       "    </tr>\n",
       "    <tr>\n",
       "      <th>103981</th>\n",
       "      <td>917509001</td>\n",
       "      <td>PQ BODEN LEATHER BLOUSE</td>\n",
       "    </tr>\n",
       "  </tbody>\n",
       "</table>\n",
       "</div>"
      ],
      "text/plain": [
       "        article_id                prod_name\n",
       "75173    780031001   PS FI LEATHER LEGGINGS\n",
       "75176    780031004   PQ FI LEATHER LEGGINGS\n",
       "103842   916300001    PQ OLGA LEATHER DRESS\n",
       "103843   916300002    PQ OLGA LEATHER DRESS\n",
       "103981   917509001  PQ BODEN LEATHER BLOUSE"
      ]
     },
     "execution_count": 18,
     "metadata": {},
     "output_type": "execute_result"
    }
   ],
   "source": [
    "exp_products = newest_trans_df[[\"article_id\", \"price\"]].sort_values(by=[\"price\"], ascending=False)\n",
    "exp_article_ids = exp_products[\"article_id\"].unique()[:5]\n",
    "\n",
    "articles_df[articles_df[\"article_id\"].isin(exp_article_ids)][[\"article_id\", \"prod_name\"]]"
   ]
  },
  {
   "cell_type": "markdown",
   "metadata": {},
   "source": [
    "#### How many articles of clothing are sold in H&M per type?"
   ]
  },
  {
   "cell_type": "code",
   "execution_count": 19,
   "metadata": {},
   "outputs": [],
   "source": [
    "article_per_group = articles_df.groupby(by=\"product_group_name\")[\"article_id\"].count().sort_values(ascending=False)"
   ]
  },
  {
   "cell_type": "code",
   "execution_count": 20,
   "metadata": {},
   "outputs": [
    {
     "data": {
      "image/png": "[encoded data removed]",
      "text/plain": [
       "<Figure size 1000x600 with 1 Axes>"
      ]
     },
     "metadata": {},
     "output_type": "display_data"
    }
   ],
   "source": [
    "# Presentation Visual?\n",
    "\n",
    "plt.figure(figsize=(10, 6))\n",
    "\n",
    "sns.barplot(x=article_per_group.index, y=article_per_group.values, hue=article_per_group.index, legend=False, palette=\"muted\")\n",
    "plt.title(\"test\")\n",
    "plt.xlabel(\"Clothing Group Type\")\n",
    "plt.xticks(rotation=90)\n",
    "plt.ylabel(\"Count\")\n",
    "\n",
    "plt.show()"
   ]
  },
  {
   "cell_type": "markdown",
   "metadata": {},
   "source": [
    "#### What are the most popular categories of articles in the last two months?"
   ]
  },
  {
   "cell_type": "code",
   "execution_count": 21,
   "metadata": {},
   "outputs": [
    {
     "data": {
      "text/plain": [
       "product_group_name\n",
       "Garment Upper body    832133\n",
       "Garment Lower body    453392\n",
       "Garment Full body     232399\n",
       "Underwear             162696\n",
       "Swimwear              126392\n",
       "Name: count, dtype: int64"
      ]
     },
     "execution_count": 21,
     "metadata": {},
     "output_type": "execute_result"
    }
   ],
   "source": [
    "art_newtrans_merge = newest_trans_df.merge(articles_df, on=\"article_id\")\n",
    "art_newtrans_merge[\"product_group_name\"].value_counts().head()"
   ]
  },
  {
   "cell_type": "markdown",
   "metadata": {},
   "source": [
    "#### What are the 5 most popular items per category in the last two months (August 1, 2020 - September 1, 2020)?"
   ]
  },
  {
   "cell_type": "code",
   "execution_count": 101,
   "metadata": {},
   "outputs": [
    {
     "data": {
      "text/plain": [
       "Index(['t_dat', 'customer_id', 'article_id', 'price', 'sales_channel_id',\n",
       "       'product_code', 'prod_name', 'product_type_no', 'product_type_name',\n",
       "       'product_group_name', 'graphical_appearance_no',\n",
       "       'graphical_appearance_name', 'colour_group_code', 'colour_group_name',\n",
       "       'perceived_colour_value_id', 'perceived_colour_value_name',\n",
       "       'perceived_colour_master_id', 'perceived_colour_master_name',\n",
       "       'department_no', 'department_name', 'index_code', 'index_name',\n",
       "       'index_group_no', 'index_group_name', 'section_no', 'section_name',\n",
       "       'garment_group_no', 'garment_group_name', 'detail_desc'],\n",
       "      dtype='object')"
      ]
     },
     "execution_count": 101,
     "metadata": {},
     "output_type": "execute_result"
    }
   ],
   "source": [
    "art_newtrans_merge.columns"
   ]
  },
  {
   "cell_type": "code",
   "execution_count": null,
   "metadata": {},
   "outputs": [
    {
     "data": {
      "text/html": [
       "<div>\n",
       "<style scoped>\n",
       "    .dataframe tbody tr th:only-of-type {\n",
       "        vertical-align: middle;\n",
       "    }\n",
       "\n",
       "    .dataframe tbody tr th {\n",
       "        vertical-align: top;\n",
       "    }\n",
       "\n",
       "    .dataframe thead th {\n",
       "        text-align: right;\n",
       "    }\n",
       "</style>\n",
       "<table border=\"1\" class=\"dataframe\">\n",
       "  <thead>\n",
       "    <tr style=\"text-align: right;\">\n",
       "      <th></th>\n",
       "      <th>product_group_name</th>\n",
       "      <th>prod_name</th>\n",
       "      <th>purchase_count</th>\n",
       "    </tr>\n",
       "  </thead>\n",
       "  <tbody>\n",
       "    <tr>\n",
       "      <th>437</th>\n",
       "      <td>Accessories</td>\n",
       "      <td>Ringo hipbelt</td>\n",
       "      <td>1004</td>\n",
       "    </tr>\n",
       "    <tr>\n",
       "      <th>263</th>\n",
       "      <td>Accessories</td>\n",
       "      <td>Suzuki shopper</td>\n",
       "      <td>965</td>\n",
       "    </tr>\n",
       "    <tr>\n",
       "      <th>393</th>\n",
       "      <td>Accessories</td>\n",
       "      <td>Day tote</td>\n",
       "      <td>831</td>\n",
       "    </tr>\n",
       "    <tr>\n",
       "      <th>3091</th>\n",
       "      <td>Accessories</td>\n",
       "      <td>Eyelet hip</td>\n",
       "      <td>821</td>\n",
       "    </tr>\n",
       "    <tr>\n",
       "      <th>1055</th>\n",
       "      <td>Accessories</td>\n",
       "      <td>TILDA HIP BELT</td>\n",
       "      <td>712</td>\n",
       "    </tr>\n",
       "    <tr>\n",
       "      <th>...</th>\n",
       "      <td>...</td>\n",
       "      <td>...</td>\n",
       "      <td>...</td>\n",
       "    </tr>\n",
       "    <tr>\n",
       "      <th>34818</th>\n",
       "      <td>Unknown</td>\n",
       "      <td>SUPREME RW tights</td>\n",
       "      <td>2151</td>\n",
       "    </tr>\n",
       "    <tr>\n",
       "      <th>34796</th>\n",
       "      <td>Unknown</td>\n",
       "      <td>HAVANA HW tights</td>\n",
       "      <td>2038</td>\n",
       "    </tr>\n",
       "    <tr>\n",
       "      <th>34839</th>\n",
       "      <td>Unknown</td>\n",
       "      <td>Skinny RW Chic</td>\n",
       "      <td>1195</td>\n",
       "    </tr>\n",
       "    <tr>\n",
       "      <th>34866</th>\n",
       "      <td>Unknown</td>\n",
       "      <td>Vanessa</td>\n",
       "      <td>1050</td>\n",
       "    </tr>\n",
       "    <tr>\n",
       "      <th>34803</th>\n",
       "      <td>Unknown</td>\n",
       "      <td>Izzy loose tee</td>\n",
       "      <td>846</td>\n",
       "    </tr>\n",
       "  </tbody>\n",
       "</table>\n",
       "<p>81 rows × 3 columns</p>\n",
       "</div>"
      ],
      "text/plain": [
       "      product_group_name          prod_name  purchase_count\n",
       "437          Accessories      Ringo hipbelt            1004\n",
       "263          Accessories     Suzuki shopper             965\n",
       "393          Accessories           Day tote             831\n",
       "3091         Accessories         Eyelet hip             821\n",
       "1055         Accessories     TILDA HIP BELT             712\n",
       "...                  ...                ...             ...\n",
       "34818            Unknown  SUPREME RW tights            2151\n",
       "34796            Unknown   HAVANA HW tights            2038\n",
       "34839            Unknown     Skinny RW Chic            1195\n",
       "34866            Unknown            Vanessa            1050\n",
       "34803            Unknown     Izzy loose tee             846\n",
       "\n",
       "[81 rows x 3 columns]"
      ]
     },
     "execution_count": 113,
     "metadata": {},
     "output_type": "execute_result"
    }
   ],
   "source": [
    "# Group by product_group_name and article_id, then count the number of occurrences\n",
    "popularity = art_newtrans_merge.groupby([\"product_group_name\", \"article_id\", \"prod_name\"]).size().reset_index(name=\"purchase_count\").sort_values([\"product_group_name\", \"purchase_count\"], ascending=[True, False])\n",
    "\n",
    "# Get the top 5 items for each product group\n",
    "popularity.groupby(\"product_group_name\")[[\"product_group_name\", \"prod_name\", \"purchase_count\"]].head(5)\n"
   ]
  },
  {
   "cell_type": "markdown",
   "metadata": {},
   "source": [
    "#### What is the seasonal distribution of sales in 2019?\n",
    "We're using 2019 data, as it's the last full year of data we have. 2020 data ends in September."
   ]
  },
  {
   "cell_type": "code",
   "execution_count": 42,
   "metadata": {},
   "outputs": [
    {
     "name": "stderr",
     "output_type": "stream",
     "text": [
      "/var/folders/8g/m6zcqnnd1p36dhf35mwkv0zw0000gn/T/ipykernel_98837/2378413884.py:2: SettingWithCopyWarning: \n",
      "A value is trying to be set on a copy of a slice from a DataFrame.\n",
      "Try using .loc[row_indexer,col_indexer] = value instead\n",
      "\n",
      "See the caveats in the documentation: https://pandas.pydata.org/pandas-docs/stable/user_guide/indexing.html#returning-a-view-versus-a-copy\n",
      "  trans_2019[\"month\"] = pd.to_datetime(trans_2019[\"t_dat\"]).dt.month\n"
     ]
    },
    {
     "data": {
      "text/plain": [
       "month\n",
       "1     1263471\n",
       "2     1152412\n",
       "3     1286750\n",
       "4     1476454\n",
       "5     1560319\n",
       "6     1906202\n",
       "7     1807494\n",
       "8     1253530\n",
       "9     1227178\n",
       "10    1146772\n",
       "11    1198033\n",
       "12    1118315\n",
       "Name: count, dtype: int64"
      ]
     },
     "execution_count": 42,
     "metadata": {},
     "output_type": "execute_result"
    }
   ],
   "source": [
    "trans_2019 = transactions_df[(transactions_df[\"t_dat\"] >= \"2019-01-01\") & (transactions_df[\"t_dat\"] < \"2020-01-01\")]\n",
    "trans_2019[\"month\"] = pd.to_datetime(trans_2019[\"t_dat\"]).dt.month\n",
    "sales_dist_monthly = trans_2019[\"month\"].value_counts().sort_index()\n",
    "\n",
    "sales_dist_monthly"
   ]
  },
  {
   "cell_type": "code",
   "execution_count": null,
   "metadata": {},
   "outputs": [
    {
     "data": {
      "image/png": "[encoded data removed]",
      "text/plain": [
       "<Figure size 1000x600 with 1 Axes>"
      ]
     },
     "metadata": {},
     "output_type": "display_data"
    }
   ],
   "source": [
    "# Presentation Visual\n",
    "plt.figure(figsize=(10, 6))\n",
    "\n",
    "sns.barplot(x=sales_dist_monthly.index, y=sales_dist_monthly.values, hue=sales_dist_monthly.index, legend=False, palette=\"muted\")\n",
    "plt.title(\"Monthly Sales Distribution (2019)\")\n",
    "plt.xlabel(\"Month\")\n",
    "plt.ylabel(\"Number of Sales\")\n",
    "plt.xticks([0, 1, 2, 3, 4, 5, 6,\n",
    "            7, 8, 9, 10, 11],\n",
    "            [\"January\", \"February\", \"March\", \"April\", \"May\", \"June\", \"July\",\n",
    "            \"August\", \"September\", \"October\", \"November\", \"December\"],\n",
    "            rotation=90)\n",
    "\n",
    "plt.show()"
   ]
  },
  {
   "cell_type": "markdown",
   "metadata": {},
   "source": [
    "#### Who are the top 5 customers in the last 2 months?"
   ]
  },
  {
   "cell_type": "code",
   "execution_count": null,
   "metadata": {},
   "outputs": [
    {
     "data": {
      "text/plain": [
       "customer_id\n",
       "a3ab708684132c6bbd3dad7aa41f9b9c7d1c95d7d5cb1a3a052905191e858566    243\n",
       "4308983955108b3af43ec57f0557211e44462a5633238351fff14c8b51f16093    229\n",
       "1426b606af826fa9568b6fe75629d10bb6ff7ea40f93908c43113d991e512bd5    183\n",
       "4de6988c4971cfc0c6910a85a54fa8d6fb11be64b87b98c46b73821d7db07ce7    180\n",
       "5df4a576fc458f3b0fd24e450f3018fc8a2d9114413f513ec26d4fcb0e0c9880    178\n",
       "Name: count, dtype: int64"
      ]
     },
     "execution_count": 28,
     "metadata": {},
     "output_type": "execute_result"
    }
   ],
   "source": [
    "newest_trans_df[\"customer_id\"].value_counts().head()"
   ]
  },
  {
   "cell_type": "markdown",
   "metadata": {},
   "source": [
    "#### What is the sales distribution by article color in the last 2 months?"
   ]
  },
  {
   "cell_type": "code",
   "execution_count": 50,
   "metadata": {},
   "outputs": [
    {
     "data": {
      "text/plain": [
       "colour_group_name\n",
       "Black              705352\n",
       "White              220830\n",
       "Light Beige        100869\n",
       "Dark Blue           90281\n",
       "Beige               88408\n",
       "Blue                78317\n",
       "Off White           70403\n",
       "Light Pink          59526\n",
       "Grey                59459\n",
       "Light Blue          56878\n",
       "Dark Grey           51524\n",
       "Greenish Khaki      42144\n",
       "Dark Green          37261\n",
       "Pink                37054\n",
       "Light Orange        28350\n",
       "Light Grey          23592\n",
       "Yellowish Brown     23117\n",
       "Gold                22541\n",
       "Green               22482\n",
       "Dark Orange         19188\n",
       "Dark Beige          16821\n",
       "Light Purple        16732\n",
       "Dark Red            15827\n",
       "Yellow              15490\n",
       "Orange              14714\n",
       "Red                 14403\n",
       "Dark Pink           13964\n",
       "Light Yellow        11884\n",
       "Purple               8294\n",
       "Silver               8292\n",
       "Light Turquoise      7917\n",
       "Greyish Beige        7913\n",
       "Dark Purple          7774\n",
       "Light Green          7687\n",
       "Turquoise            6000\n",
       "Dark Turquoise       5355\n",
       "Dark Yellow          4423\n",
       "Other Pink           3676\n",
       "Other Orange         2992\n",
       "Other Yellow         2879\n",
       "Other Green          1291\n",
       "Other                1231\n",
       "Light Red             889\n",
       "Other Purple          396\n",
       "Transparent           363\n",
       "Other Red             276\n",
       "Bronze/Copper         203\n",
       "Other Blue            191\n",
       "Unknown                 6\n",
       "Other Turquoise         2\n",
       "Name: article_id, dtype: int64"
      ]
     },
     "execution_count": 50,
     "metadata": {},
     "output_type": "execute_result"
    }
   ],
   "source": [
    "sales_dist_color = art_newtrans_merge.groupby(\"colour_group_name\")[\"article_id\"].count().sort_values(ascending=False)\n",
    "\n",
    "sales_dist_color"
   ]
  },
  {
   "cell_type": "code",
   "execution_count": null,
   "metadata": {},
   "outputs": [
    {
     "data": {
      "image/png": "[encoded data removed]",
      "text/plain": [
       "<Figure size 1000x600 with 1 Axes>"
      ]
     },
     "metadata": {},
     "output_type": "display_data"
    }
   ],
   "source": [
    "# Presentation Visual\n",
    "# Graph the top 10 most popular colors in the last 2 months\n",
    "\n",
    "plt.figure(figsize=(10, 6))\n",
    "\n",
    "sns.barplot(x=sales_dist_color[:10].index, y=sales_dist_color[:10].values, hue=sales_dist_color[:10].index, legend=False, palette=\"muted\")\n",
    "plt.title(\"Top 10 Popular Colors (August - September 2020)\")\n",
    "plt.xlabel(\"Color\")\n",
    "plt.ylabel(\"Number of Sales\")\n",
    "plt.xticks(rotation=90)\n",
    "\n",
    "plt.show()"
   ]
  },
  {
   "cell_type": "markdown",
   "metadata": {},
   "source": [
    "### Inferential Questions"
   ]
  },
  {
   "cell_type": "markdown",
   "metadata": {},
   "source": [
    "#### Does the average basket size differ significantly by age group?"
   ]
  },
  {
   "cell_type": "code",
   "execution_count": 33,
   "metadata": {},
   "outputs": [
    {
     "data": {
      "text/plain": [
       "Index(['t_dat', 'customer_id', 'article_id', 'price', 'sales_channel_id'], dtype='object')"
      ]
     },
     "execution_count": 33,
     "metadata": {},
     "output_type": "execute_result"
    }
   ],
   "source": [
    "newest_trans_df.columns"
   ]
  },
  {
   "cell_type": "code",
   "execution_count": 92,
   "metadata": {},
   "outputs": [],
   "source": [
    "# TODO\n",
    "# Use an ANOVA test to compare different basket sizes across age groups\n",
    "\n",
    "# get basket sizes of transactions\n",
    "basket_sizes = newest_trans_df.groupby(by=[\"t_dat\", \"customer_id\"])[\"article_id\"].count().reset_index(name=\"basket_size\")\n",
    "\n",
    "# Merge with customer data to get age\n",
    "basket_sizes = basket_sizes.merge(customer_df, on=\"customer_id\", how=\"left\")\n",
    "\n",
    "# Create age groups\n",
    "bins = [0, 20, 30, 40, 50, 60, 100]\n",
    "labels = [\"<20\", \"20-30\", \"30-40\", \"40-50\", \"50-60\", \"60+\"]\n",
    "basket_sizes[\"age_group\"] = pd.cut(basket_sizes[\"age\"], bins=bins, labels=labels)"
   ]
  },
  {
   "cell_type": "code",
   "execution_count": 93,
   "metadata": {},
   "outputs": [
    {
     "name": "stdout",
     "output_type": "stream",
     "text": [
      "F-statistic: 1616.0130446939152\n",
      "P-value: 0.0\n",
      "The average basket size differs significantly by age group.\n"
     ]
    }
   ],
   "source": [
    "# get basket size by age\n",
    "basket_sizes_by_age = [group[\"basket_size\"].values for _, group in basket_sizes.groupby(\"age_group\")]\n",
    "\n",
    "# define alpha\n",
    "alpha = 0.05\n",
    "\n",
    "# do ANOVA test\n",
    "f_stat, p_value = f_oneway(*basket_sizes_by_age)\n",
    "\n",
    "print(f\"F-statistic: {f_stat}\")\n",
    "print(f\"P-value: {p_value}\")\n",
    "\n",
    "if p_value < alpha:\n",
    "    print(\"The average basket size differs significantly by age group.\")\n",
    "else:\n",
    "    print(\"No significant difference in average basket size by age group.\")"
   ]
  },
  {
   "cell_type": "code",
   "execution_count": 95,
   "metadata": {},
   "outputs": [],
   "source": [
    "# Remove outliers for presentation visual purposes\n",
    "\n",
    "# get IQR of asteroid diameter\n",
    "q1 = basket_sizes[\"basket_size\"].quantile(0.25)\n",
    "q3 = basket_sizes[\"basket_size\"].quantile(0.75)\n",
    "iqr = q3 - q1\n",
    "\n",
    "# define bounds for the outliers\n",
    "lower_bound = q1 - 1.5 * iqr\n",
    "upper_bound = q3 + 1.5 * iqr\n",
    "\n",
    "# exclude outliers from visualization data\n",
    "vis_data = basket_sizes[(basket_sizes[\"basket_size\"] >= lower_bound) &\n",
    "                          (basket_sizes[\"basket_size\"] <= upper_bound)]"
   ]
  },
  {
   "cell_type": "code",
   "execution_count": 97,
   "metadata": {},
   "outputs": [
    {
     "name": "stderr",
     "output_type": "stream",
     "text": [
      "/var/folders/8g/m6zcqnnd1p36dhf35mwkv0zw0000gn/T/ipykernel_98837/2768853216.py:5: FutureWarning: \n",
      "\n",
      "Passing `palette` without assigning `hue` is deprecated and will be removed in v0.14.0. Assign the `x` variable to `hue` and set `legend=False` for the same effect.\n",
      "\n",
      "  sns.boxplot(data=vis_data, x=\"age_group\", y=\"basket_size\", palette=\"muted\")\n"
     ]
    },
    {
     "data": {
      "image/png": "[encoded data removed]",
      "text/plain": [
       "<Figure size 1000x600 with 1 Axes>"
      ]
     },
     "metadata": {},
     "output_type": "display_data"
    }
   ],
   "source": [
    "# Presentation Visual\n",
    "\n",
    "plt.figure(figsize=(10, 6))\n",
    "\n",
    "sns.boxplot(data=vis_data, x=\"age_group\", y=\"basket_size\", palette=\"muted\")\n",
    "plt.title(\"Basket Size Distribution by Age Group\")\n",
    "plt.xlabel(\"Age Group\")\n",
    "plt.ylabel(\"Basket Size\")\n",
    "\n",
    "plt.show()"
   ]
  },
  {
   "cell_type": "markdown",
   "metadata": {},
   "source": [
    "#### Do customers with similar purchasing histories prefer similar types of articles?\n",
    "Using data over the last 2 months."
   ]
  },
  {
   "cell_type": "code",
   "execution_count": 55,
   "metadata": {},
   "outputs": [
    {
     "data": {
      "text/html": [
       "<div>\n",
       "<style scoped>\n",
       "    .dataframe tbody tr th:only-of-type {\n",
       "        vertical-align: middle;\n",
       "    }\n",
       "\n",
       "    .dataframe tbody tr th {\n",
       "        vertical-align: top;\n",
       "    }\n",
       "\n",
       "    .dataframe thead th {\n",
       "        text-align: right;\n",
       "    }\n",
       "</style>\n",
       "<table border=\"1\" class=\"dataframe\">\n",
       "  <thead>\n",
       "    <tr style=\"text-align: right;\">\n",
       "      <th></th>\n",
       "      <th>t_dat</th>\n",
       "      <th>customer_id</th>\n",
       "      <th>article_id</th>\n",
       "      <th>price</th>\n",
       "      <th>sales_channel_id</th>\n",
       "      <th>product_code</th>\n",
       "      <th>prod_name</th>\n",
       "      <th>product_type_no</th>\n",
       "      <th>product_type_name</th>\n",
       "      <th>product_group_name</th>\n",
       "      <th>...</th>\n",
       "      <th>index_name</th>\n",
       "      <th>index_group_no</th>\n",
       "      <th>index_group_name</th>\n",
       "      <th>section_no</th>\n",
       "      <th>section_name</th>\n",
       "      <th>garment_group_no</th>\n",
       "      <th>garment_group_name</th>\n",
       "      <th>detail_desc</th>\n",
       "      <th>age</th>\n",
       "      <th>postal_code</th>\n",
       "    </tr>\n",
       "  </thead>\n",
       "  <tbody>\n",
       "    <tr>\n",
       "      <th>0</th>\n",
       "      <td>2020-08-01</td>\n",
       "      <td>00075ef36696a7b4ed8c83e22a4bf7ea7c90ee110991ec...</td>\n",
       "      <td>743123001</td>\n",
       "      <td>0.011847</td>\n",
       "      <td>2</td>\n",
       "      <td>743123</td>\n",
       "      <td>Frenchy Padded Bra</td>\n",
       "      <td>298</td>\n",
       "      <td>Bikini top</td>\n",
       "      <td>Swimwear</td>\n",
       "      <td>...</td>\n",
       "      <td>Lingeries/Tights</td>\n",
       "      <td>1</td>\n",
       "      <td>Ladieswear</td>\n",
       "      <td>60</td>\n",
       "      <td>Womens Swimwear, beachwear</td>\n",
       "      <td>1018</td>\n",
       "      <td>Swimwear</td>\n",
       "      <td>Bikini top with underwired, moulded, lightly p...</td>\n",
       "      <td>40.0</td>\n",
       "      <td>0c0e15f8fa88a1d4aa6ca8a0b4a8289ca1affbaebdea22...</td>\n",
       "    </tr>\n",
       "    <tr>\n",
       "      <th>1</th>\n",
       "      <td>2020-08-01</td>\n",
       "      <td>00075ef36696a7b4ed8c83e22a4bf7ea7c90ee110991ec...</td>\n",
       "      <td>743123001</td>\n",
       "      <td>0.011847</td>\n",
       "      <td>2</td>\n",
       "      <td>743123</td>\n",
       "      <td>Frenchy Padded Bra</td>\n",
       "      <td>298</td>\n",
       "      <td>Bikini top</td>\n",
       "      <td>Swimwear</td>\n",
       "      <td>...</td>\n",
       "      <td>Lingeries/Tights</td>\n",
       "      <td>1</td>\n",
       "      <td>Ladieswear</td>\n",
       "      <td>60</td>\n",
       "      <td>Womens Swimwear, beachwear</td>\n",
       "      <td>1018</td>\n",
       "      <td>Swimwear</td>\n",
       "      <td>Bikini top with underwired, moulded, lightly p...</td>\n",
       "      <td>40.0</td>\n",
       "      <td>0c0e15f8fa88a1d4aa6ca8a0b4a8289ca1affbaebdea22...</td>\n",
       "    </tr>\n",
       "    <tr>\n",
       "      <th>2</th>\n",
       "      <td>2020-08-01</td>\n",
       "      <td>00075ef36696a7b4ed8c83e22a4bf7ea7c90ee110991ec...</td>\n",
       "      <td>849597003</td>\n",
       "      <td>0.012186</td>\n",
       "      <td>2</td>\n",
       "      <td>849597</td>\n",
       "      <td>Nissan Dress</td>\n",
       "      <td>265</td>\n",
       "      <td>Dress</td>\n",
       "      <td>Garment Full body</td>\n",
       "      <td>...</td>\n",
       "      <td>Ladieswear</td>\n",
       "      <td>1</td>\n",
       "      <td>Ladieswear</td>\n",
       "      <td>8</td>\n",
       "      <td>Mama</td>\n",
       "      <td>1010</td>\n",
       "      <td>Blouses</td>\n",
       "      <td>Short, sleeveless dress in airy chiffon with a...</td>\n",
       "      <td>40.0</td>\n",
       "      <td>0c0e15f8fa88a1d4aa6ca8a0b4a8289ca1affbaebdea22...</td>\n",
       "    </tr>\n",
       "    <tr>\n",
       "      <th>3</th>\n",
       "      <td>2020-08-01</td>\n",
       "      <td>00075ef36696a7b4ed8c83e22a4bf7ea7c90ee110991ec...</td>\n",
       "      <td>599580052</td>\n",
       "      <td>0.016932</td>\n",
       "      <td>2</td>\n",
       "      <td>599580</td>\n",
       "      <td>Timeless Midrise Brief</td>\n",
       "      <td>59</td>\n",
       "      <td>Swimwear bottom</td>\n",
       "      <td>Swimwear</td>\n",
       "      <td>...</td>\n",
       "      <td>Lingeries/Tights</td>\n",
       "      <td>1</td>\n",
       "      <td>Ladieswear</td>\n",
       "      <td>60</td>\n",
       "      <td>Womens Swimwear, beachwear</td>\n",
       "      <td>1018</td>\n",
       "      <td>Swimwear</td>\n",
       "      <td>Fully lined bikini bottoms with a mid waist an...</td>\n",
       "      <td>40.0</td>\n",
       "      <td>0c0e15f8fa88a1d4aa6ca8a0b4a8289ca1affbaebdea22...</td>\n",
       "    </tr>\n",
       "    <tr>\n",
       "      <th>4</th>\n",
       "      <td>2020-08-01</td>\n",
       "      <td>00075ef36696a7b4ed8c83e22a4bf7ea7c90ee110991ec...</td>\n",
       "      <td>599580052</td>\n",
       "      <td>0.016932</td>\n",
       "      <td>2</td>\n",
       "      <td>599580</td>\n",
       "      <td>Timeless Midrise Brief</td>\n",
       "      <td>59</td>\n",
       "      <td>Swimwear bottom</td>\n",
       "      <td>Swimwear</td>\n",
       "      <td>...</td>\n",
       "      <td>Lingeries/Tights</td>\n",
       "      <td>1</td>\n",
       "      <td>Ladieswear</td>\n",
       "      <td>60</td>\n",
       "      <td>Womens Swimwear, beachwear</td>\n",
       "      <td>1018</td>\n",
       "      <td>Swimwear</td>\n",
       "      <td>Fully lined bikini bottoms with a mid waist an...</td>\n",
       "      <td>40.0</td>\n",
       "      <td>0c0e15f8fa88a1d4aa6ca8a0b4a8289ca1affbaebdea22...</td>\n",
       "    </tr>\n",
       "  </tbody>\n",
       "</table>\n",
       "<p>5 rows × 31 columns</p>\n",
       "</div>"
      ],
      "text/plain": [
       "        t_dat                                        customer_id  article_id  \\\n",
       "0  2020-08-01  00075ef36696a7b4ed8c83e22a4bf7ea7c90ee110991ec...   743123001   \n",
       "1  2020-08-01  00075ef36696a7b4ed8c83e22a4bf7ea7c90ee110991ec...   743123001   \n",
       "2  2020-08-01  00075ef36696a7b4ed8c83e22a4bf7ea7c90ee110991ec...   849597003   \n",
       "3  2020-08-01  00075ef36696a7b4ed8c83e22a4bf7ea7c90ee110991ec...   599580052   \n",
       "4  2020-08-01  00075ef36696a7b4ed8c83e22a4bf7ea7c90ee110991ec...   599580052   \n",
       "\n",
       "      price  sales_channel_id  product_code               prod_name  \\\n",
       "0  0.011847                 2        743123      Frenchy Padded Bra   \n",
       "1  0.011847                 2        743123      Frenchy Padded Bra   \n",
       "2  0.012186                 2        849597            Nissan Dress   \n",
       "3  0.016932                 2        599580  Timeless Midrise Brief   \n",
       "4  0.016932                 2        599580  Timeless Midrise Brief   \n",
       "\n",
       "   product_type_no product_type_name product_group_name  ...  \\\n",
       "0              298        Bikini top           Swimwear  ...   \n",
       "1              298        Bikini top           Swimwear  ...   \n",
       "2              265             Dress  Garment Full body  ...   \n",
       "3               59   Swimwear bottom           Swimwear  ...   \n",
       "4               59   Swimwear bottom           Swimwear  ...   \n",
       "\n",
       "         index_name index_group_no  index_group_name section_no  \\\n",
       "0  Lingeries/Tights              1        Ladieswear         60   \n",
       "1  Lingeries/Tights              1        Ladieswear         60   \n",
       "2        Ladieswear              1        Ladieswear          8   \n",
       "3  Lingeries/Tights              1        Ladieswear         60   \n",
       "4  Lingeries/Tights              1        Ladieswear         60   \n",
       "\n",
       "                 section_name garment_group_no  garment_group_name  \\\n",
       "0  Womens Swimwear, beachwear             1018            Swimwear   \n",
       "1  Womens Swimwear, beachwear             1018            Swimwear   \n",
       "2                        Mama             1010             Blouses   \n",
       "3  Womens Swimwear, beachwear             1018            Swimwear   \n",
       "4  Womens Swimwear, beachwear             1018            Swimwear   \n",
       "\n",
       "                                         detail_desc   age  \\\n",
       "0  Bikini top with underwired, moulded, lightly p...  40.0   \n",
       "1  Bikini top with underwired, moulded, lightly p...  40.0   \n",
       "2  Short, sleeveless dress in airy chiffon with a...  40.0   \n",
       "3  Fully lined bikini bottoms with a mid waist an...  40.0   \n",
       "4  Fully lined bikini bottoms with a mid waist an...  40.0   \n",
       "\n",
       "                                         postal_code  \n",
       "0  0c0e15f8fa88a1d4aa6ca8a0b4a8289ca1affbaebdea22...  \n",
       "1  0c0e15f8fa88a1d4aa6ca8a0b4a8289ca1affbaebdea22...  \n",
       "2  0c0e15f8fa88a1d4aa6ca8a0b4a8289ca1affbaebdea22...  \n",
       "3  0c0e15f8fa88a1d4aa6ca8a0b4a8289ca1affbaebdea22...  \n",
       "4  0c0e15f8fa88a1d4aa6ca8a0b4a8289ca1affbaebdea22...  \n",
       "\n",
       "[5 rows x 31 columns]"
      ]
     },
     "execution_count": 55,
     "metadata": {},
     "output_type": "execute_result"
    }
   ],
   "source": [
    "# merge customer data with merged article and last transactions data\n",
    "all_newtrans_merge = art_newtrans_merge.merge(customer_df, on=\"customer_id\")\n",
    "all_newtrans_merge.head()"
   ]
  },
  {
   "cell_type": "code",
   "execution_count": 89,
   "metadata": {},
   "outputs": [
    {
     "name": "stderr",
     "output_type": "stream",
     "text": [
      "/opt/anaconda3/envs/Cohort-Env/lib/python3.8/site-packages/sklearn/cluster/_kmeans.py:870: FutureWarning: The default value of `n_init` will change from 10 to 'auto' in 1.4. Set the value of `n_init` explicitly to suppress the warning\n",
      "  warnings.warn(\n"
     ]
    },
    {
     "data": {
      "text/plain": [
       "customer_id\n",
       "00000dbacae5abe5e23885899a1fa44253a17956c6d1c3d25f88aa139fdfc657    2\n",
       "000058a12d5b43e67d225668fa1f8d618c13dc232df0cad8ffe7ad4a1091e318    2\n",
       "00006413d8573cd20ed7128e53b7b13819fe5cfc2d801fe7fc0f26dd8d65a85a    2\n",
       "0000757967448a6cb83efb3ea7a3fb9d418ac7adf2379d8cd0c725276a467a2a    2\n",
       "00009d946eec3ea54add5ba56d5210ea898def4b46c68570cf0096d962cacc75    4\n",
       "                                                                   ..\n",
       "ffff12aa623c69eae8959d673f1f12ad0194ad760d77fd489cd7c5a4aa9ae240    2\n",
       "ffff61677073258d461e043cc9ed4ed97be5617a920640ff61024f4619bf41c4    2\n",
       "ffffbbf78b6eaac697a8a5dfbfd2bfa8113ee5b403e4747568cac33e8c541831    2\n",
       "ffffcd5046a6143d29a04fb8c424ce494a76e5cdf4fab53481233731b5c4f8b7    2\n",
       "ffffcf35913a0bee60e8741cb2b4e78b8a98ee5ff2e6a1778d0116cffd259264    2\n",
       "Name: cluster, Length: 363798, dtype: int32"
      ]
     },
     "execution_count": 89,
     "metadata": {},
     "output_type": "execute_result"
    }
   ],
   "source": [
    "customer_purchases = all_newtrans_merge.groupby([\"customer_id\", \"product_group_name\"]).size().unstack(fill_value=0)\n",
    "\n",
    "# Perform kmeans\n",
    "kmeans = KMeans(n_clusters=5, random_state=42)\n",
    "customer_purchases[\"cluster\"] = kmeans.fit_predict(customer_purchases)\n",
    "\n",
    "customer_purchases[\"cluster\"]"
   ]
  },
  {
   "cell_type": "code",
   "execution_count": null,
   "metadata": {},
   "outputs": [],
   "source": [
    "# Add cluster labels back to the original merged dataframe\n",
    "all_newtrans_merge = all_newtrans_merge.merge(customer_purchases[[\"cluster\"]], on=\"customer_id\")\n",
    "all_newtrans_merge"
   ]
  },
  {
   "cell_type": "code",
   "execution_count": 61,
   "metadata": {},
   "outputs": [
    {
     "name": "stdout",
     "output_type": "stream",
     "text": [
      "cluster  product_group_name \n",
      "0        Swimwear               0.633219\n",
      "         Garment Upper body     0.118334\n",
      "         Garment Lower body     0.079895\n",
      "         Garment Full body      0.071880\n",
      "         Underwear              0.046491\n",
      "                                  ...   \n",
      "4        Items                  0.000262\n",
      "         Stationery             0.000025\n",
      "         Cosmetic               0.000008\n",
      "         Fun                    0.000004\n",
      "         Underwear/nightwear    0.000004\n",
      "Name: proportion, Length: 81, dtype: float64\n"
     ]
    }
   ],
   "source": [
    "# Analyze article preferences within each cluster\n",
    "cluster_summary = all_newtrans_merge.groupby(\"cluster\")[\"product_group_name\"].value_counts(normalize=True)\n",
    "print(cluster_summary)"
   ]
  },
  {
   "cell_type": "code",
   "execution_count": 114,
   "metadata": {},
   "outputs": [
    {
     "name": "stderr",
     "output_type": "stream",
     "text": [
      "/Users/macbook/Documents/Flatiron/Cohort-Repos/assessments/phase4-project/fashion-recommendations/notebooks/helper.py:99: SettingWithCopyWarning: \n",
      "A value is trying to be set on a copy of a slice from a DataFrame.\n",
      "Try using .loc[row_indexer,col_indexer] = value instead\n",
      "\n",
      "See the caveats in the documentation: https://pandas.pydata.org/pandas-docs/stable/user_guide/indexing.html#returning-a-view-versus-a-copy\n",
      "  df[column] = le.fit_transform(df[column])\n"
     ]
    },
    {
     "data": {
      "image/png": "[encoded data removed]",
      "text/plain": [
       "<Figure size 1000x500 with 1 Axes>"
      ]
     },
     "metadata": {},
     "output_type": "display_data"
    },
    {
     "data": {
      "image/png": "[encoded data removed]",
      "text/plain": [
       "<Figure size 1000x500 with 1 Axes>"
      ]
     },
     "metadata": {},
     "output_type": "display_data"
    },
    {
     "data": {
      "image/png": "[encoded data removed]",
      "text/plain": [
       "<Figure size 1000x500 with 1 Axes>"
      ]
     },
     "metadata": {},
     "output_type": "display_data"
    },
    {
     "data": {
      "image/png": "[encoded data removed]",
      "text/plain": [
       "<Figure size 1000x500 with 1 Axes>"
      ]
     },
     "metadata": {},
     "output_type": "display_data"
    },
    {
     "name": "stderr",
     "output_type": "stream",
     "text": [
      "/opt/anaconda3/envs/Cohort-Env/lib/python3.8/site-packages/IPython/core/pylabtools.py:152: UserWarning: Creating legend with loc=\"best\" can be slow with large amounts of data.\n",
      "  fig.canvas.print_figure(bytes_io, **kw)\n"
     ]
    },
    {
     "data": {
      "image/png": "[encoded data removed]",
      "text/plain": [
       "<Figure size 1000x500 with 1 Axes>"
      ]
     },
     "metadata": {},
     "output_type": "display_data"
    }
   ],
   "source": [
    "# Presentation Visual\n",
    "# KASH\n",
    "\n",
    "# Drop the cluster column for PCA\n",
    "features = customer_purchases.drop(columns=\"cluster\")\n",
    "\n",
    "# label encode data\n",
    "encoded_cluster_data = all_newtrans_merge[[\"cluster\", \"product_group_name\"]]\n",
    "helper.encode_strings(encoded_cluster_data)\n",
    "\n",
    "# plot clusters   \n",
    "for cluster in encoded_cluster_data[\"cluster\"].unique():\n",
    "    plt.figure(figsize=(10, 5))\n",
    "    cluster_data = encoded_cluster_data[encoded_cluster_data[\"cluster\"] == cluster][\"product_group_name\"]\n",
    "    plt.scatter(x=cluster_data.index, y=cluster_data.values, label=cluster)\n",
    "\n",
    "# plt.title(f\"Product Preferences in Cluster {cluster}\")\n",
    "plt.legend()\n",
    "plt.show()"
   ]
  },
  {
   "cell_type": "code",
   "execution_count": 99,
   "metadata": {},
   "outputs": [],
   "source": [
    "# export transactions of power customers from last 2 months\n",
    "# to a .csv to use in the next section\n",
    "newest_pu_trans_df.to_csv(\"../data/newest_pu_trans_data.csv\", index=False)"
   ]
  },
  {
   "cell_type": "code",
   "execution_count": 100,
   "metadata": {},
   "outputs": [],
   "source": [
    "# export articles_df to a .csv to use in the next section\n",
    "articles_df.to_csv(\"../data/articles_df.csv\", index=False)"
   ]
  },
  {
   "cell_type": "markdown",
   "metadata": {},
   "source": [
    "## Summary\n",
    "- **Initial Analysis:**\n",
    "    - xx\n",
    "- **Inferential Analysis:**\n",
    "    - xx\n",
    "- **Next Steps:**\n",
    "    - Perform data preprocessing.\n",
    "    - Select and train a model (U-U) to recommend an outfit based on item popularity.\n",
    "    - Tune and improve the model based on performance."
   ]
  },
  {
   "cell_type": "markdown",
   "metadata": {},
   "source": [
    "# IDEAS / NOTES\n",
    "- recommend 1 item per `product_group_name` (upper body, lower body, etc.)"
   ]
  },
  {
   "cell_type": "markdown",
   "metadata": {},
   "source": []
  }
 ],
 "metadata": {
  "kernelspec": {
   "display_name": "Cohort-Env",
   "language": "python",
   "name": "python3"
  },
  "language_info": {
   "codemirror_mode": {
    "name": "ipython",
    "version": 3
   },
   "file_extension": ".py",
   "mimetype": "text/x-python",
   "name": "python",
   "nbconvert_exporter": "python",
   "pygments_lexer": "ipython3",
   "version": "3.8.18"
  }
 },
 "nbformat": 4,
 "nbformat_minor": 2
}
